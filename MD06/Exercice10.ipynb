{
 "cells": [
  {
   "cell_type": "markdown",
   "metadata": {},
   "source": [
    "# MD06 : Terme général d’une suite géométrique\n",
    "## Exercice 10\n",
    "\n",
    "La dernière voiture de sport d’une grande marque vient de sortir, elle coûte 499 990 €. Un jeune ingénieur agronome rêve de se l’acheter mais il n’a pas assez d’argent. Les voitures de cette marque perdent chaque année 20% de leur valeur. L’ingénieur place toutes ses économies, 45000 €, sur un compte spécial avec des produits financiers performants à intérêts composés, rémunéré à 1% par mois.\n",
    "\n",
    "L’ingénieur cherche dans combien d’années il pourra s’acheter cette voiture d’occasion avec l’argent sur son compte. Pour cela, il modélise la situation pour écrire un algorithme.\n",
    "\n",
    "Il note $v_n$ le prix de la voiture à l’année $n$ et $c_m$ le montant de ses économies sur le compte au mois $m$ avec les intérêts.\n",
    "\n",
    "1.\tDéterminer la nature et les caractéristiques des deux suites $(v_n)$ et $(c_m)$.\n",
    "\n",
    "2.\tDéterminer $v_1$ et $c_{12}$.\n",
    "\n",
    "3.\tL’ingénieur peut-il s’acheter la voiture dans un an ?\n",
    "\n",
    "4.\tCompléter l’algorithme ci-dessous.\n",
    "\n",
    "\n",
    "&nbsp; &nbsp; &nbsp; &nbsp; &nbsp; &nbsp;&nbsp; $v \\leftarrow499990$<br>\n",
    "&nbsp; &nbsp; &nbsp; &nbsp; &nbsp; &nbsp;&nbsp; $c_0 \\leftarrow45000$<br>\n",
    "&nbsp; &nbsp; &nbsp; &nbsp; &nbsp; &nbsp;&nbsp; $n \\leftarrow0$<br>\n",
    "&nbsp; &nbsp; &nbsp; &nbsp; &nbsp; &nbsp;&nbsp; $c \\leftarrow c_0$<br>\n",
    "&nbsp; &nbsp; &nbsp; &nbsp; &nbsp; &nbsp;&nbsp; Tant que $v\\geqslant c$ faire<br>\n",
    "&nbsp; &nbsp; &nbsp; &nbsp; &nbsp; &nbsp;&nbsp; &nbsp; | &nbsp;&nbsp; $n \\leftarrow n+1$<br>\n",
    "&nbsp; &nbsp; &nbsp; &nbsp; &nbsp; &nbsp;&nbsp; &nbsp; | &nbsp;&nbsp; $v \\leftarrow v \\times$...<br>\n",
    "&nbsp; &nbsp; &nbsp; &nbsp; &nbsp; &nbsp;&nbsp; &nbsp; | &nbsp;&nbsp; $c \\leftarrow c_0 \\times$...<br>\n",
    "&nbsp; &nbsp; &nbsp; &nbsp; &nbsp; &nbsp;&nbsp; fin tant que<br>\n",
    "&nbsp; &nbsp; &nbsp; &nbsp; &nbsp; &nbsp;&nbsp; Afficher ...<br>\n",
    "\n",
    "Attention, on veut calculer $c_m$ et non $c_n$ \n",
    "\n",
    "&nbsp; &nbsp; &nbsp; 5.\tPourquoi est-il important de faire $n \\leftarrow n+1$ au début de la boucle ?\n",
    "\n",
    "&nbsp; &nbsp; &nbsp;6.\tTraduire l’algorithme en Python, l’exécuter et répondre à la question de l’ingénieur.\n"
   ]
  },
  {
   "cell_type": "code",
   "execution_count": 1,
   "metadata": {},
   "outputs": [],
   "source": [
    "# écrire le code ici"
   ]
  }
 ],
 "metadata": {
  "kernelspec": {
   "display_name": "Python 3",
   "language": "python",
   "name": "python3"
  },
  "language_info": {
   "codemirror_mode": {
    "name": "ipython",
    "version": 3
   },
   "file_extension": ".py",
   "mimetype": "text/x-python",
   "name": "python",
   "nbconvert_exporter": "python",
   "pygments_lexer": "ipython3",
   "version": "3.7.6"
  }
 },
 "nbformat": 4,
 "nbformat_minor": 2
}
