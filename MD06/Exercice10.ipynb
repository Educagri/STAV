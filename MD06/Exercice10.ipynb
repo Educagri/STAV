{
 "cells": [
  {
   "cell_type": "markdown",
   "metadata": {},
   "source": [
    "<center><img src=\"images/MD6Ex10.png\"></center>\n",
    "\n",
    "La dernière voiture de sport d’une grande marque vient de sortir, elle coûte 499 990 €. Un jeune ingénieur agronome rêve de se l’acheter mais il n’a pas assez d’argent. Les voitures de cette marque perdent chaque année 20% de leur valeur. L’ingénieur place toutes ses économies, 45000 €, sur un compte spécial avec des produits financiers performants à intérêts composés, rémunéré à 1% par mois.\n",
    "\n",
    "L’ingénieur cherche dans combien d’années il pourra s’acheter cette voiture d’occasion avec l’argent sur son compte. Pour cela, il modélise la situation pour écrire un algorithme.\n",
    "\n",
    "Il note $v_n$ le prix de la voiture à l’année $n$ et $c_m$ le montant de ses économies sur le compte au mois $m$ avec les intérêts.\n",
    "\n",
    "1.\tDéterminer la nature et les caractéristiques des deux suites $(v_n)$ et $(c_m)$.\n",
    "\n",
    "2.\tDéterminer $v_1$ et $c_{12}$.\n",
    "\n",
    "3.\tL’ingénieur peut-il s’acheter la voiture dans un an ?\n",
    "\n",
    "4.\tCompléter l’algorithme ci-dessous.\n",
    "**Attention, on veut calculer $c_m$ et non $c_n$**\n",
    "\n",
    "<center>\n",
    "<div style=\"width: 150px; text-align: left; padding-top:10px; padding-left:10px; padding-bottom:10px;border: 1px solid #A0A0A0;\">\n",
    "$v \\leftarrow499990$<br>\n",
    "$c_0 \\leftarrow45000$<br>\n",
    "$n \\leftarrow0$<br>\n",
    "$c \\leftarrow c_0$<br>\n",
    "Tant que $v\\geqslant c$ faire<br>\n",
    "&nbsp; | &nbsp;&nbsp; $n \\leftarrow n+1$<br>\n",
    "&nbsp; | &nbsp;&nbsp; $v \\leftarrow v \\times$...<br>\n",
    "&nbsp; | &nbsp;&nbsp; $c \\leftarrow c_0 \\times$...<br>\n",
    "fin tant que<br>\n",
    "Afficher ...<br>\n",
    "</div>\n",
    "</center>\n",
    "\n",
    "\n",
    "5.\tPourquoi est-il important de faire $n \\leftarrow n+1$ au début de la boucle ?\n",
    "\n",
    "6.\tTraduire l’algorithme en Python, l’exécuter et répondre à la question de l’ingénieur.\n"
   ]
  },
  {
   "cell_type": "code",
   "execution_count": null,
   "metadata": {},
   "outputs": [],
   "source": [
    "# écrire le code de la question 6 ici\n"
   ]
  }
 ],
 "metadata": {
  "kernelspec": {
   "display_name": "Python 3",
   "language": "python",
   "name": "python3"
  },
  "language_info": {
   "codemirror_mode": {
    "name": "ipython",
    "version": 3
   },
   "file_extension": ".py",
   "mimetype": "text/x-python",
   "name": "python",
   "nbconvert_exporter": "python",
   "pygments_lexer": "ipython3",
   "version": "3.7.6"
  }
 },
 "nbformat": 4,
 "nbformat_minor": 2
}
