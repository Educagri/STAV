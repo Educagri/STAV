{
 "cells": [
  {
   "cell_type": "markdown",
   "metadata": {},
   "source": [
    "# MC07 : Nombre dérivé et tangente\n",
    "## Exercice 6\n",
    "\n",
    "Dans une entreprise de l’industrie agro-alimentaire, le coût de la fabrication des produits est donné par la fonction $C$, définie sur l’intervalle $[0 ; 20]$ par : $C(x) = -0,5x^3 - 12x^2 + 72x + 50$.\n",
    "\n",
    "En utilisant la définition du coût marginal donnée dans l’activité : \n",
    "$C_m(n) = C(n) - C(n-1)$  pour $n \\in [0 ; 20]$.\n",
    "\n",
    "1.\tExprimer en fonction de $n$, $C_m(n)$\n",
    "\n",
    "2.\tCalculer $C_m(20)$\n",
    "\n",
    "3.\tEn utilisant Python, calculer $C’(20)$ \n",
    "\n",
    "4.\tComparer les résultats obtenus et conclure. \n"
   ]
  },
  {
   "cell_type": "code",
   "execution_count": null,
   "metadata": {},
   "outputs": [],
   "source": [
    "# taper le code nécessaire ici\n"
   ]
  }
 ],
 "metadata": {
  "kernelspec": {
   "display_name": "Python 3",
   "language": "python",
   "name": "python3"
  },
  "language_info": {
   "codemirror_mode": {
    "name": "ipython",
    "version": 3
   },
   "file_extension": ".py",
   "mimetype": "text/x-python",
   "name": "python",
   "nbconvert_exporter": "python",
   "pygments_lexer": "ipython3",
   "version": "3.6.4"
  }
 },
 "nbformat": 4,
 "nbformat_minor": 2
}
