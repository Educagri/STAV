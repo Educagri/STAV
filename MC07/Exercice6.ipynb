{
 "cells": [
  {
   "cell_type": "markdown",
   "metadata": {},
   "source": [
    "# MC07 : Nombre dérivé et tangente\n",
    "## Exercice 6\n",
    "\n",
    "Dans une entreprise familiale de l’industrie agro-alimentaire, le coût de la fabrication de $x$ produits par jour est donné par la fonction C, définie sur l’intervalle $[0 ; 80]$ par : \n",
    "$C(x) =  -0,08x^2 + 19,7x + 10$.\n",
    "\n",
    "1.\tReprésenter sur calculatrice, geogebra,… cette fonction\n",
    "\n",
    "On définit en économie le coût marginal au rang $n$, par la différence entre le coût de fabrication de $n$ objets et le coût de fabrication de $n - 1$ objets, ce qui se note :   $C_m(n) = C(n) -C(n-1)$ \n",
    "\n",
    "2.\tJustifier que $C_m(n) = 19,78 – 0,16 n$.\n",
    "\n",
    "3.\tComment varie Cm en fonction du nombre de produits fabriqués quotidiennement ? En expliquer la raison en tenant compte du contexte de l’exercice.\n",
    "\n",
    "4.\tCalculer Cm(40), Cm(60) et Cm(70). \n",
    "\n",
    "5.\tEn utilisant les méthodes utilisant Python vues en exercice 5 ou les fonctionnalités de la calculatrice, calculer $C’(40)$, $C’(60)$ et $C’(70)$.\n",
    "\n",
    "6.\tComparer les résultats obtenus et conclure. \n"
   ]
  },
  {
   "cell_type": "code",
   "execution_count": null,
   "metadata": {},
   "outputs": [],
   "source": [
    "# taper le code nécessaire ici\n"
   ]
  }
 ],
 "metadata": {
  "kernelspec": {
   "display_name": "Python 3",
   "language": "python",
   "name": "python3"
  },
  "language_info": {
   "codemirror_mode": {
    "name": "ipython",
    "version": 3
   },
   "file_extension": ".py",
   "mimetype": "text/x-python",
   "name": "python",
   "nbconvert_exporter": "python",
   "pygments_lexer": "ipython3",
   "version": "3.6.4"
  }
 },
 "nbformat": 4,
 "nbformat_minor": 2
}
