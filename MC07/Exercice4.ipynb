{
 "cells": [
  {
   "cell_type": "markdown",
   "metadata": {},
   "source": [
    "<center><img src=\"images/MC7Ex4.png\"></center>\n",
    "\n",
    "Il existe deux possibilités différentes avec Python pour obtenir le nombre dérivé d’une fonction en une valeur donnée.\n",
    "\n",
    "### Méthode 1 : Avec le taux de variations \n",
    "\n",
    "La fonction `TableauTauxVariations` donnée ci-contre permet d’obtenir le « tableau de valeurs » du taux de variation d’une fonction afin d’avoir une valeur approchée, aussi précise que voulue, du nombre dérivé en une valeur.\n",
    "\n",
    "1.\tOn a saisi la fonction dans la cellule de code ci-dessous.\n",
    "\n",
    "2.\tAjouter l'instruction `TableauTauxVariations(f,2,7)` pour conjecturer le nombre dérivé de la fonction carrée en 2."
   ]
  },
  {
   "cell_type": "code",
   "execution_count": null,
   "metadata": {},
   "outputs": [],
   "source": [
    "# Taux de variation d'une fonction f en a\n",
    "# avec un précision n donnée\n",
    "\n",
    "def f(x):\n",
    "    return x**2\n",
    "\n",
    "def T(f,a,n):\n",
    "    h = 10**(-n)\n",
    "    return (f(a+h)-f(a))/h\n",
    "\n",
    "def TableauTauxVariations(f,a,n):\n",
    "    for k in range(n):\n",
    "        print(\"T(\",10**(-k),\")=\",T(f,a,k))\n",
    "        \n"
   ]
  },
  {
   "cell_type": "markdown",
   "metadata": {},
   "source": [
    "### Méthode 2 : Avec  la fonction « derivative »\n",
    "\n",
    "Dans le module `misc` de la bibliothèque `scipy`, il existe une fonction appelée `derivative` qui permet de calculer le nombre dérivé en $a$ d’une fonction $f$ définie auparavant. \n",
    "\n",
    "Ci-dessous, le programme permet d’avoir une valeur approchée de  $f’(1)$ où $f$ désigne la fonction cube.\n",
    "\n",
    "1. Après exécuté la cellule de code ci-dessous, vérifier que le nombre dérivé de la fonction cube en 1 est 3.\n",
    "\n",
    "2.\tAdapter le script pour retrouver le résultat de la question 2 de la méthode précédente."
   ]
  },
  {
   "cell_type": "code",
   "execution_count": null,
   "metadata": {},
   "outputs": [],
   "source": [
    "from scipy.misc import derivative\n",
    "\n",
    "def cube(x):\n",
    "    return x**3\n",
    "\n",
    "print(derivative(cube, 1.0, dx=0.00001))\n",
    "\n"
   ]
  },
  {
   "cell_type": "markdown",
   "metadata": {},
   "source": [
    "### Applications\n",
    "\n",
    "On considère la fonction $f$ définie sur $\\mathbb{R}$  par : $f(x) = x^3 + x^2 + 2$.\n",
    "\n",
    "1. Dans la cellule de code ci-dessous, avec la méthode de votre choix, déterminer $f’(0)$, puis $f’(2)$.\n",
    "\n",
    "2. Compléter le programme pour qu’il affiche l’équation de la tangente à la courbe représentant $f$ pour une abscisse donnée.\n",
    "\n",
    "3. On considère la fonction $f$ définie sur $\\mathbb{R}$  par : $f(x) = x^3 -2x + 10$. Déterminer par le calcul l’équation réduite de la tangente aux points d’abscisse $a = -2$, $a = -0,5$, $a = 1,5$ et $a = 3$.\n"
   ]
  },
  {
   "cell_type": "code",
   "execution_count": null,
   "metadata": {},
   "outputs": [],
   "source": [
    "# écrire ici vos solutions à la partie Applications\n"
   ]
  }
 ],
 "metadata": {
  "kernelspec": {
   "display_name": "Python 3",
   "language": "python",
   "name": "python3"
  },
  "language_info": {
   "codemirror_mode": {
    "name": "ipython",
    "version": 3
   },
   "file_extension": ".py",
   "mimetype": "text/x-python",
   "name": "python",
   "nbconvert_exporter": "python",
   "pygments_lexer": "ipython3",
   "version": "3.7.6"
  }
 },
 "nbformat": 4,
 "nbformat_minor": 2
}
