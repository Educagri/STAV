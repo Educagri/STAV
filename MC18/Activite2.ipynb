{
 "cells": [
  {
   "cell_type": "markdown",
   "metadata": {},
   "source": [
    "# MC18 : Premiers pas vers l'intégration\n",
    "## Activité 2\n",
    "\n",
    "La méthode de calcul donnée dans l’activité 1 s’appelle la méthode des rectangles.\n",
    "On souhaite programmer le calcul d’une valeur approchée de \n",
    "\n",
    "$$\\displaystyle\\int_a^b f(x) \\text{d}x$$\n",
    "\n",
    "pour $f$, $a$ et $b$ donnés, où $a$ et $b$ sont deux réels tels que $a < b$,  $f$ est une fonction définie sur $[a ; b]$ et $n$ est le nombre de rectangles souhaités.\n",
    "\n",
    "1.\tPour simplifier dans un premier temps, on peut dire que $\\text{d}x$ représente la largeur des rectangles. On considère $n$ rectangles sur $[a;b]$.  Exprimer $\\text{d}x$ en fonction de $a$, $b$ et $n$.\n",
    "2.\tCompléter l’algorithme suivant permettant d’avoir une valeur approchée de l’aire par la méthode des rectangles :\n",
    "\n",
    "<center>\n",
    "<div style=\"width: 380px; text-align: left; padding-top:10px; padding-left:10px; padding-bottom:10px;border: 1px solid #A0A0A0;\">\n",
    "Définition de IntégraleMethodeRectangles( $f$ , $a$ , $b$ , $n$ )<br>\n",
    "&nbsp; | &nbsp;&nbsp; $\\text{d}x \\leftarrow $...<br>\n",
    "&nbsp; | &nbsp;&nbsp; $x \\leftarrow a$<br>\n",
    "&nbsp; | &nbsp;&nbsp; $Somme \\leftarrow $...<br>\n",
    "&nbsp; | &nbsp;&nbsp; Pour $k$ variant de 1 à $n$ faire<br>\n",
    "&nbsp; | &nbsp;&nbsp; &nbsp; | &nbsp;&nbsp; $x \\leftarrow x+\\text{d}x$<br>\n",
    "&nbsp; | &nbsp;&nbsp; &nbsp; | &nbsp;&nbsp; $Somme \\leftarrow $...$+f(x)\\times$...<br>\n",
    "&nbsp; | &nbsp;&nbsp; fin pour<br>\n",
    "&nbsp; | &nbsp;&nbsp; retour de ...\n",
    "</div>\n",
    "</center>\n",
    "\n",
    "3.\tTraduire cette fonction en Python dans la cellule de code ci-dessous et exécuter la."
   ]
  },
  {
   "cell_type": "code",
   "execution_count": null,
   "metadata": {},
   "outputs": [],
   "source": [
    "# écrire le code ici\n"
   ]
  },
  {
   "cell_type": "markdown",
   "metadata": {},
   "source": [
    "4. On donne ci-dessous la fonction $f$  de l’activité 1 du livre codée en Python. Cette fonction est définie sur $[0;12]$.\n",
    "Comment utiliser cette fonction avec la fonction `IntégraleMethodeRectangles` pour calculer  $\\displaystyle\\int_0^{12} f(x) \\text{d}x$ avec 1000 rectangles ?\n"
   ]
  },
  {
   "cell_type": "code",
   "execution_count": null,
   "metadata": {},
   "outputs": [],
   "source": [
    "def f(x):\n",
    "    # profil de la palissade\n",
    "    if 0 <= x < 10:\n",
    "        return 0.03*x**2+4\n",
    "    elif 10 <= x <=12:\n",
    "        return 7\n",
    "\n",
    "# écrire la réponse à la question 4 ici\n",
    "\n"
   ]
  },
  {
   "cell_type": "markdown",
   "metadata": {},
   "source": [
    "5.\tAdapter le programme Python pour déterminer une valeur approchée de $\\displaystyle\\int_0^{2} x^2+2x \\text{ d}x$."
   ]
  },
  {
   "cell_type": "code",
   "execution_count": null,
   "metadata": {},
   "outputs": [],
   "source": [
    "# écrire votre solution ici\n",
    "\n"
   ]
  }
 ],
 "metadata": {
  "kernelspec": {
   "display_name": "Python 3",
   "language": "python",
   "name": "python3"
  },
  "language_info": {
   "codemirror_mode": {
    "name": "ipython",
    "version": 3
   },
   "file_extension": ".py",
   "mimetype": "text/x-python",
   "name": "python",
   "nbconvert_exporter": "python",
   "pygments_lexer": "ipython3",
   "version": "3.7.6"
  }
 },
 "nbformat": 4,
 "nbformat_minor": 2
}
