{
 "cells": [
  {
   "cell_type": "markdown",
   "metadata": {},
   "source": [
    "<center><img src=\"images/MC18Ex6.png\"></center>\n",
    "\n",
    "2.\tJohannes KEPLER (mathématicien et astronome allemand, 1571-1630) a établi la formule suivante pour calculer une valeur approchée du volume d’un tonneau :  \n",
    "$$V = \\frac13 \\times\\text{hauteur} \\times (\\text{aire du disque de base} + 2\\times\\text{aire du disque central})$$\n",
    "\n",
    " a.\tCalculer le volume du tonneau à l’aide de cette formule.\n",
    " \n",
    " b.\tQuel pourcentage d’erreur KEPLER faisait-il avec cette formule ?\n",
    " \n",
    " c.\tSur le modèle de la fonction `IntégraleMethodeRectangles( f, a, b, n)` de l’activité 2 reproduite ci-dessous, écrire une fonction  `VolumeMethodeCylindres( f, a, b, n)` qui calcule le volume d’un solide de révolution.\n",
    "\n",
    "<center>\n",
    "<div style=\"width: 380px; text-align: left; padding-top:10px; padding-left:10px; padding-bottom:10px;border: 1px solid #A0A0A0;\">\n",
    "Définition de IntégraleMethodeRectangles( $f$ , $a$ , $b$ , $n$ )<br>\n",
    "&nbsp; | &nbsp;&nbsp; $\\text{d}x \\leftarrow \\frac{b-a}n$<br>\n",
    "&nbsp; | &nbsp;&nbsp; $x \\leftarrow a$<br>\n",
    "&nbsp; | &nbsp;&nbsp; $Somme \\leftarrow 0$<br>\n",
    "&nbsp; | &nbsp;&nbsp; Pour $k$ variant de 1 à $n$ faire<br>\n",
    "&nbsp; | &nbsp;&nbsp; &nbsp; | &nbsp;&nbsp; $x \\leftarrow x+\\text{d}x$<br>\n",
    "&nbsp; | &nbsp;&nbsp; &nbsp; | &nbsp;&nbsp; $Somme \\leftarrow Somme+f(x)\\times \\text{d}x$<br>\n",
    "&nbsp; | &nbsp;&nbsp; fin pour<br>\n",
    "&nbsp; | &nbsp;&nbsp; retour de $Somme$\n",
    "</div>\n",
    "</center>\n"
   ]
  },
  {
   "cell_type": "code",
   "execution_count": null,
   "metadata": {},
   "outputs": [],
   "source": [
    "# écrire le code de la question c ici\n"
   ]
  },
  {
   "cell_type": "markdown",
   "metadata": {},
   "source": [
    " d.\tAppliquer cette fonction pour avoir une valeur approchée du solide de révolution de profil $f$ défini sur $[-1;1]$ par $f(x)=\\sqrt{1-x^2}$. Quel volume pensez-vous avoir calculé ? (indice : tracer la courbe de $f$ sur la calculatrice)"
   ]
  },
  {
   "cell_type": "code",
   "execution_count": null,
   "metadata": {},
   "outputs": [],
   "source": [
    "# écrire le code de la question d ici\n"
   ]
  }
 ],
 "metadata": {
  "kernelspec": {
   "display_name": "Python 3",
   "language": "python",
   "name": "python3"
  },
  "language_info": {
   "codemirror_mode": {
    "name": "ipython",
    "version": 3
   },
   "file_extension": ".py",
   "mimetype": "text/x-python",
   "name": "python",
   "nbconvert_exporter": "python",
   "pygments_lexer": "ipython3",
   "version": "3.7.6"
  }
 },
 "nbformat": 4,
 "nbformat_minor": 2
}
