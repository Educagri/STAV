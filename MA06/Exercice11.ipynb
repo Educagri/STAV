{
 "cells": [
  {
   "cell_type": "markdown",
   "metadata": {},
   "source": [
    "# MA06 : La loi binomiale\n",
    "## Exercice 11\n",
    "\n",
    "1. Pour créer un jeu type « Quiz », compléter le programme dans la cellule de code ci-dessous en suivant le cahier des charges suivant :\n",
    "\n",
    " - Choisir une valeur au hasard de n entre 5 et 20 ;\n",
    " - Choisir une valeur de p au hasard arrondie au centième ;\n",
    " - Afficher le diagramme en barre correspondant à la loi B(n,p) avec la fonction ProbBinom de l’exercice 9\n",
    " - Demander à l’utilisateur ses propositions pour n et p ;\n",
    " - Donner 10 points par bonne réponse ;\n",
    " -  Afficher le score avec une petite phrase sympathique.\n",
    "\n",
    "\n",
    "&nbsp;&nbsp;&nbsp;&nbsp;2. En utilisant les résultats du cours, expliquer comment être sûr de gagner à tous les coups !"
   ]
  },
  {
   "cell_type": "code",
   "execution_count": null,
   "metadata": {},
   "outputs": [],
   "source": [
    "import matplotlib.pyplot as plt\n",
    "import random\n",
    "# import de la fonction ProbBinom(n,p,k) écrite dans l'exercice 9\n",
    "from exercice9 import ProbBinom \n",
    "\n",
    "# remplacer les pointillés ... par tout ce qui peut être nécessaire\n",
    "\n",
    "n = random.randint(...,...)\n",
    "p = round(random.random(),...)\n",
    "\n",
    "plt.grid()\n",
    "loi = [ProbBinom(n,p,k) for k in range(n+1)]\n",
    "plt.bar(range(n+1),loi,0.2,color='b')\n",
    "plt.show()\n",
    "\n",
    "..."
   ]
  }
 ],
 "metadata": {
  "kernelspec": {
   "display_name": "Python 3",
   "language": "python",
   "name": "python3"
  },
  "language_info": {
   "codemirror_mode": {
    "name": "ipython",
    "version": 3
   },
   "file_extension": ".py",
   "mimetype": "text/x-python",
   "name": "python",
   "nbconvert_exporter": "python",
   "pygments_lexer": "ipython3",
   "version": "3.6.4"
  }
 },
 "nbformat": 4,
 "nbformat_minor": 2
}
