{
 "cells": [
  {
   "cell_type": "markdown",
   "metadata": {},
   "source": [
    "<center><img src=\"images/MA6Ex12.png\"></center>\n",
    "\n",
    "1. Compléter les six zones en pointillés de la fonction  récursive `CoefBinom2()` telle que `CoefBinom2(k,n)` retourne le coefficient binomial  $\\binom{n}{k}$. On pourra utiliser les connaissances sur la construction du triangle de Pascal."
   ]
  },
  {
   "cell_type": "code",
   "execution_count": null,
   "metadata": {},
   "outputs": [],
   "source": [
    "def CoefBinom2(k,n):\n",
    "    if k == ... or k == ...:\n",
    "        return 1\n",
    "    else:\n",
    "        return CoefBinom(...,...)+CoefBinom(...,...)"
   ]
  },
  {
   "cell_type": "markdown",
   "metadata": {},
   "source": [
    "&nbsp;&nbsp;&nbsp;&nbsp;2. Tester l'efficacité de  la fonction `CoefBinom2()`  par rapport à la fonction `CoefBinom()` de l’exercice 9  à l'aide de grandes valeurs de $n$ et $k$. Expliquer pourquoi."
   ]
  },
  {
   "cell_type": "code",
   "execution_count": null,
   "metadata": {},
   "outputs": [],
   "source": [
    "# import de la fonction ProbBinom(n,p,k) écrite dans l'exercice 9\n",
    "from exercice9 import ProbBinom \n",
    "\n",
    "# Taper le code de vos tests ici\n"
   ]
  }
 ],
 "metadata": {
  "kernelspec": {
   "display_name": "Python 3",
   "language": "python",
   "name": "python3"
  },
  "language_info": {
   "codemirror_mode": {
    "name": "ipython",
    "version": 3
   },
   "file_extension": ".py",
   "mimetype": "text/x-python",
   "name": "python",
   "nbconvert_exporter": "python",
   "pygments_lexer": "ipython3",
   "version": "3.7.6"
  }
 },
 "nbformat": 4,
 "nbformat_minor": 2
}
