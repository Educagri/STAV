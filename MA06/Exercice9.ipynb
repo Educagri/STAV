{
 "cells": [
  {
   "cell_type": "markdown",
   "metadata": {},
   "source": [
    "<center><img src=\"images/MA6Ex9.png\"></center>\n",
    "\n",
    "On s’intéresse aux quelques lignes d’instructions Python ci-dessous.\n",
    "\n",
    "```python\n",
    "CoefBinomLigne1 = [1,1]\n",
    "CoefBinomLigne2 = [1]\n",
    "CoefBinomLigne2.append(CoefBinomLigne1[0]+CoefBinomLigne1[1])\n",
    "CoefBinomLigne2.append(1)\n",
    "print(CoefBinomLigne2)\n",
    "```\n",
    "\n",
    "1. a. Donner la valeur de `CoefBinomLigne1[0]` et celle de `CoefBinomLigne1[1]`.\n",
    "\n",
    " b. Que contient la liste `CoefBinomLigne2` après l’exécution ces lignes ?\n",
    "\n",
    "Exécuter la cellule de code ci-dessous et ajouter les commandes nécessaires pour vérifier le résultat des deux premières questions."
   ]
  },
  {
   "cell_type": "code",
   "execution_count": null,
   "metadata": {},
   "outputs": [],
   "source": [
    "CoefBinomLigne1 = [1,1]\n",
    "CoefBinomLigne2 = [1]\n",
    "CoefBinomLigne2.append(CoefBinomLigne1[0]+CoefBinomLigne1[1])\n",
    "CoefBinomLigne2.append(1)\n",
    "print(CoefBinomLigne2)"
   ]
  },
  {
   "cell_type": "markdown",
   "metadata": {},
   "source": [
    "&nbsp;2. Proposer une série d’instructions créant une variable `CoefBinomLigne3` contenant les valeurs des coefficients pour $k \\in\\{ 0 ; 1 ; 2 ; 3 \\}$.\n",
    "\n",
    "Essayer la solution dans la cellule de code ci-dessous."
   ]
  },
  {
   "cell_type": "code",
   "execution_count": null,
   "metadata": {},
   "outputs": [],
   "source": [
    "CoefBinomLigne1 = [1,1]\n",
    "CoefBinomLigne2 = [1]\n",
    "CoefBinomLigne2.append(CoefBinomLigne1[0]+CoefBinomLigne1[1])\n",
    "CoefBinomLigne2.append(1)\n",
    "print(CoefBinomLigne2)\n",
    "\n",
    "# compléter ici avec le code solution de la question 2\n",
    "\n",
    "# compléter ici avec le code solution de la question 3\n",
    "\n"
   ]
  },
  {
   "cell_type": "markdown",
   "metadata": {},
   "source": [
    "&nbsp;3. Proposer une série d’instructions créant une variable `CoefBinomLigne4` contenant les valeurs des coefficients pour $k \\in\\{ 0 ; 1 ; 2 ; 3 ; 4 \\}$.\n",
    "\n",
    "Essayer la solution dans la cellule de code ci-dessus.\n",
    "\n",
    "&nbsp;4. Compléter les pointillés dans la fonction Python suivante pour calculer les coefficients binomiaux de la ligne suivante.\n",
    "\n",
    "Exécuter le code pour essayer la fonction."
   ]
  },
  {
   "cell_type": "code",
   "execution_count": null,
   "metadata": {},
   "outputs": [],
   "source": [
    "def CoefBinomLigneSuivante(CoefBinomLigne):\n",
    "    rep = [1]\n",
    "    for compteur in range(len(CoefBinomLigne)-1):\n",
    "        rep.append(CoefBinomLigne[...]+CoefBinomLigne[...])\n",
    "    rep.append(1)\n",
    "    return rep\n",
    "\n",
    "# essayons la fonction pour trouver la ligne suivante\n",
    "# dans le tableau des coefficients binomiaux\n",
    "\n",
    "print(CoefBinomLigneSuivante([1,3,3,1]))"
   ]
  },
  {
   "cell_type": "markdown",
   "metadata": {},
   "source": [
    "&nbsp;5. Écrire un programme Python qui affiche le triangle de Pascal jusqu’à la ligne 10 à l’aide de la fonction précédente.\n",
    "\n",
    "Attention, il faut absolument exécuter la cellule de code précédente pour que la suivante connaisse la fonction `CoefBinomLigneSuivante`."
   ]
  },
  {
   "cell_type": "code",
   "execution_count": null,
   "metadata": {},
   "outputs": [],
   "source": [
    "# Taper le code de la solution ici"
   ]
  },
  {
   "cell_type": "markdown",
   "metadata": {},
   "source": [
    "&nbsp;6. Compléter les deux zones en pointillés dans la fonction Python suivante pour calculer le $k$-ième coefficient de la $n$-ième ligne dans le triangle de Pascal.\n",
    "\n",
    "Attention, il faut absolument exécuter la cellule de code de la question 4 pour que la suivante connaisse la fonction `CoefBinomLigneSuivante`."
   ]
  },
  {
   "cell_type": "code",
   "execution_count": null,
   "metadata": {},
   "outputs": [],
   "source": [
    "def CoefBinom(k,n):\n",
    "    CoefBinomLigne = [1]\n",
    "    for compteur in range(...):\n",
    "        CoefBinomLigne = CoefBinomLigneSuivante(CoefBinomLigne)\n",
    "    return CoefBinomLigne[...]\n",
    "\n",
    "# essai avec le calcul d'un coefficient binomial 3 parmi 5 vaut 10\n",
    "print(CoefBinom(3,5))"
   ]
  },
  {
   "cell_type": "markdown",
   "metadata": {},
   "source": [
    "&nbsp;7. Écrire une fonction Python `ProbBinom(n,p,k)` de paramètres `n`, `p` et `k` qui retourne la valeur de $P(X=k)$ quand la loi de $X$ est la loi $\\mathcal{B}(n,p)$."
   ]
  },
  {
   "cell_type": "code",
   "execution_count": null,
   "metadata": {},
   "outputs": [],
   "source": [
    "# Taper le code de la solution ici"
   ]
  }
 ],
 "metadata": {
  "kernelspec": {
   "display_name": "Python 3",
   "language": "python",
   "name": "python3"
  },
  "language_info": {
   "codemirror_mode": {
    "name": "ipython",
    "version": 3
   },
   "file_extension": ".py",
   "mimetype": "text/x-python",
   "name": "python",
   "nbconvert_exporter": "python",
   "pygments_lexer": "ipython3",
   "version": "3.7.6"
  }
 },
 "nbformat": 4,
 "nbformat_minor": 2
}
