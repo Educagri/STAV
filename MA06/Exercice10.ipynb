{
 "cells": [
  {
   "cell_type": "markdown",
   "metadata": {},
   "source": [
    "# MA06 : La loi binomiale\n",
    "## Exercice 10\n",
    "\n",
    "Dans cet exercice, on reprend les fonctions écrites dans l'exercice 9.\n",
    "\n",
    "1. Écrire une fonction `EsperanceBinom(n,p)` de paramètres `n` et `p` qui retourne la valeur de  l’espérance de $X$ quand la loi de $X$ est la loi $\\mathcal{B}(n,p)$ à l'aide  de la fonction Python `ProbBinom(n,p,k)` de paramètres `n`, `p` et `k` qui retourne la valeur de $P(X=k)$ quand la loi de $X$ est la loi $\\mathcal{B}(n,p)$ et à l'aide de la formule :\n",
    "\n",
    "$$E(X)=\\sum_{k=0}^{n=k} P(X=k) \\times k=\\sum_{k=0}^{n=k} \\binom{n}{k} p^k (1-p)^{n-k} \\times k=\\sum_{k=0}^{n=k} ProbBinom(n,p,k) \\times k$$"
   ]
  },
  {
   "cell_type": "code",
   "execution_count": null,
   "metadata": {},
   "outputs": [],
   "source": [
    "# import de la fonction ProbBinom(n,p,k) écrite dans l'exercice 9\n",
    "from exercice9 import ProbBinom \n",
    "\n",
    "# Taper le code de la solution ici\n"
   ]
  },
  {
   "cell_type": "markdown",
   "metadata": {},
   "source": [
    "La fonction `scatter()` de la bibliothèque `matplotlib.pyplot` permet de tracer un nuage de points à partir d’une liste `x` d’abscisses et une liste `y` d’ordonnées passés en arguments.\n",
    "\n",
    "&nbsp;2. a. Que réalise la fonction `graphique(N,p)` ci-dessous ?\n",
    "\n",
    "&nbsp;&nbsp;&nbsp;&nbsp;b. On considère  $p = 0,4$.  Exécuter `graphique(30, 0.4)`.\n",
    "\n",
    "&nbsp;&nbsp;&nbsp;&nbsp;&nbsp;&nbsp;Que suggère le nuage de points en terme de relation entre l’espérance et n pour une loi B(n;p) ?\n",
    "\n",
    "\n",
    "Attention, il faut absolument exécuter la cellule de code précédente pour que la suivante connaisse la fonction `EsperanceBinom`."
   ]
  },
  {
   "cell_type": "code",
   "execution_count": null,
   "metadata": {},
   "outputs": [],
   "source": [
    "from matplotlib import pyplot as plt\n",
    "\n",
    "def graphique(n,p) :\n",
    "    x = [k for k in range(n+1)]\n",
    "    y = [EsperanceBinom(k,p) for k in range(n+1)]\n",
    "    plt.scatter(x,y)\n",
    "    plt.grid(True) #crée une grille\n",
    "    plt.show()\n",
    "    \n",
    "graphique(30, 0.4)"
   ]
  },
  {
   "cell_type": "markdown",
   "metadata": {},
   "source": [
    "&nbsp;c. Indiquer comment retrouver la valeur de $p$.\n",
    "\n",
    "&nbsp;d. Vérifier cela pour d'autres valeurs de $n$ et de $p$."
   ]
  }
 ],
 "metadata": {
  "kernelspec": {
   "display_name": "Python 3",
   "language": "python",
   "name": "python3"
  },
  "language_info": {
   "codemirror_mode": {
    "name": "ipython",
    "version": 3
   },
   "file_extension": ".py",
   "mimetype": "text/x-python",
   "name": "python",
   "nbconvert_exporter": "python",
   "pygments_lexer": "ipython3",
   "version": "3.6.4"
  }
 },
 "nbformat": 4,
 "nbformat_minor": 2
}
