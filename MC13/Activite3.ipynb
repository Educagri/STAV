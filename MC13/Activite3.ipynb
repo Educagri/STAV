{
 "cells": [
  {
   "cell_type": "markdown",
   "metadata": {},
   "source": [
    "# MC13 : La fonction exponentielle de base e\n",
    "## Activité 3\n",
    "\n",
    "Pour obtenir une valeur approchée plus précise de $\\text{e}$, on peut se servir de l’approximation affine de la tangente à une courbe représentant une fonction $f$.\n",
    "\n",
    "<img src=\"images/approxe.png\">\n",
    "\n",
    "1.\tA l’aide du graphique ci-dessus justifier que, pour $h$ « petit »,  $f (a+h) \\approx f’(a)h + f (a)$.\n",
    "\n",
    "A partir de maintenant $f$ est la fonction exponentielle de base $\\text{e}$ définie pour tout réel $x$ par $f (x) = \\text{e}^x$\n",
    "\n",
    "2.\tEn déduire que, pour $h$ « petit »,  $f (a+h) \\approx f(a)(1+h)$.\n",
    "\n",
    "Pour calculer une valeur approchée de $\\text{e} = \\text{e}^1 = f(1)$, on part de la valeur de $f(0) = 1$ et on calcule les valeurs de proches en proches.\n",
    "\n",
    "Par exemple, en prenant $h = 0,1$,  $f(0,1) = f(0)( 1 + 0,1)$, puis $f(0,2) = f(0,1)( 1 + 0,1)$,… jusqu’à obtenir $f(1) = f(0,9)( 1 + 0,1)$.\n",
    "\n",
    "3.\tCompléter les deux pointillés dans la fonction Python `valeur_e`  ci-dessous qui pour une valeur de $h$ fixée renvoie une approximation de $\\text{e}$.\n"
   ]
  },
  {
   "cell_type": "code",
   "execution_count": null,
   "metadata": {},
   "outputs": [],
   "source": [
    "def valeur_e( h ):\n",
    "    f = 1\n",
    "    a_plus_h = 0\n",
    "    while a_plus_h <= 1 - h:\n",
    "        f = ...\n",
    "        a_plus_h = ...\n",
    "    return f"
   ]
  },
  {
   "cell_type": "markdown",
   "metadata": {},
   "source": [
    "4.\tEn prenant des valeurs de $h$ proches de 0, donner une valeur approchée de $\\text{e}$ à $10^{-5}$ près"
   ]
  },
  {
   "cell_type": "code",
   "execution_count": null,
   "metadata": {},
   "outputs": [],
   "source": [
    "# faire les calculs ici et avant de commencer,\n",
    "# ne pas oublier d'exécuter la cellule de code de la fonction valeur_e\n"
   ]
  },
  {
   "cell_type": "markdown",
   "metadata": {},
   "source": [
    "5.\tComparer cette réponse avec la valeur de $\\text{e}$ obtenue à l’aide de la calculatrice.\n",
    "6.\tDans la cellule de code ci-dessous, ajouter le paramètre $a$  à la fonction `valeur_e` et modifier cette fonction afin de calculer une approximation de $\\text{e}^a$..."
   ]
  },
  {
   "cell_type": "code",
   "execution_count": null,
   "metadata": {},
   "outputs": [],
   "source": [
    "def valeur_e( h ):\n",
    "    f = 1\n",
    "    a_plus_h = 0\n",
    "    while a_plus_h <= 1 - h:\n",
    "        f = ...\n",
    "        a_plus_h = ...\n",
    "    return f"
   ]
  },
  {
   "cell_type": "markdown",
   "metadata": {},
   "source": [
    "6. ... puis donner une valeur approchée de $\\text{e}^{3,8}$ à $10^{-5}$ près."
   ]
  },
  {
   "cell_type": "code",
   "execution_count": null,
   "metadata": {},
   "outputs": [],
   "source": [
    "# faire les calculs ici et avant de commencer, ne pas oublier \n",
    "# d'exécuter la cellule de code de la nouvelle fonction valeur_e\n"
   ]
  },
  {
   "cell_type": "markdown",
   "metadata": {},
   "source": [
    "7.\tPour aller plus loin en programmation. Un élève de STAV, qui a bien compris la méthode, a écrit la même fonction avec `while aph != 1:` qui devrait théoriquement fonctionner de la même manière.\n",
    "\n",
    " a. Exécuter la cellule de code suivante pour constater que la fonction donne bien des valeurs approchée de $\\text{e}$ comme souhaité quand on donne des valeurs de $h$ successivement égales à $\\left(\\frac12\\right)$, $\\left(\\frac12\\right)^5$, $\\left(\\frac12\\right)^{10}$ et $\\left(\\frac12\\right)^{20}$."
   ]
  },
  {
   "cell_type": "code",
   "execution_count": 16,
   "metadata": {},
   "outputs": [
    {
     "name": "stdout",
     "output_type": "stream",
     "text": [
      "si h = 0.5 alors valeur_e(h) = 2.25\n",
      "si h = 0.03125 alors valeur_e(h) = 2.6769901293781833\n",
      "si h = 0.0009765625 alors valeur_e(h) = 2.7169557294664357\n",
      "si h = 9.5367431640625e-07 alors valeur_e(h) = 2.718280532282413\n"
     ]
    }
   ],
   "source": [
    "def valeur_e( h ):\n",
    "    f = 1\n",
    "    a_plus_h = 0\n",
    "    while a_plus_h != 1:\n",
    "        f = f * (1+h)\n",
    "        a_plus_h = a_plus_h + h\n",
    "    return f\n",
    "\n",
    "for h in [1/2,(1/2)**5,(1/2)**10,(1/2)**20]:\n",
    "    print(\"si h =\",h,\"alors valeur_e(h) =\",valeur_e(h))"
   ]
  },
  {
   "cell_type": "markdown",
   "metadata": {},
   "source": [
    "Et pourtant...\n",
    "\n",
    " b. Exécuter la cellule de code suivante pour tester la valeur $h=0,1$."
   ]
  },
  {
   "cell_type": "code",
   "execution_count": 17,
   "metadata": {},
   "outputs": [
    {
     "ename": "KeyboardInterrupt",
     "evalue": "",
     "output_type": "error",
     "traceback": [
      "\u001b[1;31m---------------------------------------------------------------------------\u001b[0m",
      "\u001b[1;31mKeyboardInterrupt\u001b[0m                         Traceback (most recent call last)",
      "\u001b[1;32m<ipython-input-17-f32adb0edb7b>\u001b[0m in \u001b[0;36m<module>\u001b[1;34m\u001b[0m\n\u001b[1;32m----> 1\u001b[1;33m \u001b[0mprint\u001b[0m\u001b[1;33m(\u001b[0m\u001b[0mvaleur_e\u001b[0m\u001b[1;33m(\u001b[0m\u001b[1;36m0.1\u001b[0m\u001b[1;33m)\u001b[0m\u001b[1;33m)\u001b[0m\u001b[1;33m\u001b[0m\u001b[1;33m\u001b[0m\u001b[0m\n\u001b[0m",
      "\u001b[1;32m<ipython-input-16-9ccab94dc0c1>\u001b[0m in \u001b[0;36mvaleur_e\u001b[1;34m(h)\u001b[0m\n\u001b[0;32m      4\u001b[0m     \u001b[1;32mwhile\u001b[0m \u001b[0ma_plus_h\u001b[0m \u001b[1;33m!=\u001b[0m \u001b[1;36m1\u001b[0m\u001b[1;33m:\u001b[0m\u001b[1;33m\u001b[0m\u001b[1;33m\u001b[0m\u001b[0m\n\u001b[0;32m      5\u001b[0m         \u001b[0mf\u001b[0m \u001b[1;33m=\u001b[0m \u001b[0mf\u001b[0m \u001b[1;33m*\u001b[0m \u001b[1;33m(\u001b[0m\u001b[1;36m1\u001b[0m\u001b[1;33m+\u001b[0m\u001b[0mh\u001b[0m\u001b[1;33m)\u001b[0m\u001b[1;33m\u001b[0m\u001b[1;33m\u001b[0m\u001b[0m\n\u001b[1;32m----> 6\u001b[1;33m         \u001b[0ma_plus_h\u001b[0m \u001b[1;33m=\u001b[0m \u001b[0ma_plus_h\u001b[0m \u001b[1;33m+\u001b[0m \u001b[0mh\u001b[0m\u001b[1;33m\u001b[0m\u001b[1;33m\u001b[0m\u001b[0m\n\u001b[0m\u001b[0;32m      7\u001b[0m     \u001b[1;32mreturn\u001b[0m \u001b[0mf\u001b[0m\u001b[1;33m\u001b[0m\u001b[1;33m\u001b[0m\u001b[0m\n\u001b[0;32m      8\u001b[0m \u001b[1;33m\u001b[0m\u001b[0m\n",
      "\u001b[1;31mKeyboardInterrupt\u001b[0m: "
     ]
    }
   ],
   "source": [
    "print(valeur_e(0.1))"
   ]
  },
  {
   "cell_type": "markdown",
   "metadata": {},
   "source": [
    "Le programme est planté, la boucle tourne indéfiniment. On peut le voir car à gauche de la cellule, il est écrit `Entrée [*]`.\n",
    "\n",
    " c. Stopper le programme à l'aide du bouton carré à côté du bouton exécuter bien connu.\n",
    " \n",
    " d. Après avoir stoppé Python, demander lui le résultat de `0.1+0.1+0.1+0.1+0.1+0.1+0.1+0.1+0.1+0.1` dans la cellule de code suivante.  Oui, il faut tout saisir car Python le calcule dans sa boucle et le stocke dans `a_plus_h`."
   ]
  },
  {
   "cell_type": "code",
   "execution_count": 18,
   "metadata": {},
   "outputs": [
    {
     "ename": "TypeError",
     "evalue": "'float' object cannot be interpreted as an integer",
     "output_type": "error",
     "traceback": [
      "\u001b[1;31m---------------------------------------------------------------------------\u001b[0m",
      "\u001b[1;31mTypeError\u001b[0m                                 Traceback (most recent call last)",
      "\u001b[1;32m<ipython-input-18-90652f928191>\u001b[0m in \u001b[0;36m<module>\u001b[1;34m\u001b[0m\n\u001b[1;32m----> 1\u001b[1;33m \u001b[0mbin\u001b[0m\u001b[1;33m(\u001b[0m\u001b[1;36m1.2\u001b[0m\u001b[1;33m)\u001b[0m\u001b[1;33m\u001b[0m\u001b[1;33m\u001b[0m\u001b[0m\n\u001b[0m",
      "\u001b[1;31mTypeError\u001b[0m: 'float' object cannot be interpreted as an integer"
     ]
    }
   ],
   "source": [
    "\n"
   ]
  },
  {
   "cell_type": "markdown",
   "metadata": {},
   "source": [
    "étonnant, non ?\n",
    "\n",
    "Les calculs faits par Python dans le cas des nombres décimaux sont faits de manière approximative ou approchée. Les nombres sont codés avec 52 chiffres binaires après la virgule (c'est pour entrer dans les 64bits bien connus des geeks en gardant de la place pour le signe et l'exposant de la notation scientifique).\n",
    "\n",
    " e. Exécuter le code suivant pour voir les chiffres binaires de $0,1$."
   ]
  },
  {
   "cell_type": "code",
   "execution_count": 21,
   "metadata": {},
   "outputs": [
    {
     "data": {
      "text/plain": [
       "'0b110011001100110011001100110011001100110011001100'"
      ]
     },
     "execution_count": 21,
     "metadata": {},
     "output_type": "execute_result"
    }
   ],
   "source": [
    "bin(int(0.1 * 2**51))"
   ]
  },
  {
   "cell_type": "markdown",
   "metadata": {},
   "source": [
    "Vous remarquez la série de chiffres qui se répète ?\n",
    "\n",
    "$0,1=\\frac1{10}$ ne s'écrit pas de manière exacte en binaire.\n",
    "\n",
    "C'est comme $\\frac13$ qui ne s'écrit pas de manière exacte en décimal : on obtient $0,3333333...$.\n",
    "\n",
    "On a $\\frac13+\\frac13+\\frac13=1$ mais $0,3333333+0,3333333+0,3333333=0,9999999$.\n",
    "\n",
    "On a aussi $\\frac1{10}+\\frac1{10}+\\frac1{10}+\\frac1{10}+\\frac1{10}+\\frac1{10}+\\frac1{10}+\\frac1{10}+\\frac1{10}+\\frac1{10}=1$ mais la somme des valeurs aprochées tronquées en bianire fait $0,999999...$.\n",
    "\n",
    " f. Exécuter la cellule suivante pour le constater."
   ]
  },
  {
   "cell_type": "code",
   "execution_count": 38,
   "metadata": {},
   "outputs": [
    {
     "name": "stdout",
     "output_type": "stream",
     "text": [
      "0b111111111111111111111111111111111111111111111111000\n",
      "en décimal, cela fait  0.9999999999999964\n"
     ]
    }
   ],
   "source": [
    "un10e = 0b110011001100110011001100110011001100110011001100\n",
    "sommede10un10e = un10e+un10e+un10e+un10e+un10e+un10e+un10e+un10e+un10e+un10e\n",
    "print(bin(sommede10un10e))\n",
    "print(\"en décimal, cela fait \",sommede10un10e/(2**51))"
   ]
  },
  {
   "cell_type": "markdown",
   "metadata": {},
   "source": []
  }
 ],
 "metadata": {
  "kernelspec": {
   "display_name": "Python 3",
   "language": "python",
   "name": "python3"
  },
  "language_info": {
   "codemirror_mode": {
    "name": "ipython",
    "version": 3
   },
   "file_extension": ".py",
   "mimetype": "text/x-python",
   "name": "python",
   "nbconvert_exporter": "python",
   "pygments_lexer": "ipython3",
   "version": "3.7.6"
  }
 },
 "nbformat": 4,
 "nbformat_minor": 2
}
