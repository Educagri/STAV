{
 "cells": [
  {
   "cell_type": "markdown",
   "metadata": {},
   "source": [
    "<center><img src=\"images/MC13Act3.png\"></center>\n",
    "\n",
    "Pour obtenir une valeur approchée plus précise de $\\text{e}$, on peut se servir de l’approximation affine de la tangente à une courbe représentant une fonction $f$.\n",
    "\n",
    "<img src=\"images/approxe.png\">\n",
    "\n",
    "1.\tA l’aide du graphique ci-dessus justifier que, pour $h$ « petit »,  $f (a+h) \\approx f’(a)h + f (a)$.\n",
    "\n",
    "A partir de maintenant $f$ est la fonction exponentielle de base $\\text{e}$ définie pour tout réel $x$ par $f (x) = \\text{e}^x$\n",
    "\n",
    "2.\tEn déduire que, pour $h$ « petit »,  $f (a+h) \\approx f(a)(1+h)$.\n",
    "\n",
    "Pour calculer une valeur approchée de $\\text{e} = \\text{e}^1 = f(1)$, on part de la valeur de $f(0) = 1$ et on calcule les valeurs de proches en proches.\n",
    "\n",
    "Par exemple, en prenant $h = 0,1$,  $f(0,1) = f(0)( 1 + 0,1)$, puis $f(0,2) = f(0,1)( 1 + 0,1)$,… jusqu’à obtenir $f(1) = f(0,9)( 1 + 0,1)$.\n",
    "\n",
    "3.\tCompléter les deux pointillés dans la fonction Python `valeur_e`  ci-dessous qui pour une valeur de $h$ fixée renvoie une approximation de $\\text{e}$.\n"
   ]
  },
  {
   "cell_type": "code",
   "execution_count": null,
   "metadata": {},
   "outputs": [],
   "source": [
    "def valeur_e( h ):\n",
    "    f = 1\n",
    "    a_plus_h = 0\n",
    "    while a_plus_h <= 1 - h:\n",
    "        f = ...\n",
    "        a_plus_h = ...\n",
    "    return f"
   ]
  },
  {
   "cell_type": "markdown",
   "metadata": {},
   "source": [
    "4.\tEn prenant des valeurs de $h$ proches de 0, donner une valeur approchée de $\\text{e}$ à $10^{-5}$ près"
   ]
  },
  {
   "cell_type": "code",
   "execution_count": null,
   "metadata": {},
   "outputs": [],
   "source": [
    "# faire les calculs ici et avant de commencer,\n",
    "# ne pas oublier d'exécuter la cellule de code de la fonction valeur_e\n"
   ]
  },
  {
   "cell_type": "markdown",
   "metadata": {},
   "source": [
    "5.\tComparer cette réponse avec la valeur de $\\text{e}$ obtenue à l’aide de la calculatrice.\n",
    "6.\tDans la cellule de code ci-dessous, ajouter le paramètre $a$  à la fonction `valeur_e` et modifier cette fonction afin de calculer une approximation de $\\text{e}^a$..."
   ]
  },
  {
   "cell_type": "code",
   "execution_count": null,
   "metadata": {},
   "outputs": [],
   "source": [
    "def valeur_e( h ):\n",
    "    f = 1\n",
    "    a_plus_h = 0\n",
    "    while a_plus_h <= 1 - h:\n",
    "        f = ...\n",
    "        a_plus_h = ...\n",
    "    return f"
   ]
  },
  {
   "cell_type": "markdown",
   "metadata": {},
   "source": [
    "6. ... puis donner une valeur approchée de $\\text{e}^{3,8}$ à $10^{-5}$ près."
   ]
  },
  {
   "cell_type": "code",
   "execution_count": null,
   "metadata": {},
   "outputs": [],
   "source": [
    "# faire les calculs ici et avant de commencer, ne pas oublier \n",
    "# d'exécuter la cellule de code de la nouvelle fonction valeur_e\n"
   ]
  },
  {
   "cell_type": "markdown",
   "metadata": {},
   "source": [
    "7.\tPour aller plus loin en programmation. Un élève de STAV, qui a bien compris la méthode, a écrit la même fonction avec `while aph != 1:` qui devrait théoriquement fonctionner de la même manière.\n",
    "\n",
    " a. Exécuter la cellule de code suivante pour constater que la fonction donne bien des valeurs approchée de $\\text{e}$ comme souhaité quand on donne des valeurs de $h$ successivement égales à $\\left(\\frac12\\right)$, $\\left(\\frac12\\right)^5$, $\\left(\\frac12\\right)^{10}$ et $\\left(\\frac12\\right)^{20}$."
   ]
  },
  {
   "cell_type": "code",
   "execution_count": null,
   "metadata": {},
   "outputs": [],
   "source": [
    "def valeur_e( h ):\n",
    "    f = 1\n",
    "    a_plus_h = 0\n",
    "    while a_plus_h != 1:\n",
    "        f = f * (1+h)\n",
    "        a_plus_h = a_plus_h + h\n",
    "    return f\n",
    "\n",
    "for h in [1/2,(1/2)**5,(1/2)**10,(1/2)**20]:\n",
    "    print(\"si h =\",h,\"alors valeur_e(h) =\",valeur_e(h))"
   ]
  },
  {
   "cell_type": "markdown",
   "metadata": {},
   "source": [
    "Et pourtant...\n",
    "\n",
    " b. Exécuter la cellule de code suivante pour tester la valeur $h=0,1$."
   ]
  },
  {
   "cell_type": "code",
   "execution_count": null,
   "metadata": {},
   "outputs": [],
   "source": [
    "print(valeur_e(0.1))"
   ]
  },
  {
   "cell_type": "markdown",
   "metadata": {},
   "source": [
    "Le programme est planté, la boucle tourne indéfiniment. On peut le voir car à gauche de la cellule, il est écrit `Entrée [*]`.\n",
    "\n",
    " c. Stopper le programme à l'aide du bouton carré à côté du bouton exécuter bien connu.\n",
    " \n",
    " d. Après avoir stoppé Python, demander lui le résultat de `0.1+0.1+0.1+0.1+0.1+0.1+0.1+0.1+0.1+0.1` dans la cellule de code suivante.  Oui, il faut tout saisir car Python le calcule dans sa boucle et le stocke dans `a_plus_h`."
   ]
  },
  {
   "cell_type": "code",
   "execution_count": null,
   "metadata": {},
   "outputs": [],
   "source": [
    "\n"
   ]
  },
  {
   "cell_type": "markdown",
   "metadata": {},
   "source": [
    "étonnant, non ?\n",
    "\n",
    "Les calculs faits par Python dans le cas des nombres décimaux sont faits de manière approximative ou approchée. Les nombres sont codés avec 52 chiffres binaires après la virgule (c'est pour entrer dans les 64bits bien connus des geeks en gardant de la place pour le signe et l'exposant de la notation scientifique).\n",
    "\n",
    " e. Exécuter le code suivant pour voir les chiffres binaires de $0,1$."
   ]
  },
  {
   "cell_type": "code",
   "execution_count": null,
   "metadata": {},
   "outputs": [],
   "source": [
    "bin(int(0.1 * 2**51))"
   ]
  },
  {
   "cell_type": "markdown",
   "metadata": {},
   "source": [
    "Vous remarquez la série de chiffres qui se répète ?\n",
    "\n",
    "$0,1=\\frac1{10}$ ne s'écrit pas de manière exacte en binaire.\n",
    "\n",
    "C'est comme $\\frac13$ qui ne s'écrit pas de manière exacte en décimal : on obtient $0,3333333...$.\n",
    "\n",
    "On a $\\frac13+\\frac13+\\frac13=1$ mais $0,3333333+0,3333333+0,3333333=0,9999999$.\n",
    "\n",
    "On a aussi $\\frac1{10}+\\frac1{10}+\\frac1{10}+\\frac1{10}+\\frac1{10}+\\frac1{10}+\\frac1{10}+\\frac1{10}+\\frac1{10}+\\frac1{10}=1$ mais la somme des valeurs aprochées tronquées en bianire fait $0,999999...$.\n",
    "\n",
    " f. Exécuter la cellule suivante pour le constater."
   ]
  },
  {
   "cell_type": "code",
   "execution_count": null,
   "metadata": {},
   "outputs": [],
   "source": [
    "un10e = 0b110011001100110011001100110011001100110011001100\n",
    "sommede10un10e = un10e+un10e+un10e+un10e+un10e+un10e+un10e+un10e+un10e+un10e\n",
    "print(bin(sommede10un10e))\n",
    "print(\"en décimal, cela fait \",sommede10un10e/(2**51))"
   ]
  }
 ],
 "metadata": {
  "kernelspec": {
   "display_name": "Python 3",
   "language": "python",
   "name": "python3"
  },
  "language_info": {
   "codemirror_mode": {
    "name": "ipython",
    "version": 3
   },
   "file_extension": ".py",
   "mimetype": "text/x-python",
   "name": "python",
   "nbconvert_exporter": "python",
   "pygments_lexer": "ipython3",
   "version": "3.7.6"
  }
 },
 "nbformat": 4,
 "nbformat_minor": 2
}
