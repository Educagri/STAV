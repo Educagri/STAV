{
 "cells": [
  {
   "cell_type": "markdown",
   "metadata": {},
   "source": [
    "# MD03 : Suites géométriques\n",
    "## Exercice 8\n",
    "\n",
    "Pour résoudre ses exercices sur les suites géométriques, un élève a créé la fonction Python suivante :\n",
    " \n",
    "```python\n",
    "def TermSuitGeo(n,u0,q):\n",
    "    un = u0\n",
    "    for compteur in range(n):\n",
    "        un = un * q\n",
    "    return un\n",
    "```\n",
    "\n",
    "1.\tExpliquer ce que l’on obtient en tapant `print(TermSuitGeo(12,10,5)))`."
   ]
  },
  {
   "cell_type": "code",
   "execution_count": null,
   "metadata": {},
   "outputs": [],
   "source": [
    "def TermSuitGeo(n,u0,q):\n",
    "    un = u0\n",
    "    for compteur in range(n):\n",
    "        un = un * q            # <-- ligne 4\n",
    "    return un\n",
    "\n",
    "print(TermSuitGeo(12,10,5))"
   ]
  },
  {
   "cell_type": "markdown",
   "metadata": {},
   "source": [
    "2.\tExpliquer la formule écrite à la ligne 4 ci-dessus ?\n",
    "\n",
    "3. Un autre élève a tapé le code suivant qui donne le même résultat :"
   ]
  },
  {
   "cell_type": "code",
   "execution_count": null,
   "metadata": {},
   "outputs": [],
   "source": [
    "def TermSuitGeo(n,u0,q):\n",
    "    for compteur in range(1,n+1):\n",
    "        u0 = u0 * q\n",
    "    return u0\n",
    "\n",
    "print(TermSuitGeo(12,10,5))"
   ]
  },
  {
   "cell_type": "markdown",
   "metadata": {},
   "source": [
    "3. a) Pourquoi n’a-t-il pas eu besoin de la variable un ?\n",
    "\n",
    "   b) Pourquoi, dans les deux versions, les deux boucles font-elles le même nombre de tours ?"
   ]
  }
 ],
 "metadata": {
  "kernelspec": {
   "display_name": "Python 3",
   "language": "python",
   "name": "python3"
  },
  "language_info": {
   "codemirror_mode": {
    "name": "ipython",
    "version": 3
   },
   "file_extension": ".py",
   "mimetype": "text/x-python",
   "name": "python",
   "nbconvert_exporter": "python",
   "pygments_lexer": "ipython3",
   "version": "3.7.1"
  }
 },
 "nbformat": 4,
 "nbformat_minor": 2
}
