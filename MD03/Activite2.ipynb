{
 "cells": [
  {
   "cell_type": "markdown",
   "metadata": {},
   "source": [
    "# MD03 : Suites géométriques\n",
    "## Activité 2 : Les dromadaires féraux\n",
    "En 1849, les colons européens importent les premiers dromadaires en Australie. Jusqu’en 1950, les dromadaires étaient très prisés pour le bât, le trait et la selle. Mais l’évolution des technologies rendant leur usage caduc, ces animaux sont relachés dans le désert. En l'absence de prédateurs, ils trouvent refuge dans des zones complètement isolées de la présence humaine, commencent à se reproduire et s'organisent en hardes. L'effectif de ces dromadaires féraux est aujourd'hui estimé entre 100 000 et 500 000 têtes. Pour préciser cette estimation, on souhaite modéliser l’évolution de leur population. Les dromadaires n’ont pas de prédateurs et ont un espace de ressources alimentaires de la taille d’un continent : on peut donc considérer que l’évolution constatée dans le passé continue dans l’avenir.\n",
    "\n",
    "Comme le nombre de dromadaires ne cesse d’augmenter et de plus en plus vite, on peut imaginer (si les ressources disponibles et l’absence de prédation perdurent) qu’il dépasse un jour la population australienne en 2018 qui est de 25 millions d’habitants. On se demande quand cela pourrait arriver.\n",
    "\n",
    "8. a)\tCompléter les pointillés de l’algorithme.\n",
    "\n",
    "\n",
    "$u \\leftarrow 730$<br>\n",
    "$n \\leftarrow 0$<br>\n",
    "Tant que $u<25\\times10^6$ faire<br>\n",
    "&nbsp; | &nbsp;&nbsp; $u \\leftarrow $ ...<br>\n",
    "&nbsp; | &nbsp;&nbsp; $n \\leftarrow $ ...<br>\n",
    "fin tant que<br>\n",
    "Afficher ...<br>\n",
    "\n",
    "\n",
    "8. b)\tTraduire l’algorithme en Python."
   ]
  },
  {
   "cell_type": "code",
   "execution_count": null,
   "metadata": {},
   "outputs": [],
   "source": [
    "# tester le code ici"
   ]
  },
  {
   "cell_type": "markdown",
   "metadata": {},
   "source": [
    "8. c)\tExécuter l’algorithme et répondre à la question. "
   ]
  }
 ],
 "metadata": {
  "kernelspec": {
   "display_name": "Python 3",
   "language": "python",
   "name": "python3"
  },
  "language_info": {
   "codemirror_mode": {
    "name": "ipython",
    "version": 3
   },
   "file_extension": ".py",
   "mimetype": "text/x-python",
   "name": "python",
   "nbconvert_exporter": "python",
   "pygments_lexer": "ipython3",
   "version": "3.7.1"
  }
 },
 "nbformat": 4,
 "nbformat_minor": 2
}
