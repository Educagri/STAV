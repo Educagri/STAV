{
 "cells": [
  {
   "cell_type": "markdown",
   "metadata": {},
   "source": [
    "<center><img src=\"images/MD3Act2.png\"></center>\n",
    "<p class=\"flottedroite\">\n",
    "<img src=\"images/dromadaire.jpg\" alt=\"photoexcel+dunes\">\n",
    "</p>\n",
    "<p>\n",
    "En 1849, les colons européens importent les premiers dromadaires en Australie. Jusqu’en 1950, les dromadaires étaient très prisés pour le bât, le trait et la selle. Mais l’évolution des technologies rendant leur usage caduc, ces animaux sont relachés dans le désert. En l'absence de prédateurs, ils commencent à se reproduire et s'organisent en hardes.\n",
    "Pour avoir une estimation du nombre de ces dromadaires, on souhaite modéliser l’évolution de leur population. Les dromadaires ont de plus un espace de ressources alimentaires de la taille d’un continent : on peut donc considérer que l’évolution constatée dans le passé continue dans l’avenir.\n",
    "</p>    \n",
    "\n",
    "On appelle $u_n$ le nombre de dromadaires à la $n$-ième décennie après 1850.\n",
    "\n",
    "On modélise la suite $(u_n)$ comme suite géométrique de premier terme $u_0=730$ et de raison $q=\\dfrac23$.\n",
    "\n",
    "Comme le nombre de dromadaires ne cesse d’augmenter et de plus en plus vite, on peut imaginer (si les ressources disponibles et l’absence de prédation perdurent) qu’il dépasse un jour la population australienne en 2018 qui est de 25 millions d’habitants. On se demande quand cela pourrait arriver.\n",
    "\n",
    "7. a)\tCompléter les pointillés de l’algorithme.\n",
    "\n",
    "<center>\n",
    "<div style=\"width: 200px; text-align: left; padding-top:10px; padding-left:10px; padding-bottom:10px;border: 1px solid #A0A0A0;\">\n",
    "$u \\leftarrow 730$<br>\n",
    "$n \\leftarrow 0$<br>\n",
    "Tant que $u<25\\times10^6$ faire<br>\n",
    "&nbsp; | &nbsp;&nbsp; $u \\leftarrow $ ...<br>\n",
    "&nbsp; | &nbsp;&nbsp; $n \\leftarrow $ ...<br>\n",
    "fin tant que<br>\n",
    "Afficher ...<br>\n",
    "</div>\n",
    "</center>\n",
    "\n",
    "7. b)\tTraduire l’algorithme en Python."
   ]
  },
  {
   "cell_type": "code",
   "execution_count": null,
   "metadata": {},
   "outputs": [],
   "source": [
    "# Entrer le code de la question 7.b) ici\n"
   ]
  },
  {
   "cell_type": "markdown",
   "metadata": {},
   "source": [
    "7. c)\tExécuter l’algorithme et répondre à la question. "
   ]
  }
 ],
 "metadata": {
  "kernelspec": {
   "display_name": "Python 3",
   "language": "python",
   "name": "python3"
  },
  "language_info": {
   "codemirror_mode": {
    "name": "ipython",
    "version": 3
   },
   "file_extension": ".py",
   "mimetype": "text/x-python",
   "name": "python",
   "nbconvert_exporter": "python",
   "pygments_lexer": "ipython3",
   "version": "3.7.6"
  }
 },
 "nbformat": 4,
 "nbformat_minor": 2
}
