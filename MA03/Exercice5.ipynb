{
 "cells": [
  {
   "cell_type": "markdown",
   "metadata": {},
   "source": [
    "<center><img src=\"images/MA3Ex5.png\"></center>\n",
    "\n",
    "Un animateur de jeu propose à un lycéen de tirer au hasard une carte dans un jeu de 32 cartes. \n",
    "\n",
    "- si  la carte est  un roi, l’animateur donnera 7 € au lycéen\n",
    "- si  la carte est  une dame, l’animateur donnera 6 € au lycéen\n",
    "- si  la carte est  un valet, l’animateur donnera 4 € au lycéen\n",
    "- dans les autres cas, le lycéen donnera  3,5 € à l’animateur.\n",
    "\n",
    "Le lycéen a codé le jeu de cartes à l'aide d'une liste.\n",
    "\n",
    "R pour Roi, D pour Dame, V pour Valet, 1 pour As, et 7, 8, 9 ,10 pour les cartes numérotées.\n",
    "Co pour Coeur, Ca pour Carreau, P pour Pique et T pour Trèfle.\n",
    "\n",
    "0. Dans le code ci-dessous, que doit-on écrire dans les pointillés pour obtenir le roi de coeur ?"
   ]
  },
  {
   "cell_type": "code",
   "execution_count": null,
   "metadata": {},
   "outputs": [],
   "source": [
    "cartes = [\"RCo\",\"RCa\",\"RP\",\"RT\",\"DCo\",\"DCa\",\"DP\",\"DT\",\n",
    "          \"VCo\",\"VCa\",\"VP\",\"VT\",\"1Co\",\"1Ca\",\"1P\",\"1T\",\n",
    "          \"7Co\",\"7Ca\",\"7P\",\"7T\",\"8Co\",\"8Ca\",\"8P\",\"8T\",\n",
    "          \"9Co\",\"9Ca\",\"9P\",\"9T\",\"10Co\",\"10Ca\",\"10P\",\"10T\"]\n",
    "print(cartes[...])"
   ]
  },
  {
   "cell_type": "markdown",
   "metadata": {},
   "source": [
    "1. Donner les indices (ou rangs) des rois dans la liste cartes."
   ]
  },
  {
   "cell_type": "code",
   "execution_count": null,
   "metadata": {},
   "outputs": [],
   "source": [
    "cartes = [\"RCo\",\"RCa\",\"RP\",\"RT\",\"DCo\",\"DCa\",\"DP\",\"DT\",\n",
    "          \"VCo\",\"VCa\",\"VP\",\"VT\",\"1Co\",\"1Ca\",\"1P\",\"1T\",\n",
    "          \"7Co\",\"7Ca\",\"7P\",\"7T\",\"8Co\",\"8Ca\",\"8P\",\"8T\",\n",
    "          \"9Co\",\"9Ca\",\"9P\",\"9T\",\"10Co\",\"10Ca\",\"10P\",\"10T\"]\n",
    "print(cartes[...],cartes[...],cartes[...],cartes[...])"
   ]
  },
  {
   "cell_type": "markdown",
   "metadata": {},
   "source": [
    "&nbsp;2. De même, donner les indices (ou rangs) des dames puis des valets  dans la liste cartes."
   ]
  },
  {
   "cell_type": "code",
   "execution_count": null,
   "metadata": {},
   "outputs": [],
   "source": [
    "cartes = [\"RCo\",\"RCa\",\"RP\",\"RT\",\"DCo\",\"DCa\",\"DP\",\"DT\",\n",
    "          \"VCo\",\"VCa\",\"VP\",\"VT\",\"1Co\",\"1Ca\",\"1P\",\"1T\",\n",
    "          \"7Co\",\"7Ca\",\"7P\",\"7T\",\"8Co\",\"8Ca\",\"8P\",\"8T\",\n",
    "          \"9Co\",\"9Ca\",\"9P\",\"9T\",\"10Co\",\"10Ca\",\"10P\",\"10T\"]\n",
    "print(cartes[...],cartes[...],cartes[...],cartes[...])\n",
    "print(cartes[...],cartes[...],cartes[...],cartes[...])"
   ]
  },
  {
   "cell_type": "markdown",
   "metadata": {},
   "source": [
    "Le lycéen a écrit une fonction Python dont voici un extrait.\n",
    "\n",
    "&nbsp;3. Compléter alors les pointillés de la fonction Python permettant la simulation du tirage au hasard d’une carte dans un jeu de 32 et calculant le gain du lycéen."
   ]
  },
  {
   "cell_type": "code",
   "execution_count": null,
   "metadata": {},
   "outputs": [],
   "source": [
    "import random\n",
    "\n",
    "def GainJeu(nbTirages) :\n",
    "    cartes = [\"RCo\",\"RCa\",\"RP\",\"RT\",\"DCo\",\"DCa\",\"DP\",\"DT\",\n",
    "              \"VCo\",\"VCa\",\"VP\",\"VT\",\"1Co\",\"1Ca\",\"1P\",\"1T\",\n",
    "              \"7Co\",\"7Ca\",\"7P\",\"7T\",\"8Co\",\"8Ca\",\"8P\",\"8T\",\n",
    "              \"9Co\",\"9Ca\",\"9P\",\"9T\",\"10Co\",\"10Ca\",\"10P\",\"10T\"]\n",
    "\n",
    "    GainTotal = 0\n",
    "    for compteur in range(nbTirages) :\n",
    "        indice = random.randint(0,31)\n",
    "        if indice <= 3 : # un roi\n",
    "            GainTotal = GainTotal + ...\n",
    "        ... # plusieurs lignes pour prendre en compte D, V, ...\n",
    "        \n",
    "    return ..."
   ]
  },
  {
   "cell_type": "markdown",
   "metadata": {},
   "source": [
    "&nbsp;4. a) En utilisant cette fonction, que doit-on saisir en Python pour afficher le gain moyen du lycéen sur 100 000 parties ? "
   ]
  },
  {
   "cell_type": "code",
   "execution_count": null,
   "metadata": {},
   "outputs": [],
   "source": [
    "# taper la solution ici et l'exécuter"
   ]
  },
  {
   "cell_type": "markdown",
   "metadata": {},
   "source": [
    "&nbsp;4. b) Retrouvez-vous une valeur similaire à celles du lycéen ? (rappel, il avait trouvé ces valeurs $-0,0644$ ; $-0,0625$ ; $-0,0626$ ; $-0,0631$ ; $-0,0623$ ; $-0,0628$ ; $-0,0649$ ;  $-0,0621$)\n",
    "\n",
    "&nbsp;5. A-t-on réellement besoin de la liste cartes dans la fonction ?"
   ]
  }
 ],
 "metadata": {
  "kernelspec": {
   "display_name": "Python 3",
   "language": "python",
   "name": "python3"
  },
  "language_info": {
   "codemirror_mode": {
    "name": "ipython",
    "version": 3
   },
   "file_extension": ".py",
   "mimetype": "text/x-python",
   "name": "python",
   "nbconvert_exporter": "python",
   "pygments_lexer": "ipython3",
   "version": "3.7.6"
  }
 },
 "nbformat": 4,
 "nbformat_minor": 2
}
