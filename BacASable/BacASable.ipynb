{
 "cells": [
  {
   "cell_type": "markdown",
   "metadata": {},
   "source": [
    "# Bac à sable\n",
    "\n",
    "Dans la cellule de code ci-dessous, vous pouvez :\n",
    "\n",
    "- Ecrire tout le code que vous voulez essayer\n",
    "\n",
    "- Ecrire la solution à un exercice qui n'est pas dans le livre\n",
    "\n",
    "- Ecrire la solution d'un exercice de devoir Maison\n",
    "\n",
    "- ...\n",
    "\n",
    "N'oubliez pas d'enregistrer régulièrement pour garder actif cette page\n",
    "\n",
    "Quand vous avez fini, utilisez le menu `File, Download as, Notebook (.ipynb)` pour l'enregistrer sur votre ordinateur."
   ]
  },
  {
   "cell_type": "code",
   "execution_count": null,
   "metadata": {},
   "outputs": [],
   "source": [
    "# exprimez vous dans cette cellule de code\n"
   ]
  }
 ],
 "metadata": {
  "kernelspec": {
   "display_name": "Python 3",
   "language": "python",
   "name": "python3"
  },
  "language_info": {
   "codemirror_mode": {
    "name": "ipython",
    "version": 3
   },
   "file_extension": ".py",
   "mimetype": "text/x-python",
   "name": "python",
   "nbconvert_exporter": "python",
   "pygments_lexer": "ipython3",
   "version": "3.6.4"
  }
 },
 "nbformat": 4,
 "nbformat_minor": 2
}
