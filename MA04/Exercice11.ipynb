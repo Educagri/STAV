{
 "cells": [
  {
   "cell_type": "markdown",
   "metadata": {},
   "source": [
    "<center><img src=\"images/MA4Ex11.png\"></center>\n",
    "\n",
    "La détermination du sexe des poussins (appelée sexage) est difficile à faire. C’est pourtant une information importante que souhaite connaître l’éleveur de poule pondeuse car seules les femelles l’intéressent. Pour cela, les recherches tentent de trouver des indicateurs simples comme par exemple la couleur du poussin. Ce n’est pas encore possible pour toutes les races.\n",
    "\n",
    "Prenons le modèle suivant :\n",
    "\n",
    "Une race de poules est de deux couleurs différentes : blanches ou noires. Les poussins ont autant de chance d’être mâles ou femelles mais les mâles ont 60 % de chance d’être blancs et les femelles ont 65 % de chance d’être noires.\n",
    "\n",
    "On choisit un poussin noir au hasard.\n",
    "\n",
    "1. On écrit un programme en Python pour estimer la probabilité que ce soit une femelle.\n",
    "\n",
    "    a. Compléter le programme dans la cellule de code suivante (4 zones en pointillés) et l’exécuter plusieurs fois.\n",
    "\n",
    "    b. En déduire une estimation de la probabilité cherchée."
   ]
  },
  {
   "cell_type": "code",
   "execution_count": null,
   "metadata": {},
   "outputs": [],
   "source": [
    "from random import random\n",
    "\n",
    "def poussin():\n",
    "    if random() < 0.5:\n",
    "        if random() < 0.6:\n",
    "            return 'MB'\n",
    "        else:\n",
    "            return ...\n",
    "    else:\n",
    "        if random() < ...:\n",
    "            return 'FN'\n",
    "        else:\n",
    "            return 'FB'\n",
    "\n",
    "NBnoirs = 0\n",
    "NBfemellesnoires = 0\n",
    "\n",
    "for compteur in range(10000):\n",
    "    individu = poussin()\n",
    "    if individu[1] == 'N': # 2è caractère est N\n",
    "        NBnoirs = NBnoirs + 1\n",
    "        if individu[...] == 'F':\n",
    "            NBfemellesnoires = ...\n",
    "\n",
    "print(\"P_N(F) = \",NBfemellesnoires/NBnoirs)"
   ]
  },
  {
   "cell_type": "markdown",
   "metadata": {},
   "source": [
    "&nbsp;c) Les recherches en génétique permettent d’augmenter le pourcentage des poussins noirs parmi les poussins femelles. Quel est le plus petit pourcentage à échanger contre le 65 % du modèle pour obtenir environ 70 % de chance d’avoir un poussin femelle sachant qu’il est noir ? (procéder par essais-erreurs en modifiant la cellule de code précédante).\n",
    "\n",
    "&nbsp;2. a)Construire l’arbre représentant la situation initiale.\n",
    "\n",
    "&nbsp;&nbsp;&nbsp;&nbsp;&nbsp;b) Déterminer  la probabilité pour un poussin noir d’être une femelle et comparer à 1b).\n"
   ]
  }
 ],
 "metadata": {
  "kernelspec": {
   "display_name": "Python 3",
   "language": "python",
   "name": "python3"
  },
  "language_info": {
   "codemirror_mode": {
    "name": "ipython",
    "version": 3
   },
   "file_extension": ".py",
   "mimetype": "text/x-python",
   "name": "python",
   "nbconvert_exporter": "python",
   "pygments_lexer": "ipython3",
   "version": "3.7.6"
  }
 },
 "nbformat": 4,
 "nbformat_minor": 2
}
