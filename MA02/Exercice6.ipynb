{
 "cells": [
  {
   "cell_type": "markdown",
   "metadata": {},
   "source": [
    "# MA02 : Croisement de variables catégorielles\n",
    "## Exercice 6\n",
    "\n",
    "On prélève un échantillon de 20 élèves de terminale STAV dans un lycée et on observe sur chaque élève les variables  âge (17,18 ou 19) et genre (M ou F). Les résultats de ces observations sont stockées dans les listes age et genre d’un programme en Python de la manière suivante : l’âge et le genre de l’élève numéro `i` sont stockés dans `age[i]` et `genre[i]`.\n",
    "\n",
    "1. a. Rappeler de quelle manière sont numérotés les éléments de la liste genre.\n",
    "\n",
    " b. Que vaut `age[3]` ? Que se passe-t-il si on tape `age[20]` ? \n",
    " \n",
    "vérifiez vos réponses en exécutant la cellule de code suivante."
   ]
  },
  {
   "cell_type": "code",
   "execution_count": null,
   "metadata": {},
   "outputs": [],
   "source": [
    "age = [18,17,17,18,17,18,19,18,17,18,\n",
    "       18,17,17,18,17,18,19,18,17,18]\n",
    "genre = ['M','M','F','F','F','M','M','F','F','M',\n",
    "         'M','F','F','F','M','M','F','F','M','F']\n",
    "\n",
    "age[3]"
   ]
  },
  {
   "cell_type": "markdown",
   "metadata": {},
   "source": [
    "&nbsp;2. On souhaite compter le nombre de garçons à l’aide d'une fonction Python. Compléter les pointillés et exécuter la cellule de code suivante."
   ]
  },
  {
   "cell_type": "code",
   "execution_count": null,
   "metadata": {},
   "outputs": [],
   "source": [
    "def compterM(genre):\n",
    "    compteur = ...\n",
    "    for indice in range(...):\n",
    "        if genre[indice] == 'M':\n",
    "            compteur = ...\n",
    "    return compteur"
   ]
  },
  {
   "cell_type": "markdown",
   "metadata": {},
   "source": [
    "Pour faire la question suivante, vous devez avoir exécuté les deux cellules de code ci-dessus.\n",
    "\n",
    "&nbsp;3. à l’aide de la fonction précédente et en une seule ligne, que doit-on taper dans Python pour afficher le nombre de garçons ?"
   ]
  },
  {
   "cell_type": "code",
   "execution_count": null,
   "metadata": {},
   "outputs": [],
   "source": [
    "# taper le code ici"
   ]
  },
  {
   "cell_type": "markdown",
   "metadata": {},
   "source": [
    "&nbsp;4. Pour quel type d’élève les expressions suivantes sont-elles vraies ?\n",
    "\n",
    "&nbsp;&nbsp;&nbsp;a. `age[indice] < 18`\n",
    " \n",
    "&nbsp;&nbsp;&nbsp;b. `age[indice] != 17`\n",
    " \n",
    "&nbsp;&nbsp;&nbsp;c. `age[indice] == 17 and genre[indice] == 'M'`\n",
    " \n",
    "&nbsp;&nbsp;&nbsp;d. `age[indice] == 19 or age[indice] == 17`\n",
    "\n",
    "Pour vous aidez, vous pouvez utiliser la cellule de code suivante."
   ]
  },
  {
   "cell_type": "code",
   "execution_count": null,
   "metadata": {},
   "outputs": [],
   "source": [
    "age = [18,17,17,18,17,18,19,18,17,18,\n",
    "       18,17,17,18,17,18,19,18,17,18]\n",
    "genre = ['M','M','F','F','F','M','M','F','F','M',\n",
    "         'M','F','F','F','M','M','F','F','M','F']\n",
    "\n",
    "indice = 1\n",
    "print('indice =',indice,', age =',age[indice],', genre =',genre[indice])"
   ]
  },
  {
   "cell_type": "markdown",
   "metadata": {},
   "source": [
    "&nbsp;5. Créer une fonction `compterMajeur` qui compte le nombre d’élèves majeurs.\n",
    "\n",
    "Pour vous épargner un peu de frappe, une partie du code est déjà tapé. Il reste à écrire la fonction."
   ]
  },
  {
   "cell_type": "code",
   "execution_count": null,
   "metadata": {},
   "outputs": [],
   "source": [
    "age = [18,17,17,18,17,18,19,18,17,18,\n",
    "       18,17,17,18,17,18,19,18,17,18]\n",
    "genre = ['M','M','F','F','F','M','M','F','F','M',\n",
    "         'M','F','F','F','M','M','F','F','M','F']\n",
    "\n",
    "\n",
    "# taper la solution ici et exécuter le cellule\n",
    "\n",
    "\n",
    "print('Il y a',compterMajeur(age),'majeurs.')"
   ]
  },
  {
   "cell_type": "markdown",
   "metadata": {},
   "source": [
    "&nbsp;6. Créer une fonction `CompterFmineure` qui prend comme paramètres les deux listes age et genre et qui compte le nombre de filles mineures.\n",
    "\n",
    "Pour vous épargner un peu de frappe, une partie du code est déjà tapé. Il reste à écrire la fonction."
   ]
  },
  {
   "cell_type": "code",
   "execution_count": null,
   "metadata": {},
   "outputs": [],
   "source": [
    "age = [18,17,17,18,17,18,19,18,17,18,\n",
    "       18,17,17,18,17,18,19,18,17,18]\n",
    "genre = ['M','M','F','F','F','M','M','F','F','M',\n",
    "         'M','F','F','F','M','M','F','F','M','F']\n",
    "\n",
    "\n",
    "# taper la solution ici et exécuter le cellule\n",
    "\n",
    "\n",
    "print('Il y a',CompterFmineure(age,genre),'filles mineures.')"
   ]
  },
  {
   "cell_type": "markdown",
   "metadata": {},
   "source": [
    "&nbsp;7. Créer une fonction retournant la proportion de garçons parmi les élèves majeurs.\n",
    "\n",
    "Pour vous épargner un peu de frappe, une partie du code est déjà tapé. Il reste à écrire la fonction."
   ]
  },
  {
   "cell_type": "code",
   "execution_count": null,
   "metadata": {},
   "outputs": [],
   "source": [
    "age = [18,17,17,18,17,18,19,18,17,18,\n",
    "       18,17,17,18,17,18,19,18,17,18]\n",
    "genre = ['M','M','F','F','F','M','M','F','F','M',\n",
    "         'M','F','F','F','M','M','F','F','M','F']\n",
    "\n",
    "\n",
    "# taper la solution ici et exécuter le cellule\n",
    "\n",
    "\n",
    "print('Il y a',...,'% de garçons parmi les élèves majeurs.')"
   ]
  }
 ],
 "metadata": {
  "kernelspec": {
   "display_name": "Python 3",
   "language": "python",
   "name": "python3"
  },
  "language_info": {
   "codemirror_mode": {
    "name": "ipython",
    "version": 3
   },
   "file_extension": ".py",
   "mimetype": "text/x-python",
   "name": "python",
   "nbconvert_exporter": "python",
   "pygments_lexer": "ipython3",
   "version": "3.6.4"
  }
 },
 "nbformat": 4,
 "nbformat_minor": 2
}
