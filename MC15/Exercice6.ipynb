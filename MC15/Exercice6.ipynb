{
 "cells": [
  {
   "cell_type": "markdown",
   "metadata": {},
   "source": [
    "<center><img src=\"images/MC15Ex6.png\"></center>\n",
    "\n",
    "Charles a déposé une somme de 3000 € sur un placement à intérêts composés rapportant 1,50 % par an. \n",
    "1.\tA l’aide d’une inéquation, déterminer au bout de combien d’années, son capital dépasse 4000 €.\n",
    "2.\tRecopier et compléter l’algorithme suivant : \n",
    "\n",
    "$C \\leftarrow $...<br>\n",
    "$N \\leftarrow $...<br>\n",
    "Tant que $C $... ... faire<br>\n",
    "&nbsp; | &nbsp;&nbsp; $C \\leftarrow $...<br>\n",
    "&nbsp; | &nbsp;&nbsp; $N \\leftarrow $...<br>\n",
    "fin Tant que<br>\n",
    "Afficher ...\n",
    "\n",
    "3.\tTraduire et tester cet algorithme en Python. Comparer le résultat obtenu avec celui de la question 1."
   ]
  },
  {
   "cell_type": "code",
   "execution_count": null,
   "metadata": {},
   "outputs": [],
   "source": [
    "# écrire le code ici\n"
   ]
  }
 ],
 "metadata": {
  "kernelspec": {
   "display_name": "Python 3",
   "language": "python",
   "name": "python3"
  },
  "language_info": {
   "codemirror_mode": {
    "name": "ipython",
    "version": 3
   },
   "file_extension": ".py",
   "mimetype": "text/x-python",
   "name": "python",
   "nbconvert_exporter": "python",
   "pygments_lexer": "ipython3",
   "version": "3.7.6"
  }
 },
 "nbformat": 4,
 "nbformat_minor": 2
}
