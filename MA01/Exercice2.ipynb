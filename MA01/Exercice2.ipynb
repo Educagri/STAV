{
 "cells": [
  {
   "cell_type": "markdown",
   "metadata": {},
   "source": [
    "<center><img src=\"images/MA1Ex2.png\"></center>\n",
    "\n",
    "Un enseignant rédige un devoir composé de 10 questions.\n",
    "\n",
    "Pour chaque question, 4 affirmations  sont proposées ; une seule d’entre elles est correcte. L’élève doit indiquer sur sa copie le numéro de l’affirmation qu’il considère comme correcte. \n",
    "Les  réponses aux questions sont indépendantes les unes des autres.\n",
    "\n",
    "Un élève envisage deux stratégies : choisir toujours la première affirmation d’une question ou répondre au hasard.\n",
    "\n",
    "1. L’une des stratégies vous semble-t-elle meilleure que l’autre.\n",
    "\n",
    "2. Dans la cellule de code ci-dessous, on propose un programme en Python pour connaître le nombre de bonnes réponses en choisissant toujours la première affirmation comme correcte.\n",
    "\n",
    "&nbsp;a. Exécuter ce programme pour avoir une idée du nombre de bonnes réponses avec cette stratégie."
   ]
  },
  {
   "cell_type": "code",
   "execution_count": null,
   "metadata": {},
   "outputs": [],
   "source": [
    "from random import *\n",
    "\n",
    "resultats = [randint(1,4) for i in range(10)]\n",
    "match = 0\n",
    "for k in range(10):\n",
    "    if resultats[k] == 1:\n",
    "        match = match + 1\n",
    "\n",
    "print(match)"
   ]
  },
  {
   "cell_type": "markdown",
   "metadata": {},
   "source": [
    "b. L'enseignant mélange les propositions pour chaque QCM distribué. Compléter ce programme, dans la cellule suivante, afin de répéter 100 fois cette simulation et récupérer sous forme de liste l’ensemble des résultats de la variable match."
   ]
  },
  {
   "cell_type": "code",
   "execution_count": null,
   "metadata": {},
   "outputs": [],
   "source": [
    "from random import *\n",
    "\n",
    "# initialiser une liste vide pour ranger les résultats\n",
    "\n",
    "\n",
    "# faire une boucle de 100 tours\n",
    "# les lignes suivantes ont été indentées\n",
    "# pour être répétées dans la boucle\n",
    "\n",
    "    resultats = [randint(1,4) for i in range(10)]\n",
    "    match = 0\n",
    "    for k in range(10):\n",
    "        if resultats[k] == 1:\n",
    "            match = match + 1\n",
    "    # au lieu d'afficher match ci-dessous,\n",
    "    # ranger match dans la liste créée\n",
    "    # au début du programme\n",
    "    print(match)\n"
   ]
  },
  {
   "cell_type": "markdown",
   "metadata": {},
   "source": [
    "c. Dans la cellule de code ci-dessous, à l’aide de la fonction mean de la bibliothèque numpy, estimer le nombre moyen de bonnes réponses avec cette stratégie.\n",
    "\n",
    "On pourra répéter la simulation précédente 1000 fois, 10000 fois pour avoir une meilleure estimation. Ne pas oublier d'exécuter la cellule précédente et la suivante à chaque fois."
   ]
  },
  {
   "cell_type": "code",
   "execution_count": null,
   "metadata": {},
   "outputs": [],
   "source": [
    "from numpy import mean\n",
    "\n",
    "mean( ) # à compléter avec le nom de la liste choisie\n",
    "        # à la question précédente\n"
   ]
  },
  {
   "cell_type": "markdown",
   "metadata": {},
   "source": [
    "d. Dans la cellule de code ci-dessous, modifier la ligne `if resultats[k]==1:` pour mettre en œuvre la deuxième stratégie."
   ]
  },
  {
   "cell_type": "code",
   "execution_count": null,
   "metadata": {},
   "outputs": [],
   "source": [
    "from random import *\n",
    "from numpy import mean\n",
    "\n",
    "bilan = []\n",
    "for compteur in range(10000):\n",
    "    resultats = [randint(1,4) for i in range(10)]\n",
    "    match = 0\n",
    "    for k in range(10):\n",
    "        if resultats[k]==1:  # changer 1 en \"réponse au hasard\"\n",
    "            match = match + 1\n",
    "    bilan.append(match)\n",
    "\n",
    "print(mean(bilan))"
   ]
  },
  {
   "cell_type": "markdown",
   "metadata": {},
   "source": [
    "e. Exécuter la cellule de code précédente et infirmer ou confirmer la réponse à la question 1."
   ]
  }
 ],
 "metadata": {
  "kernelspec": {
   "display_name": "Python 3",
   "language": "python",
   "name": "python3"
  },
  "language_info": {
   "codemirror_mode": {
    "name": "ipython",
    "version": 3
   },
   "file_extension": ".py",
   "mimetype": "text/x-python",
   "name": "python",
   "nbconvert_exporter": "python",
   "pygments_lexer": "ipython3",
   "version": "3.7.6"
  }
 },
 "nbformat": 4,
 "nbformat_minor": 2
}
