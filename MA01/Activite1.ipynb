{
 "cells": [
  {
   "cell_type": "markdown",
   "metadata": {},
   "source": [
    "<center><img src=\"images/MA1Act1.png\"></center>\n",
    "\n",
    "Maël et Émeline veulent gagner une peluche lors d’un jeu de hasard à une fête foraine. Devant eux se trouvent 4 urnes dont on connaît la composition.\n",
    "\n",
    " - urne A : 1 rouge, 1 bleue, 1 verte\n",
    " - urne B : 2 rouges, 2 bleues\n",
    " - urne C : 3 rouges, 1 bleue\n",
    " - urne D : 1 rouge,  3 bleues \n",
    " \n",
    "Le jeu consiste à tirer une première boule dans une urne puis une deuxième dans une autre urne. Pour gagner une peluche, les deux boules doivent être de la même couleur. Les boules étant indiscernables au toucher, on considère que  pour un tirage au hasard d’une boule dans une urne, toutes les boules ont la même probabilité d’être tirée.\n",
    "\n",
    "Maël propose de prélever au hasard une boule dans l’urne A puis une boule dans l’urne B.\n",
    "\n",
    "### Partie B\n",
    "\n",
    "2. La fonction Python `simul` ci-dessous permet de simuler l’expérience aléatoire de Maël. "
   ]
  },
  {
   "cell_type": "code",
   "execution_count": null,
   "metadata": {},
   "outputs": [],
   "source": [
    "from random import randint\n",
    "\n",
    "def simul(nb_simul):\n",
    "    UrneA = [\"R\",\"B\",\"V\"]\n",
    "    UrneB = [\"R\",\"R\",\"B\",\"B\"]\n",
    "    chemins = []\n",
    "    for k in range(nb_simul):\n",
    "        boule1 = UrneA[randint(0,2)]\n",
    "        boule2 = UrneB[randint(0,3)]\n",
    "        chemins.append(boule1+boule2)\n",
    "    return chemins\n",
    "\n",
    "chemins = simul(1000)\n",
    "print(\"nombre d'issues  R1 R2 : \", chemins.count(\"RR\"))\n",
    "print(\"nombre d'issues  B1 R2 : \", chemins.count(\"BR\"))\n",
    "print(\"nombre d'issues  V1 R2 : \" , chemins.count(\"VR\"))\n",
    "print(\"nombre d'issues  R1 B2 : \", chemins.count(\"RB\"))\n",
    "print(\"nombre d'issues  B1 B2 : \", chemins.count(\"BB\"))\n",
    "print(\"nombre d'issues  V1 B2 : \", chemins.count(\"VB\"))"
   ]
  },
  {
   "cell_type": "markdown",
   "metadata": {},
   "source": [
    "a.  Effectuer 100, puis 1000, puis 10000 simulations à l'aide de la cellule de code ci-dessus.\n",
    "\n",
    "b. Les fréquences des différentes issues quand le nombre de simulations est « important »  sont-elles  conformes aux résultats de la question 1b ?\n",
    "\n",
    "&nbsp;3.   Maël refait son expérience en remplaçant l’urne B par l’urne D.\n",
    "\n",
    "(rappel : urne D : 1 rouge,  3 bleues )\n",
    "\n",
    " a. Dessiner l’arbre de probabilités décrivant cette expérience.\n",
    " \n",
    " b. Adapter la fonction Python suivante pour effectuer 10000 simulations de l’expérience.\n"
   ]
  },
  {
   "cell_type": "code",
   "execution_count": null,
   "metadata": {},
   "outputs": [],
   "source": [
    "from random import randint\n",
    "\n",
    "def simul(nb_simul):\n",
    "    UrneA = [\"R\",\"B\",\"V\"]\n",
    "    UrneB = [\"R\",\"R\",\"B\",\"B\"]\n",
    "    chemins = []\n",
    "    for k in range(nb_simul):\n",
    "        boule1 = UrneA[randint(0,2)]\n",
    "        boule2 = UrneB[randint(0,3)]\n",
    "        chemins.append(boule1+boule2)\n",
    "    return chemins\n",
    "\n",
    "chemins = simul(1000)\n",
    "print(\"nombre d'issues  R1 R2 : \", chemins.count(\"RR\"))\n",
    "print(\"nombre d'issues  B1 R2 : \", chemins.count(\"BR\"))\n",
    "print(\"nombre d'issues  V1 R2 : \" , chemins.count(\"VR\"))\n",
    "print(\"nombre d'issues  R1 B2 : \", chemins.count(\"RB\"))\n",
    "print(\"nombre d'issues  B1 B2 : \", chemins.count(\"BB\"))\n",
    "print(\"nombre d'issues  V1 B2 : \", chemins.count(\"VB\"))"
   ]
  },
  {
   "cell_type": "markdown",
   "metadata": {},
   "source": [
    "c. Les fréquences observées des issues sont-elles cohérentes avec un modèle d’équiprobabilité des 6 événements de l’expérience aléatoire ?\n",
    "\n",
    "d.  Quelles pourraient être les probabilités de ces événements ?\n",
    "\n",
    "&nbsp;4. Mêmes questions en remplaçant l’urne B par l’urne C.\n",
    "\n",
    "(rappel : urne C : 3 rouges, 1 bleue )"
   ]
  },
  {
   "cell_type": "code",
   "execution_count": null,
   "metadata": {},
   "outputs": [],
   "source": [
    "from random import randint\n",
    "\n",
    "def simul(nb_simul):\n",
    "    UrneA = [\"R\",\"B\",\"V\"]\n",
    "    UrneB = [\"R\",\"R\",\"B\",\"B\"]\n",
    "    chemins = []\n",
    "    for k in range(nb_simul):\n",
    "        boule1 = UrneA[randint(0,2)]\n",
    "        boule2 = UrneB[randint(0,3)]\n",
    "        chemins.append(boule1+boule2)\n",
    "    return chemins\n",
    "\n",
    "chemins = simul(1000)\n",
    "print(\"nombre d'issues  R1 R2 : \", chemins.count(\"RR\"))\n",
    "print(\"nombre d'issues  B1 R2 : \", chemins.count(\"BR\"))\n",
    "print(\"nombre d'issues  V1 R2 : \" , chemins.count(\"VR\"))\n",
    "print(\"nombre d'issues  R1 B2 : \", chemins.count(\"RB\"))\n",
    "print(\"nombre d'issues  B1 B2 : \", chemins.count(\"BB\"))\n",
    "print(\"nombre d'issues  V1 B2 : \", chemins.count(\"VB\"))"
   ]
  }
 ],
 "metadata": {
  "kernelspec": {
   "display_name": "Python 3",
   "language": "python",
   "name": "python3"
  },
  "language_info": {
   "codemirror_mode": {
    "name": "ipython",
    "version": 3
   },
   "file_extension": ".py",
   "mimetype": "text/x-python",
   "name": "python",
   "nbconvert_exporter": "python",
   "pygments_lexer": "ipython3",
   "version": "3.7.6"
  }
 },
 "nbformat": 4,
 "nbformat_minor": 2
}
