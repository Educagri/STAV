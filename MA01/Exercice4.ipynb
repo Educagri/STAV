{
 "cells": [
  {
   "cell_type": "markdown",
   "metadata": {},
   "source": [
    "# MA01 : Expériences aléatoires, épreuves indépendantes\n",
    "## Exercice 4\n",
    "\n",
    "Un sac contient deux jetons avec le numéro 1 et trois jetons avec le numéro 2. \n",
    "\n",
    "On prélève au hasard un jeton, on note le numéro puis on le remet dans le sac. On effectue alors un nouveau prélèvement. \n",
    "\n",
    "### Partie B\n",
    "\n",
    "On utilise le langage Python pour simuler l’expérience aléatoire et la fonction `randint(a,b)` donnant au hasard un nombre entier compris entre les deux bornes $a$ et $b$ incluses pour simuler le tirage d’un jeton dans le sac.\n",
    "\n",
    "&nbsp;a. Dans le programme de la cellule de code suivante, remplacer les commentaires (`# ?`) pour obtenir les fréquences  des différents chemins possibles."
   ]
  },
  {
   "cell_type": "code",
   "execution_count": null,
   "metadata": {},
   "outputs": [],
   "source": [
    "import random\n",
    "\n",
    "def simulation(N) :\n",
    "    \"\"\" N représente le nombre de répétitions \"\"\"\n",
    "    sac = [1,1,2,2,2]\n",
    "    n11 = 0\n",
    "    n12 = 0\n",
    "    n21 = 0\n",
    "    n22 = 0\n",
    "    for i in range (N) :\n",
    "        jeton1 = sac[random.randint(0,4)]\n",
    "        jeton2 = sac[random.randint(0,4)]\n",
    "        if jeton1 == 1:\n",
    "            if jeton2 == 1:\n",
    "                n11 = n11 + 1\n",
    "            else:\n",
    "                # ?               \n",
    "        else:\n",
    "            # ?\n",
    "    return [n11,n12,n21,n22]\n",
    "        \n",
    "N = 100    \n",
    "chemins = simulation(N)\n",
    "print(\"la fréquence du chemin 11 est : \", chemins[0]/N)\n",
    "print(\"la fréquence du chemin 12 est : \", chemins[1]/N)\n",
    "print(\"la fréquence du chemin 21 est : \", chemins[2]/N)\n",
    "print(\"la fréquence du chemin 22 est : \", chemins[3]/N)"
   ]
  },
  {
   "cell_type": "markdown",
   "metadata": {},
   "source": [
    "&nbsp;2. On considère $N=100$ répétitions.\n",
    "\n",
    "Exécuter la cellule de code précédente et comparer les fréquences observées avec les probabilités calculées à la partie A.\n",
    "\n",
    "&nbsp;3. même question avec $N = 1000$, puis avec $N = 10000$."
   ]
  }
 ],
 "metadata": {
  "kernelspec": {
   "display_name": "Python 3",
   "language": "python",
   "name": "python3"
  },
  "language_info": {
   "codemirror_mode": {
    "name": "ipython",
    "version": 3
   },
   "file_extension": ".py",
   "mimetype": "text/x-python",
   "name": "python",
   "nbconvert_exporter": "python",
   "pygments_lexer": "ipython3",
   "version": "3.7.1"
  }
 },
 "nbformat": 4,
 "nbformat_minor": 2
}
