{
 "cells": [
  {
   "cell_type": "markdown",
   "metadata": {},
   "source": [
    "# MD01 : Généralités sur les suites\n",
    "## Exercice 16\n",
    "\n",
    "On écrit en langage Python le programme suivant pour créer la liste `u`.\n",
    "\n",
    "`u = [ ]\n",
    "for n in range(15):\n",
    "    u.append(1.2*n+0.5)`\n",
    "\n",
    "1.\tComment appelle-t-on ce mode de génération de liste ?\n",
    "2.\tDonner `u[0]`, `u[1]` et `u[2]`  sans utiliser Python (pour comprendre et savoir le refaire).\n",
    "\n",
    "Ensuite, vérifier la réponse ci-dessous à l'aide de la fonction `print`. Si la réponse obtenue est différente de la votre, essayer de comprendre pourquoi."
   ]
  },
  {
   "cell_type": "code",
   "execution_count": null,
   "metadata": {},
   "outputs": [],
   "source": [
    "u = [ ]\n",
    "for n in range(15):\n",
    "    u.append(1.2*n+0.5)\n",
    "\n",
    "# tester la solution ici"
   ]
  },
  {
   "cell_type": "markdown",
   "metadata": {},
   "source": [
    "3.\tAvec la même méthode, écrire un programme qui génère les 100 premiers termes de la suite $(u_n)$  définie par $u(n)=n^2+16$ ."
   ]
  },
  {
   "cell_type": "code",
   "execution_count": null,
   "metadata": {},
   "outputs": [],
   "source": [
    "# tester la solution ici"
   ]
  }
 ],
 "metadata": {
  "kernelspec": {
   "display_name": "Python 3",
   "language": "python",
   "name": "python3"
  },
  "language_info": {
   "codemirror_mode": {
    "name": "ipython",
    "version": 3
   },
   "file_extension": ".py",
   "mimetype": "text/x-python",
   "name": "python",
   "nbconvert_exporter": "python",
   "pygments_lexer": "ipython3",
   "version": "3.7.1"
  }
 },
 "nbformat": 4,
 "nbformat_minor": 2
}
