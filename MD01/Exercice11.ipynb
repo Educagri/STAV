{
 "cells": [
  {
   "cell_type": "markdown",
   "metadata": {},
   "source": [
    "<center><img src=\"images/MD1Ex11.png\"></center>\n",
    "\n",
    "Voici la définition d’une fonction en Python.\n",
    "\n",
    "`def u(n):\n",
    "    return n**2+1`\n",
    "\n",
    "1.\tExprimer la suite définie par cette fonction.\n",
    "2.\tQue doit-on écrire en Python pour obtenir $u_5$  ?\n",
    "\n",
    "Vérifier la réponse ci-dessous."
   ]
  },
  {
   "cell_type": "code",
   "execution_count": null,
   "metadata": {},
   "outputs": [],
   "source": [
    "def u(n):\n",
    "    return n**2+1\n",
    "\n",
    "# tester la solution ici"
   ]
  },
  {
   "cell_type": "markdown",
   "metadata": {},
   "source": [
    "3.\tÉcrire une fonction en Python permettant de calculer les  termes de la suite $(u_n)$  définie par $u(n)=\\dfrac{8}{3n+5}$ ."
   ]
  },
  {
   "cell_type": "code",
   "execution_count": null,
   "metadata": {},
   "outputs": [],
   "source": [
    "# tester la solution ici"
   ]
  }
 ],
 "metadata": {
  "kernelspec": {
   "display_name": "Python 3",
   "language": "python",
   "name": "python3"
  },
  "language_info": {
   "codemirror_mode": {
    "name": "ipython",
    "version": 3
   },
   "file_extension": ".py",
   "mimetype": "text/x-python",
   "name": "python",
   "nbconvert_exporter": "python",
   "pygments_lexer": "ipython3",
   "version": "3.7.6"
  }
 },
 "nbformat": 4,
 "nbformat_minor": 2
}
