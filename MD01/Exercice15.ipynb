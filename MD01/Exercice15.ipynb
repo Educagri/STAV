{
 "cells": [
  {
   "cell_type": "markdown",
   "metadata": {},
   "source": [
    "# MD01 : Généralités sur les suites\n",
    "## Exercice 15\n",
    "\n",
    "On écrit en langage Python les trois instructions suivantes pour créer les listes u, v et w.\n",
    "\n",
    "`u = [3*n for n in range(4)]`\n",
    "\n",
    "`v = [n**2 for n in range(5)]`\n",
    "\n",
    "`w = [10-n for n in range(10)]`\n",
    "\n",
    "1.\tComment appelle-t-on ce mode de génération de liste ?\n",
    "2.\tDonner tous les éléments de ces listes sans utiliser Python (pour comprendre et savoir le refaire).\n",
    "\n",
    "Ensuite, vérifier la réponse ci-dessous à l'aide de la fonction `print`. Si la réponse obtenue est différente de la votre, essayer de comprendre pourquoi."
   ]
  },
  {
   "cell_type": "code",
   "execution_count": null,
   "metadata": {},
   "outputs": [],
   "source": [
    "u = [3*n for n in range(4)]\n",
    "v = [n**2 for n in range(5)]\n",
    "w = [10-n for n in range(10)]"
   ]
  },
  {
   "cell_type": "markdown",
   "metadata": {},
   "source": [
    "3.\tDe la même manière, que doit-on écrire pour obtenir la liste des dizaines (10, 20, 30, …) jusqu’à 200 ?"
   ]
  },
  {
   "cell_type": "code",
   "execution_count": null,
   "metadata": {},
   "outputs": [],
   "source": [
    "# tester la solution ici"
   ]
  }
 ],
 "metadata": {
  "kernelspec": {
   "display_name": "Python 3",
   "language": "python",
   "name": "python3"
  },
  "language_info": {
   "codemirror_mode": {
    "name": "ipython",
    "version": 3
   },
   "file_extension": ".py",
   "mimetype": "text/x-python",
   "name": "python",
   "nbconvert_exporter": "python",
   "pygments_lexer": "ipython3",
   "version": "3.7.1"
  }
 },
 "nbformat": 4,
 "nbformat_minor": 2
}
