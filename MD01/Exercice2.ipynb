{
 "cells": [
  {
   "cell_type": "markdown",
   "metadata": {},
   "source": [
    "<center><img src=\"images/MD1Ex2.png\"></center>\n",
    "\n",
    "On crée une liste en Python nommée `p` correspondant à la suite de l’exercice 1 sur les températures et on effectue quelques calculs.\n",
    "\n",
    "0. Exécuter la cellule de code suivante"
   ]
  },
  {
   "cell_type": "code",
   "execution_count": null,
   "metadata": {},
   "outputs": [],
   "source": [
    "p = [0.9,0.4,0.4,0,0.2,0.8,0.9,2.9,\n",
    "     2.2,0.6,3.7,3,2.1,1.1,0.2,0.9,\n",
    "     4.7,0,0.8,0,0,5.6,3.5,0.4,\n",
    "     3.4,1.9,8.2,0.9,1.7,12.6,2.9]"
   ]
  },
  {
   "cell_type": "markdown",
   "metadata": {},
   "source": [
    "1.\tComment appelle-t-on ce mode de génération de liste ?\n",
    "2. a) D'après vous, que répond Python quand on lui demande `p[1]` ? Vérifier en exécutant la cellule de code suivante."
   ]
  },
  {
   "cell_type": "code",
   "execution_count": null,
   "metadata": {},
   "outputs": [],
   "source": [
    "p[1]"
   ]
  },
  {
   "cell_type": "markdown",
   "metadata": {},
   "source": [
    "2. b) D'après vous, que répond Python quand on lui demande `p[0]` ? Vérifier en exécutant la cellule de code suivante."
   ]
  },
  {
   "cell_type": "code",
   "execution_count": null,
   "metadata": {},
   "outputs": [],
   "source": [
    "p[0]"
   ]
  },
  {
   "cell_type": "markdown",
   "metadata": {},
   "source": [
    "2. c) Quelle est alors la valeur de la variable `valeur1` ? Vérifier en exécutant la cellule de code suivante."
   ]
  },
  {
   "cell_type": "code",
   "execution_count": null,
   "metadata": {},
   "outputs": [],
   "source": [
    "valeur1 = p[1]-p[0]\n",
    "# afficher la variable valeur1 avec la fonction print"
   ]
  },
  {
   "cell_type": "markdown",
   "metadata": {},
   "source": [
    "2. d) Quelle est alors la valeur de la variable `valeur2 = p[2]*p[4]` ? Vérifier en exécutant la cellule de code suivante et expliquer pourquoi."
   ]
  },
  {
   "cell_type": "code",
   "execution_count": null,
   "metadata": {},
   "outputs": [],
   "source": [
    "p = [0.9,0.4,0.4,0,0.2,0.8,0.9,2.9,\n",
    "     2.2,0.6,3.7,3,2.1,1.1,0.2,0.9,\n",
    "     4.7,0,0.8,0,0,5.6,3.5,0.4,\n",
    "     3.4,1.9,8.2,0.9,1.7,12.6,2.9]\n",
    "valeur2 = p[2]*p[4]\n",
    "# afficher la variable valeur2 avec la fonction print"
   ]
  },
  {
   "cell_type": "markdown",
   "metadata": {},
   "source": [
    "3. Si `n` est un nombre entier, comment accéder au terme qui suit `p[n]`. Vérifier en exécutant la cellule de code suivante. (la formule doit fonctionner en changeant la valeur de `n`)"
   ]
  },
  {
   "cell_type": "code",
   "execution_count": null,
   "metadata": {},
   "outputs": [],
   "source": [
    "n = 5\n",
    "print(p[...]) # remplacer les pointillés "
   ]
  },
  {
   "cell_type": "markdown",
   "metadata": {},
   "source": [
    "4. Si `n` est un nombre entier, comment accéder au terme qui précède `p[n]`. Vérifier en exécutant la cellule de code suivante. (la formule doit fonctionner en changeant la valeur de `n`)"
   ]
  },
  {
   "cell_type": "code",
   "execution_count": null,
   "metadata": {},
   "outputs": [],
   "source": [
    "n = 5\n",
    "print(p[...]) # remplacer les pointillés "
   ]
  }
 ],
 "metadata": {
  "kernelspec": {
   "display_name": "Python 3",
   "language": "python",
   "name": "python3"
  },
  "language_info": {
   "codemirror_mode": {
    "name": "ipython",
    "version": 3
   },
   "file_extension": ".py",
   "mimetype": "text/x-python",
   "name": "python",
   "nbconvert_exporter": "python",
   "pygments_lexer": "ipython3",
   "version": "3.7.6"
  }
 },
 "nbformat": 4,
 "nbformat_minor": 2
}
