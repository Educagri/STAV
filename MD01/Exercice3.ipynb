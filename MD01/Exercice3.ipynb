{
 "cells": [
  {
   "cell_type": "markdown",
   "metadata": {},
   "source": [
    "<center><img src=\"images/MD1Ex3.png\"></center>\n",
    "\n",
    "Rappel, les chaines de caractères s’écrivent entre guillemets ou entre quotes en Python. Par exemple, `\"janvier\"`  ou `'janvier'`.\n",
    "\n",
    "1.\tCréer la liste nommée mois contenant les noms des mois de l’année en commençant par janvier (et l'afficher pour vérifier)."
   ]
  },
  {
   "cell_type": "code",
   "execution_count": null,
   "metadata": {},
   "outputs": [],
   "source": [
    "# pour vous permettre de faire l'exercice plus vite\n",
    "# voici les mois déjà tapés.\n",
    "mois = ...\n",
    "janvier février mars avril mai juin juillet août septembre octobre novembre décembre\n",
    "\n",
    "print(mois)"
   ]
  },
  {
   "cell_type": "markdown",
   "metadata": {},
   "source": [
    "2. Donner le mois référencé par `mois[9]` sans utiliser Python puis vérifier ci-dessous."
   ]
  },
  {
   "cell_type": "code",
   "execution_count": null,
   "metadata": {},
   "outputs": [],
   "source": [
    "mois[9]"
   ]
  },
  {
   "cell_type": "markdown",
   "metadata": {},
   "source": [
    "3.\tQue répond Python si on lui demande `mois[12]` (deviner avant de vérifier ci-dessous)"
   ]
  },
  {
   "cell_type": "code",
   "execution_count": null,
   "metadata": {},
   "outputs": [],
   "source": [
    "mois[12]"
   ]
  },
  {
   "cell_type": "markdown",
   "metadata": {},
   "source": [
    "4.\tComment accéder au mois de janvier ? (vérifier la réponse ci-dessous)"
   ]
  },
  {
   "cell_type": "code",
   "execution_count": null,
   "metadata": {},
   "outputs": [],
   "source": [
    "# afficher le mois de janvier à partir de la liste mois"
   ]
  },
  {
   "cell_type": "markdown",
   "metadata": {},
   "source": [
    "5. a) La fonction `len` retourne la longueur (length) de la liste. Que vaut `len(mois)` ? (deviner avant de vérifier ci-dessous)"
   ]
  },
  {
   "cell_type": "code",
   "execution_count": null,
   "metadata": {},
   "outputs": [],
   "source": [
    "len(mois)"
   ]
  },
  {
   "cell_type": "markdown",
   "metadata": {},
   "source": [
    "5. b) Comment accéder au dernier mois de la liste en utilisant la fonction `len` ? (vérifier la réponse ci-dessous)"
   ]
  },
  {
   "cell_type": "code",
   "execution_count": null,
   "metadata": {},
   "outputs": [],
   "source": [
    "# tester la solution ici"
   ]
  }
 ],
 "metadata": {
  "kernelspec": {
   "display_name": "Python 3",
   "language": "python",
   "name": "python3"
  },
  "language_info": {
   "codemirror_mode": {
    "name": "ipython",
    "version": 3
   },
   "file_extension": ".py",
   "mimetype": "text/x-python",
   "name": "python",
   "nbconvert_exporter": "python",
   "pygments_lexer": "ipython3",
   "version": "3.7.6"
  }
 },
 "nbformat": 4,
 "nbformat_minor": 2
}
