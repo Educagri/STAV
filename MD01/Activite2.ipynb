{
 "cells": [
  {
   "cell_type": "markdown",
   "metadata": {},
   "source": [
    "<center><img src=\"images/MD1Act2.png\"></center>\n",
    "\n",
    "On définit la suite $u$ par $u(n)=u_n=2n$ , pour tout $n$  entier.\n",
    "\n",
    "1.\tCalculer les dix premiers termes de cette suite.\n",
    "\n",
    "Pour créer la liste des 10 premiers entiers pairs, on écrit en python : \n",
    "\n",
    "`u = [0,2,4,6,8,10,12,14,16,18]`\n",
    "\n",
    "2. Exécuter le code suivant pour constater comment Python comprend les listes."
   ]
  },
  {
   "cell_type": "code",
   "execution_count": null,
   "metadata": {},
   "outputs": [],
   "source": [
    "u = [0,2,4,6,8,10,12,14,16,18] \n",
    "print(u)"
   ]
  },
  {
   "cell_type": "markdown",
   "metadata": {},
   "source": [
    "3. Exécuter le code suivant. Quel est l’intérêt de cette écriture ?"
   ]
  },
  {
   "cell_type": "code",
   "execution_count": null,
   "metadata": {},
   "outputs": [],
   "source": [
    "u = [2*n for n in range(10)] \n",
    "print(u)"
   ]
  },
  {
   "cell_type": "markdown",
   "metadata": {},
   "source": [
    "4. En reprenant la syntaxe Python ci-dessus, générer la liste des 50 premiers nombres pairs.\n"
   ]
  },
  {
   "cell_type": "code",
   "execution_count": null,
   "metadata": {},
   "outputs": [],
   "source": [
    "u = ???\n",
    "print(u)"
   ]
  },
  {
   "cell_type": "markdown",
   "metadata": {},
   "source": [
    "5.\tCréer de la même manière, en Python, la liste v des 20 premiers entiers impairs."
   ]
  },
  {
   "cell_type": "code",
   "execution_count": null,
   "metadata": {},
   "outputs": [],
   "source": [
    "v = ???\n",
    "print(v)"
   ]
  },
  {
   "cell_type": "markdown",
   "metadata": {},
   "source": [
    "6. Créer de la même manière, en Python, la liste w des 15 premiers carrés d’entiers."
   ]
  },
  {
   "cell_type": "code",
   "execution_count": null,
   "metadata": {},
   "outputs": [],
   "source": [
    "w = ???\n",
    "print(w)"
   ]
  },
  {
   "cell_type": "markdown",
   "metadata": {},
   "source": [
    "7.\tCréer de la même manière, en Python, la liste z contenant 30 zéros (2 solutions).\n",
    "\n",
    "Remarque : pour la deuxième manière, on multiplie une liste contenant un seul zéro par le nombre de fois que l'on souhaite le voir dupliqué."
   ]
  },
  {
   "cell_type": "code",
   "execution_count": null,
   "metadata": {},
   "outputs": [],
   "source": [
    "# solution 1\n",
    "z = ???\n",
    "print(z)\n",
    "\n",
    "# solution 2\n",
    "z = ???\n",
    "print(z)"
   ]
  },
  {
   "cell_type": "markdown",
   "metadata": {},
   "source": [
    "8.\tPour accéder aux nombres de la liste, on écrit `u[valeur]`. Mais en tapant `print(u[1])` , on obtient le nombre 2.\n",
    "\n",
    "&nbsp;&nbsp;&nbsp;&nbsp;&nbsp;&nbsp;&nbsp;&nbsp;a.\tQu’obtient-on avec `print(u[2])`  ?\n"
   ]
  },
  {
   "cell_type": "code",
   "execution_count": null,
   "metadata": {},
   "outputs": [],
   "source": [
    "print(u)\n",
    "print(u[1])\n",
    "print(u[2])"
   ]
  },
  {
   "cell_type": "markdown",
   "metadata": {},
   "source": [
    "&nbsp;&nbsp;&nbsp;&nbsp;&nbsp;&nbsp;&nbsp;&nbsp;b.\tExpliquer ce qu’est la valeur entre crochet pour la liste `u`. \n",
    "\n",
    "&nbsp;&nbsp;&nbsp;&nbsp;&nbsp;&nbsp;&nbsp;&nbsp;c.\tComment obtient-on la première valeur de la liste ?\n"
   ]
  },
  {
   "cell_type": "code",
   "execution_count": null,
   "metadata": {},
   "outputs": [],
   "source": [
    "print(\"La première valeur de la liste u est \",u[???])"
   ]
  },
  {
   "cell_type": "markdown",
   "metadata": {},
   "source": [
    "9.\tLa fonction `len(liste)`  renvoie la longueur (*length*) de la liste. \n",
    "\n",
    "&nbsp;&nbsp;&nbsp;&nbsp;&nbsp;&nbsp;&nbsp;&nbsp;a. Essayer le code suivant. Pourquoi y a-t-il une erreur ? \n"
   ]
  },
  {
   "cell_type": "code",
   "execution_count": null,
   "metadata": {},
   "outputs": [],
   "source": [
    "print(u[len(u)])"
   ]
  },
  {
   "cell_type": "markdown",
   "metadata": {},
   "source": [
    "&nbsp;&nbsp;&nbsp;&nbsp;&nbsp;&nbsp;&nbsp;&nbsp;b.\tComment obtient-on la dernière valeur de la liste ?"
   ]
  },
  {
   "cell_type": "code",
   "execution_count": null,
   "metadata": {},
   "outputs": [],
   "source": [
    "# modifier ce code en gardant len\n",
    "print(u[len(u)])"
   ]
  }
 ],
 "metadata": {
  "kernelspec": {
   "display_name": "Python 3",
   "language": "python",
   "name": "python3"
  },
  "language_info": {
   "codemirror_mode": {
    "name": "ipython",
    "version": 3
   },
   "file_extension": ".py",
   "mimetype": "text/x-python",
   "name": "python",
   "nbconvert_exporter": "python",
   "pygments_lexer": "ipython3",
   "version": "3.7.6"
  }
 },
 "nbformat": 4,
 "nbformat_minor": 2
}
