{
 "cells": [
  {
   "cell_type": "markdown",
   "metadata": {},
   "source": [
    "<center><img src=\"images/MD1Act3.png\"></center>\n",
    "\n",
    "Le gestionnaire d’un parc décide de fixer le quota de carpes que les pêcheurs auront le droit de prélever dans un étang de 14 ha. Chaque année, les carpes se reproduisent avec un taux de reproduction d’environ 30 % (c’est-à-dire qu’il y aura environ 30% de carpes supplémentaires), fluctuant au gré de la prédation naturelle. Dans le modèle choisi pour la simulation, le gestionnaire fixe le taux à 30 %. Une fois la reproduction terminée et les carpes suffisamment âgées, les pêcheurs sont autorisés à prélever au total 30 carpes.\n",
    "\n",
    "On donne le programme suivant :"
   ]
  },
  {
   "cell_type": "code",
   "execution_count": null,
   "metadata": {},
   "outputs": [],
   "source": [
    "Carpes = [0 for n in range(30)]\n",
    "Carpes[0] = 98\n",
    "\n",
    "for année in range(29):\n",
    "    Carpes[année+1] = ..."
   ]
  },
  {
   "cell_type": "markdown",
   "metadata": {},
   "source": [
    "a. Pourquoi a-t-on écrit `range(29)`  et non pas `range(30)`\n",
    "dans la boucle ?\n",
    "\n",
    "b. Quelle formule doit-on écrire à la place des pointillés (dernière ligne) pour calculer le nombre de carpes restant après reproduction et pêche à l’année+1 ?\n",
    "\n",
    "c. Que peut-on supposer si le gestionnaire décide de ne prélever que 25 carpes ?"
   ]
  },
  {
   "cell_type": "code",
   "execution_count": null,
   "metadata": {},
   "outputs": [],
   "source": [
    "# pour afficher la liste du nombre de carpes\n",
    "Carpes = [0 for n in range(30)]\n",
    "Carpes[0] = 98\n",
    "\n",
    "for année in range(29):\n",
    "    Carpes[année+1] = ...\n",
    "    \n",
    "print(Carpes)"
   ]
  },
  {
   "cell_type": "code",
   "execution_count": null,
   "metadata": {},
   "outputs": [],
   "source": [
    "# Pour représenter la liste du nombre de carpes\n",
    "import matplotlib.pyplot as graph\n",
    "graph.plot(range(len(Carpes)),Carpes,'r+')\n",
    "graph.title('Evolution du nombre de carpes')\n",
    "graph.show()"
   ]
  }
 ],
 "metadata": {
  "kernelspec": {
   "display_name": "Python 3",
   "language": "python",
   "name": "python3"
  },
  "language_info": {
   "codemirror_mode": {
    "name": "ipython",
    "version": 3
   },
   "file_extension": ".py",
   "mimetype": "text/x-python",
   "name": "python",
   "nbconvert_exporter": "python",
   "pygments_lexer": "ipython3",
   "version": "3.7.6"
  }
 },
 "nbformat": 4,
 "nbformat_minor": 2
}
