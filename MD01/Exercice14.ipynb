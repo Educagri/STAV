{
 "cells": [
  {
   "cell_type": "markdown",
   "metadata": {},
   "source": [
    "# MD01 : Généralités sur les suites\n",
    "## Exercice 14\n",
    "\n",
    "Lors d’un contrôle sanitaire, on prélève des bactéries que l’on ensemence sur une gélose dans une boîte de Petri. Il s’agit d’attendre qu’elles se développent pour en avoir assez pour pratiquer les tests sanitaires.\n",
    "Supposons que l’on ait déposé 1 000 bactéries et que leur population double toutes les heures.\n",
    "Soit   le nombre de bactéries au bout de  heures.\n",
    "\n",
    "1.\tQue valent $u_0$ , $u_1$ , $u_2$ ?\n",
    "2.\tExprimer $u_{n+1}$   en fonction de  $u_n$.\n",
    "3.\tL’algorithme suivant permet de calculer le nombre de bactéries au bout d’un jour. Compléter les pointillés.\n",
    "\n",
    "\n",
    "$u_n \\leftarrow ...$<br>\n",
    "Pour $n$ variant de $0$ à $23$ faire<br>\n",
    "&nbsp; | &nbsp;&nbsp; $u_n \\leftarrow ...$<br> \n",
    "fin Pour<br>\n",
    "Afficher $u_n$<br>\n",
    "\n",
    "4.\tTraduire l’algorithme en Python et l’exécuter.\n"
   ]
  },
  {
   "cell_type": "code",
   "execution_count": null,
   "metadata": {},
   "outputs": [],
   "source": [
    "# écrire la traduction en Python ici"
   ]
  },
  {
   "cell_type": "markdown",
   "metadata": {},
   "source": [
    "5.\tCombien cela fait-il de bactéries ?"
   ]
  }
 ],
 "metadata": {
  "kernelspec": {
   "display_name": "Python 3",
   "language": "python",
   "name": "python3"
  },
  "language_info": {
   "codemirror_mode": {
    "name": "ipython",
    "version": 3
   },
   "file_extension": ".py",
   "mimetype": "text/x-python",
   "name": "python",
   "nbconvert_exporter": "python",
   "pygments_lexer": "ipython3",
   "version": "3.6.4"
  }
 },
 "nbformat": 4,
 "nbformat_minor": 2
}
