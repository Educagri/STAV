{
 "cells": [
  {
   "cell_type": "markdown",
   "metadata": {},
   "source": [
    "<center><img src=\"images/MA5Ex3.png\"></center>\n",
    "\n",
    "Les fonctions de l'activité 2 ont été mises dans une bibliothèque afin de pouvoir les recharger facilement dans chaque cellule. Il ne faut donc surtout pas effacer les deux premières lignes des cellules de code suivantes.\n",
    "\n",
    "1. Sachant que l’argument `liste01` est une liste de 0 et de 1, quel résultat est retourné par la fonction `fréquence()` dans la cellule de code ci-dessous ?\n",
    "\n",
    "Ne pas hésiter à faire des essais pour vérifier."
   ]
  },
  {
   "cell_type": "code",
   "execution_count": null,
   "metadata": {},
   "outputs": [],
   "source": [
    "# ne pas effacer la ligne suivante\n",
    "from activite2 import *\n",
    "\n",
    "def fréquence(liste01) :\n",
    "    somme = 0\n",
    "    for nb in liste01:\n",
    "        somme = somme + nb\n",
    "    return somme / len(liste01)\n",
    "\n",
    "fréquence( [0,1,0,1] )"
   ]
  },
  {
   "cell_type": "markdown",
   "metadata": {},
   "source": [
    "Le programme Python a été complété par les deux fonctions suivantes :\n",
    "\n",
    "``` python\n",
    "def sérieEchantillons(nbEchantillons,tailleEchantillon):\n",
    "    serieEch = []\n",
    "    for compteur in range(nbEchantillons):\n",
    "        serieEch.append(échantillon(tailleEchantillon))\n",
    "    return serieEch\n",
    "\n",
    "def sérieFréquences(nbEchantillons,tailleEchantillon):\n",
    "    serieFreq = []\n",
    "    for compteur in range(nbEchantillons):\n",
    "        freq = fréquence(échantillon(tailleEchantillon))\n",
    "        serieFreq.append(freq)\n",
    "    return serieFreq\n",
    "```"
   ]
  },
  {
   "cell_type": "markdown",
   "metadata": {},
   "source": [
    "&nbsp;a. Dans la cellule de code ci-dessous, utiliser une ou plusieurs de ces fonctions pour simuler un échantillon de taille 200 "
   ]
  },
  {
   "cell_type": "code",
   "execution_count": null,
   "metadata": {},
   "outputs": [],
   "source": [
    "# ne pas effacer la ligne suivante\n",
    "from activite2 import *\n",
    "\n",
    "def sérieEchantillons(nbEchantillons,tailleEchantillon):\n",
    "    serieEch = []\n",
    "    for compteur in range(nbEchantillons):\n",
    "        serieEch.append(échantillon(tailleEchantillon))\n",
    "    return serieEch\n",
    "\n",
    "def sérieFréquences(nbEchantillons,tailleEchantillon):\n",
    "    serieFreq = []\n",
    "    for compteur in range(nbEchantillons):\n",
    "        freq = fréquence(échantillon(tailleEchantillon))\n",
    "        serieFreq.append(freq)\n",
    "    return serieFreq\n",
    "\n",
    "# taper le code de la réponse à la question 2.a. ici\n"
   ]
  },
  {
   "cell_type": "markdown",
   "metadata": {},
   "source": [
    "&nbsp;b. Dans la cellule de code ci-dessous, utiliser une ou plusieurs de ces fonctions pour simuler 20 échantillons de taille 200 "
   ]
  },
  {
   "cell_type": "code",
   "execution_count": null,
   "metadata": {},
   "outputs": [],
   "source": [
    "# ne pas effacer la ligne suivante\n",
    "from activite2 import *\n",
    "\n",
    "def sérieEchantillons(nbEchantillons,tailleEchantillon):\n",
    "    serieEch = []\n",
    "    for compteur in range(nbEchantillons):\n",
    "        serieEch.append(échantillon(tailleEchantillon))\n",
    "    return serieEch\n",
    "\n",
    "def sérieFréquences(nbEchantillons,tailleEchantillon):\n",
    "    serieFreq = []\n",
    "    for compteur in range(nbEchantillons):\n",
    "        freq = fréquence(échantillon(tailleEchantillon))\n",
    "        serieFreq.append(freq)\n",
    "    return serieFreq\n",
    "\n",
    "# taper le code de la réponse à la question 2.b. ici\n"
   ]
  },
  {
   "cell_type": "markdown",
   "metadata": {},
   "source": [
    "&nbsp;c. Dans la cellule de code ci-dessous, utiliser une ou plusieurs de ces fonctions pour calculer les fréquences de 1 pour 20 échantillons de taille 200"
   ]
  },
  {
   "cell_type": "code",
   "execution_count": null,
   "metadata": {},
   "outputs": [],
   "source": [
    "# ne pas effacer la ligne suivante\n",
    "from activite2 import *\n",
    "\n",
    "def sérieEchantillons(nbEchantillons,tailleEchantillon):\n",
    "    serieEch = []\n",
    "    for compteur in range(nbEchantillons):\n",
    "        serieEch.append(échantillon(tailleEchantillon))\n",
    "    return serieEch\n",
    "\n",
    "def sérieFréquences(nbEchantillons,tailleEchantillon):\n",
    "    serieFreq = []\n",
    "    for compteur in range(nbEchantillons):\n",
    "        freq = fréquence(échantillon(tailleEchantillon))\n",
    "        serieFreq.append(freq)\n",
    "    return serieFreq\n",
    "\n",
    "# taper le code de la réponse à la question 2.c. ici\n"
   ]
  },
  {
   "cell_type": "markdown",
   "metadata": {},
   "source": [
    "&nbsp;d. Compléter les 7 zones pointillés du programme suivant et l’utiliser afin de compléter le tableau suivant\n",
    "\n",
    "|Taille d'un échantillon|200|200|300|300|300|400|400|400|400|400|\n",
    "| :--------------------------------------- |:---:|:---:|:---:|:---:|:---:|:---:|:---:|:---:|:---:|:---:|\n",
    "|Nombre d'échantillons|100|100|100|100|100|100|100|100|100|100|\n",
    "|Écart-type de la série d'échantillons| | | | | | | | | | |\n",
    "|Fréquences de 1 dans  $[0,8–s ; 0,8+s]$ | | | | | | | | | | |\n",
    "|Fréquences de 1 dans  $[0,8–2s ; 0,8+2s]$| | | | | | | | | | |\n",
    "|Fréquences de 1 dans  $[0,8–3s ; 0,8+3s]$| | | | | | | | | | |  |\n"
   ]
  },
  {
   "cell_type": "code",
   "execution_count": null,
   "metadata": {},
   "outputs": [],
   "source": [
    "# ne pas effacer la ligne suivante\n",
    "from activite2 import *\n",
    "from statistics import pstdev as écart_type\n",
    "\n",
    "nbEchantillons = ...\n",
    "tailleEchantillon = ...\n",
    "serie = sérieFréquences(nbEchantillons,tailleEchantillon)\n",
    "ect = écart_type(serie)\n",
    "s1 = ...\n",
    "s2 = ...\n",
    "s3 = ...\n",
    "for i in range(nbEchantillons):\n",
    "    if serie[i] >= 0.80 - ect   and serie[i] <= 0.80 + ect:   s1 = s1 + 1\n",
    "    if serie[i] >= 0.80 - 2*ect and serie[i] <= 0.80 + 2*ect: s2 = ...\n",
    "    if ...\n",
    "\n",
    "print(\"La proportion de non-conformes est supposée être égale à 0,80\")\n",
    "print(\"On fabrique\",nbEchantillons,\"échantillons de taille\",tailleEchantillon)\n",
    "print(\"l'écart-type de cette série d'échantillons est :\", ect)\n",
    "texte = \"nombre d'échantillons dont la fréquence de 1 est située à moins\"\n",
    "print(texte,\"d'un écart-type de 0,80 :\",s1)\n",
    "print(texte,\"de 2 écart-types de 0,80 :\",s2)\n",
    "print(texte,\"de 3 écart-types de 0,80 :\",s3)"
   ]
  },
  {
   "cell_type": "markdown",
   "metadata": {},
   "source": [
    "|Taille d'un échantillon|200|200|300|300|300|400|400|400|400|400|\n",
    "| :--------------------------------------- |:---:|:---:|:---:|:---:|:---:|:---:|:---:|:---:|:---:|:---:|\n",
    "|Nombre d'échantillons|100|100|100|100|100|100|100|100|100|100|\n",
    "|Écart-type de la série d'échantillons| | | | | | | | | | |\n",
    "|Fréquences de 1 dans  $[0,8–s ; 0,8+s]$ | | | | | | | | | | |\n",
    "|Fréquences de 1 dans  $[0,8–2s ; 0,8+2s]$| | | | | | | | | | |\n",
    "|Fréquences de 1 dans  $[0,8–3s ; 0,8+3s]$| | | | | | | | | | |  |\n",
    "\n",
    "&nbsp;e. Estimer alors, pour une variable aléatoire suivant une loi de Bernoulli de paramètre 0,8, le pourcentage attendu de fréquences de 1 dans l'intervalle $[0,80 – s ; 0,80 + s ]$ , puis dans l'intervalle $[0,80 – 2s ; 0,80 + 2s ]$ , puis dans l'intervalle $[0,80 – 3s ; 0,80 + 3s ]$.\n",
    "\n",
    "\n",
    "&nbsp;4. Étude de l’écart-type de la série des fréquences \n",
    "\n",
    "Pour chaque série de 100 échantillons de tailles $n$ ($n$ variant de 50 à 300), on conserve l’écart-type des fréquences de 1 dans une liste. \n",
    "\n",
    "&nbsp;a. Représenter à l’aide des fonctions suivantes le nuage de points $M(n,y)$  avec $y$ l’écart-type de la série d’échantillons de taille $n$. \n"
   ]
  },
  {
   "cell_type": "code",
   "execution_count": null,
   "metadata": {},
   "outputs": [],
   "source": [
    "# ne pas effacer la ligne suivante\n",
    "from activite2 import *\n",
    "from statistics import pstdev as écart_type\n",
    "import matplotlib.pyplot as plt\n",
    "\n",
    "def listeEct(tailles) :\n",
    "    liste = []\n",
    "    for tailleEchantillon in tailles:\n",
    "        ect = écart_type(sérieFréquences(100,tailleEchantillon))\n",
    "        liste.append(ect)\n",
    "    return liste\n",
    "\n",
    "def graph1Ect():\n",
    "    tailles = range(50,300)\n",
    "    print(\"patience ... Le programme calcule\")\n",
    "    liste = listeEct(tailles)\n",
    "    plt.plot(tailles,liste,\"r.\")\n",
    "    plt.grid(True)\n",
    "    plt.show()\n",
    "    \n",
    "# taper le code ici (une seule ligne)\n"
   ]
  },
  {
   "cell_type": "markdown",
   "metadata": {},
   "source": [
    "&nbsp; b. Quand la taille de l’échantillon augmente, que constate-t-on à propos de  l’écart-type ? \n",
    "\n",
    "&nbsp; &nbsp; &nbsp; Cette variation est-elle linéaire ? \n",
    "\n",
    "&nbsp; c. Si on multiplie la taille d’échantillon par deux, la fluctuation quantifiée par l’écart-type est-elle réduite de moitié ? \n",
    "\n",
    "&nbsp; &nbsp; &nbsp; Dans le cas contraire, cette réduction est-elle plus ou moins importante que 50 % ?"
   ]
  }
 ],
 "metadata": {
  "kernelspec": {
   "display_name": "Python 3",
   "language": "python",
   "name": "python3"
  },
  "language_info": {
   "codemirror_mode": {
    "name": "ipython",
    "version": 3
   },
   "file_extension": ".py",
   "mimetype": "text/x-python",
   "name": "python",
   "nbconvert_exporter": "python",
   "pygments_lexer": "ipython3",
   "version": "3.7.6"
  }
 },
 "nbformat": 4,
 "nbformat_minor": 2
}
