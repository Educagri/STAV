{
 "cells": [
  {
   "cell_type": "markdown",
   "metadata": {},
   "source": [
    "# MA05 : La loi de Bernoulli\n",
    "## Activité 2\n",
    "\n",
    "Une coopérative agricole  réceptionne régulièrement des pêches livrées par ses adhérents. \n",
    "\n",
    "Au moment de la livraison, un contrôle est effectué pour vérifier si la qualité des fruits respecte le cahier des charges (calibre, couleur, maturité, goût, etc.).   \n",
    "\n",
    "80 % des pêches livrées sur l'ensemble des dernières semaines étaient conformes. \n",
    "\n",
    "On réceptionne une nouvelle livraison pour laquelle on considère que la proportion de fruits conformes correspond aux proportions observées les dernières semaines. \n",
    "\n",
    "### Partie 1\n",
    "\n",
    "On prélève un fruit  au hasard. On appelle « succès » le fait de prélever une pêche conforme au cahier des charges et « échec » le fait de prélever une pêche non conforme . \n",
    "\n",
    "Modéliser cette expérience aléatoire par une variable aléatoire dont les valeurs sont 1 pour le « succès » et 0 pour l'« échec » en précisant sa loi de probabilité.\n",
    "\n",
    "### Partie 2 \n",
    "\n",
    "Dans la suite, on considère que 10000 pêches sont livrées. \n",
    "\n",
    "1. Que fait la fonction Python donnée dans la cellule de code ci-dessous ?\n",
    "\n",
    "Exécuter la cellule de code ci-dessous pour que Python connaisse la fonction `preleve`."
   ]
  },
  {
   "cell_type": "code",
   "execution_count": null,
   "metadata": {},
   "outputs": [],
   "source": [
    "import random\n",
    "\n",
    "def preleve():\n",
    "    n = random.randint(0,10000)\n",
    "    if n < 8000:\n",
    "        return 1\n",
    "    else:\n",
    "        return 0"
   ]
  },
  {
   "cell_type": "markdown",
   "metadata": {},
   "source": [
    "&nbsp;2.On décide de prélever au hasard $N$ fruits ( $N \\leqslant 200$ ).\n",
    "Expliquer pourquoi on peut assimiler la série de   prélèvements à un tirage avec remise.\n",
    "\n",
    "&nbsp;3. L’agent chargé de faire le contrôle affirme : « si la proportion de pêches conformes dans la livraison est de 80 % , alors assurément, je constaterai  20 pêches conformes dans un échantillon de 25 fruits prélevés au hasard. ». Que peut-on penser d’une telle affirmation ? \n",
    "\n",
    "&nbsp;4. a) Écrire en langage Python une fonction `échantillon()` permettant de retourner sous la forme d’une liste de taille 25 construite à l’aide de la fonction `preleve()` de la question 1) afin de constituer un échantillon de 25 pêches prélevées au hasard.\n",
    "\n",
    "Ne pas oublier d'exécuter la première cellule de code avant d'exécuter la suivante."
   ]
  },
  {
   "cell_type": "code",
   "execution_count": null,
   "metadata": {},
   "outputs": [],
   "source": [
    "def échantillon():\n",
    "    # écrire le code ici\n"
   ]
  },
  {
   "cell_type": "markdown",
   "metadata": {},
   "source": [
    "&nbsp;b. Utiliser cette fonction Python pour constituer un  échantillon de 25 fruits prélevés au hasard. Noter le nombre de 1 obtenus puis calculer la fréquence de 1 sur cet échantillon.\n",
    "\n",
    "Ne pas oublier d'exécuter les deux premières cellules de code avant d'exécuter la suivante."
   ]
  },
  {
   "cell_type": "code",
   "execution_count": null,
   "metadata": {},
   "outputs": [],
   "source": [
    "# taper la ligne de code nécessaire ici"
   ]
  },
  {
   "cell_type": "markdown",
   "metadata": {},
   "source": [
    "&nbsp;c. Répéter  vingt fois le processus décrit en b) et récapituler les fréquences de 1 observées :\n",
    "\n",
    "on pourra utiliser une boucle...\n",
    "\n",
    "| Échantillon n° $k$ | 1 | ... | 20 |\n",
    "| :--------------- |:----:|:----:|:----:|\n",
    "| Fréquences observées  $f_k$ |.. | ... |.. |\n",
    "\n",
    "\n",
    "\n"
   ]
  },
  {
   "cell_type": "code",
   "execution_count": null,
   "metadata": {},
   "outputs": [],
   "source": [
    "# taper le code ici"
   ]
  },
  {
   "cell_type": "markdown",
   "metadata": {},
   "source": [
    "&nbsp; d. Calculer la moyenne de ces fréquences et l'écart-type de cette série de fréquences.\n",
    "\n",
    "&nbsp; e.  Tracer le nuage des points $M_k$ de coordonnées $(k,f_k)$.\n",
    "\n",
    "Exécuter la cellule de code suivante pour voir un tel nuage. Réexécuter la même cellule pour avoir un nouvel exemple.\n"
   ]
  },
  {
   "cell_type": "code",
   "execution_count": null,
   "metadata": {},
   "outputs": [],
   "source": [
    "import matplotlib.pyplot as plt\n",
    "import random\n",
    "import math\n",
    "\n",
    "def preleve():\n",
    "    n = random.randint(0,10000)\n",
    "    if n < 8000:\n",
    "        return 1\n",
    "    else:\n",
    "        return 0\n",
    "\n",
    "def échantillon(tailleEchantillon) :\n",
    "    ech = []\n",
    "    for compteur in range(tailleEchantillon):\n",
    "        ech.append(preleve())\n",
    "    return ech\n",
    "\n",
    "def fréquence(liste01) :\n",
    "    somme = 0\n",
    "    for nb in liste01:\n",
    "        somme = somme + nb\n",
    "    return somme / len(liste01)\n",
    "\n",
    "def sérieFréquences(nbEchantillons,tailleEchantillon):\n",
    "    serieFreq = []\n",
    "    for compteur in range(nbEchantillons):\n",
    "        freq = fréquence(échantillon(tailleEchantillon))\n",
    "        serieFreq.append(freq)\n",
    "    return serieFreq\n",
    "\n",
    "axes = plt.gca()\n",
    "axes.set_xlim(0, 21)\n",
    "axes.set_xlabel('échantillon n°')\n",
    "axes.xaxis.set_ticks(range(21))\n",
    "axes.set_ylim(0, 1)\n",
    "axes.set_ylabel('fréquence')\n",
    "axes.yaxis.set_ticks([k*0.1 for k in range(11)])\n",
    "plt.title('échantillons de taille 20')\n",
    "plt.plot(list(range(1,21)),sérieFréquences(20,20),\"b+\")\n",
    "plt.grid(True)\n",
    "plt.show()"
   ]
  },
  {
   "cell_type": "markdown",
   "metadata": {},
   "source": [
    "&nbsp; f.  Indiquer la valeur autour de laquelle semblent fluctuer les fréquences.\n",
    "\n",
    "&nbsp; 5. Dans la cellule de code suivante, le processus de la question 4 a été renouvelé avec vingt échantillons de taille 50 puis vingt échantillons de taille 200. Pour chaque échantillonnage, on a représenté le nuage des points $M_k$ de coordonnées $(k,f_k)$.\n",
    "\n",
    "Conjecturer l’influence de la taille de l’échantillon sur les fluctuations de la fréquence et la valeur de l'écart-type "
   ]
  },
  {
   "cell_type": "code",
   "execution_count": null,
   "metadata": {},
   "outputs": [],
   "source": [
    "import matplotlib.pyplot as plt\n",
    "import random\n",
    "import math\n",
    "\n",
    "def preleve():\n",
    "    n = random.randint(0,10000)\n",
    "    if n < 8000:\n",
    "        return 1\n",
    "    else:\n",
    "        return 0\n",
    "\n",
    "def échantillon(tailleEchantillon) :\n",
    "    ech = []\n",
    "    for compteur in range(tailleEchantillon):\n",
    "        ech.append(preleve())\n",
    "    return ech\n",
    "\n",
    "def fréquence(liste01) :\n",
    "    somme = 0\n",
    "    for nb in liste01:\n",
    "        somme = somme + nb\n",
    "    return somme / len(liste01)\n",
    "\n",
    "def sérieFréquences(nbEchantillons,tailleEchantillon):\n",
    "    serieFreq = []\n",
    "    for compteur in range(nbEchantillons):\n",
    "        freq = fréquence(échantillon(tailleEchantillon))\n",
    "        serieFreq.append(freq)\n",
    "    return serieFreq\n",
    "\n",
    "axes = plt.gca()\n",
    "axes.set_xlim(0, 21)\n",
    "axes.set_xlabel('échantillon n°')\n",
    "axes.xaxis.set_ticks(range(21))\n",
    "axes.set_ylim(0.5, 1)\n",
    "axes.set_ylabel('fréquence')\n",
    "axes.yaxis.set_ticks([k*0.1 for k in range(5,11)])\n",
    "plt.title('échantillons de taille 50')\n",
    "plt.plot(list(range(1,21)),sérieFréquences(20,50),\"b+\")\n",
    "plt.grid(True)\n",
    "plt.show()\n",
    "\n",
    "axes = plt.gca()\n",
    "axes.set_xlim(0, 21)\n",
    "axes.set_xlabel('échantillon n°')\n",
    "axes.xaxis.set_ticks(range(21))\n",
    "axes.set_ylim(0.5, 1)\n",
    "axes.set_ylabel('fréquence')\n",
    "axes.yaxis.set_ticks([k*0.1 for k in range(5,11)])\n",
    "plt.title('échantillons de taille 200')\n",
    "plt.plot(list(range(1,21)),sérieFréquences(20,200),\"b+\")\n",
    "plt.grid(True)\n",
    "plt.show()"
   ]
  }
 ],
 "metadata": {
  "kernelspec": {
   "display_name": "Python 3",
   "language": "python",
   "name": "python3"
  },
  "language_info": {
   "codemirror_mode": {
    "name": "ipython",
    "version": 3
   },
   "file_extension": ".py",
   "mimetype": "text/x-python",
   "name": "python",
   "nbconvert_exporter": "python",
   "pygments_lexer": "ipython3",
   "version": "3.6.4"
  }
 },
 "nbformat": 4,
 "nbformat_minor": 2
}
