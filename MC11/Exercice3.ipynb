{
 "cells": [
  {
   "cell_type": "markdown",
   "metadata": {},
   "source": [
    "# MC11 : Fonctions exponentielles\n",
    "## Exercice 3\n",
    "\n",
    "L’activité Jupyter [Illustration cours](MC11/Cours.ipynb) permettait de comprendre comment déterminer des puissances non entières. L’objectif de cet exercice est d’appliquer une méthode similaire sur un nuage de points qui semble varier de la même manière qu’une suite géométrique mais dont les abscisses ne sont pas forcément régulières. Pour cela, nous allons intercaler entre deux points déjà construits un troisième point ayant pour abscisse (respectivement pour ordonnée) la moyenne arithmétique (respectivement géométrique) des abscisses (respectivement des ordonnées) des deux points initiaux. \n",
    "\n",
    "<img src=\"images/moyennesarithgeo.png\">\n",
    "\n",
    "1.\tDéfinir une fonction `MoyenneGeo` qui retourne la moyenne géométrique de deux nombres et une fonction `MoyenneArith` qui retourne la moyenne arithmétique de deux nombres.\n"
   ]
  },
  {
   "cell_type": "code",
   "execution_count": null,
   "metadata": {},
   "outputs": [],
   "source": []
  },
  {
   "cell_type": "markdown",
   "metadata": {},
   "source": [
    "2.\tOn définit la fonction `InsertAbscisse` suivante qui insère, entre tous les éléments de la liste, la moyenne arithmétique des deux éléments qui l’entourent.\n",
    "\n",
    "```python\n",
    "def InsertAbscisses(liste):\n",
    "    listeAbscisses = []\n",
    "    listeAbscisses.append(liste[0])\n",
    "    for i in range(1,len(liste)):\n",
    "        listeAbscisses.append(MoyenneArith(liste[i-1],liste[i]))\n",
    "        listeAbscisses.append(liste[i])\n",
    "    return listeAbscisses\n",
    "```\n",
    "\n",
    "En s’inspirant de cette fonction, définir la fonction `InsertOrdonnées` qui insère, entre tous les éléments de la liste, la moyenne géométrique des deux éléments qui l’entourent."
   ]
  },
  {
   "cell_type": "code",
   "execution_count": null,
   "metadata": {},
   "outputs": [],
   "source": [
    "def InsertOrdonnées(liste):\n",
    "    # ne pas hésiter à faire un copié-collé de la fonction InsertAbscisses\n",
    "    # et l'adapter ensuite"
   ]
  },
  {
   "cell_type": "markdown",
   "metadata": {},
   "source": [
    "3. À partir des listes suivantes, `ListeAbscisses = [0,3,5,6,6.5]`\n",
    "et\n",
    "`ListesOrdonnées = [3,81,729,2187,3787]`,\n",
    "rédiger un programme qui affiche les graphiques ci-dessous. Ces graphiques représentent les points dont les coordonnées sont données par les deux listes complétées au fur et à mesure par les moyennes appropriées. Il faudra donc faire une boucle et afficher un nouveau graphique à chaque itération.\n",
    "\n",
    "<img src=\"images/progression4graphiques.png\">\n"
   ]
  },
  {
   "cell_type": "code",
   "execution_count": null,
   "metadata": {},
   "outputs": [],
   "source": []
  }
 ],
 "metadata": {
  "kernelspec": {
   "display_name": "Python 3",
   "language": "python",
   "name": "python3"
  },
  "language_info": {
   "codemirror_mode": {
    "name": "ipython",
    "version": 3
   },
   "file_extension": ".py",
   "mimetype": "text/x-python",
   "name": "python",
   "nbconvert_exporter": "python",
   "pygments_lexer": "ipython3",
   "version": "3.7.6"
  }
 },
 "nbformat": 4,
 "nbformat_minor": 2
}
