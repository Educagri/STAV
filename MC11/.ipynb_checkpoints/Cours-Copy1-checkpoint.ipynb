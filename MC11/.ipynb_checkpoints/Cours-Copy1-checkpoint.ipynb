{
 "cells": [
  {
   "cell_type": "markdown",
   "metadata": {},
   "source": [
    "# MC11 : Fonctions exponentielles\n",
    "## Cours\n",
    "\n",
    "Pour prolonger à des valeurs réelles autres qu’entières positives l’expression $2^n$ dont $n$ est la variable entière  on peut déterminer $2^x$ pour $x$ réel.\n",
    "\n",
    "Autrement dit, on souhaite remplir les trous dans la représentation graphique de la suite géométrique $(u_n)$ de premier terme $u_0=1$ et de raison $q=2$.\n",
    "\n",
    "|  &nbsp;&nbsp;&nbsp;&nbsp;&nbsp;&nbsp;$n$&nbsp;&nbsp;&nbsp;&nbsp;&nbsp;&nbsp;  |   &nbsp;&nbsp;&nbsp;&nbsp;&nbsp;&nbsp;0&nbsp;&nbsp;&nbsp;&nbsp;&nbsp;&nbsp;   |   &nbsp;&nbsp;&nbsp;&nbsp;&nbsp;&nbsp;1&nbsp;&nbsp;&nbsp;&nbsp;&nbsp;&nbsp;   |   &nbsp;&nbsp;&nbsp;&nbsp;&nbsp;&nbsp;2&nbsp;&nbsp;&nbsp;&nbsp;&nbsp;&nbsp;   |   &nbsp;&nbsp;&nbsp;&nbsp;&nbsp;&nbsp;3&nbsp;&nbsp;&nbsp;&nbsp;&nbsp;&nbsp;   |   ...   |   &nbsp;&nbsp;&nbsp;&nbsp;&nbsp;&nbsp;$n$&nbsp;&nbsp;&nbsp;&nbsp;&nbsp;&nbsp;   |   &nbsp;&nbsp;&nbsp;&nbsp;&nbsp;&nbsp;$n+1$&nbsp;&nbsp;&nbsp;&nbsp;&nbsp;&nbsp;   |  \n",
    "| :-----------: | :---------: | :---------: |:---------: | :---------: | :------: |:---------: | :---------: |\n",
    "| $u_n$ |$2^0=1$|$2^1=2$|$2^2=4$|$2^3=8$|...|$2^n$|$2^{n+1}$|\n",
    "\n",
    "1. Représenter la suite $(u_n)$."
   ]
  },
  {
   "cell_type": "code",
   "execution_count": 5,
   "metadata": {},
   "outputs": [
    {
     "data": {
      "image/png": "[encoded data removed]",
      "text/plain": [
       "<Figure size 432x288 with 1 Axes>"
      ]
     },
     "metadata": {
      "needs_background": "light"
     },
     "output_type": "display_data"
    }
   ],
   "source": [
    "from matplotlib import pyplot as plt\n",
    "\n",
    "n = [i for i in range(7)]\n",
    "u = [2**i for i in range(7)]\n",
    "\n",
    "plt.plot(n,u,\"r.\")\n",
    "plt.show()"
   ]
  },
  {
   "cell_type": "markdown",
   "metadata": {},
   "source": [
    "Rappel : dans une suite géométrique, tous les termes de rang n avec n>0 sont la moyenne géométrique de leur terme précédent et de leur terme suivant.\n",
    "\n",
    "Autrement dit : $u_n=\\sqrt{u_{n-1}\\times u_{n+1}}$\n",
    "\n",
    "C'est à dire pour $n=1$, $u_1=\\sqrt{u_{1-1}\\times u_{1+1}}=\\sqrt{u_{0}\\times u_{2}}=\\sqrt{1\\times 4}=\\sqrt{4}=2$\n",
    "\n",
    "Nous allons contruire une suite $(v_n)$ en utilisant la suite $(u_n)$ et en intercalant les moyennes géométriques des termes de $(u_n)$.\n",
    "\n",
    "2. Compléter les huit pointillés du programme suivant."
   ]
  },
  {
   "cell_type": "code",
   "execution_count": 9,
   "metadata": {},
   "outputs": [
    {
     "data": {
      "image/png": "[encoded data removed]",
      "text/plain": [
       "<Figure size 432x288 with 1 Axes>"
      ]
     },
     "metadata": {
      "needs_background": "light"
     },
     "output_type": "display_data"
    }
   ],
   "source": [
    "from matplotlib import pyplot as plt\n",
    "from math import sqrt\n",
    "\n",
    "nu = [i for i in range(7)]\n",
    "u = [2**i for i in range(7)]\n",
    "\n",
    "nv = [i/2 for i in range(13)]\n",
    "\n",
    "v = []\n",
    "v.append(u[0])\n",
    "v.append(sqrt(u[0]*u[1]))\n",
    "v.append(u[1])\n",
    "v.append(sqrt(u[1]*u[2]))\n",
    "v.append(u[2])\n",
    "v.append(sqrt(u[2]*u[3]))\n",
    "v.append(u[...])\n",
    "v.append(sqrt(u[3]*u[...]))\n",
    "v.append(u[4])\n",
    "v.append(sqrt(u[...]*u[...]))\n",
    "v.append(u[...])\n",
    "v.append(sqrt(u[...]*u[...]))\n",
    "v.append(u[...])\n",
    "\n",
    "plt.plot(nv,v,\"b*\")\n",
    "plt.plot(nu,u,\"r.\")\n",
    "plt.show()"
   ]
  },
  {
   "cell_type": "markdown",
   "metadata": {},
   "source": [
    "3. Exécuter le programme précédent.\n",
    "Les points représentant la suites $(v_n)$ semblent-ils bien compléter l'évolution de la suite $(u_n)$ ?\n",
    "\n",
    "En reprenant l'idée de la question 2, on crée une fonction qui compléte une suite en intercalant les moyennes géométriques.\n",
    "\n",
    "4. Compléter les trois pointillés de la fonction suivante (relire la solution de la question 2 pour le faire) et l'exécuter."
   ]
  },
  {
   "cell_type": "code",
   "execution_count": 10,
   "metadata": {},
   "outputs": [
    {
     "name": "stdout",
     "output_type": "stream",
     "text": [
      "[1, 2.0, 4, 8.0, 16, 32.0, 64]\n"
     ]
    }
   ],
   "source": [
    "def MoyennesGéométriques(suite):\n",
    "    v = []\n",
    "    for i in range(len(suite)-1):\n",
    "        v.append(suite[...])\n",
    "        v.append(sqrt(suite[...]*suite[...]))\n",
    "    v.append(suite[-1])\n",
    "    return v\n",
    "\n",
    "# la ligne suivante permet d'essayer la fonction\n",
    "print(MoyennesGéométriques([1,4,16,64]))"
   ]
  },
  {
   "cell_type": "markdown",
   "metadata": {},
   "source": [
    "\n",
    "Utilisons maintenant notre fonction pour compléter davantage la représentation de la suite $(u_n)$.\n",
    "\n",
    "5. Ne pas oublier d'exécuter la cellule précédente avant la suivante pour que la fonction `MoyennesGéométriques` soit connue puis exécuter la cellule suivante."
   ]
  },
  {
   "cell_type": "code",
   "execution_count": 12,
   "metadata": {},
   "outputs": [
    {
     "data": {
      "image/png": "[encoded data removed]",
      "text/plain": [
       "<Figure size 432x288 with 1 Axes>"
      ]
     },
     "metadata": {
      "needs_background": "light"
     },
     "output_type": "display_data"
    }
   ],
   "source": [
    "from matplotlib import pyplot as plt\n",
    "from math import sqrt\n",
    "\n",
    "u = [2**i for i in range(7)]\n",
    "nu = [i for i in range(7)]\n",
    "\n",
    "v = MoyennesGéométriques(u)\n",
    "nv = [i/2 for i in range(len(v))]\n",
    "\n",
    "w = MoyennesGéométriques(v)\n",
    "nw = [i/4 for i in range(len(w))]\n",
    "\n",
    "plt.plot(nw,w,\"g+\")\n",
    "plt.plot(nv,v,\"b*\")\n",
    "plt.plot(nu,u,\"r.\")\n",
    "plt.show()"
   ]
  },
  {
   "cell_type": "markdown",
   "metadata": {},
   "source": [
    "6. Les points sont de plus en plus nombreux. Semblent-ils esquisser une courbe bien régulière qui suit la forme initiée par la représentation de $(u_n)$ ?\n",
    "\n",
    "7. Compléter le programme précédent pour construire une suite $(z_n)$ qui complète la suite $(w_n)$ et exécuter le pour voir le graphique."
   ]
  }
 ],
 "metadata": {
  "kernelspec": {
   "display_name": "Python 3",
   "language": "python",
   "name": "python3"
  },
  "language_info": {
   "codemirror_mode": {
    "name": "ipython",
    "version": 3
   },
   "file_extension": ".py",
   "mimetype": "text/x-python",
   "name": "python",
   "nbconvert_exporter": "python",
   "pygments_lexer": "ipython3",
   "version": "3.7.6"
  }
 },
 "nbformat": 4,
 "nbformat_minor": 2
}
