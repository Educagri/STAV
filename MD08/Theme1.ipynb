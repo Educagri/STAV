{
 "cells": [
  {
   "cell_type": "markdown",
   "metadata": {},
   "source": [
    "# Exercices sur la dynamique des populations\n",
    "\n",
    "## Thème 1 : Les lapins de Fibonacci\n",
    "\n",
    "La suite de Fibonacci (1170-1250) est un exemple célèbre de modélisation de la reproduction des lapins dans un élevage. Fibonacci comptait ses lapins par couple (un mâle et une femelle). Le premier mois le couple ne peut pas se reproduire. Le deuxième mois, le couple donne naissance à un couple de lapins qui ne pourra se reproduire que leur deuxième mois de vie. Il recueille les données (fictives) ci-dessous représentée à côté.\n",
    "\n",
    "<center><img src=\"images/MD8lapins.png\"></center>\n",
    "\n",
    "## Partie 1\n",
    "\n",
    "1.\tOn souhaite modéliser la situation par une suite. On note alors   le nombre de lapins.<br>\n",
    "a.\tDonner $u_0$ et $u_1$.<br>\n",
    "b.\tExpliquer la formule de récurrence $u_{n+2}=u_{n+1}+u_n$ <br>\n",
    "c.\tCompléter alors le tableau suivant :\n",
    "\n",
    "<center><img src=\"images/MD8lapins2.png\"></center>\n",
    "\n",
    "2.\tTrois programmes en Python sont proposés pour trouver le 20$^{\\text{e}}$ terme de la suite. Lequel donne la bonne réponse. Expliquer pourquoi les autres sont faux.\n",
    "\n"
   ]
  },
  {
   "cell_type": "code",
   "execution_count": null,
   "metadata": {},
   "outputs": [],
   "source": [
    "# programme 1\n",
    "\n",
    "def Fibonacci(n):\n",
    "    if n == 0 or n == 1:\n",
    "        return 1\n",
    "    else:\n",
    "        Unmoins1 = 1\n",
    "        Un = 1\n",
    "        for k in range(n-1):\n",
    "            Un = Un + Unmoins1\n",
    "    return Un\n",
    "\n",
    "print(Fibonacci(19))"
   ]
  },
  {
   "cell_type": "code",
   "execution_count": null,
   "metadata": {},
   "outputs": [],
   "source": [
    "# programme 2\n",
    "\n",
    "def Fibonacci(n):\n",
    "    if n == 0 or n == 1:\n",
    "        return 1\n",
    "    else:\n",
    "        Unmoins1 = 1\n",
    "        Un = 1\n",
    "        for k in range(n-1):\n",
    "            Unmoins1 = Un\n",
    "            Un = Un + Unmoins1\n",
    "    return Un\n",
    "\n",
    "print(Fibonacci(19))"
   ]
  },
  {
   "cell_type": "code",
   "execution_count": null,
   "metadata": {},
   "outputs": [],
   "source": [
    "# programme 3\n",
    "\n",
    "def Fibonacci(n):\n",
    "    if n == 0 or n == 1:\n",
    "        return 1\n",
    "    else:\n",
    "        Unmoins1 = 1\n",
    "        Un = 1\n",
    "        for k in range(n-1):\n",
    "            Unplus1 = Un + Unmoins1\n",
    "            Unmoins1 = Un\n",
    "            Un = Unplus1\n",
    "    return Un\n",
    "\n",
    "print(Fibonacci(19))"
   ]
  },
  {
   "cell_type": "markdown",
   "metadata": {},
   "source": [
    "## Partie 2\n",
    "Cette partie se fait sur tableur."
   ]
  }
 ],
 "metadata": {
  "kernelspec": {
   "display_name": "Python 3",
   "language": "python",
   "name": "python3"
  },
  "language_info": {
   "codemirror_mode": {
    "name": "ipython",
    "version": 3
   },
   "file_extension": ".py",
   "mimetype": "text/x-python",
   "name": "python",
   "nbconvert_exporter": "python",
   "pygments_lexer": "ipython3",
   "version": "3.7.6"
  }
 },
 "nbformat": 4,
 "nbformat_minor": 2
}
