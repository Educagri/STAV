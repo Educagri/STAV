{
 "cells": [
  {
   "cell_type": "markdown",
   "metadata": {},
   "source": [
    "# Exercices sur la dynamique des populations\n",
    "\n",
    "## Thème 3 : La dérive génétique\n",
    "\n",
    "La dérive génétique est l'évolution d'une population ou d'une espèce causée par des phénomènes aléatoires, impossible à prévoir.\n",
    "\n",
    "On modélise la dérive génétique sur un élevage de lapin que l’on va mener sans sélection. L’élevage compte initialement 100 lapins dont 40 ont le caractère génétique « E » indiscernable à l’œil nu (par exemple, les lapins ayant ce caractère génétique produisent une enzyme qui accélère légèrement la digestion de la cellulose).\n",
    "\n",
    "Tous les trimestres, chaque lapin a un nombre de descendants aléatoire compris entre 1 et 10  de manière équiprobable à qui il transmet son gène. Parmi les petits, on garde au hasard 100 lapins et on vend tous les autres.\n",
    "\n",
    "On note $u_n$ le pourcentage de lapins ayant le caractère « E » dans l’élevage au trimestre $n$.\n",
    "\n",
    "1.\tDonner $u_0$. Peut-on dire combien vaut $u_1$ ?\n",
    "\n",
    "On se demande comment évolue la présence du caractère « E » dans l’élevage. Pour cela, on écrit un programme en Python pour simuler la distribution du caractère « E » dans l’élevage au bout d’un trimestre.\n"
   ]
  },
  {
   "cell_type": "code",
   "execution_count": null,
   "metadata": {},
   "outputs": [],
   "source": [
    "import random\n",
    "\n",
    "elevage = []\n",
    "\n",
    "for k in range(60): elevage.append('E')\n",
    "for k in range(40): elevage.append('N')\n",
    "\n",
    "def reproduction(elevage):\n",
    "    descendants = []\n",
    "    for lapin in elevage:\n",
    "        nblapereaux = random.randint(1,10)\n",
    "        for k in range(nblapereaux):\n",
    "            descendants.append(lapin)\n",
    "    return random.sample(descendants,100)\n",
    "\n",
    "print(reproduction(elevage))"
   ]
  },
  {
   "cell_type": "markdown",
   "metadata": {},
   "source": [
    "2.\tExpliquer ce que fait chaque ligne du programme précédent.\n",
    "3.\tExécuter le programme et donner le pourcentage de lapins ayant le caractère « E » dans l’élevage au bout d’un trimestre. Recommencer. Trouve-t-on la même valeur ?\n",
    "4.\tOn souhaite améliorer ce programme pour simuler l’évolution du caractère « E » durant 100 trimestres.<br>\n",
    "a.\tÉcrire une fonction `compteE(Lapins)` qui retourne le nombre de lapins ayant le caractère « E » dans la liste `Lapins` donnée en paramètre.\n"
   ]
  },
  {
   "cell_type": "code",
   "execution_count": null,
   "metadata": {},
   "outputs": [],
   "source": [
    "# code Python de la réponse à la question 4.a.\n"
   ]
  },
  {
   "cell_type": "markdown",
   "metadata": {},
   "source": [
    "4. b.\tCompléter le programme suivant pour obtenir une liste pourcentages contenant le nombre de lapins ayant le caractère « E » à chaque trimestre pour 100 trimestres."
   ]
  },
  {
   "cell_type": "code",
   "execution_count": null,
   "metadata": {},
   "outputs": [],
   "source": [
    "import random\n",
    "\n",
    "def compteE(lapins): # recopier la réponse à la question 4.a\n",
    "    ...\n",
    "    \n",
    "def reproduction(elevage):\n",
    "    descendants = []\n",
    "    for lapin in elevage:\n",
    "        nblapereaux = random.randint(1,10)\n",
    "        for k in range(nblapereaux):\n",
    "            descendants.append(lapin)\n",
    "    return random.sample(descendants,100)\n",
    "\n",
    "elevage = []\n",
    "for k in range(60): elevage.append('E')\n",
    "for k in range(40): elevage.append('N')\n",
    "\n",
    "pourcentages = ...\n",
    "for compteur in range(...):\n",
    "    elevage = reproduction(elevage)\n",
    "    pourcentages.append(...)         \n",
    "\n",
    "print(pourcentages)"
   ]
  },
  {
   "cell_type": "markdown",
   "metadata": {},
   "source": [
    "4. c.\tExécuter ce programme au moins une dizaine de fois. Que peut-il arriver ?<br>\n",
    "d.\tQuelle situation semble la plus fréquente ?<br>\n",
    "e.\tModifier le nombre total de trimestres afin de n’avoir plus que deux situations possibles lors de l’exécution du programme. On note N ce nombre pour la suite de l’exercice.\n",
    "5.\tOn souhaite maintenant savoir laquelle des deux situations possibles est la plus fréquente.<br>\n",
    "a.\tÉcrire une fonction `expérience(elevage)` qui retourne le nombre de lapins ayant le caractère « E » après N trimestres en partant d’une population de lapins donnée en paramètre.\n"
   ]
  },
  {
   "cell_type": "code",
   "execution_count": null,
   "metadata": {},
   "outputs": [],
   "source": [
    "# code Python de la réponse à la question 5.a.\n"
   ]
  },
  {
   "cell_type": "markdown",
   "metadata": {},
   "source": [
    "5.b. Compléter alors le programme ci-contre pour calculer la fréquence de chacune des deux situations finales."
   ]
  },
  {
   "cell_type": "code",
   "execution_count": null,
   "metadata": {},
   "outputs": [],
   "source": [
    "import random\n",
    "\n",
    "def compteE(lapins): # recopier la réponse à la question 4.a\n",
    "    ...\n",
    "    \n",
    "def reproduction(elevage):\n",
    "    descendants = []\n",
    "    for lapin in elevage:\n",
    "        nblapereaux = random.randint(1,10)\n",
    "        for k in range(nblapereaux):\n",
    "            descendants.append(lapin)\n",
    "    return random.sample(descendants,100)\n",
    "\n",
    "def expérience(elevage): # recopier la réponse à la question 5.a\n",
    "    ...\n",
    "\n",
    "elevage = []\n",
    "for k in range(60): elevage.append('E')\n",
    "for k in range(40): elevage.append('N')\n",
    "\n",
    "nbsituation1 = nbsituation2 = ...\n",
    "for compteur in range(100):\n",
    "    if expérience(elevage) == ... :\n",
    "        nbsituation1 = ...\n",
    "    else:\n",
    "        nbsituation2 = ...\n",
    "\n",
    "print(\"situation 1 : \",...)\n",
    "print(\"situation 2 : \",...)\n"
   ]
  },
  {
   "cell_type": "markdown",
   "metadata": {},
   "source": [
    "5. c. Exécuter le programme plusieurs fois. Quelle est la situation la plus fréquente ? Est-ce toujours la même ?<br>\n",
    "d. Changer le pourcentage initial du caractère « E » pour le mettre à 20 % (donc « N » à 80 %) puis exécuter le programme plusieurs fois. Quelle est la situation la plus fréquente en général ?\n"
   ]
  }
 ],
 "metadata": {
  "kernelspec": {
   "display_name": "Python 3",
   "language": "python",
   "name": "python3"
  },
  "language_info": {
   "codemirror_mode": {
    "name": "ipython",
    "version": 3
   },
   "file_extension": ".py",
   "mimetype": "text/x-python",
   "name": "python",
   "nbconvert_exporter": "python",
   "pygments_lexer": "ipython3",
   "version": "3.7.6"
  }
 },
 "nbformat": 4,
 "nbformat_minor": 2
}
