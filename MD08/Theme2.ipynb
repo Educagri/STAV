{
 "cells": [
  {
   "cell_type": "markdown",
   "metadata": {},
   "source": [
    "# Exercices sur la dynamique des populations\n",
    "\n",
    "## Thème 2 : Une évolution d'insectes\n",
    "\n",
    "Patrick Leslie a travaillé avec le zoologiste Charles Elton au Bureau of Animal Population. Leslie a développé des modèles (qui portent son nom) pour modéliser l’évolution des populations animales. Comme il utilise le calcul matriciel qui n’est pas au programme de STAV, on étudie ici un modèle simplifié.\n",
    "\n",
    "Soit une population fictive d'insectes femelles ne vivant que trois semaines au maximum. On divise cette population en trois classes d’âge : les individus âgés d'une semaine, de deux semaines, ou de trois semaines. Les deux premières semaines, ces insectes femelles ne peuvent pas se reproduire mais à cause de divers facteurs (prédation, accidents, etc.), elles cherchent à survivre. La troisième semaine, elles se reproduisent puis meurent. \n",
    "\n",
    "On note $x_n$, $y_n$ et $z_n$ le nombre d'insectes âgés d'une, deux et trois semaines au bout de $n$ semaines.\n",
    "\n",
    "On souhaite explorer quelques cas particuliers pour voir comment évolue la population de tels insectes.\n",
    "\n",
    "Les 3 premières parties se font avec un tableur\n",
    "\n",
    "## Partie 4\n",
    "\n",
    "On revient sur la conclusion de la première partie. Puisqu’il semble que la population d’insecte va vers l’extinction, on cherche à savoir dans combien de temps cela va arriver. Le tableur n’est plus un outil adapté pour cette recherche si le temps cherché est grand, on écrit alors un programme.\n",
    "\n",
    "Rappel des règles de reproduction du modèle : \n",
    "$\\left\\{\\begin{array}{l} x_0=250\\\\y_0=200\\\\z_0=100\\end{array}\\right.$  et $\\left\\{\\begin{array}{l} x_{n+1}=2z_n\\\\y_{n+1}=0,4x_n\\\\z_{n+1}=0,64y_n\\end{array}\\right.$.\n",
    "\n",
    "1.\tCalculer $x_1$, $y_1$ et $z_1$ et arrondir les résultats à l’entier par défaut.\n",
    "2.\tExécuter les lignes ci-dessous en Python. Obtient-on les bonnes valeurs ?"
   ]
  },
  {
   "cell_type": "code",
   "execution_count": null,
   "metadata": {},
   "outputs": [],
   "source": [
    "x = 250\n",
    "y = 200\n",
    "z = 100\n",
    "print(x,y,z)\n",
    "\n",
    "x = int(2*z)\n",
    "y = int(0.4*x)\n",
    "z = int(0.64*y)\n",
    "print(x,y,z)"
   ]
  },
  {
   "cell_type": "markdown",
   "metadata": {},
   "source": [
    "3. Corriger ces lignes pour obtenir $x_1$, $y_1$ et $z_1$ dans les variables `x`, `y` et `z` et sans changer les quatre premières lignes. On pourra changer l’ordre des quatre dernières lignes et ajouter d’autres variables si nécessaire.\n",
    "4. Comment sait-on que la population s’est éteinte ?\n",
    "5. Corriger alors le programme suivant permettant de connaître le numéro de la semaine où la population s’est éteinte. (certaines lignes peuvent être déplacées comme à la question 3)."
   ]
  },
  {
   "cell_type": "code",
   "execution_count": null,
   "metadata": {},
   "outputs": [],
   "source": [
    "x = 250\n",
    "y = 200\n",
    "z = 100\n",
    "\n",
    "n = \n",
    "while        0:\n",
    "    n = \n",
    "    \n",
    "    x = int(2*     )\n",
    "    y = int(0.4*   )\n",
    "    z = int(0.64*  )\n",
    "    \n",
    "print(n)"
   ]
  },
  {
   "cell_type": "markdown",
   "metadata": {},
   "source": [
    "6.\tExécuter ce programme pour vérifier qu’il faut 21 semaines pour que la population d’insecte s’éteigne.\n",
    "7.\tUtiliser ce programme pour dire combien il faut de semaines pour voir l’extinction d’une population d’insectes femelles d’effectifs initiaux de $x_0 = 247$ milliards, $y_0 = 209$ milliards et $z_0 = 112$ milliards ?"
   ]
  }
 ],
 "metadata": {
  "kernelspec": {
   "display_name": "Python 3",
   "language": "python",
   "name": "python3"
  },
  "language_info": {
   "codemirror_mode": {
    "name": "ipython",
    "version": 3
   },
   "file_extension": ".py",
   "mimetype": "text/x-python",
   "name": "python",
   "nbconvert_exporter": "python",
   "pygments_lexer": "ipython3",
   "version": "3.7.6"
  }
 },
 "nbformat": 4,
 "nbformat_minor": 2
}
