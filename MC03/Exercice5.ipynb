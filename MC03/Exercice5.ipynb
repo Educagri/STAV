{
 "cells": [
  {
   "cell_type": "markdown",
   "metadata": {},
   "source": [
    "# MC03 : Fonctions du second degré, étude graphique\n",
    "## Exercice 5\n",
    "\n",
    "On considère une fonction trinôme du second degré du type $f(x) = ax^2 + bx + c (a \\not= 0)$.\n",
    "\n",
    "On appelle $C_f$ la parabole représentant la fonction trinôme $f$ dans un repère.\n",
    "\n",
    "Soit $M(x;y)$ un point de ce repère.\n",
    "\n",
    "1. On considère des valeurs $a$, $b$, $c$, $x$ et $y$ entières. Construire une fonction Python qui renvoie `True` si le\n",
    "point $M$ appartient à $C_f$ et `False` sinon.\n"
   ]
  },
  {
   "cell_type": "code",
   "execution_count": null,
   "metadata": {},
   "outputs": [],
   "source": []
  },
  {
   "cell_type": "markdown",
   "metadata": {},
   "source": [
    "2. Le programme fonctionne-t-il si les valeurs deviennent décimales ?\n",
    " "
   ]
  },
  {
   "cell_type": "code",
   "execution_count": null,
   "metadata": {},
   "outputs": [],
   "source": []
  }
 ],
 "metadata": {
  "kernelspec": {
   "display_name": "Python 3",
   "language": "python",
   "name": "python3"
  },
  "language_info": {
   "codemirror_mode": {
    "name": "ipython",
    "version": 3
   },
   "file_extension": ".py",
   "mimetype": "text/x-python",
   "name": "python",
   "nbconvert_exporter": "python",
   "pygments_lexer": "ipython3",
   "version": "3.7.6"
  }
 },
 "nbformat": 4,
 "nbformat_minor": 2
}
