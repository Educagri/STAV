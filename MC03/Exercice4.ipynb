{
 "cells": [
  {
   "cell_type": "markdown",
   "metadata": {},
   "source": [
    "# MC03 : Fonctions du second degré, étude graphique\n",
    "## Exercice 4\n",
    "\n",
    "On considère une fonction trinôme du second degré du type $f(x) = ax^2 + c (a \\not= 0)$.\n",
    "\n",
    "Construire un programme en Python, à l’aide de la commande « si », afin d’indiquer les variations de $f$\n",
    "et de préciser si l’abscisse du sommet de la parabole est un maximum ou un minimum pour la fonction $f$.\n",
    " "
   ]
  },
  {
   "cell_type": "code",
   "execution_count": null,
   "metadata": {},
   "outputs": [],
   "source": []
  }
 ],
 "metadata": {
  "kernelspec": {
   "display_name": "Python 3",
   "language": "python",
   "name": "python3"
  },
  "language_info": {
   "codemirror_mode": {
    "name": "ipython",
    "version": 3
   },
   "file_extension": ".py",
   "mimetype": "text/x-python",
   "name": "python",
   "nbconvert_exporter": "python",
   "pygments_lexer": "ipython3",
   "version": "3.7.6"
  }
 },
 "nbformat": 4,
 "nbformat_minor": 2
}
