{
 "cells": [
  {
   "cell_type": "markdown",
   "metadata": {},
   "source": [
    "# MC03 : Fonctions du second degré, étude graphique\n",
    "## Cours\n",
    "\n",
    "Fonctions $x\\mapsto ax^2+c$ avec $a$ et $c$ réels.\n",
    "\n",
    "Exécuter la première cellule de code pour voir l'influence de $a$.\n",
    "\n",
    "Ne pas hésiter à modifier le programme pour voir d'autres cas.\n",
    "\n",
    "Si la courbe ne s'affiche pas, re-exécuter la cellule."
   ]
  },
  {
   "cell_type": "code",
   "execution_count": null,
   "metadata": {},
   "outputs": [],
   "source": [
    "from matplotlib.pyplot import *\n",
    "from numpy import *\n",
    "\n",
    "def trinome(a,c,x):\n",
    "    return a*x**2+c\n",
    "\n",
    "for a in [3,2,-1,-2]:\n",
    "    x = linspace(-3,3,20)\n",
    "    plot(x,trinome(a,1,x),label=\"a = \"+str(a))\n",
    "\n",
    "title(\"Fonctions ax²+1 pour différentes valeurs de a\")\n",
    "legend()\n",
    "show()"
   ]
  },
  {
   "cell_type": "markdown",
   "metadata": {},
   "source": [
    "Fonctions $x\\mapsto ax^2+c$ avec $a$ et $c$ réels.\n",
    "\n",
    "Exécuter la première cellule de code pour voir l'influence de $c$. \n",
    "\n",
    "Ne pas hésiter à modifier le programme pour voir d'autres cas.\n",
    "\n",
    "Si la courbe ne s'affiche pas, re-exécuter la cellule."
   ]
  },
  {
   "cell_type": "code",
   "execution_count": null,
   "metadata": {},
   "outputs": [],
   "source": [
    "from matplotlib.pyplot import*\n",
    "from numpy import*\n",
    "\n",
    "def trinome(a,c,x):\n",
    "    return a*x**2+c\n",
    "\n",
    "for c in [3,1,0,-1]:\n",
    "    x=linspace(-3,3,20)\n",
    "    plot(x,trinome(2,c,x),label=\"c = \"+str(c))\n",
    "\n",
    "title(\"Fonctions 2x²+c pour différentes valeurs de c\")\n",
    "\n",
    "legend()\n",
    "show()"
   ]
  }
 ],
 "metadata": {
  "kernelspec": {
   "display_name": "Python 3",
   "language": "python",
   "name": "python3"
  },
  "language_info": {
   "codemirror_mode": {
    "name": "ipython",
    "version": 3
   },
   "file_extension": ".py",
   "mimetype": "text/x-python",
   "name": "python",
   "nbconvert_exporter": "python",
   "pygments_lexer": "ipython3",
   "version": "3.7.1"
  }
 },
 "nbformat": 4,
 "nbformat_minor": 2
}
