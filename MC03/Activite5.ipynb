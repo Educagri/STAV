{
 "cells": [
  {
   "cell_type": "markdown",
   "metadata": {},
   "source": [
    "# MC03 : Fonctions du second degré, étude graphique\n",
    "## Activité 5\n",
    "\n",
    "1.\tVérifier que le programme suivant permet de tracer la courbe de la fonction $f$ définie pour tous réels $x$ par $f(x) = x^2$ et représentée par la parabole $C_1$ dans l’activité 4.\n",
    "\n",
    "Si la courbe ne s'affiche pas, re-exécuter la cellule."
   ]
  },
  {
   "cell_type": "code",
   "execution_count": null,
   "metadata": {},
   "outputs": [],
   "source": [
    "import matplotlib.pyplot as repere\n",
    "x = -2\n",
    "while x <= 2:\n",
    "    repere.plot(x,x**2,\"ro\")\n",
    "    x = x + 0.1\n",
    "repere.show()"
   ]
  },
  {
   "cell_type": "markdown",
   "metadata": {},
   "source": [
    "&nbsp;&nbsp;&nbsp;&nbsp;2.\tDans la ligne de commande `x=-2`, si on remplace $-2$ par $-4$, quel changement faut-il opérer pour conserver la symétrie de la représentation graphique ?\n",
    "\n",
    "Essayer la solution dans la cellule de code précédente.\n",
    "\n",
    "3.\tQue représente le nombre $0,1$ dans la ligne de commande `x=x+0.1` ?\n",
    "\n",
    "On admet que la fonction définie sur $[0;4]$ par $g(x) = – x^2 – 4x + 3$ est représentée par la parabole $C_4$ dans l'activité 4.\n",
    "\n",
    "4.\tDans la cellule de code suivante, compléter le programme  pour obtenir le tracé de $C_4$ en bleu sur le même graphique que $C_1$.\n",
    "\n",
    "Si la courbe ne s'affiche pas, re-exécuter la cellule."
   ]
  },
  {
   "cell_type": "code",
   "execution_count": null,
   "metadata": {},
   "outputs": [],
   "source": [
    "import matplotlib.pyplot as repere\n",
    "x = -2\n",
    "while x <= 4:\n",
    "    repere.plot(x,x**2,\"ro\")\n",
    "    x = x + 0.1\n",
    "repere.show()"
   ]
  }
 ],
 "metadata": {
  "kernelspec": {
   "display_name": "Python 3",
   "language": "python",
   "name": "python3"
  },
  "language_info": {
   "codemirror_mode": {
    "name": "ipython",
    "version": 3
   },
   "file_extension": ".py",
   "mimetype": "text/x-python",
   "name": "python",
   "nbconvert_exporter": "python",
   "pygments_lexer": "ipython3",
   "version": "3.7.1"
  }
 },
 "nbformat": 4,
 "nbformat_minor": 2
}
