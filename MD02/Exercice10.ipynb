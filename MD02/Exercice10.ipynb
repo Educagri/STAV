{
 "cells": [
  {
   "cell_type": "markdown",
   "metadata": {},
   "source": [
    "# MD02 : Suites arithmétiques\n",
    "## Exercice 10\n",
    "\n",
    "Pour résoudre ses exercices sur les suites arithmétiques, un élève a créé la fonction Python suivante :\n",
    " \n",
    "```python\n",
    "def TermSuitArith(n,u0,r):\n",
    "    un = u0\n",
    "    for compteur in range(n):\n",
    "        un = un + r\n",
    "    return un\n",
    "```\n",
    "\n",
    "1.\tExpliquer ce que l’on obtient en tapant `print(TermSuitArith(10,5,2))`."
   ]
  },
  {
   "cell_type": "code",
   "execution_count": null,
   "metadata": {},
   "outputs": [],
   "source": [
    "def TermSuitArith(n,u0,r):\n",
    "    un = u0\n",
    "    for compteur in range(n):\n",
    "        un = un + r            # <-- ligne 4\n",
    "    return un\n",
    "\n",
    "print(TermSuitArith(10,5,2))"
   ]
  },
  {
   "cell_type": "markdown",
   "metadata": {},
   "source": [
    "2.\tQuelle est la formule cachée dans la ligne 4 ci-dessus ?\n",
    "\n",
    "3. Un autre élève a tapé le code suivant qui donne le même résultat :"
   ]
  },
  {
   "cell_type": "code",
   "execution_count": null,
   "metadata": {},
   "outputs": [],
   "source": [
    "def TermSuitArith(n,u0,r):\n",
    "    for compteur in range(1,n+1):\n",
    "        u0 = u0 + r\n",
    "    return u0\n",
    "\n",
    "print(TermSuitArith(10,5,2))"
   ]
  },
  {
   "cell_type": "markdown",
   "metadata": {},
   "source": [
    "3. a) Pourquoi n’a-t-il pas eu besoin de la variable un ?\n",
    "\n",
    "   b) Pourquoi, dans les deux versions, les deux boucles font-elles le même nombre de tours ?"
   ]
  }
 ],
 "metadata": {
  "kernelspec": {
   "display_name": "Python 3",
   "language": "python",
   "name": "python3"
  },
  "language_info": {
   "codemirror_mode": {
    "name": "ipython",
    "version": 3
   },
   "file_extension": ".py",
   "mimetype": "text/x-python",
   "name": "python",
   "nbconvert_exporter": "python",
   "pygments_lexer": "ipython3",
   "version": "3.7.1"
  }
 },
 "nbformat": 4,
 "nbformat_minor": 2
}
