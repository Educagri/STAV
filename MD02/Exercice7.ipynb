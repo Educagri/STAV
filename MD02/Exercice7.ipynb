{
 "cells": [
  {
   "cell_type": "markdown",
   "metadata": {},
   "source": [
    "<center><img src=\"images/MD2Ex7.png\"></center>\n",
    "\n",
    "\n",
    "1. Donner l’instruction en Python qui permet d’obtenir les 20 premiers termes de la suite arithmétique de premier terme 0 et de raison 1."
   ]
  },
  {
   "cell_type": "code",
   "execution_count": null,
   "metadata": {},
   "outputs": [],
   "source": []
  },
  {
   "cell_type": "markdown",
   "metadata": {},
   "source": [
    "2. Donner l’instruction en Python qui permet d’obtenir les 10 premiers termes de la suite arithmétique de premier terme 0 et de raison 4."
   ]
  },
  {
   "cell_type": "code",
   "execution_count": null,
   "metadata": {},
   "outputs": [],
   "source": []
  },
  {
   "cell_type": "markdown",
   "metadata": {},
   "source": [
    "3. Donner l’instruction en Python qui permet d’obtenir les 12 premiers termes de la suite arithmétique de premier terme 60 et de raison 2."
   ]
  },
  {
   "cell_type": "code",
   "execution_count": null,
   "metadata": {},
   "outputs": [],
   "source": []
  },
  {
   "cell_type": "markdown",
   "metadata": {},
   "source": [
    "4. Donner l’instruction en Python qui permet d’obtenir les 20 premiers termes de la suite arithmétique de premier terme 250 et de raison -5."
   ]
  },
  {
   "cell_type": "code",
   "execution_count": null,
   "metadata": {},
   "outputs": [],
   "source": []
  },
  {
   "cell_type": "markdown",
   "metadata": {},
   "source": [
    "5. Donner l’instruction en Python qui permet d’obtenir les 8 premiers termes de la suite arithmétique de premier terme 0 et de raison -7."
   ]
  },
  {
   "cell_type": "code",
   "execution_count": null,
   "metadata": {},
   "outputs": [],
   "source": []
  }
 ],
 "metadata": {
  "kernelspec": {
   "display_name": "Python 3",
   "language": "python",
   "name": "python3"
  },
  "language_info": {
   "codemirror_mode": {
    "name": "ipython",
    "version": 3
   },
   "file_extension": ".py",
   "mimetype": "text/x-python",
   "name": "python",
   "nbconvert_exporter": "python",
   "pygments_lexer": "ipython3",
   "version": "3.7.6"
  }
 },
 "nbformat": 4,
 "nbformat_minor": 2
}
