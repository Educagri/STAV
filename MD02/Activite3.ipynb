{
 "cells": [
  {
   "cell_type": "markdown",
   "metadata": {},
   "source": [
    "<center><img src=\"images/MD2Act3.png\"></center>\n",
    "\n",
    "<p class=\"flotte\">\n",
    " <img src=\"images/dune.png\" alt=\"Nouveau !\" />\n",
    "</p>\n",
    "<p>\n",
    "L’étude du mouvement des dunes permet de prévoir l’évolution de leur protection sur l’écosystème (ou sur les polders par exemple) et de planifier une éventuelle intervention humaine.\n",
    "    \n",
    "<br>On a recueilli les données ci-contre sur le recul d’une dune sous l’effet de l’érosion.\n",
    "    \n",
    "<br>On souhaite déterminer en quelle année la dune aura reculé de 60 m afin de planifier une opération de remblayage. Pour cela, on écrit un programme en Python qui va simuler le recul à partir des données déjà observées.\n",
    "</p>\n",
    "\n",
    " \n",
    "\n",
    "```python\n",
    "from numpy.random import choice\n",
    "\n",
    "possible = [0.9,1.1,1.5,1.7,1.9]\n",
    "cumul = choice(possible)\n",
    "rang = 0\n",
    "\n",
    "while cumul < 60:\n",
    "    cumul =  ...\n",
    "    rang =   ...\n",
    "\n",
    "print(\"année limite \",   ...   )\n",
    "```\n",
    "\n",
    "La fonction `choice` de la bibliothèque `numpy.random` « choisit » une valeur au hasard dans une liste de manière équiprobable. C’est l’instruction `choice(possible)` qui joue le rôle de la suite $(u_n)$.\n",
    "\n",
    "5. a)\tExpliquer le rôle des variables `cumul` et `rang`.\n"
   ]
  },
  {
   "cell_type": "markdown",
   "metadata": {},
   "source": [
    "5. b) Indiquer ce qu’il faudrait mettre à la place des pointillés dans le programme suivant et le faire fonctionner."
   ]
  },
  {
   "cell_type": "code",
   "execution_count": 1,
   "metadata": {},
   "outputs": [
    {
     "ename": "TypeError",
     "evalue": "'<' not supported between instances of 'ellipsis' and 'int'",
     "output_type": "error",
     "traceback": [
      "\u001b[1;31m---------------------------------------------------------------------------\u001b[0m",
      "\u001b[1;31mTypeError\u001b[0m                                 Traceback (most recent call last)",
      "\u001b[1;32m<ipython-input-1-806cf2d83456>\u001b[0m in \u001b[0;36m<module>\u001b[1;34m()\u001b[0m\n\u001b[0;32m      5\u001b[0m \u001b[0mrang\u001b[0m \u001b[1;33m=\u001b[0m \u001b[1;36m0\u001b[0m\u001b[1;33m\u001b[0m\u001b[0m\n\u001b[0;32m      6\u001b[0m \u001b[1;33m\u001b[0m\u001b[0m\n\u001b[1;32m----> 7\u001b[1;33m \u001b[1;32mwhile\u001b[0m \u001b[0mcumul\u001b[0m \u001b[1;33m<\u001b[0m \u001b[1;36m60\u001b[0m\u001b[1;33m:\u001b[0m\u001b[1;33m\u001b[0m\u001b[0m\n\u001b[0m\u001b[0;32m      8\u001b[0m     \u001b[0mcumul\u001b[0m \u001b[1;33m=\u001b[0m  \u001b[1;33m...\u001b[0m\u001b[1;33m\u001b[0m\u001b[0m\n\u001b[0;32m      9\u001b[0m     \u001b[0mrang\u001b[0m \u001b[1;33m=\u001b[0m   \u001b[1;33m...\u001b[0m\u001b[1;33m\u001b[0m\u001b[0m\n",
      "\u001b[1;31mTypeError\u001b[0m: '<' not supported between instances of 'ellipsis' and 'int'"
     ]
    }
   ],
   "source": [
    "from numpy.random import choice\n",
    "\n",
    "possible = [0.9,1.1,1.5,1.7,1.9]\n",
    "cumul = choice(possible)\n",
    "rang = 0\n",
    "\n",
    "while cumul < 60:\n",
    "    cumul =  ...\n",
    "    rang =   ...\n",
    "\n",
    "print(\"année limite \",   ...   )"
   ]
  },
  {
   "cell_type": "markdown",
   "metadata": {},
   "source": [
    "\n",
    "On modifie le programme de la manière suivante pour conserver toute la suite des cumuls $(v_n)$ et la représenter. Exécuter le programme suivant.\n",
    "\n",
    "Si le graphique n'apparait pas, exécuter à nouveau le code. Obtient-on toujours la même représentation graphique ?"
   ]
  },
  {
   "cell_type": "code",
   "execution_count": null,
   "metadata": {},
   "outputs": [],
   "source": [
    "from numpy.random import choice\n",
    "import matplotlib.pyplot as graph\n",
    "\n",
    "possible = [0.9,1.1,1.5,1.7,1.9]\n",
    "cumul = [choice(possible)]\n",
    "\n",
    "while cumul[-1] < 60:\n",
    "    cumul.append(cumul[-1]+choice(possible))\n",
    "\n",
    "graph.plot(range(len(cumul)),cumul,\"ro\")\n",
    "graph.title(\"évolution du cumul du recul\")\n",
    "graph.show()"
   ]
  },
  {
   "cell_type": "markdown",
   "metadata": {},
   "source": [
    "6. \n",
    "\n",
    "En comparant les deux programmes précédents, conjecturer la signification de\n",
    "```python\n",
    "cumul[-1]\n",
    "```\n",
    "\n",
    "7. a) Une fois le programme exécuté, que doit-on écrire dans la console pour obtenir son premier terme ? Essayer la réponse dans le cadre de code ci-dessous.\n"
   ]
  },
  {
   "cell_type": "code",
   "execution_count": null,
   "metadata": {},
   "outputs": [],
   "source": []
  },
  {
   "cell_type": "markdown",
   "metadata": {},
   "source": [
    "7. b) Une fois le programme exécuté, que doit-on écrire dans la console pour obtenir le rang de son dernier terme     ? Essayer la réponse dans le cadre de code ci-dessous."
   ]
  },
  {
   "cell_type": "code",
   "execution_count": null,
   "metadata": {},
   "outputs": [],
   "source": []
  },
  {
   "cell_type": "markdown",
   "metadata": {},
   "source": [
    "7. c) Une fois le programme exécuté, que doit-on écrire dans la console pour obtenir la valeur de son dernier terme     ? Essayer la réponse dans le cadre de code ci-dessous."
   ]
  },
  {
   "cell_type": "code",
   "execution_count": null,
   "metadata": {},
   "outputs": [],
   "source": []
  },
  {
   "cell_type": "markdown",
   "metadata": {},
   "source": [
    "8. Les points semblent à peu près alignés. On donne les valeurs des premiers et derniers termes. \n",
    "\n",
    "$v_0=1,9$ et $v_{42}=61,8$\n",
    "\n",
    "Estimer une équation de la droite à l’aide de ces valeurs.\n",
    "\n",
    "9.\tCalculer la moyenne des valeurs de recul utilisées dans la simulation.\n",
    "\n",
    "10.\tEn déduire une estimation du moment où il faudra planifier une opération de remblayage.\n"
   ]
  }
 ],
 "metadata": {
  "kernelspec": {
   "display_name": "Python 3",
   "language": "python",
   "name": "python3"
  },
  "language_info": {
   "codemirror_mode": {
    "name": "ipython",
    "version": 3
   },
   "file_extension": ".py",
   "mimetype": "text/x-python",
   "name": "python",
   "nbconvert_exporter": "python",
   "pygments_lexer": "ipython3",
   "version": "3.6.4"
  }
 },
 "nbformat": 4,
 "nbformat_minor": 2
}
