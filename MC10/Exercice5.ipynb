{
 "cells": [
  {
   "cell_type": "markdown",
   "metadata": {},
   "source": [
    "<center><img src=\"images/MC10Ex5.png\"></center>\n",
    "\n",
    "En 1801, Jean-Antoine Chaptal écrit : \n",
    "\n",
    "« Le principe sucré existe dans le moût et en fait un des principaux caractères, il disparoît par la fermentation et est remplacé par l’alcool qui caractérise essentiellement le vin. »[…] c’est pour cela qu’on augmente à volonté la quantité d’alcool, en ajoutant du sucre au moût qui paroît en manquer. »\n",
    "\n",
    "Le moût désigne la mixture obtenue après pression ou cuisson de fruits ou d'autres produits destinés à la fermentation. Cette méthode d’ajout de sucre a gardé son nom, la chaptalisation ; elle est utilisée depuis la fin du XVIIIe siècle.\n",
    "\n",
    "Durant les 7 dernières années, on a mesuré dans un vignoble la teneur en sucre du moût et le degré alcoolique au moment de la commercialisation du vin, résumé dans le tableau suivant.\n",
    "\n",
    "|  Années  |   2013   |   2014   |   2015   |   2016   |   2017   |   2018   |   2019   |  \n",
    "| :-----------: | :------: | :------: |:------: | :------: | :------: |:------: | :------: |\n",
    "| Teneur en sucre du moût $x_i$ (en g/L) |161|169|192|165|178|194|175|\n",
    "| Degré alcoolique du vin $y_i$ (en °)|8,5|9,3|11,4|9|10,3|11,5|10|\n",
    "\n",
    "L’objectif est de déterminer un ajustement par la méthode des moindres carrés du degré alcoolique du vin en fonction de la teneur en sucre du moût à l’aide du logiciel Python.\n",
    "\n",
    "1. Construire les listes `abscisses` de la teneur en sucre du moût et `ordonnees` du degré alcoolique du vin rangées dans le même ordre.\n"
   ]
  },
  {
   "cell_type": "code",
   "execution_count": null,
   "metadata": {},
   "outputs": [],
   "source": [
    "# Ne pas hésiter à faire un copié-collé avec les données ci-dessous pour aller plus vite\n",
    "\n"
   ]
  },
  {
   "cell_type": "markdown",
   "metadata": {},
   "source": [
    "&nbsp;&nbsp;2. Écrire en langage Python une fonction `CoefDirecteur` et une fonction `OrdonneeOrigine` qui, pour deux points $A_1(x_1;y_1)$ et $A_2(x_2;y_2)$, renvoie le coefficient directeur et l’ordonnée à l’origine de la droite $(A_1A_2)$."
   ]
  },
  {
   "cell_type": "code",
   "execution_count": 1,
   "metadata": {},
   "outputs": [],
   "source": [
    "# fonction CoefDirecteur\n",
    "\n",
    "\n",
    "# fonction OrdonneeOrigine\n"
   ]
  },
  {
   "cell_type": "markdown",
   "metadata": {},
   "source": [
    "&nbsp;&nbsp;3. Connaissant la liste des abscisses et celle des ordonnées des points rangés dans le même ordre, et les paramètres $a$ et $b$ de la droite d’ajustement, créer une fonction `SommeResidus` qui à $a$, $b$, la liste des abscisses et celle des ordonnées retourne la somme des carrés des écarts."
   ]
  },
  {
   "cell_type": "code",
   "execution_count": null,
   "metadata": {},
   "outputs": [],
   "source": [
    "# fonction SommeResidus\n"
   ]
  },
  {
   "cell_type": "markdown",
   "metadata": {},
   "source": [
    "<img src=images/figuredroites.png>\n",
    "\n",
    "\n",
    "&nbsp;&nbsp;4. Connaissant la liste des abscisses et celle des ordonnées des points rangés dans le même ordre, on a créé une fonction MinCoefDirecteur qui détermine pour toutes les droites possibles construites à partir de deux points distincts le minimum des coefficients directeurs.\n",
    "\n",
    "```python\n",
    "def MinCoefDirecteur(abscisses,ordonnees):\n",
    "    listecoeffs = []\n",
    "    for i in range(len(abscisses)-1):\n",
    "        for j in range(i,len(ordonnees)-1):\n",
    "            listecoeffs.append(CoefDirecteur(abscisses[i],ordonnees[i],\n",
    "                                             abscisses[j+1],ordonnees[j+1]))\n",
    "    return min(listecoeffs)\n",
    "```\n",
    "\n",
    "&nbsp;&nbsp;&nbsp;&nbsp;a. Pourquoi la deuxième boucle (celle de `j`) commence en `i` et pas en 0 ?\n",
    "\n",
    "&nbsp;&nbsp;&nbsp;&nbsp;b. En s’appuyant sur cette fonction créer trois fonctions similaires, `MaxCoefDirecteur`, `MinOrdonneeOrigine`, `MaxOrdonneeOrigine` qui déterminent pour toutes les droites possibles construites à partir de deux points distincts le maximum des coefficients directeurs, le minimum et le maximum des ordonnées à l’origine."
   ]
  },
  {
   "cell_type": "code",
   "execution_count": null,
   "metadata": {},
   "outputs": [],
   "source": [
    "# Ne pas hésiter à copier-coller la fonction ci-dessus pour gagner du temps.\n",
    "# fonction MaxCoefDirecteur\n",
    "\n",
    "\n",
    "# fonction MinOrdonneeOrigine\n",
    "\n",
    "\n",
    "# fonction MaxOrdonneeOrigine\n",
    "\n",
    "\n"
   ]
  },
  {
   "cell_type": "markdown",
   "metadata": {},
   "source": [
    "<img src=images/tableauS.png>\n",
    "\n",
    "&nbsp;&nbsp;5. La fonction `ParametresAjustement` suivante permet de déterminer la somme des résidus (SCE) minimale. Compléter les 7 zones en pointillés à partir des idées illustrées en début d’exercice."
   ]
  },
  {
   "cell_type": "code",
   "execution_count": null,
   "metadata": {},
   "outputs": [],
   "source": [
    "def ParametresAjustement(abscisses,ordonnees,precision):\n",
    "    aminimum = ...\n",
    "    amaximum = ...\n",
    "    bminimum = ...\n",
    "    bmaximum = ...\n",
    "    aajust = aminimum\n",
    "    bajust = bminimum\n",
    "    s = SommeResidus(aajust,bajust,abscisses,ordonnees)\n",
    "    for a in arange(aminimum,amaximum,precision):\n",
    "        for b in arange(... , ...,precision):\n",
    "            if SommeResidus(a,b,abscisses,ordonnees) < s:\n",
    "                s = SommeResidus(a,b,abscisses,ordonnees)\n",
    "                aajust = a\n",
    "                bajust = ...\n",
    "    return 'Somme='+str(s)+'\\na='+str(aajust)+'\\nb='+str(bajust)\n"
   ]
  },
  {
   "cell_type": "markdown",
   "metadata": {},
   "source": [
    "&nbsp;&nbsp;6. Exécuter cette fonction permettant de déterminer les paramètres de la droite d’ajustement dans le cas des données de l’exercice.\n"
   ]
  },
  {
   "cell_type": "code",
   "execution_count": null,
   "metadata": {},
   "outputs": [],
   "source": []
  },
  {
   "cell_type": "markdown",
   "metadata": {},
   "source": [
    "\n",
    "&nbsp;&nbsp;7. Si en 2030, on mesure une teneur en sucre de 187 g/l, combien de degré d’alcool aura-t-on dans le vin ? Combien de sucre doit-on ajouter au moût pour atteindre 14° d’alcool ?"
   ]
  }
 ],
 "metadata": {
  "kernelspec": {
   "display_name": "Python 3",
   "language": "python",
   "name": "python3"
  },
  "language_info": {
   "codemirror_mode": {
    "name": "ipython",
    "version": 3
   },
   "file_extension": ".py",
   "mimetype": "text/x-python",
   "name": "python",
   "nbconvert_exporter": "python",
   "pygments_lexer": "ipython3",
   "version": "3.7.6"
  }
 },
 "nbformat": 4,
 "nbformat_minor": 2
}
