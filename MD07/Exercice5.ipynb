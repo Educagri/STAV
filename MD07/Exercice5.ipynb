{
 "cells": [
  {
   "cell_type": "markdown",
   "metadata": {},
   "source": [
    "<center><img src=\"images/MD7Ex5.png\"></center>\n",
    "\n",
    "\n",
    "La génération en compréhension a été vue à la séquence MD01.\n",
    "\n",
    "&nbsp;1. Avec Python\n",
    "\n",
    "a.\tgénérer, en compréhension, la liste `u` des 200 premiers termes de la suite arithmétique de terme initial 5 et de raison 3 puis en faire la somme à l’aide de la fonction `sum()`."
   ]
  },
  {
   "cell_type": "code",
   "execution_count": 1,
   "metadata": {},
   "outputs": [],
   "source": [
    "# écrire le code ici"
   ]
  },
  {
   "cell_type": "markdown",
   "metadata": {},
   "source": [
    "b.\tgénérer, en compréhension, la liste `v` des 120 premiers termes de la suite géométrique de terme initial 2 et de raison 1,05 puis en faire la somme à l’aide de la fonction `sum()`."
   ]
  },
  {
   "cell_type": "code",
   "execution_count": null,
   "metadata": {},
   "outputs": [],
   "source": [
    "# écrire le code ici"
   ]
  },
  {
   "cell_type": "markdown",
   "metadata": {},
   "source": [
    "&nbsp; 2.\tComparer ces résultats avec les formules permettant le calcul direct de ces sommes."
   ]
  }
 ],
 "metadata": {
  "kernelspec": {
   "display_name": "Python 3",
   "language": "python",
   "name": "python3"
  },
  "language_info": {
   "codemirror_mode": {
    "name": "ipython",
    "version": 3
   },
   "file_extension": ".py",
   "mimetype": "text/x-python",
   "name": "python",
   "nbconvert_exporter": "python",
   "pygments_lexer": "ipython3",
   "version": "3.7.6"
  }
 },
 "nbformat": 4,
 "nbformat_minor": 2
}
