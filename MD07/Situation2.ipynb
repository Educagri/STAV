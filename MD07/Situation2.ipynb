{
 "cells": [
  {
   "cell_type": "markdown",
   "metadata": {},
   "source": [
    "# Exercices sur la dynamique des populations\n",
    "\n",
    "## Situation 2 : Modèle proies-prédateurs\n",
    "\n",
    "Nous nous intéressons ici à un modèle d’interaction proies-prédateurs, proposé par Vito Volterra en 1926. On note $u_n$  le nombre de proies et $v_n$ le nombre de prédateurs à l’instant $n$.\n",
    "\n",
    "En l’absence de prédateurs, on note $a$ le taux de reproduction des proies entre les instants $n$ et $n+1$. Il est supposé constant dans ce modèle : les proies sont supposées avoir une source illimitée de nourriture et se reproduire si elles ne sont soumises à aucune prédation.\n",
    "\n",
    "Le taux de mortalité des proies due aux prédateurs est supposé, dans ce modèle, proportionnel au nombre de prédateurs. $b$ est le coefficient de proportionnalité.\n",
    "\n",
    "La variation du nombre de proies est donnée par sa propre croissance moins le taux de prédation qui leur est appliqué.\n",
    "\n",
    "<p style=\"text-align:center\";>$\\dfrac{u_{n+1}-u_n}{u_n}=a-bv_n$ &nbsp;&nbsp;&nbsp;&nbsp;&nbsp; équation des proies</p>\n",
    "\n",
    "En l’absence des proies, on note $c$ le taux de mortalité des prédateurs entre les instants $n$ et $n+1$. Il est supposé constant dans ce modèle : il représente la mort naturelle des prédateurs.\n",
    "\n",
    "Le taux de reproduction des prédateurs en fonction des proies mangées est supposé, là encore, proportionnel au nombre de proies. $d$ est le coefficient de proportionnalité.\n",
    "\n",
    "La variation du nombre de prédateurs est donnée par sa croissance due au nombre de proies, diminuée du nombre de morts naturelles.\n",
    "\n",
    "<p style=\"text-align:center\";>$\\dfrac{v_{n+1}-v_n}{v_n}=-c+du_n$ &nbsp;&nbsp;&nbsp;&nbsp;&nbsp; équation des prédateurs</p>\n",
    "\n",
    "On obtient ainsi le système d’équations du modèle de Volterra :\n",
    "\n",
    "$$\\left\\{\\begin{array}{ll}u_{n+1}=u_n(1+a-bv_n)\\\\ v_{n+1}=v_n(1-c+du_n) \\end{array}\\right.$$\n",
    "\n",
    "On suppose qu’à ce jour, il y a 52000 proies et 9100 prédateurs et on se demande comment vont évoluer les populations de ces deux espèces. On suppose qu’il n’y a aucune autre intervention extérieure. On prend pour valeurs $a=9$ % ; $b=0,001$ % ; $c=24$ % ; $d=0,0005$ %.\n",
    "\n",
    "Écrire un programme qui remplit deux listes avec les   premiers termes des deux suites   et   puis tracer l’évolution des deux populations dans un graphique. Faire plusieurs simulations et expliquer. \n"
   ]
  },
  {
   "cell_type": "code",
   "execution_count": 1,
   "metadata": {},
   "outputs": [],
   "source": [
    "# Taper le code ici"
   ]
  }
 ],
 "metadata": {
  "kernelspec": {
   "display_name": "Python 3",
   "language": "python",
   "name": "python3"
  },
  "language_info": {
   "codemirror_mode": {
    "name": "ipython",
    "version": 3
   },
   "file_extension": ".py",
   "mimetype": "text/x-python",
   "name": "python",
   "nbconvert_exporter": "python",
   "pygments_lexer": "ipython3",
   "version": "3.6.4"
  }
 },
 "nbformat": 4,
 "nbformat_minor": 2
}
