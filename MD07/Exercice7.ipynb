{
 "cells": [
  {
   "cell_type": "markdown",
   "metadata": {},
   "source": [
    "<center><img src=\"images/MD7Ex7.png\"></center>\n",
    "\n",
    "La légende dit que pour le remercier des plaisirs que lui procurait le jeu d’échecs, l’empereur Shiram promit à son inventeur Sissa de lui offrir tout ce qu’il voudrait.\n",
    "Sissa proposa alors de demander la même quantité de riz que celle qu’on obtiendrait avec la méthode suivante : sur la première case de l’échiquier, un grain de riz, sur la deuxième case, deux grains de riz, sur la troisième quatre grains de riz, ... chaque case ayant deux fois plus de grains que la case précédente, jusqu’à la 64e case de l’échiquier.\n",
    "\n",
    "<img src=\"https://upload.wikimedia.org/wikipedia/commons/thumb/c/cd/Wheat_and_chessboard_problem.jpg/640px-Wheat_and_chessboard_problem.jpg\">\n",
    "\n",
    "<p style=\"text-align:center\";>Par <a href=\"//commons.wikimedia.org/wiki/User:McGeddon\" class=\"mw-redirect\" title=\"User:McGeddon\">McGeddon</a> — <span class=\"int-own-work\" lang=\"fr\">Travail personnel</span> - Ce fichier est dérivé de&nbsp;:&nbsp; <a href=\"//commons.wikimedia.org/wiki/File:Empty_wooden_chessboard.jpg\" title=\"File:Empty wooden chessboard.jpg\">Empty wooden chessboard.jpg</a>:&nbsp;<a href=\"//commons.wikimedia.org/wiki/File:Empty_wooden_chessboard.jpg\" class=\"image\"></a>(public domain), <a href=\"https://creativecommons.org/licenses/by-sa/4.0\" title=\"Creative Commons Attribution-Share Alike 4.0\">CC BY-SA 4.0</a>, <a href=\"https://commons.wikimedia.org/w/index.php?curid=48783038\">Lien</a></p>\n",
    "\n",
    "Shiram accepta cette demande qui lui sembla réalisable mais il fut contraint de couper la tête de Sissa afin que personne ne sache qu’il ne pouvait pas honorer sa promesse.\n",
    "\n",
    "1.\tÀ l’aide d’un tableur, donner un ordre de grandeur du nombre total de grains de riz demandé par Sissa.\n",
    "\n",
    "2.\tProgrammer ce calcul avec Python pour avoir la valeur exacte entièrement calculée."
   ]
  },
  {
   "cell_type": "code",
   "execution_count": 1,
   "metadata": {},
   "outputs": [],
   "source": [
    "# écrire le code ici"
   ]
  },
  {
   "cell_type": "markdown",
   "metadata": {},
   "source": [
    "&nbsp;3.\tEn modélisant la situation à l’aide d’une suite, calculer la valeur exacte de ce nombre (sous forme d’une expression utilisant des puissances).\n",
    "\n",
    "&nbsp;4.\tLe PMG (poids de mille grains) du riz est de 30 g. Quelle masse de riz exprimé en tonnes demandait Sissa ?\n",
    "\n",
    "&nbsp;5.\tEn 2018, notre planète a produit 770 millions de tonnes de riz. Combien de planètes terre de 2018 sont nécessaires pour satisfaire Sissa ?\n"
   ]
  }
 ],
 "metadata": {
  "kernelspec": {
   "display_name": "Python 3",
   "language": "python",
   "name": "python3"
  },
  "language_info": {
   "codemirror_mode": {
    "name": "ipython",
    "version": 3
   },
   "file_extension": ".py",
   "mimetype": "text/x-python",
   "name": "python",
   "nbconvert_exporter": "python",
   "pygments_lexer": "ipython3",
   "version": "3.7.6"
  }
 },
 "nbformat": 4,
 "nbformat_minor": 2
}
