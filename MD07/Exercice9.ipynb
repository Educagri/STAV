{
 "cells": [
  {
   "cell_type": "markdown",
   "metadata": {},
   "source": [
    "<center><img src=\"images/MD7Ex9.png\"></center>\n",
    "\n",
    "Les larves des anguilles vivent quelquefois pendant des mois ou des années en mer avant de remonter les cours d'eau comme les bras de mer où elles vont atteindre leur plein développement, y vivre, puis retourner en mer pour y pondre et y mourir.\n",
    "\n",
    "Un lac se déverse dans un bras de mer. Suite à un accident géologique, le bras de mer se retrouve isolé de la mer mais reste relié au lac. On étudie alors l’évolution de la population des anguilles dans ce système fermé.  On estime qu’au moment de la catastrophe, il y a 20000 anguilles dans le lac et 7000 larves bloquées dans le bras de mer.\n",
    "\n",
    "La première année, 3600 anguilles ont descendu le bras de mer et ont produit chacune une larve qui a réussi à survivre aux prédateurs, puis ces anguilles sont restées dans le bras de mer pour y mourir. Pendant ce temps, 720 larves ont remonté le cours d’eau pour se développer dans le lac.\n",
    "\n",
    "1.\tCalculer le pourcentage d’anguilles et le pourcentage de larves qui ont migré.\n",
    "\n",
    "2.\tOn suppose maintenant que chaque année 20 % des anguilles et 10 % des larves vont migrer. On modélise la situation avec les suites $(a_n)$ et $(b_n)$ telles que $a_n$ est le nombre d’anguilles dans le lac à l’année $n$  et $b_n$ est le nombre de larves dans le bras de mer à l’année $n$.\n",
    "\n",
    " a.\tQue valent $a_0$ et $b_0$ ?\n",
    " \n",
    " b.\tExprimer $a_{n+1}$ et $b_{n+1}$ en fonction de $a_n$ et $b_n$.\n",
    " \n",
    "3.\tCompléter les pointillés du programme suivant pour enregistrer l’évolution des deux populations dans les listes Anguilles pour les anguilles et Larves pour les larves."
   ]
  },
  {
   "cell_type": "code",
   "execution_count": 1,
   "metadata": {},
   "outputs": [],
   "source": [
    "a = 20000\n",
    "b = 7000\n",
    "Anguilles = []\n",
    "Larves = []\n",
    "\n",
    "for compteur in range(20):\n",
    "    ancien_a = a\n",
    "    a = ...\n",
    "    b = ...\n",
    "    Anguilles.append(...)\n",
    "    Larves..."
   ]
  },
  {
   "cell_type": "markdown",
   "metadata": {},
   "source": [
    "&nbsp;4. À quoi sert l’instruction `ancien_a = a` ?\n",
    "\n",
    "&nbsp;5.\tTracer la représentation graphique de ces deux suites en rouge pour les anguilles et en bleu pour les larves. \n"
   ]
  },
  {
   "cell_type": "code",
   "execution_count": null,
   "metadata": {},
   "outputs": [],
   "source": [
    "# écrire le code ici"
   ]
  },
  {
   "cell_type": "markdown",
   "metadata": {},
   "source": [
    "&nbsp;6.\tQuel semble être le sens de variation de chacune des suites ? Vers quelle situation les deux populations semblent se diriger ?\n",
    "\n",
    "### Et si vous jouiez les petits chercheurs ?\n",
    "\n",
    "&nbsp;7. Essayer avec d’autres taux de migration (20%,20%), (5%,10%),… ou même modifier le programme pour intégrer les taux"
   ]
  }
 ],
 "metadata": {
  "kernelspec": {
   "display_name": "Python 3",
   "language": "python",
   "name": "python3"
  },
  "language_info": {
   "codemirror_mode": {
    "name": "ipython",
    "version": 3
   },
   "file_extension": ".py",
   "mimetype": "text/x-python",
   "name": "python",
   "nbconvert_exporter": "python",
   "pygments_lexer": "ipython3",
   "version": "3.7.6"
  }
 },
 "nbformat": 4,
 "nbformat_minor": 2
}
