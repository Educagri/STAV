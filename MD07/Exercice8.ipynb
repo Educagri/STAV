{
 "cells": [
  {
   "cell_type": "markdown",
   "metadata": {},
   "source": [
    "# MD07 : Somme des termes d’une suite\n",
    "## Exercice 8\n",
    "\n",
    "Un particulier souhaite poser le long de sa piscine une terrasse de forme parabolique. Celle-ci sera constituée de 99 planches de 10 cm de large. Les planches sont numérotées de 1 à 99. On note $u_n$  la longueur en cm de la $n$-ième planche dont on donne la formule $u_n=-0,2n^2+20n$.\n",
    "\n",
    "<img src=\"terrasse.png\">\n",
    "\n",
    "1.\tÉcrire un programme en Python permettant de calculer la longueur totale des planches."
   ]
  },
  {
   "cell_type": "code",
   "execution_count": 1,
   "metadata": {},
   "outputs": [],
   "source": [
    "# écrire le code ici"
   ]
  },
  {
   "cell_type": "markdown",
   "metadata": {},
   "source": [
    "&nbsp;2.\tExécuter le programme et donner la longueur totale des planches.\n",
    "\n",
    "&nbsp;3.\tEn déduire la surface de la terrasse.\n",
    "\n",
    "&nbsp;4.\tLes planches sont vendues en lot de 12 et font 2,5 m de long. Combien de lots sont nécessaires pour poser cette terrasse ?\n",
    "\n",
    "Bien sûr, on coupe les planches et on les met bout à bout.\n",
    "\n",
    "<img src=\"planchescoupees.png\">\n",
    "\n",
    "&nbsp;5.\tLors de la livraison du matériel, trois lots ont été perdus. \n",
    "\n",
    "Le montage s’est fait dans l’ordre, on cherche le numéro de la dernière planche que l’on peut monter.\n",
    "\n",
    "&nbsp;a.\tCompléter l’algorithme suivant pour répondre à cette question.\n",
    "\n",
    "&nbsp; &nbsp; &nbsp; &nbsp; &nbsp; &nbsp;&nbsp; $S \\leftarrow$...<br>\n",
    "&nbsp; &nbsp; &nbsp; &nbsp; &nbsp; &nbsp;&nbsp; $n \\leftarrow$...<br>\n",
    "&nbsp; &nbsp; &nbsp; &nbsp; &nbsp; &nbsp;&nbsp; Tant que $S < $... faire<br>\n",
    "&nbsp; &nbsp; &nbsp; &nbsp; &nbsp; &nbsp;&nbsp; &nbsp; | &nbsp;&nbsp; $n \\leftarrow$...<br>\n",
    "&nbsp; &nbsp; &nbsp; &nbsp; &nbsp; &nbsp;&nbsp; &nbsp; | &nbsp;&nbsp; $S \\leftarrow$...<br>\n",
    "&nbsp; &nbsp; &nbsp; &nbsp; &nbsp; &nbsp;&nbsp; fin tant que<br>\n",
    "&nbsp; &nbsp; &nbsp; &nbsp; &nbsp; &nbsp;&nbsp; Afficher ...<br>\n",
    "\n",
    "&nbsp;b.\tTraduire cet algorithme en Python, l’exécuter et répondre à la question."
   ]
  },
  {
   "cell_type": "code",
   "execution_count": null,
   "metadata": {},
   "outputs": [],
   "source": [
    "# écrire le code ici"
   ]
  }
 ],
 "metadata": {
  "kernelspec": {
   "display_name": "Python 3",
   "language": "python",
   "name": "python3"
  },
  "language_info": {
   "codemirror_mode": {
    "name": "ipython",
    "version": 3
   },
   "file_extension": ".py",
   "mimetype": "text/x-python",
   "name": "python",
   "nbconvert_exporter": "python",
   "pygments_lexer": "ipython3",
   "version": "3.6.4"
  }
 },
 "nbformat": 4,
 "nbformat_minor": 2
}
