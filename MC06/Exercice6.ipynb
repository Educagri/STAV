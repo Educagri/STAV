{
 "cells": [
  {
   "cell_type": "markdown",
   "metadata": {},
   "source": [
    "<center><img src=\"images/MC6Ex6.png\"></center>\n",
    "\n",
    "Dans une entreprise de l’industrie agro-alimentaire, le coût de la fabrication de $x$ tonnes de produits est donné par la fonction $C$, définie sur l’intervalle $[0;20]$ et représentée par la courbe sur le graphique ci-dessous.\n",
    "\n",
    "<IMG SRC=\"images/CourbeMC6.png\">\n",
    "\n",
    "### Partie A\n",
    "\n",
    "Chaque tonne de produit est vendu au prix unitaire de 30 k€ (c’est-à-dire 30000 €)\n",
    "\n",
    "1.\tAprès avoir exprimé la recette $R$ en fonction de $x$, tracer la droite $D$ représentant la recette dans le repère ci-dessus.\n",
    "\n",
    "2.\tAvec la précision permise par le graphique, lire graphiquement, le coût, la recette et le bénéfice obtenu pour une fabrication de :\n",
    "\n",
    " a. 4 tonnes de produit;\n",
    " \n",
    " b. 10 tonnes de produit ;\n",
    " \n",
    " c. Interpréter les résultats obtenus.\n",
    " \n",
    "3.\tDéterminer graphiquement les valeurs de $x$ pour lesquels l’entreprise dégage un bénéfice.\n",
    "\n",
    "### Partie B\n",
    "\n",
    "On admet dans cette partie que la fonction $C$ est définie sur l’intervalle  par : $C(x)=0,5x^3-12x^2+72x+50$.\n",
    " .\n",
    "1. Exprimer en fonction de $x$, le bénéfice $B(x)$.\n",
    "\n",
    "2. En utilisant Python et le programme employé dans la question 6 de l’activité 1, déterminer pour quelle valeur de $x$, le bénéfice est maximum."
   ]
  },
  {
   "cell_type": "code",
   "execution_count": null,
   "metadata": {},
   "outputs": [],
   "source": [
    "def V(x): return ... # compléter avec la fonction B\n",
    "\n",
    "a = ... # à compléter\n",
    "b = ... # à compléter\n",
    "N = ... # à compléter\n",
    "x = a\n",
    "maxi = V(a)\n",
    "pas = (b-a)/N\n",
    "for k in range(1,N+1):\n",
    "    x = x+pas\n",
    "    y = V(x)\n",
    "    if y > maxi:\n",
    "        maxi = y\n",
    "        xmaxi = x\n",
    "print(xmaxi, maxi)"
   ]
  }
 ],
 "metadata": {
  "kernelspec": {
   "display_name": "Python 3",
   "language": "python",
   "name": "python3"
  },
  "language_info": {
   "codemirror_mode": {
    "name": "ipython",
    "version": 3
   },
   "file_extension": ".py",
   "mimetype": "text/x-python",
   "name": "python",
   "nbconvert_exporter": "python",
   "pygments_lexer": "ipython3",
   "version": "3.7.6"
  }
 },
 "nbformat": 4,
 "nbformat_minor": 2
}
