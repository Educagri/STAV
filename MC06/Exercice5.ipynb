{
 "cells": [
  {
   "cell_type": "markdown",
   "metadata": {},
   "source": [
    "# MC06 : Fonction du troisième degré, racines et signe\n",
    "## Exercice 5\n",
    "\n",
    "Compléter le programme Python ci-dessous afin :\n",
    "\n",
    "- de définir une fonction $f$ du troisième degré, par exemple $f(x)=x^3-x$. \n",
    "- de tester si $x_1$ est racine ou non de $f$ à l’aide de la fonction `RacineOuPasRacine`.\n",
    "- d’afficher dans tous les cas la valeur de $f(x_1)$\n"
   ]
  },
  {
   "cell_type": "code",
   "execution_count": null,
   "metadata": {},
   "outputs": [],
   "source": [
    "def f(x): return ...\n",
    "\n",
    "def RacineOuNon(x,f):\n",
    "    if ... :\n",
    "        return True\n",
    "    else:\n",
    "        return False\n",
    "\n",
    "x1 = ...\n",
    "if RacineOuNon(x1,f):\n",
    "    print(\"x1 =\",x1,\"est une bien une racine de f\")\n",
    "else:\n",
    "    print(...)\n",
    "print(\"car ..."
   ]
  }
 ],
 "metadata": {
  "kernelspec": {
   "display_name": "Python 3",
   "language": "python",
   "name": "python3"
  },
  "language_info": {
   "codemirror_mode": {
    "name": "ipython",
    "version": 3
   },
   "file_extension": ".py",
   "mimetype": "text/x-python",
   "name": "python",
   "nbconvert_exporter": "python",
   "pygments_lexer": "ipython3",
   "version": "3.6.4"
  }
 },
 "nbformat": 4,
 "nbformat_minor": 2
}
