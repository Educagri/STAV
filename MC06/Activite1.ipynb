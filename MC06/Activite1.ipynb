{
 "cells": [
  {
   "cell_type": "markdown",
   "metadata": {},
   "source": [
    "# MC06 : Fonction du troisième degré, racines et signe\n",
    "## Activité 1\n",
    "\n",
    "On considère un carré de 6 cm de côté. On a découpé dans chacun de ses coins, un carré dont la longueur mesure   centimètres (figure 1).\n",
    "\n",
    "<IMG SRC=\"Figures.png\">\n",
    "\n",
    "On replie les morceaux pour obtenir une boîte ayant la forme d’un parallélépipède rectangle (voir figure 2 ci-dessus).\n",
    "\n",
    "On note  $V_c(x)$  le volume de la boîte ainsi obtenue. \n",
    "\n",
    "1.\tDonner, sous forme d’intervalle, les valeurs que peut prendre la variable $x$.\n",
    "\n",
    "2.\tJustifier que la longueur et la largeur de la boîte ont pour valeur $6-2x$.\n",
    "\n",
    "3.\tEn déduire le volume $V_c(x)$  de la boîte en fonction de $x$.\n",
    "\n",
    "4.\tRéaliser un tableau de valeur de $V_c(x)$ pour $x$ dans l’intervalle $[0 ;3]$ à l’aide d’un pas de $0,5$.\n",
    "\n",
    "5.\tReprésenter la fonction $V_c$  sur la calculatrice dans une fenêtre adaptée.\n",
    "\n",
    "6. a. A l’aide de ce graphique réalisé à la question précédente, déterminer la valeur de x, arrondie au dixième, pour laquelle la boîte a un volume maximum.\n",
    "\n",
    " b. Dans la cellule de code suivante, construire une fonction renvoyant le maximum d’une fonction $V$ donnée sur un intervalle $[a ;b]$ ainsi que l’abscisse pour laquelle on a ce maximum, avec une précision de $\\dfrac{b-a}N$ , en traduisant l’algorithme ci-dessous :\n",
    "\n",
    "\n",
    "$x \\leftarrow a$<br>\n",
    "$maxi \\leftarrow V(a)$<br>\n",
    "$pas \\leftarrow (b-a)/N$<br>\n",
    "Pour $k$ variant de $1$ à $N$ faire<br>\n",
    "&nbsp; | &nbsp;&nbsp; $x \\leftarrow x+pas$<br>\n",
    "&nbsp; | &nbsp;&nbsp; $y \\leftarrow V(x)$<br>\n",
    "&nbsp; | &nbsp;&nbsp; Si $y>maxi$ alors <br>\n",
    "&nbsp; | &nbsp;&nbsp; &nbsp; | &nbsp;&nbsp; $maxi \\leftarrow y$<br>\n",
    "&nbsp; | &nbsp;&nbsp; &nbsp; | &nbsp;&nbsp; $xmaxi \\leftarrow x$<br>\n",
    "&nbsp; | &nbsp;&nbsp; Fin Si<br>\n",
    "fin Pour<br>\n",
    "Afficher $xmaxi$ et $maxi$\n",
    "\n",
    "On prendra $a = 0$, $b = 3$ et $N = 1000$ pour l’application.\n"
   ]
  },
  {
   "cell_type": "code",
   "execution_count": null,
   "metadata": {},
   "outputs": [],
   "source": [
    "# taper ici la solution de la question 6.b\n",
    "\n"
   ]
  },
  {
   "cell_type": "markdown",
   "metadata": {},
   "source": [
    "&nbsp;&nbsp;&nbsp;&nbsp;7.\tEn utilisant la méthode par balayage ([voir MC4, Activité 3](MC04/Activite3.ipynb)), déterminer pour quelle(s) valeur(s) de $x$, le volume de la boîte est de 10 cm3. Les résultats seront arrondis au centième près."
   ]
  },
  {
   "cell_type": "code",
   "execution_count": null,
   "metadata": {},
   "outputs": [],
   "source": [
    "# taper ici la solution de la question 7\n",
    "\n"
   ]
  }
 ],
 "metadata": {
  "kernelspec": {
   "display_name": "Python 3",
   "language": "python",
   "name": "python3"
  },
  "language_info": {
   "codemirror_mode": {
    "name": "ipython",
    "version": 3
   },
   "file_extension": ".py",
   "mimetype": "text/x-python",
   "name": "python",
   "nbconvert_exporter": "python",
   "pygments_lexer": "ipython3",
   "version": "3.7.6"
  }
 },
 "nbformat": 4,
 "nbformat_minor": 2
}
