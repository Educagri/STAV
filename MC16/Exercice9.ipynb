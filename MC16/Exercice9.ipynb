{
 "cells": [
  {
   "cell_type": "markdown",
   "metadata": {},
   "source": [
    "<center><img src=\"images/MC16Ex9.png\"></center>\n",
    "\n",
    "L’association suisse Queduvent publie ce graphique qui représente l’intensité du bruit d’une éolienne en\n",
    "décibels (dB) en fonction de l’éloignement de sa base, en mètres.\n",
    "\n",
    "<center><img src=\"images/MC16Eol.png\"></center>\n",
    "\n",
    "L’association précise sur son site internet qu’à 300 m, l’intensité du bruit est de 45 dB.\n",
    "\n",
    "Pour ce type d’éolienne, on considère que l’intensité du bruit peut être modélisée par la fonction $f$\n",
    "définie sur l’intervalle $[1 ; 1200]$ par :\n",
    "\n",
    "$$f(x) = 70 - 4,328 \\ln x$$\n",
    "\n",
    "avec $x$ la distance au sol de l’éolienne, exprimée en mètres, et $f(x)$ le bruit émis, exprimé en décibels (dB).\n",
    "\n",
    "Les résultats seront, si nécessaire, arrondis au dixième.\n",
    "\n",
    "1. L’information de l’association est-elle correcte ? Justifier votre réponse.\n",
    "2. Préciser le sens de variations de la fonction $f$. Justifier votre réponse.\n",
    "3. Le maire d’une commune située à côté d’une éolienne souhaite implanter des habitations à l’abri de\n",
    "toute nuisance sonore. Pour cela, il s’appuie sur les résultats d’une étude médicale montrant qu’à\n",
    "partir d’une intensité sonore régulière de plus de 40 dB, des troubles du sommeil surviennent chez les\n",
    "personnes habitants à proximité d’une éolienne.\n",
    "\n",
    "a. Résoudre par le calcul $f(x)\\leqslant40$ sur $[1 ; 1200]$.\n",
    "\n",
    "b. Déterminer à quelle distance de l’éolienne, arrondie au mètre, il faut\n",
    "vivre pour ne pas être exposé à ce risque.\n",
    "\n",
    "4. On se propose désormais de retrouver la réponse de la question\n",
    "précédente à l’aide d’un algorithme.\n",
    "\n",
    "$Seuil \\leftarrow 45$<br>\n",
    "$N \\leftarrow 0$<br>\n",
    "$X \\leftarrow 70$<br>\n",
    "Tant que $X \\leqslant Seuil$  faire<br>\n",
    "&nbsp; | &nbsp;&nbsp; $N \\leftarrow N+1$<br>\n",
    "&nbsp; | &nbsp;&nbsp; $N \\leftarrow 70-4.328\\times \\ln N$<br>\n",
    "Fin tant que<br>\n",
    "Afficher $X$\n",
    "\n",
    "a. Indiquer puis corriger les trois fautes présentes dans cet algorithme.\n",
    "\n",
    "b. Traduire cet algorithme en langage Python puis le tester. Comparer\n",
    "le résultat obtenu dans la question 3b).\n"
   ]
  },
  {
   "cell_type": "code",
   "execution_count": 2,
   "metadata": {},
   "outputs": [],
   "source": [
    "# écrire le code ici\n"
   ]
  }
 ],
 "metadata": {
  "kernelspec": {
   "display_name": "Python 3",
   "language": "python",
   "name": "python3"
  },
  "language_info": {
   "codemirror_mode": {
    "name": "ipython",
    "version": 3
   },
   "file_extension": ".py",
   "mimetype": "text/x-python",
   "name": "python",
   "nbconvert_exporter": "python",
   "pygments_lexer": "ipython3",
   "version": "3.7.6"
  }
 },
 "nbformat": 4,
 "nbformat_minor": 2
}
