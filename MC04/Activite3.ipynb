{
 "cells": [
  {
   "cell_type": "markdown",
   "metadata": {},
   "source": [
    "# MC04 : Fonction du second degré, racines et signe\n",
    "## Activité 3\n",
    "\n",
    "On considère une fonction $f$ définie sur un intervalle $[a;b]$.\n",
    "\n",
    "Le but est de trouver un encadrement à $10^{-n}$ près d’une solution $\\alpha$ de l’équation $f(x)=k$ dans l’intervalle $[a;b]$.\n",
    "\n",
    "On se place dans cette activité dans le cas où $f$ est croissante et $f(a) \\leqslant k \\leqslant f(b)$.\n",
    "\n",
    "Le principe est de calculer $f(a)$, $f(a+10^{-n})$, $f(a+2\\times10^{-n})$, ... tant que $f(x)$  reste inférieur à  $k$.\n",
    "\n",
    "1.\tLe programme ci-dessous a été saisi et testé. Expliquer les résultats dans le contexte de l’énoncé."
   ]
  },
  {
   "cell_type": "code",
   "execution_count": null,
   "metadata": {},
   "outputs": [],
   "source": [
    "# Résolution de l'équation f(x) = k avec la méthode\n",
    "# par balayage en obtenant en encadrement de la solution\n",
    "# avec n chiffres après la virgule.\n",
    "\n",
    "def f(x):\n",
    "    return x*x\n",
    "\n",
    "def balayage(n,k):\n",
    "    x = 0\n",
    "    for i in range(1,n+1):\n",
    "        h = 10**(-i)\n",
    "        x = x + h\n",
    "        while f(x) < k:\n",
    "            x = x + h\n",
    "        x = x - h\n",
    "    return (round(x,n),round(x+h,n))\n",
    "\n",
    "print(balayage(2,5))"
   ]
  },
  {
   "cell_type": "markdown",
   "metadata": {},
   "source": [
    "&nbsp;&nbsp;&nbsp;&nbsp;2. Exécuter la cellule de code précédente puis tester pour les valeurs ci-dessous et indiquer les réponses obtenues pour $n = 3$ et $k = 5$, puis $n = 4$ et $k = 16$.\n",
    "\n",
    "&nbsp;&nbsp;&nbsp;&nbsp;3.\tModifier ce programme pour trouver un encadrement à $10^{-4}$ près d’une solution $\\alpha$ de l’équation $2x^2-10+11=0$  dans l’intervalle $[0;2]$.\n"
   ]
  }
 ],
 "metadata": {
  "kernelspec": {
   "display_name": "Python 3",
   "language": "python",
   "name": "python3"
  },
  "language_info": {
   "codemirror_mode": {
    "name": "ipython",
    "version": 3
   },
   "file_extension": ".py",
   "mimetype": "text/x-python",
   "name": "python",
   "nbconvert_exporter": "python",
   "pygments_lexer": "ipython3",
   "version": "3.6.4"
  }
 },
 "nbformat": 4,
 "nbformat_minor": 2
}
