{
 "cells": [
  {
   "cell_type": "markdown",
   "metadata": {},
   "source": [
    "# MC04 : Fonction du second degré, racines et signe\n",
    "## Exercice 5\n",
    "\n",
    "On cherche à déterminer les décimales de  $\\sqrt{7}$.\n",
    "\n",
    "1.\tEn considérant que $\\sqrt{7}$ est la solution positive de l’équation $x^2=7$ , justifier que  $2\\leqslant \\sqrt{7} \\leqslant 3$.\n",
    "\n",
    "2.\tDéterminer l’entier $b$ tel que  $2+0,1b\\leqslant \\sqrt{7} \\leqslant 2+0,1(b+1)$.\n",
    "\n",
    "3.\tDéterminer ainsi une valeur approchée de $\\sqrt{7}$ à 0,01 près par défaut.\n",
    "\n",
    "4.\tOn définit la fonction `cestquoi` suivante :\n"
   ]
  },
  {
   "cell_type": "code",
   "execution_count": null,
   "metadata": {},
   "outputs": [],
   "source": [
    "def cestquoi(precision):\n",
    "    a = 0\n",
    "    for n in range(precision+1):\n",
    "        while a*a < 7:\n",
    "            a = a+10**(-n)\n",
    "        a = a-10**(-n)\n",
    "    return(a)\n"
   ]
  },
  {
   "cell_type": "markdown",
   "metadata": {},
   "source": [
    "&nbsp;&nbsp;&nbsp;&nbsp;a.\tExpliquer ce que fait cette fonction\n",
    "\n",
    "&nbsp;&nbsp;&nbsp;&nbsp;b.\tModifier le script à l’aide de la commande round pour ne pas faire afficher les décimales flottantes inutiles.\n",
    "\n",
    "&nbsp;5.\tModifier le script pour obtenir une fonction qui permette de déterminer une valeur approchée de la racine carrée de n’importe quel nombre avec une précision donnée.\n"
   ]
  }
 ],
 "metadata": {
  "kernelspec": {
   "display_name": "Python 3",
   "language": "python",
   "name": "python3"
  },
  "language_info": {
   "codemirror_mode": {
    "name": "ipython",
    "version": 3
   },
   "file_extension": ".py",
   "mimetype": "text/x-python",
   "name": "python",
   "nbconvert_exporter": "python",
   "pygments_lexer": "ipython3",
   "version": "3.6.4"
  }
 },
 "nbformat": 4,
 "nbformat_minor": 2
}
