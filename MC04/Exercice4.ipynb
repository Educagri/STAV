{
 "cells": [
  {
   "cell_type": "markdown",
   "metadata": {},
   "source": [
    "# MC04 : Fonction du second degré, racines et signe\n",
    "## Exercice 4\n",
    "\n",
    "On considère une fonction trinôme du second degré du type $f(x)=ax^2+bx+c$  ($a\\not=0$) dont on connait une racine $x_1$.\n",
    "\n",
    "1.\tSoit $x_2$ l’éventuelle deuxième racine.\n",
    "\n",
    " a.\tDévelopper $a(x-x_1)(x-x_2)$ la forme factorisée de $f(x)$.\n",
    " \n",
    " b.\tEn déduire que $x_2=\\dfrac{c}{a\\times x_1}$.\n",
    " \n",
    "2.\tSi $c=0$, factoriser $f(x)=ax^2+bx$ par $x$ et en déduire les formules des deux racines en fonction de $a$ et $b$.\n",
    "\n",
    "3.\tCompléter alors les 4 pointillés du programme Python suivant qui affiche la seconde racine $x_2$  et la factorisation associée.\n",
    " \n"
   ]
  },
  {
   "cell_type": "code",
   "execution_count": null,
   "metadata": {},
   "outputs": [],
   "source": [
    "a = eval(input(\"Entrer la valeur de a : \"))\n",
    "b = eval(input(\"Entrer la valeur de b : \"))\n",
    "c = eval(input(\"Entrer la valeur de c : \"))\n",
    "if ... :\n",
    "    print(\"Ce n'est pas un trinôme.\")\n",
    "elif ... :\n",
    "    x2 = -b/a\n",
    "    print(\"Les racines sont x1 = 0 et x2 =\",x2)\n",
    "    print(\"La factorisation de \",a,\"x² +\",b,\"x est\",\n",
    "          a,\" * x * (x -\",x2,\")\")\n",
    "else:\n",
    "    x1 = eval(input(\"Entrer la valeur de x1 : \"))\n",
    "    if ... :\n",
    "        print(\"Erreur :\",x1,\" n'est pas racine\")\n",
    "    else:\n",
    "        x2 = ...\n",
    "        print(\"La seconde racine est égale à x2 =\",x2)\n",
    "        print(\"La factorisation de \",a,\"x² +\",b,\"x +\",c,\n",
    "              \"est\",a,\"* (x -\",x1,\")*(x -\",x2,\")\")"
   ]
  },
  {
   "cell_type": "markdown",
   "metadata": {},
   "source": [
    "&nbsp;&nbsp;&nbsp;&nbsp;4.\tSi $x_1=x_2$ alors la forme factorisée de $f(x)$  est $f(x)=a(x-x_1)^2$. Modifier le programme précédent pour prendre en compte cette dernière forme.\n",
    "\n",
    "&nbsp;&nbsp;&nbsp;&nbsp;5.\tModifier le programme Python de la question précédente afin de faire afficher le signe de  $f(x)$ suivant les valeurs de $x$."
   ]
  }
 ],
 "metadata": {
  "kernelspec": {
   "display_name": "Python 3",
   "language": "python",
   "name": "python3"
  },
  "language_info": {
   "codemirror_mode": {
    "name": "ipython",
    "version": 3
   },
   "file_extension": ".py",
   "mimetype": "text/x-python",
   "name": "python",
   "nbconvert_exporter": "python",
   "pygments_lexer": "ipython3",
   "version": "3.7.6"
  }
 },
 "nbformat": 4,
 "nbformat_minor": 2
}
