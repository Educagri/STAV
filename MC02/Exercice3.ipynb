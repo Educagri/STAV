{
 "cells": [
  {
   "cell_type": "markdown",
   "metadata": {},
   "source": [
    "<center><img src=\"images/MC2Ex3.png\"></center>\n",
    "\n",
    "Soit $g$ la fonction définie sur $[-2;2]$ par $g(x)=x^3‒2x+1$.\n",
    "\n",
    "1. Expliquer ce que fait ce programme écrit en Python."
   ]
  },
  {
   "cell_type": "code",
   "execution_count": null,
   "metadata": {},
   "outputs": [],
   "source": [
    "from random import uniform\n",
    "\n",
    "def g(x):\n",
    "    return x**3-2*x+1\n",
    "\n",
    "def FonctionMonotone(f,a,b):\n",
    "    message = \"On peut penser que la fonction est \" \n",
    "    taux_f_ab=(f(b)-f(a))/(b-a)\n",
    "    if taux_f_ab>0:\n",
    "        message=message + \"croissante\"\n",
    "    else:\n",
    "        message=message + \"décroissante\"\n",
    "    return message + \" sur [\" + str(a) + \";\" +str(b) +\"]\"\n",
    "\n",
    "print(FonctionMonotone(g,-0.7,1.5))"
   ]
  },
  {
   "cell_type": "markdown",
   "metadata": {},
   "source": [
    "&nbsp;&nbsp;&nbsp;&nbsp;2. Dans la cellule de code précédente, tester `FonctionMonotone` pour différentes valeurs de $a$ et $b$.\n",
    "\n",
    "&nbsp;&nbsp;&nbsp;&nbsp;3. Pourquoi n’est-on pas sûr de la variation de la fonction sur $[a;b]$ à partir de deux valeurs ? Expliquer.\n",
    "\n",
    "&nbsp;&nbsp;&nbsp;&nbsp;4. On complète le programme précédent\n"
   ]
  },
  {
   "cell_type": "code",
   "execution_count": null,
   "metadata": {},
   "outputs": [],
   "source": [
    "from random import uniform\n",
    "\n",
    "def g(x):\n",
    "    return x**3-2*x+1\n",
    "\n",
    "def FonctionMonotone(f,a,b):\n",
    "    message = \"On peut penser que la fonction est \"     \n",
    "    taux_f_ab = (f(b)-f(a)) / (b-a)\n",
    "    if taux_f_ab > 0:\n",
    "        message = message + \"croissante\"\n",
    "    else:\n",
    "        message = message + \"décroissante\"\n",
    "    message = message + \" sur [\" + str(a) + \";\" +str(b) +\"]\"\n",
    "    \n",
    "    x1 = uniform(a,b)\n",
    "    x2 = uniform(a,b)\n",
    "    k = 0\n",
    "    while ((f(x1)-f(x2))/(x1-x2)) * taux_f_ab > 0 and k < 100:\n",
    "        x1 = uniform(a,b)\n",
    "        x2 = uniform(a,b)\n",
    "        k = k + 1\n",
    "    if k != 100: \n",
    "        message = message + \" mais elle ne l'est pas\"\n",
    "\n",
    "    return message \n",
    "\n",
    "print(FonctionMonotone(g,-0.7,1.5))"
   ]
  },
  {
   "cell_type": "markdown",
   "metadata": {},
   "source": [
    "&nbsp;&nbsp;&nbsp;&nbsp;5. Expliquer ce que la boucle **while** apporte par rapport au problème soulevé à la question 3.\n",
    "\n",
    "&nbsp;&nbsp;&nbsp;&nbsp;6. Tester la nouvelle fonction FonctionMonotone sur $[- 0,7;0,7]$.\n",
    "\n",
    "&nbsp;&nbsp;&nbsp;&nbsp;7. Est-on sûr pour autant que la fonction g définie sur $[- 0,7;0,7]$ est décroissante sur cet intervalle ? Pourquoi ?"
   ]
  }
 ],
 "metadata": {
  "kernelspec": {
   "display_name": "Python 3",
   "language": "python",
   "name": "python3"
  },
  "language_info": {
   "codemirror_mode": {
    "name": "ipython",
    "version": 3
   },
   "file_extension": ".py",
   "mimetype": "text/x-python",
   "name": "python",
   "nbconvert_exporter": "python",
   "pygments_lexer": "ipython3",
   "version": "3.7.6"
  }
 },
 "nbformat": 4,
 "nbformat_minor": 2
}
