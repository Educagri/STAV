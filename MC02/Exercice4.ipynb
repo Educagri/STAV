{
 "cells": [
  {
   "cell_type": "markdown",
   "metadata": {},
   "source": [
    "# MC02 : Taux de variation\n",
    "## Exercice 4\n",
    "\n",
    "On considère la fonction $g$ définie sur $[-2;3]$ par $g(x) = 3 - x^2$.\n",
    "\n",
    "1. Tester grâce à un test en Python si le taux de variation de g entre 0 et 1 est positif."
   ]
  },
  {
   "cell_type": "code",
   "execution_count": null,
   "metadata": {},
   "outputs": [],
   "source": [
    "# écrire le code du test ici\n"
   ]
  },
  {
   "cell_type": "markdown",
   "metadata": {},
   "source": [
    "&nbsp;&nbsp;&nbsp;&nbsp;2. À l’aide de la calculatrice, représenter la fonction g et vérifier la réponse de la question précédente.\n",
    "\n",
    "&nbsp;&nbsp;&nbsp;&nbsp;3. Donner deux couples de valeurs $(a,b)$ pour lesquels le taux de variation est positif et deux couples pour lesquels le taux de variation est négatif.\n",
    "\n",
    "on peut utiliser le test de la question 1 pour vérifier\n",
    "\n",
    "&nbsp;&nbsp;&nbsp;&nbsp;4. Expliquer ce que fait le programme suivant.\n",
    "\n",
    "La fonction `arange` de paramètres `a`, `b` et `r`\n",
    " retourne une suite arithmétique de raison `r`, \n",
    "de premier terme `a` et ne dépassant pas le seuil `b`.\n",
    "\n",
    "La fonction `arange` fait partie de la bibliothèque numpy\n",
    "\n",
    "Les caractères dont on donne les codes UTF-8 sont\n",
    "les suivants : \n",
    "`\\u2197` est  ↗ et `\\u2198` est  ↘."
   ]
  },
  {
   "cell_type": "code",
   "execution_count": null,
   "metadata": {},
   "outputs": [],
   "source": [
    "from numpy import arange\n",
    "\n",
    "def g(x):\n",
    "    return 3-x**2\n",
    "\n",
    "def IntervalleVariation(f,a,b):\n",
    "    intervalle=[]\n",
    "    for i in arange(a,b,0.1):\n",
    "        x1=round(i,1)\n",
    "        x2=round(i+0.1,1)\n",
    "        if (f(x1)-f(x2))/(x1-x2)>0:\n",
    "            intervalle.append([x1,'\\u2197',x2])\n",
    "        else:\n",
    "            intervalle.append([x1,'\\u2198',x2])\n",
    "    return intervalle\n",
    "\n",
    "print(IntervalleVariation(g,-2,3))"
   ]
  },
  {
   "cell_type": "markdown",
   "metadata": {},
   "source": [
    "&nbsp;&nbsp;&nbsp;&nbsp;5. Expliquer les limites des résultats obtenus."
   ]
  }
 ],
 "metadata": {
  "kernelspec": {
   "display_name": "Python 3",
   "language": "python",
   "name": "python3"
  },
  "language_info": {
   "codemirror_mode": {
    "name": "ipython",
    "version": 3
   },
   "file_extension": ".py",
   "mimetype": "text/x-python",
   "name": "python",
   "nbconvert_exporter": "python",
   "pygments_lexer": "ipython3",
   "version": "3.7.1"
  }
 },
 "nbformat": 4,
 "nbformat_minor": 2
}
