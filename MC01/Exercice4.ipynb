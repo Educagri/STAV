{
 "cells": [
  {
   "cell_type": "markdown",
   "metadata": {},
   "source": [
    "# MC01 : Ajustements, méthode graphique\n",
    "## Exercice 4\n",
    "\n",
    "On cherche à déterminer puis à représenter la droite de Mayer grâce au logiciel Python.\n",
    "\n",
    "On considère un certain nombre de points pour lesquels on crée une liste des abscisses notée `liste_abs` et une liste des ordonnées notée `liste_ord`.\n",
    "\n",
    "1. En utilisant la fonction `mean` (pour déterminer la moyenne d’une liste) du package `numpy`, définir une fonction `point_moyen` qui à partir de la liste des abscisses et de celle des ordonnées permette de déterminer les coordonnées du point moyen sous forme de liste."
   ]
  },
  {
   "cell_type": "code",
   "execution_count": null,
   "metadata": {},
   "outputs": [],
   "source": [
    "from numpy import mean\n",
    "\n",
    "# écrire le code de la fonction point_moyen ici\n",
    "\n",
    "\n",
    "\n",
    "# test de la fonction point_moyen, l'affichage attendu est [2,5]\n",
    "\n",
    "print(point_moyen( [1,2,3] , [4,5,6] ))"
   ]
  },
  {
   "cell_type": "markdown",
   "metadata": {},
   "source": [
    "Exécuter la cellule de code précédente pour vérifier que la fonction est correcte et existe pour les cellules suivantes.\n",
    "\n",
    "&nbsp;&nbsp;&nbsp;&nbsp;2. On donne un script de la fonction droite_Mayer :\n",
    "\n",
    "```python\n",
    "def droite_Mayer(liste_abs1,liste_ord1,liste_abs2,liste_ord2):\n",
    "    G1=point_moyen(liste_abs1,liste_ord1)\n",
    "    G2=point_moyen(liste_abs2,liste_ord2)\n",
    "    a=(G1[1]-G2[1])/(G1[0]-G2[0])\n",
    "    b=G1[1]-a*G1[0]\n",
    "    return \"y = \"+str(a)+\" x + \"+str(b)\n",
    "```\n",
    "\n",
    "On veut tester la fonction avec les données suivantes :\n",
    "\n",
    "|  Points  |   A   |   B   |   C   |   D   | \n",
    "| :-----------: | :------: | :------: |:------: | :------: |\n",
    "|  $x$|1|2|3|4|\n",
    "|  $y$|5|6|7|8|\n",
    "\n",
    "&nbsp; a. Expliquer comment la fonction a été construite et comment faire le test.\n",
    "\n",
    "&nbsp; b. Exécuter la cellule de code suivante pour vérifier si vous avez raison.\n",
    "\n"
   ]
  },
  {
   "cell_type": "code",
   "execution_count": null,
   "metadata": {},
   "outputs": [],
   "source": [
    "def droite_Mayer(liste_abs1,liste_ord1,liste_abs2,liste_ord2):\n",
    "    G1=point_moyen(liste_abs1,liste_ord1)\n",
    "    G2=point_moyen(liste_abs2,liste_ord2)\n",
    "    a=(G1[1]-G2[1])/(G1[0]-G2[0])\n",
    "    b=G1[1]-a*G1[0]\n",
    "    return \"y = \"+str(a)+\" x + \"+str(b)\n",
    "\n",
    "# test de la fonction (on doit trouver y=1x+4)\n",
    "print(\"L'équation réduite de la droite de Mayer est \",\n",
    "       droite_Mayer([1,2],[5,6],[3,4],[7,8]))"
   ]
  },
  {
   "cell_type": "markdown",
   "metadata": {},
   "source": [
    "&nbsp;&nbsp;&nbsp;&nbsp;3. On propose un autre script avec des fonctions de Python plus avancées\n",
    "\n",
    "```python\n",
    "def DroiteMayer(ListeX,ListeY):\n",
    "    if len(ListeX) != len(ListeY) or len(ListeX) < 2 :\n",
    "        return \"les données ne conviennent pas\"\n",
    "    else:\n",
    "        coupe = int(len(ListeX)/2)\n",
    "        xG1 = moyenne(ListeX[:coupe])\n",
    "        yG1 = moyenne(ListeY[:coupe])\n",
    "        xG2 = moyenne(ListeX[coupe:])\n",
    "        yG2 = moyenne(ListeY[coupe:])\n",
    "        a = (yG1-yG2)/(xG1-xG2)\n",
    "        b = yG1-a*xG1\n",
    "        return \"y = \"+str(a)+\" x + \"+str(b)\n",
    "```\n",
    "\n",
    "&nbsp;&nbsp;&nbsp;&nbsp;4. a. Expliquer comment a été construit ce script.\n",
    "\n",
    "&nbsp;&nbsp;&nbsp;&nbsp;&nbsp;&nbsp;&nbsp;&nbsp;b. La fonction DroiteMayer utilise une fonction moyenne qui n’a pas été définie. Définir une fonction Python moyenne qui renvoie la moyenne d'une liste\n",
    "\n",
    "Compléter la cellule de code suivante et l'exécuter pour vérifier.\n"
   ]
  },
  {
   "cell_type": "code",
   "execution_count": null,
   "metadata": {},
   "outputs": [],
   "source": [
    "def moyenne(Liste):\n",
    "    # à compléter\n",
    "\n",
    "def DroiteMayer(ListeX,ListeY):\n",
    "    if len(ListeX) != len(ListeY) or len(ListeX) < 2 :\n",
    "        return \"les données ne conviennent pas\"\n",
    "    else:\n",
    "        coupe = int(len(ListeX)/2)\n",
    "        xG1 = moyenne(ListeX[:coupe])\n",
    "        yG1 = moyenne(ListeY[:coupe])\n",
    "        xG2 = moyenne(ListeX[coupe:])\n",
    "        yG2 = moyenne(ListeY[coupe:])\n",
    "        a = (yG1-yG2)/(xG1-xG2)\n",
    "        b = yG1-a*xG1\n",
    "        return \"y = \"+str(a)+\" x + \"+str(b)\n",
    "\n",
    "# test de la fonction (on doit trouver y=1x+4)\n",
    "print(\"L'équation réduite de la droite de Mayer est \",\n",
    "       DroiteMayer([1,2,3,4],[5,6,7,8]))"
   ]
  },
  {
   "cell_type": "markdown",
   "metadata": {},
   "source": [
    "&nbsp;&nbsp;&nbsp;&nbsp;5. On considère les points $A(1;2)$, $B(3;0)$, $C(5;4)$ et $D(7;2)$.\n",
    "\n",
    "&nbsp;&nbsp;&nbsp;&nbsp;&nbsp;&nbsp;&nbsp;&nbsp;a. Représenter ces points.\n",
    "\n",
    "&nbsp;&nbsp;&nbsp;&nbsp;&nbsp;&nbsp;&nbsp;&nbsp;b. Déterminer $G_1$ point moyen de $A$ et $B$, puis $G_2$ point moyen de $C$ et $D$.\n",
    "\n",
    "&nbsp;&nbsp;&nbsp;&nbsp;&nbsp;&nbsp;&nbsp;&nbsp;c. Déterminer un ajustement affine de ce nuage de points par la méthode de Mayer.\n",
    "\n",
    "&nbsp;&nbsp;&nbsp;&nbsp;&nbsp;&nbsp;&nbsp;&nbsp;d. Utiliser le logiciel Python pour vérifier le résultat de la question précédente."
   ]
  },
  {
   "cell_type": "code",
   "execution_count": null,
   "metadata": {},
   "outputs": [],
   "source": [
    "# taper les lignes de tests ici, on pourra utiliser\n",
    "# la fonction droite_Mayer ou la fonction DroiteMayer\n",
    "\n"
   ]
  },
  {
   "cell_type": "markdown",
   "metadata": {},
   "source": [
    "&nbsp;&nbsp;&nbsp;&nbsp;6. Compléter la fonction de votre choix permettant de déterminer la droite de Mayer pour représenter les points et l’ajustement du nuage de points par la droite de Mayer."
   ]
  },
  {
   "cell_type": "code",
   "execution_count": null,
   "metadata": {},
   "outputs": [],
   "source": [
    "# écrire le code ici "
   ]
  }
 ],
 "metadata": {
  "kernelspec": {
   "display_name": "Python 3",
   "language": "python",
   "name": "python3"
  },
  "language_info": {
   "codemirror_mode": {
    "name": "ipython",
    "version": 3
   },
   "file_extension": ".py",
   "mimetype": "text/x-python",
   "name": "python",
   "nbconvert_exporter": "python",
   "pygments_lexer": "ipython3",
   "version": "3.7.1"
  }
 },
 "nbformat": 4,
 "nbformat_minor": 2
}
