{
 "cells": [
  {
   "cell_type": "markdown",
   "metadata": {},
   "source": [
    "# MA07 : Prise de décision\n",
    "## Exercice 3\n",
    "\n",
    "Quelques rappels sur les fontions utiles pour simuler des pièces équilibrées ou non.\n",
    "\n",
    "La fonction `choice` de la bibliothèque random dans **numpy** permet de choisir au hasard un objet dans une liste.\n",
    "\n",
    "&nbsp;&nbsp;&nbsp;&nbsp;0. a. Exécuter plusieurs fois la cellule de code suivante pour le constater."
   ]
  },
  {
   "cell_type": "code",
   "execution_count": null,
   "metadata": {},
   "outputs": [],
   "source": [
    "from numpy import *\n",
    "\n",
    "print(random.choice(['Pile','Face']))"
   ]
  },
  {
   "cell_type": "markdown",
   "metadata": {},
   "source": [
    "Pour aller plus vite, on peut demander à la fonction `choice` de donner tout de suite le résultat de plusieurs prélèvements dans la liste, le prélèvement se faisant avec remise.\n",
    "\n",
    "&nbsp;&nbsp;&nbsp;&nbsp;0. b. Exécuter plusieurs fois la cellule de code suivante pour le constater."
   ]
  },
  {
   "cell_type": "code",
   "execution_count": null,
   "metadata": {},
   "outputs": [],
   "source": [
    "from numpy import *\n",
    "\n",
    "print(random.choice(['Pile','Face'],10))"
   ]
  },
  {
   "cell_type": "markdown",
   "metadata": {},
   "source": [
    "Enfin, on peut préciser à `choice` la loi de la variable aléatoire en donnant la ligne des probabilités.\n",
    "\n",
    "Par exemple :\n",
    "\n",
    "|  $k$ &nbsp;&nbsp;&nbsp;&nbsp;&nbsp;&nbsp;&nbsp;&nbsp;   |   Pile   |   Face   |\n",
    "| :-----------: | :------: | :------: |\n",
    "|  &nbsp;&nbsp;&nbsp; $P(X=k)$ &nbsp;&nbsp;&nbsp; |   $0,2$  |   $0,8$  |\n",
    "\n",
    "&nbsp;&nbsp;&nbsp;&nbsp;0. c. Exécuter plusieurs fois la cellule de code suivante pour le constater."
   ]
  },
  {
   "cell_type": "code",
   "execution_count": null,
   "metadata": {},
   "outputs": [],
   "source": [
    "from numpy import *\n",
    "\n",
    "print(random.choice(['Pile','Face'],10,p=[0.2,0.8]))"
   ]
  },
  {
   "cell_type": "markdown",
   "metadata": {},
   "source": [
    "On souhaite maintenant compter les Pile mais comme c'est assez long de les trouver dans une liste, on ruse en codant Pile et Face par 1 et 0 et on ajoute tous les résultats pour compter le nombres de Pile (le nombre de 1).\n",
    "\n",
    "Par exemple :\n",
    "\n",
    "|  choix possible   |   Pile   |   Face   |\n",
    "| :-----------: | :------: | :------: |\n",
    "| $k$ &nbsp;&nbsp;&nbsp;&nbsp;&nbsp;&nbsp;&nbsp;&nbsp;   |   1   |   0   |\n",
    "|  &nbsp;&nbsp;&nbsp; $P(X=k)$ &nbsp;&nbsp;&nbsp; |   $0,2$  |   $0,8$  |\n",
    "\n",
    "&nbsp;&nbsp;&nbsp;&nbsp;0. d. Exécuter plusieurs fois la cellule de code suivante pour le constater."
   ]
  },
  {
   "cell_type": "code",
   "execution_count": null,
   "metadata": {},
   "outputs": [],
   "source": [
    "from numpy import *\n",
    "\n",
    "prélèvement = random.choice([1,0],10,p=[0.2,0.8])\n",
    "print(prélèvement)\n",
    "print(sum(prélèvement))"
   ]
  },
  {
   "cell_type": "markdown",
   "metadata": {},
   "source": [
    "Deux pièces de monnaie sont telles que l'une est équilibrée et l'autre est truquée de sorte que l'une des faces a deux fois plus de chances de sortir que l'autre, sans qu'on ne sache laquelle. Le but est de définir une stratégie pour détecter la pièce truquée.\n",
    "\n",
    "1. Justifier que pour la pièce truquée, l'une des face a une probabilité $\\dfrac13$ de sortir.\n",
    "    \n",
    "2. Dans cette question, la nature de chacune des pièces (truquée et équilibrée) est connue. Considérant que trois lancers ne suffisent pas à distinguer les deux pièces, on réalise 100 simulations de quatre lancers et on note à chaque fois le nombre de « PILE », en bleu pour la pièce équilibrée et en rouge pour la pièce truquée. On fait de même pour cinq, six et sept lancers.\n",
    "    \n",
    " On code PILE par 1 et FACE par 0\n",
    "    \n",
    " Compléter les pointillés à la ligne 10 et exécuter le programme suivant pour faire les simulations. (si l'affichage des graphiques ne se fait pas, reexécuter la cellule de code)."
   ]
  },
  {
   "cell_type": "code",
   "execution_count": null,
   "metadata": {},
   "outputs": [],
   "source": [
    "from numpy import *\n",
    "from matplotlib.pyplot import *\n",
    "\n",
    "for k in range(4,9):\n",
    "    NbrePiletruquee = []\n",
    "    NbrePilequilibree = []\n",
    "    for compteur in range(100):\n",
    "        NbrePiletruquee.append(sum(random.choice([0,1],k,p=[2/3,1/3])))\n",
    "        \n",
    "        NbrePilequilibree.append(...) # ligne 10 à compléter\n",
    "\n",
    "    for compteur in range(len(NbrePilequilibree)):\n",
    "        plot(compteur,NbrePiletruquee[compteur],'r+') # en rouge la pièce truquée\n",
    "        plot(compteur,NbrePilequilibree[compteur],'b.',) # en bleu la pièce équilibrée\n",
    "        \n",
    "    a='Nombre de PILE sur '+str(k)+' lancers'\n",
    "    title(a)\n",
    "    xlabel(\"échantillons\")\n",
    "    yticks(range(k+1))\n",
    "    grid()\n",
    "    show()"
   ]
  },
  {
   "cell_type": "markdown",
   "metadata": {},
   "source": [
    "&nbsp;3. Les pièces ne sont plus distinguables maintenant.\n",
    "\n",
    "a. On fait 4 lancers de chacune des pièces. On obtient « 2 PILE » pour l'une et 3 « PILE » pour l'autre. Peut-on distinguer les pièces ?\n",
    " \n",
    "b. On fait 7 lancers de chacune des pièces. On obtient « 2 PILE » pour l'une et 5 « PILE » pour l'autre. Peut-on distinguer les pièces ?\n",
    " \n",
    "c. Donner une stratégie permettant de déterminer laquelle des deux pièces est équilibrée."
   ]
  }
 ],
 "metadata": {
  "kernelspec": {
   "display_name": "Python 3",
   "language": "python",
   "name": "python3"
  },
  "language_info": {
   "codemirror_mode": {
    "name": "ipython",
    "version": 3
   },
   "file_extension": ".py",
   "mimetype": "text/x-python",
   "name": "python",
   "nbconvert_exporter": "python",
   "pygments_lexer": "ipython3",
   "version": "3.6.4"
  }
 },
 "nbformat": 4,
 "nbformat_minor": 2
}
