{
 "cells": [
  {
   "cell_type": "markdown",
   "metadata": {},
   "source": [
    "# MA07 : Prise de décision\n",
    "## Exemple\n",
    "\n",
    "44 % des français sont de groupe O. Une étude est conduite auprès de 1 000 personnes (choisies aléatoirement) d’une ville de 100 000 habitants. On note 407 individus de groupe O.\n",
    "\n",
    "## Questionnement\n",
    "Peut-on affirmer, avec la règle de décision ne retenant que 95 % des valeurs possibles de tels échantillons, que la proportion des donneurs de groupe O de cette métropole régionale diffère au niveau du groupe\n",
    "O de celle de la population française ?\n",
    "\n",
    "## Réponse au questionnement\n",
    "On effectue une simulation de 400 échantillons de 1 000 répétitions d'une variable aléatoire de Bernoulli de paramètre 0,44. On représente en bleu les 95 % des valeurs possibles de tels échantillons."
   ]
  },
  {
   "cell_type": "code",
   "execution_count": null,
   "metadata": {},
   "outputs": [],
   "source": [
    "from numpy import *\n",
    "from matplotlib.pyplot import *\n",
    "\n",
    "NbrGrpO = []\n",
    "for compteur in range(400):\n",
    "    NbrGrpO.append(sum(random.choice([0,1],1000,p=[0.56,0.44])))\n",
    "        \n",
    "for k in range(380):  # 95% de 400\n",
    "    rangmin = 0    \n",
    "    distmin = abs(NbrGrpO[0]-440) # 44% de 1000\n",
    "    for compteur in range(1,len(NbrGrpO)):\n",
    "        if abs(NbrGrpO[compteur]-440) < distmin:\n",
    "            rangmin = compteur\n",
    "            distmin = abs(NbrGrpO[compteur]-440)\n",
    "    plot(rangmin,NbrGrpO[rangmin],'b.',) # en bleu les 95 % les plus probables\n",
    "    NbrGrpO[rangmin] = -1 # valeur impossible pour l'exclure des possibilités pour le tour suivant\n",
    "    \n",
    "for compteur in range(len(NbrGrpO)):\n",
    "    if NbrGrpO[compteur] != -1:\n",
    "        plot(compteur,NbrGrpO[compteur],'r.') # en rouge les 5% les moins probables\n",
    "        \n",
    "title(\"Nombre de groupe O dans des échantillons de 1000 personnes\")\n",
    "xlabel(\"échantillons\")\n",
    "grid()\n",
    "show()"
   ]
  },
  {
   "cell_type": "markdown",
   "metadata": {},
   "source": [
    "Exécuter plusieurs fois le code précédent et constater qu'à chaque fois 407 est une valeur considérée comme trop extrême au vu de la règle de décision.\n",
    "\n",
    "Conclure."
   ]
  }
 ],
 "metadata": {
  "kernelspec": {
   "display_name": "Python 3",
   "language": "python",
   "name": "python3"
  },
  "language_info": {
   "codemirror_mode": {
    "name": "ipython",
    "version": 3
   },
   "file_extension": ".py",
   "mimetype": "text/x-python",
   "name": "python",
   "nbconvert_exporter": "python",
   "pygments_lexer": "ipython3",
   "version": "3.7.6"
  }
 },
 "nbformat": 4,
 "nbformat_minor": 2
}
