{
 "cells": [
  {
   "cell_type": "markdown",
   "metadata": {},
   "source": [
    "<center><img src=\"images/MA7Ex4.png\"></center>\n",
    "\n",
    "\n",
    "Quelques rappels sur les fontions utiles pour simuler une personne malade ou non.\n",
    "\n",
    "La fonction `choice` de la bibliothèque random dans **numpy** permet de choisir au hasard un objet dans une liste.\n",
    "\n",
    "&nbsp;&nbsp;&nbsp;&nbsp;0. a. Exécuter plusieurs fois la cellule de code suivante pour le constater."
   ]
  },
  {
   "cell_type": "code",
   "execution_count": null,
   "metadata": {},
   "outputs": [],
   "source": [
    "from numpy import *\n",
    "\n",
    "print(random.choice(['Saine','Malade']))"
   ]
  },
  {
   "cell_type": "markdown",
   "metadata": {},
   "source": [
    "Pour aller plus vite, on peut demander à la fonction `choice` de donner tout de suite le résultat de plusieurs prélèvements dans la liste, le prélèvement se faisant avec remise.\n",
    "\n",
    "&nbsp;&nbsp;&nbsp;&nbsp;0. b. Exécuter plusieurs fois la cellule de code suivante pour le constater."
   ]
  },
  {
   "cell_type": "code",
   "execution_count": null,
   "metadata": {},
   "outputs": [],
   "source": [
    "from numpy import *\n",
    "\n",
    "print(random.choice(['Saine','Malade'],10))"
   ]
  },
  {
   "cell_type": "markdown",
   "metadata": {},
   "source": [
    "Enfin, on peut préciser à `choice` la loi de la variable aléatoire en donnant la ligne des probabilités.\n",
    "\n",
    "Par exemple :\n",
    "\n",
    "| &nbsp;&nbsp;&nbsp;&nbsp;&nbsp;&nbsp;&nbsp;&nbsp;&nbsp;&nbsp;&nbsp;&nbsp; $k$ &nbsp;&nbsp;&nbsp;&nbsp;&nbsp;&nbsp;&nbsp;&nbsp;&nbsp;&nbsp;&nbsp;&nbsp;&nbsp;&nbsp;&nbsp;&nbsp;   |   Saine   |   Malade   |\n",
    "| :-----------: | :------: | :------: |\n",
    "|  &nbsp;&nbsp;&nbsp; $P(X=k)$ &nbsp;&nbsp;&nbsp; |   $0,8$  |   $0,2$  |\n",
    "\n",
    "&nbsp;&nbsp;&nbsp;&nbsp;0. c. Exécuter plusieurs fois la cellule de code suivante pour le constater."
   ]
  },
  {
   "cell_type": "code",
   "execution_count": null,
   "metadata": {},
   "outputs": [],
   "source": [
    "from numpy import *\n",
    "\n",
    "print(random.choice(['Saine','Malade'],10,p=[0.8,0.2]))"
   ]
  },
  {
   "cell_type": "markdown",
   "metadata": {},
   "source": [
    "On souhaite maintenant compter les Malades mais comme c'est assez long de les trouver dans une liste, on ruse en codant Saine et Malade par 0 et 1 et on ajoute tous les résultats pour compter le nombres de Malades (le nombre de 1).\n",
    "\n",
    "Par exemple :\n",
    "\n",
    "|  choix possible   |   Saine   |   Malade   |\n",
    "| :-----------: | :------: | :------: |\n",
    "| $k$ &nbsp;&nbsp;&nbsp;&nbsp;&nbsp;&nbsp;&nbsp;&nbsp;   |   0   |   1   |\n",
    "|  &nbsp;&nbsp;&nbsp; $P(X=k)$ &nbsp;&nbsp;&nbsp; |   $0,8$  |   $0,2$  |\n",
    "\n",
    "&nbsp;&nbsp;&nbsp;&nbsp;0. d. Exécuter plusieurs fois la cellule de code suivante pour le constater."
   ]
  },
  {
   "cell_type": "code",
   "execution_count": null,
   "metadata": {},
   "outputs": [],
   "source": [
    "from numpy import *\n",
    "\n",
    "prélèvement = random.choice([0,1],10,p=[0.8,0.2])\n",
    "print(prélèvement)\n",
    "print(sum(prélèvement))"
   ]
  },
  {
   "cell_type": "markdown",
   "metadata": {},
   "source": [
    "La notice d’un médicament indique que des effets secondaires peuvent apparaître chez 2 % des patients.\n",
    "\n",
    "On fait l’hypothèse que des effets secondaires peuvent apparaître chez 2 % des patients. \n",
    "L'objectif est de connaître, sur un échantillon de 1000 personnes, un intervalle « raisonnable » du nombre de personnes manifestant des effets secondaires.\n",
    "\n",
    "1. A l’aide du programme écrit en Python dans la cellule de code suivante, on réalise une simulation de 200 échantillons de taille 1000 d'une variable aléatoire suivant une loi de Bernoulli de paramètre 0,02.\n",
    "    \n",
    " On code Saine par 0 et Malade par 1\n",
    "    \n",
    " Compléter les pointillés à la ligne 10 et exécuter le programme suivant pour faire les simulations. (si l'affichage des graphiques ne se fait pas, reexécuter la cellule de code)."
   ]
  },
  {
   "cell_type": "code",
   "execution_count": null,
   "metadata": {},
   "outputs": [],
   "source": [
    "from numpy import *\n",
    "from matplotlib.pyplot import *\n",
    "\n",
    "NombreEffetsSecondaires = []\n",
    "for compteur in range(200):\n",
    "    NombreEffetsSecondaires.append(...) # ligne 6 à compléter avec la somme des malades\n",
    "\n",
    "for compteur in range(len(NombreEffetsSecondaires)):\n",
    "    plot(compteur,NombreEffetsSecondaires[compteur],'b.')\n",
    "yticks(range(7,35,1))\n",
    "grid()\n",
    "show()"
   ]
  },
  {
   "cell_type": "markdown",
   "metadata": {},
   "source": [
    "Attention, les résultats obtenus avec le graphique tout juste créé seront différents de ceux du livre car il y a une fluctuation d'échantillonnage.\n",
    "\n",
    "&nbsp;a. Au vu de cette simulation, donner le pourcentage d'échantillons pour lesquels le nombre le nombre de personnes souffrant d'effets secondaires appartient à l'intervalle $[13;27]$ ?\n",
    "\n",
    "&nbsp;b. Même question avec $[12;28]$ , puis $[10;30]$.\n",
    "\n",
    "Continuer l'exercice sur le livre"
   ]
  }
 ],
 "metadata": {
  "kernelspec": {
   "display_name": "Python 3",
   "language": "python",
   "name": "python3"
  },
  "language_info": {
   "codemirror_mode": {
    "name": "ipython",
    "version": 3
   },
   "file_extension": ".py",
   "mimetype": "text/x-python",
   "name": "python",
   "nbconvert_exporter": "python",
   "pygments_lexer": "ipython3",
   "version": "3.7.6"
  }
 },
 "nbformat": 4,
 "nbformat_minor": 2
}
