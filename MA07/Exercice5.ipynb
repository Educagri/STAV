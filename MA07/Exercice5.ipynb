{
 "cells": [
  {
   "cell_type": "markdown",
   "metadata": {},
   "source": [
    "# MA07 : Prise de décision\n",
    "## Exercice 5\n",
    "\n",
    "Une maladie virale est sans symptôme ou guérit sans traitement au bout de trois semaines dans 85 % des cas.\n",
    "\n",
    "Une simulation de 600 échantillons de taille 1000 d'une variable aléatoire suivant une loi de Bernoulli de paramètre 0,85 est représentée ci-dessous.\n",
    "\n",
    "<IMG src=\"simul.png\">\n",
    "\n",
    "Reproduire le m^$eme genre de graphique en faisant une simulation dans la cellule de code suivante :\n",
    "\n",
    "Quelques indications :\n",
    "\n",
    "- La fonction `random.choice( [v1,v2], n, p=[p1,p2] )` permet de simuler le prélèvement de $n$ expériences de Bernoulli de loi :\n",
    "\n",
    "|  $k$ &nbsp;&nbsp;&nbsp;&nbsp;&nbsp;&nbsp;&nbsp;&nbsp;  |   $v_1$   |   $v_2$   |\n",
    "| :-----------: | :------: | :------: |\n",
    "|  &nbsp;&nbsp;&nbsp; $P(X=k)$ &nbsp;&nbsp;&nbsp; |   $p_1$  |   $p_2$  |\n",
    "\n",
    "- La fonction `sum( Liste )` calcule la somme des élements de la liste\n",
    "\n",
    "- la fonction `plot( x, y, 'b.' )` permet de placer un point bleu de coordonnées $(x,y)$.\n",
    "\n",
    "- La fonction `yticks( range( début, fin, pas) )` permet d'adapter l'échelle sur l'axe des ordonnées.\n",
    "\n",
    "- La fonction `grid()` affiche un quadrillage\n",
    "\n",
    "- La fonction `show()` affiche le graphique.\n",
    "\n",
    "Un traitement visant à soigner cette maladie est testé sur 1000 personnes pour juger de son efficacité. A l'issue des trois semaines, 887 personnes sont sans symptôme ou guérissant sans traitement. \n",
    "Argumenter sur l'efficacité ou la non efficacité du traitement.\n"
   ]
  },
  {
   "cell_type": "code",
   "execution_count": null,
   "metadata": {},
   "outputs": [],
   "source": [
    "from numpy import *\n",
    "from matplotlib.pyplot import *\n",
    "\n",
    "# écrire le code ici\n",
    "\n"
   ]
  },
  {
   "cell_type": "markdown",
   "metadata": {},
   "source": [
    "Un traitement visant à soigner cette maladie est testé sur 1000 personnes pour juger de son efficacité. A l'issue des trois semaines, 887 personnes sont sans symptôme ou guérissant sans traitement. \n",
    "Argumenter sur l'efficacité ou la non efficacité du traitement."
   ]
  }
 ],
 "metadata": {
  "kernelspec": {
   "display_name": "Python 3",
   "language": "python",
   "name": "python3"
  },
  "language_info": {
   "codemirror_mode": {
    "name": "ipython",
    "version": 3
   },
   "file_extension": ".py",
   "mimetype": "text/x-python",
   "name": "python",
   "nbconvert_exporter": "python",
   "pygments_lexer": "ipython3",
   "version": "3.6.4"
  }
 },
 "nbformat": 4,
 "nbformat_minor": 2
}
