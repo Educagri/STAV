{
 "cells": [
  {
   "cell_type": "markdown",
   "metadata": {},
   "source": [
    "<center><img src=\"images/MA7cours.png\"></center>\n",
    "\n",
    "Quelques rappels sur les fontions utiles pour simuler des pièces équilibrées ou non.\n",
    "\n",
    "La fonction `choice` de la bibliothèque random dans **numpy** permet de choisir au hasard un objet dans une liste.\n",
    "\n",
    "1. Exécuter plusieurs fois la cellule de code suivante pour le constater."
   ]
  },
  {
   "cell_type": "code",
   "execution_count": null,
   "metadata": {},
   "outputs": [],
   "source": [
    "from numpy import *\n",
    "\n",
    "print(random.choice(['Pile','Face']))"
   ]
  },
  {
   "cell_type": "markdown",
   "metadata": {},
   "source": [
    "Pour aller plus vite, on peut demander à la fonction `choice` de donner tout de suite le résultat de plusieurs (ici 8) prélèvements dans la liste, le prélèvement se faisant avec remise.\n",
    "\n",
    "2. Exécuter plusieurs fois la cellule de code suivante pour le constater."
   ]
  },
  {
   "cell_type": "code",
   "execution_count": null,
   "metadata": {},
   "outputs": [],
   "source": [
    "from numpy import *\n",
    "\n",
    "print(random.choice(['Pile','Face'],8))"
   ]
  },
  {
   "cell_type": "markdown",
   "metadata": {},
   "source": [
    "Enfin, on peut préciser à `choice` la loi de la variable aléatoire en donnant la ligne des probabilités.\n",
    "\n",
    "Par exemple :\n",
    "\n",
    "| &nbsp;&nbsp;&nbsp;&nbsp;&nbsp;&nbsp;&nbsp;&nbsp;&nbsp;&nbsp;&nbsp;&nbsp; $k$ &nbsp;&nbsp;&nbsp;&nbsp;&nbsp;&nbsp;&nbsp;&nbsp;&nbsp;&nbsp;&nbsp;&nbsp;&nbsp;&nbsp;&nbsp;&nbsp;   |   Pile   |   Face   |\n",
    "| :--------------------------: | :------: | :------: |\n",
    "|   $P(X=k)$ |   $0,2$  |   $0,8$  |\n",
    "\n",
    "3. Exécuter plusieurs fois la cellule de code suivante pour le constater."
   ]
  },
  {
   "cell_type": "code",
   "execution_count": null,
   "metadata": {},
   "outputs": [],
   "source": [
    "from numpy import *\n",
    "\n",
    "print(random.choice(['Pile','Face'],10,p=[0.2,0.8]))"
   ]
  },
  {
   "cell_type": "markdown",
   "metadata": {},
   "source": [
    "On souhaite maintenant compter les Pile dans 8 lancers avec une pièce équilibrée mais comme c'est assez long de les trouver dans une liste, on ruse en codant Pile et Face par 1 et 0 et on ajoute tous les résultats pour compter le nombres de Pile (le nombre de 1).\n",
    "\n",
    "Par exemple :\n",
    "\n",
    "|  choix possible   |   Pile   |   Face   |\n",
    "| :-----------: | :------: | :------: |\n",
    "| $k$ &nbsp;&nbsp;&nbsp;&nbsp;&nbsp;&nbsp;&nbsp;&nbsp;   |   1   |   0   |\n",
    "|  &nbsp;&nbsp;&nbsp; $P(X=k)$ &nbsp;&nbsp;&nbsp; |   $0,5$  |   $0,5$  |\n",
    "\n",
    "4. Exécuter plusieurs fois la cellule de code suivante pour le constater."
   ]
  },
  {
   "cell_type": "code",
   "execution_count": null,
   "metadata": {},
   "outputs": [],
   "source": [
    "from numpy import *\n",
    "\n",
    "prélèvement = random.choice([1,0],8,p=[0.5,0.5])\n",
    "print(prélèvement)\n",
    "print(sum(prélèvement))"
   ]
  },
  {
   "cell_type": "markdown",
   "metadata": {},
   "source": [
    "On répète 200 fois ces huit lancers afin de recenser les situations extrêmes à l'aide du programme suivant.\n",
    "\n",
    "Bien sûr, on continue de coder PILE par 1 et FACE par 0\n",
    "    \n",
    "5. Exécuter le programme suivant pour faire les simulations. (si l'affichage des graphiques ne se fait pas, reexécuter la cellule de code)."
   ]
  },
  {
   "cell_type": "code",
   "execution_count": null,
   "metadata": {},
   "outputs": [],
   "source": [
    "from numpy import *\n",
    "from matplotlib.pyplot import *\n",
    "\n",
    "for compteur in range(200):\n",
    "     plot(compteur,sum(random.choice([0,1],8,p=[0.5,0.5])),'b.')\n",
    "        \n",
    "title(\"Nombre de PILE sur 8 lancers\")\n",
    "xlabel(\"échantillons\")\n",
    "yticks(range(9))\n",
    "grid()\n",
    "show()"
   ]
  },
  {
   "cell_type": "markdown",
   "metadata": {},
   "source": [
    "6. Exécuter plusieurs fois le code précédent pour observer qu'il peut arriver que l'on obtienne 8 piles avec 8 lancers de la poièce pourtant équilibrée mais que ce phénomène est assez rare."
   ]
  }
 ],
 "metadata": {
  "kernelspec": {
   "display_name": "Python 3",
   "language": "python",
   "name": "python3"
  },
  "language_info": {
   "codemirror_mode": {
    "name": "ipython",
    "version": 3
   },
   "file_extension": ".py",
   "mimetype": "text/x-python",
   "name": "python",
   "nbconvert_exporter": "python",
   "pygments_lexer": "ipython3",
   "version": "3.7.6"
  }
 },
 "nbformat": 4,
 "nbformat_minor": 2
}
