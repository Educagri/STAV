{
 "cells": [
  {
   "cell_type": "markdown",
   "metadata": {},
   "source": [
    "# MC14 : Le logarithme décimal\n",
    "## Activité 3\n",
    "\n",
    "\n",
    "1.\tA l’aide de la bibliothèque `matplotlib.pyplot` de Python, construire dans un repère l’ensemble des points $M$ de coordonnées $(x ; log(x))$ pour $x$ compris entre $0,01$ et $20$ avec un pas de $0,01$. "
   ]
  },
  {
   "cell_type": "code",
   "execution_count": null,
   "metadata": {},
   "outputs": [],
   "source": []
  },
  {
   "cell_type": "markdown",
   "metadata": {},
   "source": [
    "La commande `semilogx()` de la bibliothèque `matplotlib.pyplot`  permet d’obtenir un repère semi-logarithmique : l’axe des ordonnées est gradué de manière linéaire et l’axe des abscisses est gradué avec des puissances de 10.\n",
    "\n",
    "2.\tInsérer cette commande dans le programme précédent et observer les conséquences sur la représentation de la courbe de la fonction log.\n"
   ]
  }
 ],
 "metadata": {
  "kernelspec": {
   "display_name": "Python 3",
   "language": "python",
   "name": "python3"
  },
  "language_info": {
   "codemirror_mode": {
    "name": "ipython",
    "version": 3
   },
   "file_extension": ".py",
   "mimetype": "text/x-python",
   "name": "python",
   "nbconvert_exporter": "python",
   "pygments_lexer": "ipython3",
   "version": "3.7.1"
  }
 },
 "nbformat": 4,
 "nbformat_minor": 2
}
