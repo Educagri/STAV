{
 "cells": [
  {
   "cell_type": "markdown",
   "metadata": {},
   "source": [
    "# Mode d'emploi de Jupyter : Niveau 3\n",
    "\n",
    "# Comment reprendre la main quand le programme est planté\n",
    "\n",
    "Quand vous avez fini, fermez cet onglet du navigateur pour retrouver l'onglet précédent.\n",
    "\n",
    "<center><video src=\"video/UtiliserJupyter3.mp4\" controls width=\"50%\">Veuillez mettre à jour votre navigateur internet pour voir la vidéo</video></center>\n",
    "\n",
    "Jupyter peut planter (ne plus répondre à nos sollicitations) de trois manières différentes.\n",
    "\n",
    "Seules les deux premières peuvent être réparées. La dernière est la pire de toutes.\n",
    "\n",
    "Nous allons ici provoquer ces terribles erreurs et donner la solution. Lisez bien pour sortir de ces mauvais pas.\n",
    "\n",
    "## Premier cas, la boucle infinie\n",
    "\n",
    "1. Sélectionnez la cellule de code suivante\n",
    "\n",
    "2. Exécutez la en cliquant sur le bouton `Exécuter`.\n",
    "\n",
    "3. Observez que le programme fonctionne déjà (c'est pour cela qu'il y a une étoile comme numéro à gauche). Et voilà, c'est planté !\n",
    "\n",
    "4. Si vous voulez une preuve, exécutez la deuxième cellule de code pour vérifier que rien ne se passe."
   ]
  },
  {
   "cell_type": "code",
   "execution_count": null,
   "metadata": {},
   "outputs": [],
   "source": [
    "# la première cellule de code à exécuter\n",
    "compteur = 0\n",
    "while compteur < 10:\n",
    "    compteur + 1"
   ]
  },
  {
   "cell_type": "code",
   "execution_count": null,
   "metadata": {},
   "outputs": [],
   "source": [
    "# la deuxième cellule de code pour vérifier que Jupyter est bien planté\n",
    "print(\"Enfin !\")"
   ]
  },
  {
   "cell_type": "markdown",
   "metadata": {},
   "source": [
    "Pour faire sortir Jupyter de son plantage, voici deux méthodes\n",
    "\n",
    "- Cliquez sur le bouton en forme de carré noir à gauche du bouton `Exécuter`.\n",
    "- ou bien choisissez le menu Kernel, Interrupt.\n",
    "\n",
    "Sans correction, la première cellule plantera toujours. Mais vous pouvez exécuter la deuxième cellule pour vérifer que Jupyter n'est plus panté."
   ]
  },
  {
   "cell_type": "markdown",
   "metadata": {},
   "source": [
    "## Deuxième cas : la double exécution\n",
    "\n",
    "1. Sélectionnez la cellule de code suivante\n",
    "\n",
    "2. Exécutez la en cliquant sur le bouton `Exécuter`.\n",
    "\n",
    "3. Observez qu'il faut répondre à une question mais **n'y répondez surtout pas**.\n",
    "\n",
    "4. Sélectionnez à nouveau cette cellule de code alors que le programme fonctionne déjà (c'est pour cela qu'il y a une étoile comme numéro à gauche.\n",
    "\n",
    "5. Exécutez la une seconde fois en cliquant à nouveau sur le bouton `Exécuter`.\n",
    "\n",
    "6. Et voilà, c'est planté ! Observez, vous ne pouvez plus répondre à la question.\n",
    "\n",
    "7. Si vous voulez une preuve, exécutez la deuxième cellule de code pour vérifier que rien ne se passe."
   ]
  },
  {
   "cell_type": "code",
   "execution_count": null,
   "metadata": {},
   "outputs": [],
   "source": [
    "# la première cellule de code à exécuter deux fois sans répondre à la question\n",
    "age = int(input(\"Quel âge avez-vous ? \"))"
   ]
  },
  {
   "cell_type": "code",
   "execution_count": null,
   "metadata": {
    "scrolled": true
   },
   "outputs": [],
   "source": [
    "# la deuxième cellule de code pour vérifier que Jupyter est bien planté\n",
    "# ce code doit afficher un texte quand Jupyter n'a pas planté\n",
    "# ce code n'affiche rien si Jupyter a planté\n",
    "# ce code affiche une erreur si vous avez sorti Jupyter de son plantage\n",
    "print(\"vous avez\",age,\" ans.\")"
   ]
  },
  {
   "cell_type": "markdown",
   "metadata": {},
   "source": [
    "Pour faire sortir Jupyter de son plantage, voici la méthode\n",
    "\n",
    "**Choisissez le menu Kernel, Restart et répondez Relancer à la question.**\n",
    "\n",
    "1. Une fois sorti du plantage, exécutez la deuxième cellule de code pour observer un message d'erreur.\n",
    "\n",
    "2. En effet, cette cellule utilise la variable `age`de la première cellule de code.\n",
    "\n",
    " a. Exécutez la première cellule de code et répondez à la question\n",
    "\n",
    " b. Exécutez la deuxième cellule de code pour constater qu'il n'y a plus d'erreur."
   ]
  },
  {
   "cell_type": "markdown",
   "metadata": {},
   "source": [
    "## Troisième cas : Le pire plantage\n",
    "\n",
    "Il est simple à faire mais long à obtenir !\n",
    "\n",
    "Les pages Jupyter sont hébergées sur un gros ordinateur quelque part dans le monde. Cet ordinateur simule pleins de petits ordinateurs virtuels pour tous les utilisateurs. Comme cet ordinateur n'est pas infini, il a besoin de place pour les nouveaux arrivants. Pour en trouver, il efface simplement les ordinateurs virtuels qui ne servent plus car leur utilisateur a fini. Pour le savoir, il suppose que si vous ne faites rien, c'est que vous êtes parti.\n",
    "\n",
    "Il suffit simplement d'attendre plus de 10 minutes sans rien faire. Vous serez alors déconnecté du site où votre ordinateur virtuel fonctionne et votre page Jupyter sera effacée tout simplement.\n",
    "\n",
    "Il n'y a pas moyen de la récupérer, elle n'existe plus.\n",
    "\n",
    "Il ne vous reste que vos yeux pour pleurer et votre téléphone pour faire des photos de l'écran... pour tout retaper !\n",
    "\n",
    "La solution pour que cela n'arrive pas :\n",
    "\n",
    "- **Restez concentré et travaillez.**\n",
    "- Sauvegardez sur l'ordinateur virtuel avec le bouton en forme de disquette pour le prévenir que vous êtes encore là.\n",
    "- Sauvegardez votre travail avec la méthode du [niveau 2](niveau2.ipynb) si vous pensez arrêter plus de 10 minutes."
   ]
  }
 ],
 "metadata": {
  "kernelspec": {
   "display_name": "Python 3",
   "language": "python",
   "name": "python3"
  },
  "language_info": {
   "codemirror_mode": {
    "name": "ipython",
    "version": 3
   },
   "file_extension": ".py",
   "mimetype": "text/x-python",
   "name": "python",
   "nbconvert_exporter": "python",
   "pygments_lexer": "ipython3",
   "version": "3.6.4"
  }
 },
 "nbformat": 4,
 "nbformat_minor": 2
}
