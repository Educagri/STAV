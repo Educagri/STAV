{
 "cells": [
  {
   "cell_type": "markdown",
   "metadata": {},
   "source": [
    "# Mode d'emploi de Jupyter : Niveau 1\n",
    "\n",
    "# Comment utiliser les cellules et les exécuter\n",
    "\n",
    "Quand vous avez fini, fermez cet onglet du navigateur pour retrouver l'onglet précédent.\n",
    "\n",
    "\n",
    "Visionnez la vidéo suivante (en plein écran) pour en voir un aperçu.\n",
    "\n",
    "<br>\n",
    "\n",
    "\n",
    "<center><video src=\"video/UtiliserJupyter1.mp4\" controls width=\"50%\">Veuillez mettre à jour votre navigateur internet pour voir la vidéo</video></center>\n",
    "\n",
    "\n",
    "Lisez bien la suite et faites les activités pour comprendre comment jupyter fonctionne.\n",
    "\n",
    "## 1. différentes cellules de Jupyter\n",
    "\n",
    "En ce moment, vous êtes dans une zone de texte appelée cellule. Cette cellule est active, on le sait car elle est encadrée avec un liseré bleu à gauche.\n",
    "\n",
    "- Cliquez sur l'icone `Exécuter` quand vous avez lu cette question pour passer à la cellule suivante."
   ]
  },
  {
   "cell_type": "markdown",
   "metadata": {},
   "source": [
    "### 1.1 Une cellule Mardown\n",
    "\n",
    "Ceci est une zone de texte où on trouvera les explications et les questions, c'est une cellule de type \"Markdown\".\n",
    "\n",
    "C'est sous cette forme que l'auteur de ce fichier a tapé son texte.\n",
    "\n",
    "- Doucle-cliquez ici dans cette cellule.\n",
    "\n",
    "- Cliquez sur l'icone `Exécuter` quand vous avez lu cette question pour passer à la cellule suivante et voir comment Jupyter la transforme.\n",
    "\n",
    "### 1.2 Une cellule de code"
   ]
  },
  {
   "cell_type": "code",
   "execution_count": null,
   "metadata": {},
   "outputs": [],
   "source": [
    "# ceci est une zone où on écrira les programmes en Python, c'est une cellule de code.\n",
    "# Cliquez sur `Exécuter` pour voir comment Jupyter la transforme\n",
    "print(\"Bonjour les STAV\")"
   ]
  },
  {
   "cell_type": "markdown",
   "metadata": {},
   "source": [
    "&uarr; Comme vous venez de le voir, Jupyter a exécuté le code Python et a affiché le résultat en dessous de la cellule de code. Jupyter a aussi numéroté la cellule comme étant la première exécution.\n",
    "\n",
    "- Cliquez à nouveau dans la cellule de code ci-dessus. Ecrivez `print(\"Bonjour les premières STAV\")` à la place de `print(\"Bonjour les STAV\")` puis cliquez à nouveau sur `Exécuter`.\n",
    "\n",
    "Remarquez que Jupyter a alors exécuté à nouveau le code et a affiché le résultat en dessous de la cellule de code. Jupyter a aussi numéroté la cellule comme étant la deuxième exécution."
   ]
  },
  {
   "cell_type": "code",
   "execution_count": 1,
   "metadata": {},
   "outputs": [
    {
     "ename": "SyntaxError",
     "evalue": "invalid syntax (<ipython-input-1-914e3f528212>, line 1)",
     "output_type": "error",
     "traceback": [
      "\u001b[1;36m  File \u001b[1;32m\"<ipython-input-1-914e3f528212>\"\u001b[1;36m, line \u001b[1;32m1\u001b[0m\n\u001b[1;33m    Cette cellule aurait dû être de type markdown (des explications) et non du type code.\u001b[0m\n\u001b[1;37m                ^\u001b[0m\n\u001b[1;31mSyntaxError\u001b[0m\u001b[1;31m:\u001b[0m invalid syntax\n"
     ]
    }
   ],
   "source": [
    "Cette cellule aurait dû être de type markdown (des explications) et non du type code.\n",
    "\n",
    "C'est pour cela qu'il y a une erreur donnée ci-dessous lorsque l'on a cliqué sur `Exécuter`.\n",
    "\n",
    "Changez le type de cellule en markdown pour retrouver un affichage correcte en cliquant sur `Exécuter`."
   ]
  },
  {
   "cell_type": "markdown",
   "metadata": {},
   "source": [
    "# Cette cellule doit être de type code\n",
    "### Double-cliquez sur cette cellule pour mieux la voir\n",
    "### Changez le type de cellule en code pour retrouver un affichage correcte en cliquant sur `Exécuter`.\n",
    "print(\"C'est le bon type de cellule\")"
   ]
  },
  {
   "cell_type": "markdown",
   "metadata": {},
   "source": [
    "Quand vous avez fini, fermez cet onglet du navigateur pour retrouver l'onglet précédent."
   ]
  }
 ],
 "metadata": {
  "kernelspec": {
   "display_name": "Python 3",
   "language": "python",
   "name": "python3"
  },
  "language_info": {
   "codemirror_mode": {
    "name": "ipython",
    "version": 3
   },
   "file_extension": ".py",
   "mimetype": "text/x-python",
   "name": "python",
   "nbconvert_exporter": "python",
   "pygments_lexer": "ipython3",
   "version": "3.6.4"
  }
 },
 "nbformat": 4,
 "nbformat_minor": 2
}
