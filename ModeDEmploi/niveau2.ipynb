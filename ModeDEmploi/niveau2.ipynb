{
 "cells": [
  {
   "cell_type": "markdown",
   "metadata": {},
   "source": [
    "# Mode d'emploi de Jupyter : Niveau 2\n",
    "\n",
    "# Comment enregistrer son travail et le retrouver\n",
    "\n",
    "\n",
    "Quand vous avez fini, fermez cet onglet du navigateur pour retrouver l'onglet précédent.\n",
    "\n",
    "Visionnez la vidéo suivante (en plein écran) pour en voir un aperçu.\n",
    "\n",
    "<br>\n",
    "\n",
    "\n",
    "<center><video src=\"video/SauvegarderUnFichier.mp4\" controls width=\"50%\">Veuillez mettre à jour votre navigateur internet pour voir la vidéo</video></center>"
   ]
  },
  {
   "cell_type": "markdown",
   "metadata": {},
   "source": [
    "Voici un rappel de la procédure décrite dans la vidéo.\n",
    "\n",
    "# Pour enregistrer (ou sauvegarder) un exercice\n",
    "\n",
    "1. Choisissez le menu File, Download as, Notebook (.ipynb\n",
    "\n",
    "2. Le fichier sera enregistré dans le dossier téléchargements de votre ordinateur.\n",
    "\n",
    "<img src=\"images/etape3.png\">\n",
    "\n",
    "# Pour reprendre un exercice enregistré (ou sauvegardé)\n",
    "\n",
    "Voici la procédure à suivre pour charger votre travail, lisez la entièrement avant de commencer\n",
    "\n",
    "1. Choisissez le menu File, Open\n",
    "\n",
    "2. Un nouvel onglet s'est ouvert dans votre navigateur, cliquez à droite sur le bouton `Upload` et choisissez le fichier de l'exercice que vous avez enregistré.\n",
    "\n",
    "4. Cliquez sur le bouton `Téléverser`.\n",
    "\n",
    "5. Enfin, cliquez sur le nom de votre exercice dans la liste.\n",
    "\n",
    "<img src=\"images/etapes.png\">"
   ]
  }
 ],
 "metadata": {
  "kernelspec": {
   "display_name": "Python 3",
   "language": "python",
   "name": "python3"
  },
  "language_info": {
   "codemirror_mode": {
    "name": "ipython",
    "version": 3
   },
   "file_extension": ".py",
   "mimetype": "text/x-python",
   "name": "python",
   "nbconvert_exporter": "python",
   "pygments_lexer": "ipython3",
   "version": "3.6.4"
  }
 },
 "nbformat": 4,
 "nbformat_minor": 2
}
