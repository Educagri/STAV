{
 "cells": [
  {
   "cell_type": "markdown",
   "metadata": {},
   "source": [
    "# Mode d'emploi de Jupyter\n",
    "\n",
    "Quand vous avez fini, fermez cet onglet du navigateur pour retrouver l'onglet précédent.\n",
    "\n",
    "<center><video src=\"video/UtiliserJupyter1.mp4\" controls width=\"30%\">Veuillez mettre à jour votre navigateur internet pour voir la vidéo</video>    <video src=\"video/UtiliserJupyter2.mp4\" controls width=\"30%\">Veuillez mettre à jour votre navigateur internet pour voir la vidéo</video>    <video src=\"video/UtiliserJupyter3.mp4\" controls width=\"30%\">Veuillez mettre à jour votre navigateur internet pour voir la vidéo</video></center>\n",
    "\n",
    "Pour expérimenter les axplication vues dans les vidéos, visitez les pages suivantes\n",
    "\n",
    "- Pour savoir comment utiliser les cellules et les exécuter, allez au [Niveau 1](niveau1.ipynb)\n",
    "- Pour savoir comment enregistrer son travail et le retrouver, allez au [Niveau 2](niveau2.ipynb)\n",
    "- Pour savoir comment reprendre la main quand le programme est planté, allez au [Niveau 3](niveau3.ipynb)\n",
    "\n",
    "\n"
   ]
  }
 ],
 "metadata": {
  "kernelspec": {
   "display_name": "Python 3",
   "language": "python",
   "name": "python3"
  },
  "language_info": {
   "codemirror_mode": {
    "name": "ipython",
    "version": 3
   },
   "file_extension": ".py",
   "mimetype": "text/x-python",
   "name": "python",
   "nbconvert_exporter": "python",
   "pygments_lexer": "ipython3",
   "version": "3.6.4"
  }
 },
 "nbformat": 4,
 "nbformat_minor": 2
}
