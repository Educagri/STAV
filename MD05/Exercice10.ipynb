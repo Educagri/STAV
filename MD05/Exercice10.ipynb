{
 "cells": [
  {
   "cell_type": "markdown",
   "metadata": {},
   "source": [
    "<center><img src=\"images/MD5Ex10.png\"></center>\n",
    "\n",
    "Thomas Malthus est un économiste britannique du dix-neuvième siècle plutôt pessimiste. Ses travaux portent sur les rapports entre les dynamiques de croissance de la population et la production de ressources. Son hypothèse de travail est la suivante : « Sans frein, la population augmente de façon géométrique tandis que les ressources ne croissent que de façon arithmétique. » Cette hypothèse implique forcément une catastrophe « malthusienne » : tôt ou tard, les ressources ne suffiront plus à nourrir l’ensemble de la population dont les effectifs s’effondreront.\n",
    "\n",
    "On souhaite vérifier expérimentalement que son hypothèse mène forcément à une catastrophe à travers un exemple en écologie des populations.\n",
    "\n",
    "<center><img src=\"images/elephants.jpg\"></center>\n",
    "\n",
    "\n",
    "Soit une population de 2000 éléphants dont le taux de reproduction est de 3 % par an.\n",
    "\n",
    "Les ressources alimentaires actuelles permettent de nourrir 3 000 éléphants et elles croissent de sorte qu’elles permettent de nourrir 200 éléphants de plus chaque année.\n",
    "\n",
    "On modélise la situation avec les suites $(g_n)$ et $(a_n)$ telles que $g_n$ est le nombre d’éléphants à l’année $n$ et $a_n$ est le nombre d’éléphants que les ressources peuvent nourrir à l’année $n$.\n",
    "\n",
    "1.\tQue valent $g_0$ et $a_0$ ?\n",
    "\n",
    "2.\tExprimer $g_{n+1}$ en fonction de $g_n$ et $a_{n+1}$ en fonction de $a_n$.\n",
    "\n",
    "3.\tDonner le sens de variation de chaque suite.\n",
    "\n",
    "4.\tOn souhaite déterminer les valeurs de $n$ pour lesquelles les ressources sont suffisantes pour les éléphants.\n",
    "\n",
    "&nbsp; &nbsp; &nbsp; a.\t Comment cela se traduit-il en utilisant $g_n$ et $a_n$ ?\n",
    "\n",
    "&nbsp; &nbsp; &nbsp; b.\tCompléter les pointillés de l’algorithme suivant qui permet de déterminer la valeur minimale de $n$ à laquelle les éléphants ne peuvent plus être tous nourris.\n",
    "\n",
    "<center>\n",
    "<div style=\"width: 270px; text-align: left; padding-top:10px; padding-left:10px; padding-bottom:10px;border: 1px solid #A0A0A0;\">\n",
    "$g_n \\leftarrow2000$<br>\n",
    "$a_n \\leftarrow$...<br>\n",
    "$n \\leftarrow$...<br>\n",
    "Tant que ...... faire<br>\n",
    "&nbsp; | &nbsp;&nbsp; $a_n \\leftarrow$...<br>\n",
    "&nbsp; | &nbsp;&nbsp; $g_n \\leftarrow$...<br>\n",
    "&nbsp; | &nbsp;&nbsp; $n \\leftarrow n+1$<br>\n",
    "fin tant que<br>\n",
    "Afficher $n$<br>\n",
    "</div>\n",
    "</center>\n",
    "\n",
    "5. Traduire cet algorithme en Python dans la cellule de code ci-dessous."
   ]
  },
  {
   "cell_type": "code",
   "execution_count": null,
   "metadata": {},
   "outputs": [],
   "source": [
    "# écrire le code de la question 5 ici\n"
   ]
  },
  {
   "cell_type": "markdown",
   "metadata": {},
   "source": [
    "6.\tExécuter le programme. Semble-t-il possible d’éviter un effondrement de la population d’éléphants ?\n",
    "\n",
    "7. Copier le programme précédent dans la cellule de code ci-dessous et retirer la cinquième ligne et la deuxième ligne du programme.\n",
    "\n",
    "8. Retirer la référence à $a_n$ dans le **Tant que** et la remplacer par une expression en fonction de $n$.\n",
    "\n",
    "9. Le programme fonctionne-t-il toujours aussi bien ? Le programme est-il plus court ?"
   ]
  },
  {
   "cell_type": "code",
   "execution_count": null,
   "metadata": {},
   "outputs": [],
   "source": [
    "# écrire le code de la question 7 ici\n"
   ]
  }
 ],
 "metadata": {
  "kernelspec": {
   "display_name": "Python 3",
   "language": "python",
   "name": "python3"
  },
  "language_info": {
   "codemirror_mode": {
    "name": "ipython",
    "version": 3
   },
   "file_extension": ".py",
   "mimetype": "text/x-python",
   "name": "python",
   "nbconvert_exporter": "python",
   "pygments_lexer": "ipython3",
   "version": "3.7.6"
  }
 },
 "nbformat": 4,
 "nbformat_minor": 2
}
