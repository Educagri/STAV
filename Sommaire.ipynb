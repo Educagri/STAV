{
 "cells": [
  {
   "cell_type": "markdown",
   "metadata": {},
   "source": [
    "# Mathématiques STAV\n",
    "\n",
    "Voici le fichier principal du livre. À partir de ce fichier, vous pouvez accéder rapidement à tous les exercices.\n",
    "\n",
    "Nous allons utiliser jupyter qui permet d'avoir dans un fichier html des véritables morceaux de Python.\n",
    "\n",
    "<table><tr><td>Tout repose sur cette barre d'icônes</td><td> <IMG SRC=\"run.png\"></td><td> en haut de cette page.</td></tr></table>\n",
    "\n",
    "**Exécuter, interrompre le noyau, redémarrer le noyau (avec confirmation)**\n",
    "\n",
    "L'icône **Exécuter**, qui est la plus à gauche dans la barre, permet de faire fonctionner une cellule (paragraphe)\n",
    "\n",
    "- Elle permet d'exécuter du code source Python (code).\n",
    "- Elle permet d'afficher correctement les paragraphes d'explications (markdown)\n",
    "\n",
    "L'icône **interrompre le noyau**, qui est au centre dans la barre, permet d'arrêter du code Python \"planté\".\n",
    "\n",
    "L'icône **redémarrer le noyau (avec confirmation)**, qui est la plus à droite dans la barre, permet de remettre Python à zéro sans effacer les exercices déjà faits.\n",
    "\n",
    "## MD00\n",
    "\n",
    "rien pour l'instant\n",
    "\n",
    "## MD01 : Généralités sur les suites\n",
    "\n",
    "[Activité 1](MD01/Activite1.ipynb) : Le geyser Old Faithful\n",
    "\n",
    "[Activité 2](MD01/Activite2.ipynb) : listes définies en extension\n",
    "\n",
    "[Activité 3](MD01/Activite3.ipynb) : Gestion des carpes dans un étang\n",
    "\n",
    "## MD02\n",
    "\n"
   ]
  },
  {
   "cell_type": "code",
   "execution_count": null,
   "metadata": {},
   "outputs": [],
   "source": []
  }
 ],
 "metadata": {
  "kernelspec": {
   "display_name": "Python 3",
   "language": "python",
   "name": "python3"
  },
  "language_info": {
   "codemirror_mode": {
    "name": "ipython",
    "version": 3
   },
   "file_extension": ".py",
   "mimetype": "text/x-python",
   "name": "python",
   "nbconvert_exporter": "python",
   "pygments_lexer": "ipython3",
   "version": "3.7.1"
  }
 },
 "nbformat": 4,
 "nbformat_minor": 2
}
