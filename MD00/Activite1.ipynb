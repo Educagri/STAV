{
 "cells": [
  {
   "cell_type": "markdown",
   "metadata": {},
   "source": [
    "# Séquence A&P : Algorithmes et Python\n",
    "\n",
    "## Activité 1\n",
    "\n",
    "En agronomie, on a besoin de connaître la battance des sols pour agir en conséquence. La battance est la tendance du sol à se tasser en surface sous l’effet de la pluie et à former une croûte imperméable à l’air et à l’eau. La jeune plante doit soulever cette croûte de battance pour se développer. Pour connaître la battance du sol, on mesure la teneur en argile $A$, la teneur en limon fin $LF$, la teneur en limon grossier $LG$, la teneur en matières organiques $MO$ et le $pH$ du sol. Les teneurs peuvent être exprimés en pourcentage. On calcule l'indice de battance $IB$ d'un sol à l'aide des formules suivantes :\n",
    "\n",
    "Si $pH>7$, $IB=\\dfrac{1,5LF+0,75LG}{A+10MO}-0,2(pH-7)$\n",
    "\n",
    "et si $pH\\leqslant7$, $IB=\\dfrac{1,5LF+0,75LG}{A+10MO}$\n",
    "\n",
    "On interprète cet indice ainsi :\n",
    "\n",
    "-\tSi   est supérieur à 2, le sol est très battant,\n",
    "-\tsi   est entre 1,8 et 2, le sol est battant,\n",
    "-\tsi   est entre 1,6 et 1,8, le sol est assez battant,\n",
    "-\tsi   est entre 1,4 et 1,6, le sol est peu battant,\n",
    "-\tsi   est en dessous de 1,4, le sol est non battant.\n",
    "\n",
    "Pour étudier l’influence du $pH$, on le fait varier entre 1 et 13. Les terres repérées pour cet exercice ont comme composition : $A=18$ %, $LF=55$ %, $LG=20$ % et $MO=3$ %.\n",
    "\n",
    "1. Simplifier les deux formules d’indice de battance avec la composition fixée ci-dessus.\n",
    "\n",
    "On crée alors l’algorithme suivant permettant de tracer la représentation graphique de $IB$  en fonction du $pH$. On trace alors la courbe de l’indice de battance en coloriant en bleu la partie où le sol n’est pas battant et en rouge celle où il est battant.\n",
    "\n",
    "$pH \\leftarrow 1$<br>\n",
    "Pour $pH$ variant de $1$ à $13$ faire<br>\n",
    "&nbsp; | &nbsp;&nbsp; Si $pH>7$ alors $IB\\leftarrow 2,03125-0,2(pH-7)$<br>\n",
    "&nbsp; | &nbsp;&nbsp; Sinon $IB\\leftarrow 2,03125$<br>\n",
    "&nbsp; | &nbsp;&nbsp; Fin Si<br>\n",
    "&nbsp; | &nbsp;&nbsp; Si $IB\\leqslant1,8$ alors Tracer un point bleu de coordonnées $( pH  , IB  )$<br>\n",
    "&nbsp; | &nbsp;&nbsp; Sinon Tracer un point rouge de coordonnées $( pH  , IB  )$<br>\n",
    "&nbsp; | &nbsp;&nbsp; Fin Si<br>\n",
    "fin Pour<br>\n",
    "Afficher le graphique\n",
    "\n",
    "2. À l’aide des Mémento Python (page ?), traduire cet algorithme en Python dans le cadre de code ci-dessous."
   ]
  },
  {
   "cell_type": "code",
   "execution_count": null,
   "metadata": {},
   "outputs": [],
   "source": [
    "# voici quelques morceaux de code déjà tapés pour gagner du temps\n",
    "\n"
   ]
  },
  {
   "cell_type": "markdown",
   "metadata": {},
   "source": [
    "3.\tExécuter l’algorithme et vérifier que l’on obtient le graphique ci-dessous. \n",
    "\n",
    "<IMG SRC=\"graph1.png\">\n",
    "    \n",
    "4.\tDécrire comment évolue la battance en fonction du pH, les autres variables restant inchangées."
   ]
  }
 ],
 "metadata": {
  "kernelspec": {
   "display_name": "Python 3",
   "language": "python",
   "name": "python3"
  },
  "language_info": {
   "codemirror_mode": {
    "name": "ipython",
    "version": 3
   },
   "file_extension": ".py",
   "mimetype": "text/x-python",
   "name": "python",
   "nbconvert_exporter": "python",
   "pygments_lexer": "ipython3",
   "version": "3.7.6"
  }
 },
 "nbformat": 4,
 "nbformat_minor": 2
}
