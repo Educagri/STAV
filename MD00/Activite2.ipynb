{
 "cells": [
  {
   "cell_type": "markdown",
   "metadata": {},
   "source": [
    "<center><img src=\"images/MD0Act2.png\"></center>\n",
    "\n",
    "On souhaite maintenant faire la même chose avec les autres variables. C’est-à-dire fixer toutes les variables sauf $A$  que l’on fait varier, puis fixer toutes les variables sauf $LF$  que l’on fait varier, etc.\n",
    "\n",
    "Pour rendre un programme plus adaptable aux changements, il est pratique de créer des fonctions où l’on pourra mettre tout ce qui peut être modifié une fois pour toute. On écrit alors le programme suivant avec une fonction `IndiceBattance` qui, à partir des données, utilise les formules adaptées ainsi qu’une fonction `Battant` qui contient la norme choisie pour décider si un sol est battant ou non. \n",
    "\n",
    "Définition de `IndiceBattance` $( A , LF , LG ,MO  ,pH  )$<br>\n",
    "&nbsp; | &nbsp;&nbsp; Si $pH>7$ alors $IB\\leftarrow \\dfrac{1,5LF+0,75LG}{A+10MO}-0,2(pH-7)$<br>\n",
    "&nbsp; | &nbsp;&nbsp; Sinon $IB\\leftarrow \\dfrac{1,5LF+0,75LG}{A+10MO}$<br>\n",
    "&nbsp; | &nbsp;&nbsp; Fin Si<br>\n",
    "\n",
    "Définition de `Battant` $( A , LF , LG ,MO  ,pH  )$<br>\n",
    "&nbsp; | &nbsp;&nbsp; Si $pH>7$ alors $IB\\leftarrow \\dfrac{1,5LF+0,75LG}{A+10MO}-0,2(pH-7)$<br>\n",
    "&nbsp; | &nbsp;&nbsp; Sinon $IB\\leftarrow \\dfrac{1,5LF+0,75LG}{A+10MO}$<br>\n",
    "&nbsp; | &nbsp;&nbsp; Fin Si<br>\n",
    "\n",
    "$A \\leftarrow 18$<br>\n",
    "$LF \\leftarrow 55$<br>\n",
    "$LG \\leftarrow 20$<br>\n",
    "$MO \\leftarrow 3$<br>\n",
    "$pH \\leftarrow 1$<br>\n",
    "Pour $pH$ variant de $1$ à $13$ faire<br>\n",
    "&nbsp; | &nbsp;&nbsp; $IB =$ IndiceBattance $( A , LF , LG ,MO  ,pH  )$<br>\n",
    "&nbsp; | &nbsp;&nbsp; Si Battant $( A , LF , LG ,MO  ,pH  )$ alors<br>\n",
    "&nbsp;&nbsp;&nbsp;&nbsp;&nbsp;&nbsp;&nbsp; | &nbsp;&nbsp;Tracer un point bleu de coordonnées $( pH  , IB  )$<br>\n",
    "&nbsp; | &nbsp;&nbsp; Sinon<br>\n",
    "&nbsp;&nbsp;&nbsp;&nbsp;&nbsp;&nbsp;&nbsp; | &nbsp;&nbsp;Tracer un point rouge de coordonnées $( pH  , IB  )$<br>\n",
    "&nbsp; | &nbsp;&nbsp; Fin Si<br>\n",
    "fin Pour<br>\n",
    "Afficher le graphique\n",
    "\n",
    "1. À l’aide des Mémento Python (page ?), traduire cet algorithme en Python dans le cadre de code ci-dessous."
   ]
  },
  {
   "cell_type": "code",
   "execution_count": null,
   "metadata": {},
   "outputs": [],
   "source": [
    "# voici quelques morceaux de code déjà tapés pour gagner du temps\n",
    "\n"
   ]
  },
  {
   "cell_type": "markdown",
   "metadata": {},
   "source": [
    "2.\tExécuter l’algorithme et vérifier que l’on obtient le graphique ci-dessous. \n",
    "\n",
    "<IMG SRC=\"graph1.png\">\n",
    "    \n",
    "3. Copier le programme ci-dessus et le modifier pour tester le cas suivant. Interpréter le graphique obtenu.\n",
    "\n",
    "&nbsp;&nbsp;&nbsp;&nbsp;a. Faire varier $A$  entre 10 inclus et 30 exclu, \n",
    "$10\\leqslant A < 30$ \n",
    "\n",
    "&nbsp;&nbsp;&nbsp;&nbsp;&nbsp;&nbsp;&nbsp;&nbsp;avec $LF=45$ , $LG=20$ , $MO=3$ , $pH=7$ "
   ]
  },
  {
   "cell_type": "code",
   "execution_count": null,
   "metadata": {},
   "outputs": [],
   "source": [
    "# recopier ici le premier programme afin de le modifier"
   ]
  },
  {
   "cell_type": "markdown",
   "metadata": {},
   "source": [
    "3. Copier le programme ci-dessus et le modifier pour tester le cas suivant. Interpréter le graphique obtenu.\n",
    "\n",
    "&nbsp;&nbsp;&nbsp;&nbsp;b. Faire varier $LF$  entre 20 inclus et 60 exclu, \n",
    "$20\\leqslant LF < 60$ \n",
    "\n",
    "&nbsp;&nbsp;&nbsp;&nbsp;&nbsp;&nbsp;&nbsp;&nbsp;avec $A=10$ , $LG=20$ , $MO=3$ , $pH=7$ "
   ]
  },
  {
   "cell_type": "code",
   "execution_count": null,
   "metadata": {},
   "outputs": [],
   "source": [
    "# recopier ici le premier programme afin de le modifier"
   ]
  },
  {
   "cell_type": "markdown",
   "metadata": {},
   "source": [
    "3. Copier le programme ci-dessus et le modifier pour tester le cas suivant. Interpréter le graphique obtenu.\n",
    "\n",
    "&nbsp;&nbsp;&nbsp;&nbsp;c. Faire varier $LG$  entre 20 inclus et 50 exclu, \n",
    "$20\\leqslant LG < 50$ \n",
    "\n",
    "&nbsp;&nbsp;&nbsp;&nbsp;&nbsp;&nbsp;&nbsp;&nbsp;avec $A=10$ , $LF=30$ , $MO=3$ , $pH=7$ "
   ]
  },
  {
   "cell_type": "code",
   "execution_count": null,
   "metadata": {},
   "outputs": [],
   "source": [
    "# recopier ici le premier programme afin de le modifier"
   ]
  },
  {
   "cell_type": "markdown",
   "metadata": {},
   "source": [
    "3. Copier le programme ci-dessus et le modifier pour tester le cas suivant. Interpréter le graphique obtenu.\n",
    "\n",
    "&nbsp;&nbsp;&nbsp;&nbsp;d. Faire varier $MO$  entre 0 inclus et 5 exclu, \n",
    "$0\\leqslant MO < 5$ \n",
    "\n",
    "&nbsp;&nbsp;&nbsp;&nbsp;&nbsp;&nbsp;&nbsp;&nbsp;avec $A=10$ , $LF=30$ , $LG=20$ , $pH=7$ "
   ]
  },
  {
   "cell_type": "code",
   "execution_count": null,
   "metadata": {},
   "outputs": [],
   "source": [
    "# recopier ici le premier programme afin de le modifier"
   ]
  },
  {
   "cell_type": "markdown",
   "metadata": {},
   "source": [
    "4. Pourquoi dit-on que les limons sont les constituants déstructurants alors que l’argile et l’humus (constituant majoritaire des matières organiques) sont des constituants structurants ?"
   ]
  }
 ],
 "metadata": {
  "kernelspec": {
   "display_name": "Python 3",
   "language": "python",
   "name": "python3"
  },
  "language_info": {
   "codemirror_mode": {
    "name": "ipython",
    "version": 3
   },
   "file_extension": ".py",
   "mimetype": "text/x-python",
   "name": "python",
   "nbconvert_exporter": "python",
   "pygments_lexer": "ipython3",
   "version": "3.7.6"
  }
 },
 "nbformat": 4,
 "nbformat_minor": 2
}
