{
 "cells": [
  {
   "cell_type": "markdown",
   "metadata": {},
   "source": [
    "<center><img src=\"images/MD0Ex5.png\"></center>\n",
    "\n",
    "L’organisateur d’un jeu, monsieur S. Cros, propose de miser 8 € pour deviner un nombre entier compris entre 1 et 100 qu’il a choisi. À chaque proposition, l’organisateur nous indique :\n",
    "\n",
    "*\t « Plus » si son nombre est plus grand que la proposition ;\n",
    "\n",
    "*\t« Moins » si son nombre est plus petit que la proposition ;\n",
    "\n",
    "*\t« Gagné » si on trouve le bon nombre.\n",
    "\n",
    "Si on trouve du premier coup, on gagne 20 €. Si c’est au deuxième coup, on gagne 16 €, etc. : chaque tentative coûte 4 €. Une fois le gain nul, on peut finir la partie mais le gain reste nul.\n",
    "\n",
    "Il existe trois stratégies : pour donner une idée approchée de la meilleure, on modélise chacune d’entre elles à l’aide d’un algorithme qu’on exécute un grand nombre de fois. Pour simplifier le travail, la stratégie sera placée dans une fonction.\n",
    "\n",
    "## Première stratégie\n",
    "\n",
    "On choisit le nombre au hasard entre les deux valeurs extrêmes connues.\n",
    "\n",
    "Définition de Stratégie1(min,max)<br>\n",
    "&nbsp; | &nbsp;&nbsp; Retourner entier aléatoire (entre min et max)\n",
    "\n",
    "## Deuxième stratégie\n",
    "\n",
    "On choisit la moyenne entre les deux valeurs extrêmes connues. Si la moyenne n’est pas entière, on arrondit par défaut.\n",
    "\n",
    "Définition de Stratégie2(min,max)<br>\n",
    "&nbsp; | &nbsp;&nbsp; $S \\leftarrow $ min $+$ max<br>\n",
    "&nbsp; | &nbsp;&nbsp; Si $S$ est impair alors $S \\leftarrow S-1$<br>\n",
    "&nbsp; | &nbsp;&nbsp; Retourner $\\frac{S}2$\n",
    "\n",
    "Pour savoir si $S$ est pair (respectivement impair), on vérifie si le reste de la division de $S$ par 2 est 0 avec `S%2==0` (respectivement différent de 0 avec `S%2 !=0`).\n",
    "\n",
    "## Troisième stratégie\n",
    "\n",
    "On choisit la moyenne entre les deux valeurs extrêmes connues. Si la moyenne n’est pas entière, on arrondit par excès.\n",
    "\n",
    "Définition de Stratégie3(min,max)<br>\n",
    "&nbsp; | &nbsp;&nbsp; ...\n",
    "\n",
    "1.\tÉcrire la troisième stratégie puis traduire ces fonctions (Stratégie1, Stratégie2 et Stratégie 3) en Python. \n",
    "\n"
   ]
  },
  {
   "cell_type": "code",
   "execution_count": 1,
   "metadata": {},
   "outputs": [],
   "source": [
    "# Taper votre code pour Stratégie1, Stratégie2 et Stratégie 3 ici\n",
    "\n"
   ]
  },
  {
   "cell_type": "markdown",
   "metadata": {},
   "source": [
    "On écrit alors le programme suivant :\n",
    "\n",
    "Importer la bibliothèque random<br>\n",
    "TotalEssais $\\leftarrow 0$<br>\n",
    "Pour $compteur$ variant de $0$ à $9999$ faire<br>\n",
    "&nbsp; | &nbsp;&nbsp; Secret $\\leftarrow $ entier aléatoire (entre 1 et 100)<br>\n",
    "&nbsp; | &nbsp;&nbsp; Min $\\leftarrow 1$<br>\n",
    "&nbsp; | &nbsp;&nbsp; Max $\\leftarrow 100$<br>\n",
    "&nbsp; | &nbsp;&nbsp; PasTrouvé $\\leftarrow $ Vrai<br>\n",
    "&nbsp; | &nbsp;&nbsp; NbEssais $\\leftarrow 0$<br>\n",
    "&nbsp; | &nbsp;&nbsp; Tant que PasTrouvé faire<br>\n",
    "&nbsp; | &nbsp;&nbsp; &nbsp; | &nbsp;&nbsp; NbEssais $\\leftarrow $ NbEssais + 1<br>\n",
    "&nbsp; | &nbsp;&nbsp; &nbsp; | &nbsp;&nbsp; Essais $\\leftarrow $ Stratégie(Min,Max)<br>\n",
    "&nbsp; | &nbsp;&nbsp; &nbsp; | &nbsp;&nbsp; Si Essai $<$ Secret alors<br>\n",
    "&nbsp; | &nbsp;&nbsp; &nbsp; | &nbsp;&nbsp; &nbsp; | &nbsp;&nbsp; Min $\\leftarrow $ Essai + 1<br>\n",
    "&nbsp; | &nbsp;&nbsp; &nbsp; | &nbsp;&nbsp; Sinon<br>\n",
    "&nbsp; | &nbsp;&nbsp; &nbsp; | &nbsp;&nbsp; &nbsp; | &nbsp;&nbsp; Si Essai $>$ Secret alors<br>\n",
    "&nbsp; | &nbsp;&nbsp; &nbsp; | &nbsp;&nbsp; &nbsp; | &nbsp;&nbsp; &nbsp; | &nbsp;&nbsp; Max $\\leftarrow $ Essai $ - 1$<br>\n",
    "&nbsp; | &nbsp;&nbsp; &nbsp; | &nbsp;&nbsp; &nbsp; | &nbsp;&nbsp; Sinon PasTrouvé $\\leftarrow $ Faux<br>\n",
    "&nbsp; | &nbsp;&nbsp; &nbsp; | &nbsp;&nbsp; &nbsp; | &nbsp;&nbsp; Fin si<br>\n",
    "&nbsp; | &nbsp;&nbsp; &nbsp; | &nbsp;&nbsp; Fin si<br>\n",
    "&nbsp; | &nbsp;&nbsp; Fin tant que<br>\n",
    "&nbsp; | &nbsp;&nbsp; TotalEssais $\\leftarrow $ TotalEssais + NbEssais<br>\n",
    "Fin pour<br>\n",
    "Afficher TotalEssais$/10000$<br>\n",
    "\n",
    "2.\tTraduire cet algorithme en Python et l’exécuter avec les trois stratégies.\n",
    "3.\tIndiquer s’il existe une stratégie meilleure que les autres et s’il y en a d’équivalentes.\n",
    "4.\tQuels nombres monsieur Cros ne devrait-il pas choisir pour ne pas perdre d’argent ?\n",
    "\n"
   ]
  },
  {
   "cell_type": "code",
   "execution_count": null,
   "metadata": {},
   "outputs": [],
   "source": [
    "# Taper votre code ici\n"
   ]
  }
 ],
 "metadata": {
  "kernelspec": {
   "display_name": "Python 3",
   "language": "python",
   "name": "python3"
  },
  "language_info": {
   "codemirror_mode": {
    "name": "ipython",
    "version": 3
   },
   "file_extension": ".py",
   "mimetype": "text/x-python",
   "name": "python",
   "nbconvert_exporter": "python",
   "pygments_lexer": "ipython3",
   "version": "3.7.6"
  }
 },
 "nbformat": 4,
 "nbformat_minor": 2
}
