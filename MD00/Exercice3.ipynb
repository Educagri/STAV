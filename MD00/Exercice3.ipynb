{
 "cells": [
  {
   "cell_type": "markdown",
   "metadata": {},
   "source": [
    "# Séquence A&P : Algorithmes et Python\n",
    "\n",
    "## Exercice 3\n",
    "\n",
    "Les chevreuils mangent beaucoup de bourgeons et de baies au printemps. Le sucre naturellement présent dans les bourgeons macère dans leur estomac et se transforme en alcool, et les alcaloïdes de certaines baies ont un effet psychotrope. C’est ainsi qu’on observe fréquemment au printemps des chevreuils complètement désorientés et qui titubent.\n",
    "\n",
    "Ce jour-là, un chevreuil en état d’ébriété se dirige vers l’entrée d’un lycée agricole. Il commence son trajet au milieu de l’allée à 20 m de la porte. Il n’arrive plus à marcher droit, il avance en diagonale, avançant de 1 m vers la droite ou vers la gauche et se rapprochant ainsi à chaque fois de 1 m de l’enceinte du lycée. L’allée mesure 5 m de largeur, tout comme le portail du lycée qui est bordé de grillage de chaque côté. Si le chevreuil arrive face au grillage, il rebrousse chemin et s’en va. Quelle est la probabilité qu’il franchisse le portail pour s’amuser avec les élèves ?\n",
    "\n",
    "\n",
    "Pour donner une idée approchée de la réponse, on modélise la situation à l’aide d’un algorithme qu’on exécute un grand nombre de fois. \n",
    "\n",
    "\n",
    "\n",
    "Importer la bibliothèque random<br>\n",
    "$NbEntrées  \\leftarrow 0$<br>\n",
    "Pour $compteur$ variant de $0$ à $9999$ faire<br>\n",
    "&nbsp; | &nbsp;&nbsp; $Position  \\leftarrow 0$ <br>\n",
    "&nbsp; | &nbsp;&nbsp; $T_2 \\leftarrow $ entier aléatoire (entre 0 et 59)<br>\n",
    "&nbsp; | &nbsp;&nbsp; Pour $k$ variant de 0 à 19 faire<br>\n",
    "&nbsp; | &nbsp;&nbsp; &nbsp; | &nbsp;&nbsp; $Pas \\leftarrow $ entier aléatoire (entre 0 et 1)<br>\n",
    "&nbsp; | &nbsp;&nbsp; &nbsp; | &nbsp;&nbsp; Si $Pas = 0$ alors  $Pas \\leftarrow -1$<br>\n",
    "&nbsp; | &nbsp;&nbsp; &nbsp; | &nbsp;&nbsp;$Position \\leftarrow Position + Pas$ <br>\n",
    "&nbsp; | &nbsp;&nbsp; Fin Pour <br>\n",
    "&nbsp; | &nbsp;&nbsp; Si $Position \\geqslant -2$ et $Position \\leqslant 2$ alors <br>\n",
    "&nbsp; | &nbsp;&nbsp;&nbsp; | &nbsp;&nbsp;$NbEntrées  \\leftarrow NbEntrées  + 1$ <br>\n",
    "&nbsp; | &nbsp;&nbsp; Fin Si<br>\n",
    "fin Pour<br>\n",
    "Afficher $NbEntrées/10000$<br>\n",
    "\n",
    "1.\tPourquoi la seconde boucle (avec $k$) va-t-elle de 0 à 19 ?\n",
    "2.\tComment l’algorithme traduit le fait que le chevreuil ne marche pas tout droit ?\n",
    "3.\tTransposer cet algorithme en Python et l’exécuter pour répondre à la question.\n",
    "\n"
   ]
  },
  {
   "cell_type": "code",
   "execution_count": 1,
   "metadata": {},
   "outputs": [],
   "source": [
    "# Taper votre code ici\n",
    "\n"
   ]
  }
 ],
 "metadata": {
  "kernelspec": {
   "display_name": "Python 3",
   "language": "python",
   "name": "python3"
  },
  "language_info": {
   "codemirror_mode": {
    "name": "ipython",
    "version": 3
   },
   "file_extension": ".py",
   "mimetype": "text/x-python",
   "name": "python",
   "nbconvert_exporter": "python",
   "pygments_lexer": "ipython3",
   "version": "3.7.1"
  }
 },
 "nbformat": 4,
 "nbformat_minor": 2
}
