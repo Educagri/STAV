{
 "cells": [
  {
   "cell_type": "markdown",
   "metadata": {},
   "source": [
    "# Séquence A&P : Algorithmes et Python\n",
    "\n",
    "## Exercice 2\n",
    "\n",
    "Un vacancier a deux boites de 40 allumettes, une boite dans chaque poche de son short. À chaque fois qu’il allume son barbecue, il utilise une allumette prise au hasard dans l’une de ses deux poches. On cherche à déterminer, en moyenne, le nombre d’allumettes qui lui restera lorsqu’il aura fini l’une des boites.\n",
    "\n",
    "Pour donner une idée approchée de la réponse, on modélise la situation à l’aide d’un algorithme qu’on exécute un grand nombre de fois.\n",
    "\n",
    "\n",
    "\n",
    "\n",
    "Importer la bibliothèque random<br>\n",
    "$SomAll \\leftarrow 0$<br>\n",
    "Pour $compteur$ variant de $0$ à $9999$ faire<br>\n",
    "&nbsp; | &nbsp;&nbsp; $Boite_1 \\leftarrow 40$ <br>\n",
    "&nbsp; | &nbsp;&nbsp; $Boite_2 \\leftarrow 40$<br>\n",
    "&nbsp; | &nbsp;&nbsp; Tant que $Boite_1 \\times Boite_2 \\not= 0$ faire <br>\n",
    "&nbsp; | &nbsp;&nbsp; &nbsp; | &nbsp;&nbsp; Si entier aléatoire (entre 0 et 1) $=1$ alors <br>\n",
    "&nbsp; | &nbsp;&nbsp; &nbsp; | &nbsp;&nbsp; &nbsp; | &nbsp;&nbsp; $Boite_1 \\leftarrow Boite_1 - 1$ <br>\n",
    "&nbsp; | &nbsp;&nbsp; &nbsp; | &nbsp;&nbsp;  Sinon <br>\n",
    "&nbsp; | &nbsp;&nbsp; &nbsp; | &nbsp;&nbsp;&nbsp; | &nbsp;&nbsp; $Boite_2 \\leftarrow Boite_2 -1$ <br>\n",
    "&nbsp; | &nbsp;&nbsp; &nbsp; | &nbsp;&nbsp; Fin Si<br>\n",
    "&nbsp; | &nbsp;&nbsp; Fin tant que <br>\n",
    "&nbsp; | &nbsp;&nbsp; $SomAll \\leftarrow SomAll + Boite_1 + Boite_2$ <br>\n",
    "fin Pour<br>\n",
    "Afficher $SomAll/10000$<br>\n",
    "\n",
    "1.\tÀ quoi sert la variable $compteur$ ?\n",
    "2.\tIndiquer l’objectif de la variable $SomAll$ et de l’utilité de la diviser par 10 000\n",
    "3.\tPourquoi initialise-t-on les deux variables $Boite$ dans la boucle « Pour » et pas en même temps que la variable $SomAll$ ?\n",
    "4.\tExpliquer ce que permet la condition $Boite_1 \\times Boite_2 \\not= 0$  dans le contexte de l’exercice.\n",
    "5.\tIndiquer l’intérêt d’ajouter le contenu des deux boites à la somme dans la ligne $SomAll \\leftarrow SomAll + Boite_1 + Boite_2$ alors que l’on sait qu’une des boites est vide.\n",
    "6.\tTraduire cet algorithme en Python et l’exécuter pour répondre à la question.\n",
    "\n"
   ]
  },
  {
   "cell_type": "code",
   "execution_count": null,
   "metadata": {},
   "outputs": [],
   "source": [
    "# Taper votre code ici\n",
    "\n"
   ]
  }
 ],
 "metadata": {
  "kernelspec": {
   "display_name": "Python 3",
   "language": "python",
   "name": "python3"
  },
  "language_info": {
   "codemirror_mode": {
    "name": "ipython",
    "version": 3
   },
   "file_extension": ".py",
   "mimetype": "text/x-python",
   "name": "python",
   "nbconvert_exporter": "python",
   "pygments_lexer": "ipython3",
   "version": "3.7.1"
  }
 },
 "nbformat": 4,
 "nbformat_minor": 2
}
