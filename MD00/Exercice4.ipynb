{
 "cells": [
  {
   "cell_type": "markdown",
   "metadata": {},
   "source": [
    "<center><img src=\"images/MD0Ex4.png\"></center>\n",
    "\n",
    "L’entrée du lycée a été réaménagée : l’allée qui mène au portail est désormais bordée de deux bassins. Si le chevreuil boit l’eau d’un bassin, il reprend ses esprits et repart et sans rentrer dans le lycée. L’allée et l’entrée font 5 m de large. Le chevreuil commence son trajet au milieu de l’allée à 20 m de la porte. Par rapport à la situation de l’exercice 3, le chevreuil a-t-il plus ou moins de chance de franchir le portail pour aller se reposer au foyer du lycée ?\n",
    "\n",
    "Pour donner une idée approchée de la réponse, on modélise la situation à l’aide d’un algorithme qu’on exécute un grand nombre de fois. \n",
    "\n",
    "\n",
    "\n",
    "Importer la bibliothèque random<br>\n",
    "$NbEntrées  \\leftarrow 0$<br>\n",
    "Pour $compteur$ variant de $0$ à $9999$ faire<br>\n",
    "&nbsp; | &nbsp;&nbsp; Position $ \\leftarrow 0$ <br>\n",
    "&nbsp; | &nbsp;&nbsp; PasDansLeau $ \\leftarrow $ Vrai <br>\n",
    "&nbsp; | &nbsp;&nbsp; $k  \\leftarrow 0$ <br>\n",
    "&nbsp; | &nbsp;&nbsp; Tant que $k<20$ et PasDansLeau faire<br>\n",
    "&nbsp; | &nbsp;&nbsp; &nbsp; | &nbsp;&nbsp; Pas $\\leftarrow $ entier aléatoire (entre 0 et 1)<br>\n",
    "&nbsp; | &nbsp;&nbsp; &nbsp; | &nbsp;&nbsp; Position $\\leftarrow $ Position $+ 2 \\times $ Pas $ -1$<br>\n",
    "&nbsp; | &nbsp;&nbsp; &nbsp; | &nbsp;&nbsp; Si Position $ <-2$ ou Position $>2$ alors  Pas $\\leftarrow -1$<br>\n",
    "&nbsp; | &nbsp;&nbsp; &nbsp; | &nbsp;&nbsp; PasDansLeau $ \\leftarrow $ Faux <br>\n",
    "&nbsp; | &nbsp;&nbsp; &nbsp; | &nbsp;&nbsp; Fin si <br>\n",
    "&nbsp; | &nbsp;&nbsp; Fin tant que <br>\n",
    "&nbsp; | &nbsp;&nbsp; Si PasDansLeau alors <br>\n",
    "&nbsp; | &nbsp;&nbsp;&nbsp; | &nbsp;&nbsp;$NbEntrées  \\leftarrow NbEntrées  + 1$ <br>\n",
    "&nbsp; | &nbsp;&nbsp; Fin Si<br>\n",
    "fin Pour<br>\n",
    "Afficher $NbEntrées/10000$<br>\n",
    "\n",
    "1.\tDe quel type est la variable PasDansLeau ? À quoi sert-elle ?\n",
    "2.\tTraduire cet algorithme en Python et l’exécuter.\n",
    "3.\tA-t-on plus ou moins de chance de voir le chevreuil dans le lycée par rapport à l’exercice 3 ? Pourquoi ? Combien de fois plus (ou moins) ?\n",
    "\n"
   ]
  },
  {
   "cell_type": "code",
   "execution_count": null,
   "metadata": {},
   "outputs": [],
   "source": [
    "# Taper votre code ici\n",
    "\n"
   ]
  }
 ],
 "metadata": {
  "kernelspec": {
   "display_name": "Python 3",
   "language": "python",
   "name": "python3"
  },
  "language_info": {
   "codemirror_mode": {
    "name": "ipython",
    "version": 3
   },
   "file_extension": ".py",
   "mimetype": "text/x-python",
   "name": "python",
   "nbconvert_exporter": "python",
   "pygments_lexer": "ipython3",
   "version": "3.7.6"
  }
 },
 "nbformat": 4,
 "nbformat_minor": 2
}
