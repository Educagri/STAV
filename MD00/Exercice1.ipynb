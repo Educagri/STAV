{
 "cells": [
  {
   "cell_type": "markdown",
   "metadata": {},
   "source": [
    "<center><img src=\"images/MD0Ex1.png\"></center>\n",
    "\n",
    "Deux élèves se donnent rendez-vous au foyer entre 12 h et 13 h. Quel sera en moyenne le temps d’attente du premier élève arrivé ?\n",
    "\n",
    "Pour donner une idée approchée de la réponse, on modélise la situation à l’aide d’un algorithme qu’on exécute un grand nombre de fois. \n",
    "\n",
    "\n",
    "\n",
    "Importer la bibliothèque random<br>\n",
    "$SomTemps \\leftarrow 0$<br>\n",
    "Pour $compteur$ variant de $0$ à $9999$ faire<br>\n",
    "&nbsp; | &nbsp;&nbsp; $T_1 \\leftarrow $ entier aléatoire (entre 0 et 59)<br>\n",
    "&nbsp; | &nbsp;&nbsp; $T_2 \\leftarrow $ entier aléatoire (entre 0 et 59)<br>\n",
    "&nbsp; | &nbsp;&nbsp; Si $T_1> T_2$ alors <br>\n",
    "&nbsp; | &nbsp;&nbsp;&nbsp; | &nbsp;&nbsp;$SomTemps \\leftarrow Somtemps + (T_1-T_2)$ <br>\n",
    "&nbsp; | &nbsp;&nbsp; Sinon <br>\n",
    "&nbsp; | &nbsp;&nbsp;&nbsp; | &nbsp;&nbsp;$SomTemps \\leftarrow Somtemps + (T_2-T_1)$ <br>\n",
    "&nbsp; | &nbsp;&nbsp; Fin Si<br>\n",
    "fin Pour<br>\n",
    "Afficher $SomTemps/10000$<br>\n",
    "\n",
    "1.\tÀ quoi sert la variable $compteur$ ?\n",
    "2.\tIndiquer l’objectif de la variable $SomTemps$  et de l’utilité de la diviser par 10 000.\n",
    "3.\tExpliquer la nécessité d’avoir deux formules pour modifier la variable $SomTemps$.\n",
    "4.\tTraduire cet algorithme en Python et l’exécuter pour répondre à la question.\n"
   ]
  },
  {
   "cell_type": "code",
   "execution_count": null,
   "metadata": {},
   "outputs": [],
   "source": [
    "# Taper votre code ici\n",
    "\n"
   ]
  }
 ],
 "metadata": {
  "kernelspec": {
   "display_name": "Python 3",
   "language": "python",
   "name": "python3"
  },
  "language_info": {
   "codemirror_mode": {
    "name": "ipython",
    "version": 3
   },
   "file_extension": ".py",
   "mimetype": "text/x-python",
   "name": "python",
   "nbconvert_exporter": "python",
   "pygments_lexer": "ipython3",
   "version": "3.7.6"
  }
 },
 "nbformat": 4,
 "nbformat_minor": 2
}
