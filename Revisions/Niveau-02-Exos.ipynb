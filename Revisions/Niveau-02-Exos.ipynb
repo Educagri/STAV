{
 "cells": [
  {
   "cell_type": "markdown",
   "metadata": {},
   "source": [
    "# Exercices Niveau 02 : Comment Python range ses affaires ?\n",
    "\n",
    "Rappels :\n",
    "- les opérations : addition, soustraction, multiplication et division se font avec les symboles habituels : + - * /\n",
    "- Pour mettre une étiquette `Nom` sur une valeur, on tape `Nom = valeur`\n",
    "- Python est sensible aux majuscules et aux minuscules\n",
    "\n",
    "## Exercice 02.3\n",
    "\n",
    "Le degré Fahrenheit (symbole : °F) est l'unité de mesure de la température aux états-unis d'amérique tandis qu'en France, on utilise le degré Celsius (symbole : °C).\n",
    "\n",
    "Notons C la température en degré Celsius et F la température en degré Fahrenheit. On a alors la formule suivante : $F = \\dfrac95C +32$.\n",
    "\n",
    "Faites afficher par Python dans la cellule de code ci-dessous le résultat de la conversion de 25°C en °F.\n",
    "\n",
    "Vous devez utilisez les étiquettes."
   ]
  },
  {
   "cell_type": "code",
   "execution_count": null,
   "metadata": {},
   "outputs": [],
   "source": [
    "C = 50\n",
    "print( )"
   ]
  },
  {
   "cell_type": "markdown",
   "metadata": {},
   "source": [
    "## Exercice 02.4\n",
    "\n",
    "Le degré Fahrenheit (symbole : °F) est l'unité de mesure de la température aux états-unis d'amérique tandis qu'en France, on utilise le degré Celsius (symbole : °C).\n",
    "\n",
    "Notons C la température en degré Celsius et F la température en degré Fahrenheit. On a alors la formule suivante : $C=\\dfrac59(F-32)$.\n",
    "\n",
    "Faites afficher par Python dans la cellule de code ci-dessous le résultat de la conversion de 47°F en °C.\n",
    "\n",
    "Vous devez utilisez les étiquettes. Attention, les parenthèses s'utilisent en Python comme en mathématiques."
   ]
  },
  {
   "cell_type": "code",
   "execution_count": null,
   "metadata": {},
   "outputs": [],
   "source": []
  },
  {
   "cell_type": "markdown",
   "metadata": {},
   "source": [
    "## Exercice 02.5\n",
    "\n",
    "Pour calculer l'aire d'un trapèze, on utilise la formule $A = \\dfrac{b+B}2 \\times h$ où $b$ est la lngueur de la petite base, $B$ est la longueur de la grande base et $h$ est la hauteur (voir figure ci-dessous).\n",
    "\n",
    "<img src=\"images/trapeze.png\"> \n",
    "\n",
    "Faites afficher par Python dans la cellule de code ci-dessous l'aire d'un trapèze de hauteur 53 et de longueur 25 pour la petite base et 78 pour la grande base. \n",
    "\n",
    "Rappels et conseils :\n",
    "- Vous devez utilisez les étiquettes.\n",
    "- Il faudra utiliser des parenthèses.\n",
    "- Python est sensible aux majuscules et aux minuscules."
   ]
  },
  {
   "cell_type": "code",
   "execution_count": null,
   "metadata": {},
   "outputs": [],
   "source": []
  }
 ],
 "metadata": {
  "kernelspec": {
   "display_name": "Python 3",
   "language": "python",
   "name": "python3"
  },
  "language_info": {
   "codemirror_mode": {
    "name": "ipython",
    "version": 3
   },
   "file_extension": ".py",
   "mimetype": "text/x-python",
   "name": "python",
   "nbconvert_exporter": "python",
   "pygments_lexer": "ipython3",
   "version": "3.6.4"
  }
 },
 "nbformat": 4,
 "nbformat_minor": 2
}
