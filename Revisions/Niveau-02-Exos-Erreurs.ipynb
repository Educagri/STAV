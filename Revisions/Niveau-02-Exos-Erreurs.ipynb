{
 "cells": [
  {
   "cell_type": "markdown",
   "metadata": {},
   "source": [
    "# Exercices Niveau 02 : Comment Python range ses affaires ?\n",
    "\n",
    "Rappels :\n",
    "- les opérations : addition, soustraction, multiplication et division se font avec les symboles habituels : + - * /\n",
    "- Python interprète les parenthèses comme en mathématiques\n",
    "- Pour mettre une étiquette `Nom` sur une valeur, on tape `Nom = valeur`\n",
    "- Python est sensible aux majuscules et aux minuscules\n",
    "\n",
    "## Exercice 02.6\n",
    "\n",
    "Dans la cellule de code suivante, on a demandé à Python d'afficher la valeur d'un objet (50€) après une augmentation de 20 %. À l'exécution, on a le message d'erreur affiché en dessous. Corrigez l'erreur et exécutez le code pour faire disparaître le message d'erreur."
   ]
  },
  {
   "cell_type": "code",
   "execution_count": 1,
   "metadata": {},
   "outputs": [
    {
     "ename": "SyntaxError",
     "evalue": "can't assign to literal (<ipython-input-1-e6199e166db8>, line 1)",
     "output_type": "error",
     "traceback": [
      "\u001b[1;36m  File \u001b[1;32m\"<ipython-input-1-e6199e166db8>\"\u001b[1;36m, line \u001b[1;32m1\u001b[0m\n\u001b[1;33m    50 = valeur\u001b[0m\n\u001b[1;37m               ^\u001b[0m\n\u001b[1;31mSyntaxError\u001b[0m\u001b[1;31m:\u001b[0m can't assign to literal\n"
     ]
    }
   ],
   "source": [
    "50 = valeur\n",
    "print(valeur * 1.20)"
   ]
  },
  {
   "cell_type": "markdown",
   "metadata": {},
   "source": [
    "## Exercice 02.7\n",
    "\n",
    "Dans la cellule de code suivante, on a demandé à Python d'afficher l'aire d'un disque de rayon 5. À l'exécution, on a le message d'erreur affiché en dessous. Corrigez l'erreur et exécutez le code pour faire disparaître le message d'erreur."
   ]
  },
  {
   "cell_type": "code",
   "execution_count": 2,
   "metadata": {},
   "outputs": [
    {
     "ename": "NameError",
     "evalue": "name 'Pi' is not defined",
     "output_type": "error",
     "traceback": [
      "\u001b[1;31m---------------------------------------------------------------------------\u001b[0m",
      "\u001b[1;31mNameError\u001b[0m                                 Traceback (most recent call last)",
      "\u001b[1;32m<ipython-input-2-9e6bb8cbcd36>\u001b[0m in \u001b[0;36m<module>\u001b[1;34m()\u001b[0m\n\u001b[0;32m      1\u001b[0m \u001b[0mpi\u001b[0m \u001b[1;33m=\u001b[0m \u001b[1;36m3.141592\u001b[0m\u001b[1;33m\u001b[0m\u001b[0m\n\u001b[0;32m      2\u001b[0m \u001b[0mR\u001b[0m \u001b[1;33m=\u001b[0m \u001b[1;36m5\u001b[0m\u001b[1;33m\u001b[0m\u001b[0m\n\u001b[1;32m----> 3\u001b[1;33m \u001b[0mprint\u001b[0m\u001b[1;33m(\u001b[0m \u001b[0mPi\u001b[0m \u001b[1;33m*\u001b[0m \u001b[0mR\u001b[0m \u001b[1;33m*\u001b[0m \u001b[0mR\u001b[0m \u001b[1;33m)\u001b[0m\u001b[1;33m\u001b[0m\u001b[0m\n\u001b[0m",
      "\u001b[1;31mNameError\u001b[0m: name 'Pi' is not defined"
     ]
    }
   ],
   "source": [
    "pi = 3.141592\n",
    "R = 5\n",
    "print( Pi * R * R )"
   ]
  },
  {
   "cell_type": "markdown",
   "metadata": {},
   "source": [
    "## Exercice 02.8\n",
    "\n",
    "Dans la cellule de code suivante, on a demandé à Python d'afficher le volume d'un cylindre : $V = \\pi R^2 h$. Le rayon de la base vaut 5 et la hauteur 10. À l'exécution, on a le message d'erreur affiché en dessous. Corrigez l'erreur et exécutez le code pour faire disparaître le message d'erreur."
   ]
  },
  {
   "cell_type": "code",
   "execution_count": 3,
   "metadata": {},
   "outputs": [
    {
     "ename": "NameError",
     "evalue": "name 'h' is not defined",
     "output_type": "error",
     "traceback": [
      "\u001b[1;31m---------------------------------------------------------------------------\u001b[0m",
      "\u001b[1;31mNameError\u001b[0m                                 Traceback (most recent call last)",
      "\u001b[1;32m<ipython-input-3-1efb0f44e2d7>\u001b[0m in \u001b[0;36m<module>\u001b[1;34m()\u001b[0m\n\u001b[0;32m      1\u001b[0m \u001b[0mpi\u001b[0m \u001b[1;33m=\u001b[0m \u001b[1;36m3.141592\u001b[0m\u001b[1;33m\u001b[0m\u001b[0m\n\u001b[0;32m      2\u001b[0m \u001b[0mR\u001b[0m \u001b[1;33m=\u001b[0m \u001b[1;36m5\u001b[0m\u001b[1;33m\u001b[0m\u001b[0m\n\u001b[1;32m----> 3\u001b[1;33m \u001b[0mprint\u001b[0m\u001b[1;33m(\u001b[0m \u001b[0mpi\u001b[0m\u001b[1;33m*\u001b[0m\u001b[0mR\u001b[0m\u001b[1;33m*\u001b[0m\u001b[0mR\u001b[0m\u001b[1;33m*\u001b[0m\u001b[0mh\u001b[0m \u001b[1;33m)\u001b[0m\u001b[1;33m\u001b[0m\u001b[0m\n\u001b[0m",
      "\u001b[1;31mNameError\u001b[0m: name 'h' is not defined"
     ]
    }
   ],
   "source": [
    "pi = 3.141592\n",
    "R = 5\n",
    "print( pi*R*R*h )"
   ]
  }
 ],
 "metadata": {
  "kernelspec": {
   "display_name": "Python 3",
   "language": "python",
   "name": "python3"
  },
  "language_info": {
   "codemirror_mode": {
    "name": "ipython",
    "version": 3
   },
   "file_extension": ".py",
   "mimetype": "text/x-python",
   "name": "python",
   "nbconvert_exporter": "python",
   "pygments_lexer": "ipython3",
   "version": "3.6.4"
  }
 },
 "nbformat": 4,
 "nbformat_minor": 2
}
