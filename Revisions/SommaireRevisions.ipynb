{
 "cells": [
  {
   "cell_type": "markdown",
   "metadata": {},
   "source": [
    "# Apprendre Python\n",
    "\n",
    "Voici de quoi réviser ses connaissances de seconde et apprendre Python au niveau du baccalauréat STAV\n",
    "\n",
    "- [Niveau 01 : Comment Python traite les nombres ?](Niveau-01.ipynb)\n",
    "\n",
    "  - [Exercices d'entraînement](Niveau-01-Exos.ipynb)\n",
    "\n",
    "  - [Exercices \"Trouver l'erreur\"](Niveau-01-Exos-Erreurs.ipynb)\n",
    "  \n",
    "- [Niveau 02 : Comment Python range ses affaires ?](Niveau-02.ipynb)\n",
    "\n",
    "  - [Exercices d'entraînement](Niveau-01-Exos.ipynb)\n",
    "\n",
    "  - [Exercices \"Trouver l'erreur\"](Niveau-01-Exos-Erreurs.ipynb)\n",
    "\n",
    "- [Niveau 03 : Comment Python distingue le type des objets ?](Niveau-03.ipynb)\n",
    "\n",
    "  - [Exercices d'entraînement](Niveau-03-Exos.ipynb)\n",
    "\n",
    "  - [Exercices \"Trouver l'erreur\"](Niveau-03-Exos-Erreurs.ipynb)"
   ]
  },
  {
   "cell_type": "code",
   "execution_count": null,
   "metadata": {},
   "outputs": [],
   "source": []
  },
  {
   "cell_type": "code",
   "execution_count": null,
   "metadata": {},
   "outputs": [],
   "source": []
  }
 ],
 "metadata": {
  "kernelspec": {
   "display_name": "Python 3",
   "language": "python",
   "name": "python3"
  },
  "language_info": {
   "codemirror_mode": {
    "name": "ipython",
    "version": 3
   },
   "file_extension": ".py",
   "mimetype": "text/x-python",
   "name": "python",
   "nbconvert_exporter": "python",
   "pygments_lexer": "ipython3",
   "version": "3.6.4"
  }
 },
 "nbformat": 4,
 "nbformat_minor": 2
}
