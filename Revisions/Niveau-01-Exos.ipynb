{
 "cells": [
  {
   "cell_type": "markdown",
   "metadata": {},
   "source": [
    "# Exercices Niveau 01 : Comment Python traite les nombres ?\n",
    "\n",
    "Rappels : les opérations : addition, soustraction, multiplication et division se font avec les symboles habituels : + - * /\n",
    "\n",
    "## Exercice 01.5\n",
    "\n",
    "Faites afficher par Python le résultat de l'opération $23\\times7-\\dfrac56$ dans la cellule de code ci-dessous.\n",
    "\n",
    "Vous ne devez pas faire le calcul, c'est à Python de le faire."
   ]
  },
  {
   "cell_type": "code",
   "execution_count": null,
   "metadata": {},
   "outputs": [],
   "source": []
  },
  {
   "cell_type": "markdown",
   "metadata": {},
   "source": [
    "## Exercice 01.6\n",
    "\n",
    "Une piscine (forme classique de pavé droit) fait 8 m de long, 4 m de large et 1,5 m de profondeur.\n",
    "\n",
    "Faites afficher par Python la surface de bache nécessaire pour la recouvrir puis le volume total en m$^3$ et en litres.\n",
    "\n",
    "Vous ne devez pas faire le calcul, c'est à Python de le faire."
   ]
  },
  {
   "cell_type": "code",
   "execution_count": null,
   "metadata": {},
   "outputs": [],
   "source": []
  },
  {
   "cell_type": "markdown",
   "metadata": {},
   "source": [
    "## Exercice 01.7\n",
    "\n",
    "La messagerie (internet) de Léon contient 15000 messages. Léon décide de la vider un peu chaque jour en effaçant 500 messages.\n",
    "\n",
    "Malheureusement chaque jour, il aussi reçoit 50 messages (souvent de la publicité).\n",
    "\n",
    "Faites afficher à Python le nombre de messages dans la messagerie de Léon les 4 premiers jours de sa bonne résolution.\n",
    "\n",
    "Vous ne devez pas faire le calcul, c'est à Python de le faire."
   ]
  },
  {
   "cell_type": "code",
   "execution_count": null,
   "metadata": {},
   "outputs": [],
   "source": []
  }
 ],
 "metadata": {
  "kernelspec": {
   "display_name": "Python 3",
   "language": "python",
   "name": "python3"
  },
  "language_info": {
   "codemirror_mode": {
    "name": "ipython",
    "version": 3
   },
   "file_extension": ".py",
   "mimetype": "text/x-python",
   "name": "python",
   "nbconvert_exporter": "python",
   "pygments_lexer": "ipython3",
   "version": "3.6.4"
  }
 },
 "nbformat": 4,
 "nbformat_minor": 2
}
