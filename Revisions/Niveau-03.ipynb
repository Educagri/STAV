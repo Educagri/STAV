{
 "cells": [
  {
   "cell_type": "markdown",
   "metadata": {},
   "source": [
    "# Niveau 03 : Comment Python distingue le type des objets ?\n",
    "\n",
    "Dans cette activité Jupyter, vous allez découvrir que Python sait manipuler autre chose que des nombres.\n",
    "\n",
    "## Exercice 03.1\n",
    "\n",
    "On souhaite que Python affiche des textes de présentations pour les nombres qu'il calcule. mais il faut que Python ne confonde pas ces textes avec ses étiquettes. Pour cela, il suffit de mettre le texte entre guillemets.\n",
    "\n",
    "Cliquez sur la cellule ci-dessous puis cliquez sur l'icône run dans barre d'icônes ci-dessus. Dans la suite, on dira plus rapidement exécutez la cellule."
   ]
  },
  {
   "cell_type": "code",
   "execution_count": 1,
   "metadata": {},
   "outputs": [
    {
     "data": {
      "text/plain": [
       "'Voici un beau texte'"
      ]
     },
     "execution_count": 1,
     "metadata": {},
     "output_type": "execute_result"
    }
   ],
   "source": [
    "\"Voici un beau texte\""
   ]
  },
  {
   "cell_type": "markdown",
   "metadata": {},
   "source": [
    "Remarquez que le texte a été affiché par Python entre apostrophes, on dit aussi entre quotes.\n",
    "\n",
    "On peut écrire les textes entre guillemets ou entre quotes selon ses préférences mais si on veut écrire une apostrophe dans le texte, il faut alors l'entourer de guillemets.\n",
    "\n",
    "Exécutez la cellule suivante :"
   ]
  },
  {
   "cell_type": "code",
   "execution_count": 3,
   "metadata": {},
   "outputs": [
    {
     "data": {
      "text/plain": [
       "\"L'exercice continue\""
      ]
     },
     "execution_count": 3,
     "metadata": {},
     "output_type": "execute_result"
    }
   ],
   "source": [
    "\"L'exercice continue\""
   ]
  },
  {
   "cell_type": "markdown",
   "metadata": {},
   "source": [
    "## Exercice 03.2\n",
    "\n",
    "Demandons de quel type sont les objets courants pour nous et Python.\n",
    "\n",
    "1. Exécutez la cellule de code suivante pour découvrir le type du nombre entier 12.\n",
    "2. Changez l'étiquette donnée à la fonction type de la dernière ligne pour obtenir le nom des types des nombres décimaux et du texte. Exécutez à chaque fois la cellule de code.\n"
   ]
  },
  {
   "cell_type": "code",
   "execution_count": 4,
   "metadata": {},
   "outputs": [
    {
     "data": {
      "text/plain": [
       "int"
      ]
     },
     "execution_count": 4,
     "metadata": {},
     "output_type": "execute_result"
    }
   ],
   "source": [
    "entier = 12\n",
    "décimal = 3.5\n",
    "texte = \"Mon nom\"\n",
    "type(entier)"
   ]
  },
  {
   "cell_type": "markdown",
   "metadata": {},
   "source": [
    "Pour la dernière étape, créez l'étiquette `L` sur la valeur $2,4$ et utilisez-la dans la cellule de code ci-dessus."
   ]
  }
 ],
 "metadata": {
  "kernelspec": {
   "display_name": "Python 3",
   "language": "python",
   "name": "python3"
  },
  "language_info": {
   "codemirror_mode": {
    "name": "ipython",
    "version": 3
   },
   "file_extension": ".py",
   "mimetype": "text/x-python",
   "name": "python",
   "nbconvert_exporter": "python",
   "pygments_lexer": "ipython3",
   "version": "3.6.4"
  }
 },
 "nbformat": 4,
 "nbformat_minor": 2
}
