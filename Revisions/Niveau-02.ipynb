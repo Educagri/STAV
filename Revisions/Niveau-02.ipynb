{
 "cells": [
  {
   "cell_type": "markdown",
   "metadata": {},
   "source": [
    "# Niveau 02 : Comment Python range ses affaires ?\n",
    "\n",
    "Dans cette activité Jupyter, vous allez découvrir comment Python se souvient des informations qu'on lui donne.\n",
    "\n",
    "## Exercice 02.1\n",
    "\n",
    "On souhaite connaître la surface latérale de métal et le volume d'un tank à lait (ou réservoir à lait).\n",
    "\n",
    "<img src=\"images/Tank_a_lait_de_la_Coquerie.JPG\"> \n",
    "\n",
    "<p style=\"text-align:center\";>Par <a href=\"//commons.wikimedia.org/w/index.php?title=User:Fotonovela&amp;action=edit&amp;redlink=1\" class=\"new\" title=\"User:Fotonovela (page does not exist)\">Fotonovela</a> — <span class=\"int-own-work\" lang=\"fr\">Travail personnel</span>, <a href=\"https://creativecommons.org/licenses/by-sa/3.0\" title=\"Creative Commons Attribution-Share Alike 3.0\">CC BY-SA 3.0</a>, <a href=\"https://commons.wikimedia.org/w/index.php?curid=26889786\">Lien</a></p>\n",
    "\n",
    "On assimile le réservoir à un cylindre de rayon $R=0,6$ m et de longueur $L=2,4$ m.\n",
    "\n",
    "Rappels : \n",
    "\n",
    "- La surface latérale d'un cylindre est : $S=2\\pi R^2 + 2\\pi R L$\n",
    "- Le volume d'un cylindre est $V=\\pi R^2 L$\n",
    "\n",
    "On demande à Python de faire le calcul ci-dessous. \n",
    "\n",
    "Cliquez sur la cellule ci-dessous puis cliquez sur l'icône run dans barre d'icônes ci-dessus. Dans la suite, on dira plus rapidement exécutez la cellule."
   ]
  },
  {
   "cell_type": "code",
   "execution_count": null,
   "metadata": {},
   "outputs": [],
   "source": [
    "print(3.141592*0.6*0.6*2+2*3.141592*0.6*2.4)\n",
    "print(3.141592*0.6*0.6*2.4)"
   ]
  },
  {
   "cell_type": "markdown",
   "metadata": {},
   "source": [
    "Remarquez que le calcul est plutôt illisible,que l'on a dû taper plusieurs fois le même calcul et que l'on aurait pû faire une faute de frappe dans la valeur de $\\pi$. Il serait bien plus agréable de taper simplement la formule.\n",
    "\n",
    "Sur chaque valeur numérique, on va coller une étiquette (un nom) et Python l'utilisera pour retrouver la valeur demandée.\n",
    "\n",
    "Pour demander à Python de mettre une étiquette avec le nom `pi` sur la valeur approchée $3,141592$. On écrit :\n",
    "`pi = 3.141592`. Lorsque l'on souhaitera retrouver le nombre $3,141592$, il suffira d'indiquer l'étiquette `pi`.\n",
    "\n",
    "Exécutez la cellule suivante :"
   ]
  },
  {
   "cell_type": "code",
   "execution_count": null,
   "metadata": {},
   "outputs": [],
   "source": [
    "pi = 3.141592\n",
    "print(pi*0.6*0.6*2+2*pi*0.6*2.4)\n",
    "print(pi*0.6*0.6*2.4)"
   ]
  },
  {
   "cell_type": "markdown",
   "metadata": {},
   "source": [
    "## Exercice 02.2\n",
    "\n",
    "De la même manière, créons l'étiquette `R` pour accéder à la valeur du rayon : $0,6$.\n",
    "\n",
    "Dans la cellule de code ci-dessous, remplacez les $0,6$ par `R` dans la dernière ligne et exécuter la cellule.\n",
    "\n",
    "Attention, Python est sensible aux majuscules et aux minuscules : $R\\not=r$."
   ]
  },
  {
   "cell_type": "code",
   "execution_count": null,
   "metadata": {},
   "outputs": [],
   "source": [
    "pi = 3.141592\n",
    "R = 0.6\n",
    "print(pi*R*R*2+2*pi*R*2.4)\n",
    "print(pi*0.6*0.6*2.4)"
   ]
  },
  {
   "cell_type": "markdown",
   "metadata": {},
   "source": [
    "Pour la dernière étape, créez l'étiquette `L` sur la valeur $2,4$ et utilisez-la dans la cellule de code ci-dessus."
   ]
  }
 ],
 "metadata": {
  "kernelspec": {
   "display_name": "Python 3",
   "language": "python",
   "name": "python3"
  },
  "language_info": {
   "codemirror_mode": {
    "name": "ipython",
    "version": 3
   },
   "file_extension": ".py",
   "mimetype": "text/x-python",
   "name": "python",
   "nbconvert_exporter": "python",
   "pygments_lexer": "ipython3",
   "version": "3.6.4"
  }
 },
 "nbformat": 4,
 "nbformat_minor": 2
}
