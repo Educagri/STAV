{
 "cells": [
  {
   "cell_type": "markdown",
   "metadata": {},
   "source": [
    "# Niveau 01 : Comment Python traite les nombres ?\n",
    "\n",
    "Dans cette activité Jupyter, vous allez découvrir comment Python traite les données numériques.\n",
    "\n",
    "## Exercice 01.1\n",
    "\n",
    "La densité du lait est de 1,02. C'est à dire qu'un litre de lait pèse 1,02 kg.\n",
    "Combien pèsent 725 litres de lait ?\n",
    "\n",
    "On demande à Python de faire le calcul ci-dessous. \n",
    "\n",
    "Cliquez sur la cellule ci-dessous puis cliquez sur l'icône run dans barre d'icônes ci-dessus. Dans la suite, on dira plus rapidement exécutez la cellule."
   ]
  },
  {
   "cell_type": "code",
   "execution_count": null,
   "metadata": {},
   "outputs": [],
   "source": [
    "725 * 1.02"
   ]
  },
  {
   "cell_type": "markdown",
   "metadata": {},
   "source": [
    "Remarquez que Python utilise une étoile pour faire une multicplication.\n",
    "\n",
    "## Exercice 01.2\n",
    "\n",
    "Content de ce résultat si facile à trouver, on demande à Python de faire le calcul pour 954, 277 et 685 litres.\n",
    "\n",
    "Exécutez la cellule suivante :"
   ]
  },
  {
   "cell_type": "code",
   "execution_count": null,
   "metadata": {},
   "outputs": [],
   "source": [
    "954 * 1.02\n",
    "277 * 1.02\n",
    "685 * 1.02"
   ]
  },
  {
   "cell_type": "markdown",
   "metadata": {},
   "source": [
    "À l'évidence, ce n'est pas ce que l'on souhaitait lorsque l'on a tapé ces calculs...\n",
    "Python n'affiche que le résultat de la dernière ligne.\n",
    "\n",
    "Nous allons donc utiliser une fonction de Python qui le force à afficher le résultat.\n",
    "\n",
    "Cette fonction s'appelle `print` (imprime en anglais). Pour afficher un objet, on tape \n",
    "`print( objet )`.\n",
    "\n",
    "On verra plus tard tous les types d'objets que l'on peut afficher.\n",
    "\n",
    "## Exercice 01.3\n",
    "\n",
    "Exécutez la cellule suivante :"
   ]
  },
  {
   "cell_type": "code",
   "execution_count": null,
   "metadata": {},
   "outputs": [],
   "source": [
    "print( 954 * 1.02 )\n",
    "print( 277 * 1.02 )\n",
    "print( 685 * 1.02 )"
   ]
  },
  {
   "cell_type": "markdown",
   "metadata": {},
   "source": [
    "On a bien cette fois tout ce que l'on voulait obtenir.\n",
    "\n",
    "Les autres opérations : addition, soustraction et division se font avec les symboles habituels : + - /\n",
    "\n",
    "Attention, Python parle en anglais et les nombres s'écrivent avec un point au lieu de la virgule.\n",
    "\n",
    "## Exercice 01.4\n",
    "\n",
    "On achète au marché 3,5 kg de pommes à 2,35 € le kilo et 2,8 kg de poires à 1,95 € le kilo.\n",
    "\n",
    "Dans la cellule ci-dessous, tapez les calculs que Python doit effectuer pour afficher le prix des pommes et le prix des poires puis exécutez la cellule.\n",
    "\n",
    "Si vous avez un message d'erreur, essayez de trouver comment corriger votre solution et réexécutez la cellule pour vérifier."
   ]
  },
  {
   "cell_type": "code",
   "execution_count": null,
   "metadata": {},
   "outputs": [],
   "source": []
  },
  {
   "cell_type": "markdown",
   "metadata": {},
   "source": [
    "On paie le tout avec un billet de 20 €. Combien le vendeur nous rend-t-il ?"
   ]
  },
  {
   "cell_type": "code",
   "execution_count": null,
   "metadata": {},
   "outputs": [],
   "source": []
  }
 ],
 "metadata": {
  "kernelspec": {
   "display_name": "Python 3",
   "language": "python",
   "name": "python3"
  },
  "language_info": {
   "codemirror_mode": {
    "name": "ipython",
    "version": 3
   },
   "file_extension": ".py",
   "mimetype": "text/x-python",
   "name": "python",
   "nbconvert_exporter": "python",
   "pygments_lexer": "ipython3",
   "version": "3.6.4"
  }
 },
 "nbformat": 4,
 "nbformat_minor": 2
}
