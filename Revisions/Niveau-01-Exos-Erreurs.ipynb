{
 "cells": [
  {
   "cell_type": "markdown",
   "metadata": {},
   "source": [
    "# Exercices Niveau 01 : Comment Python traite les nombres ?\n",
    "\n",
    "Rappels : les opérations : addition, soustraction, multiplication et division se font avec les symboles habituels : + - * /\n",
    "\n",
    "## Exercice 01.8\n",
    "\n",
    "Dans la cellule de code suivante, on a demandé à Python d'afficher le résultat de l'opération $123-456$. À l'exécution, on a le message d'erreur affiché en dessous. Corrigez l'erreur et exécutez le code pour faire disparaître le message d'erreur.\n",
    "\n",
    "Vous ne devez pas faire le calcul, c'est à Python de le faire."
   ]
  },
  {
   "cell_type": "code",
   "execution_count": 1,
   "metadata": {},
   "outputs": [
    {
     "ename": "SyntaxError",
     "evalue": "unexpected EOF while parsing (<ipython-input-1-ca12521cd600>, line 1)",
     "output_type": "error",
     "traceback": [
      "\u001b[1;36m  File \u001b[1;32m\"<ipython-input-1-ca12521cd600>\"\u001b[1;36m, line \u001b[1;32m1\u001b[0m\n\u001b[1;33m    print(123-456\u001b[0m\n\u001b[1;37m                 ^\u001b[0m\n\u001b[1;31mSyntaxError\u001b[0m\u001b[1;31m:\u001b[0m unexpected EOF while parsing\n"
     ]
    }
   ],
   "source": [
    "print(123-456"
   ]
  },
  {
   "cell_type": "markdown",
   "metadata": {},
   "source": [
    "## Exercice 01.9\n",
    "\n",
    "Dans la cellule de code suivante, on a demandé à Python d'afficher le résultat de l'opération $12\\times65$. À l'exécution, on a le message d'erreur affiché en dessous. Corrigez l'erreur et exécutez le code pour faire disparaître le message d'erreur.\n",
    "\n",
    "Vous ne devez pas faire le calcul, c'est à Python de le faire."
   ]
  },
  {
   "cell_type": "code",
   "execution_count": 2,
   "metadata": {},
   "outputs": [
    {
     "ename": "SyntaxError",
     "evalue": "invalid syntax (<ipython-input-2-65243459b4c9>, line 1)",
     "output_type": "error",
     "traceback": [
      "\u001b[1;36m  File \u001b[1;32m\"<ipython-input-2-65243459b4c9>\"\u001b[1;36m, line \u001b[1;32m1\u001b[0m\n\u001b[1;33m    print(12 x 65)\u001b[0m\n\u001b[1;37m             ^\u001b[0m\n\u001b[1;31mSyntaxError\u001b[0m\u001b[1;31m:\u001b[0m invalid syntax\n"
     ]
    }
   ],
   "source": [
    "print(12 x 65)"
   ]
  },
  {
   "cell_type": "markdown",
   "metadata": {},
   "source": [
    "## Exercice 01.10\n",
    "\n",
    "Dans la cellule de code suivante, on a demandé à Python d'afficher le résultat de l'opération $\\dfrac{154}{22}$. À l'exécution, on a le message d'erreur affiché en dessous. Corrigez l'erreur et exécutez le code pour faire disparaître le message d'erreur.\n",
    "\n",
    "Vous ne devez pas faire le calcul, c'est à Python de le faire."
   ]
  },
  {
   "cell_type": "code",
   "execution_count": 3,
   "metadata": {},
   "outputs": [
    {
     "ename": "NameError",
     "evalue": "name 'prunt' is not defined",
     "output_type": "error",
     "traceback": [
      "\u001b[1;31m---------------------------------------------------------------------------\u001b[0m",
      "\u001b[1;31mNameError\u001b[0m                                 Traceback (most recent call last)",
      "\u001b[1;32m<ipython-input-3-63497727c790>\u001b[0m in \u001b[0;36m<module>\u001b[1;34m()\u001b[0m\n\u001b[1;32m----> 1\u001b[1;33m \u001b[0mprunt\u001b[0m\u001b[1;33m(\u001b[0m\u001b[1;36m154\u001b[0m \u001b[1;33m/\u001b[0m \u001b[1;36m22\u001b[0m\u001b[1;33m)\u001b[0m\u001b[1;33m\u001b[0m\u001b[0m\n\u001b[0m",
      "\u001b[1;31mNameError\u001b[0m: name 'prunt' is not defined"
     ]
    }
   ],
   "source": [
    "prunt(154 / 22)"
   ]
  }
 ],
 "metadata": {
  "kernelspec": {
   "display_name": "Python 3",
   "language": "python",
   "name": "python3"
  },
  "language_info": {
   "codemirror_mode": {
    "name": "ipython",
    "version": 3
   },
   "file_extension": ".py",
   "mimetype": "text/x-python",
   "name": "python",
   "nbconvert_exporter": "python",
   "pygments_lexer": "ipython3",
   "version": "3.6.4"
  }
 },
 "nbformat": 4,
 "nbformat_minor": 2
}
