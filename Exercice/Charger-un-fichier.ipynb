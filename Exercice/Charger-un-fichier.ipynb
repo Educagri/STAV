{
 "cells": [
  {
   "cell_type": "markdown",
   "metadata": {},
   "source": [
    "# Pour reprendre un exercice sauvegardé\n",
    "\n",
    "Voici la procédure à suivre pour charger votre travail, lisez la entièrement avant de commencer\n",
    "\n",
    "1. Choisissez le menu File, Open\n",
    "\n",
    "2. Un nouvel onglet s'est ouvert dans votre navigateur, cliquez à droite sur le bouton `Upload` et choisissez le fichier de l'exercice que vous avez enregistré.\n",
    "\n",
    "4. Cliquez sur le bouton `Téléverser`.\n",
    "\n",
    "5. Enfin, cliquez sur le nom de votre exercice dans la liste.\n",
    "\n",
    "<img src=\"images/etapes.png\">\n",
    "\n",
    "Dans la vidéo suivante, vous pouvez voir en images l'exécution de la procédure à faire."
   ]
  }
 ],
 "metadata": {
  "kernelspec": {
   "display_name": "Python 3",
   "language": "python",
   "name": "python3"
  },
  "language_info": {
   "codemirror_mode": {
    "name": "ipython",
    "version": 3
   },
   "file_extension": ".py",
   "mimetype": "text/x-python",
   "name": "python",
   "nbconvert_exporter": "python",
   "pygments_lexer": "ipython3",
   "version": "3.6.4"
  }
 },
 "nbformat": 4,
 "nbformat_minor": 2
}
