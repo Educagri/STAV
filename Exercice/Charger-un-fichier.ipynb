{
 "cells": [
  {
   "cell_type": "markdown",
   "metadata": {},
   "source": [
    "# Pour reprendre un exercice sauvegardé :\n",
    "\n",
    "Voici la procédure à suivre pour charger votre travail, lisez la entièrement avant de commencer\n",
    "\n",
    "1. Choisissez le menu File, Open\n",
    "<img src=\"images/etape1.png\">\n",
    "2. Un nouvel onglet s'est ouvert dans votre navigateur, cliquez à droite sur le bouton `Upload`.\n",
    "\n",
    "3. Choisissez le fichier de l'exercice que vous avez enregistré.\n",
    "\n",
    "4. Cliquez à nouveau sur le bouton `Upload` qui a changé de couleur.\n",
    "\n",
    "5. Enfin, cliquez sur le nom de votre exercice dans la liste.\n",
    "\n",
    "Dans la vidéo suivante, vous pouvez voir en images l'exécution de la procédure à faire."
   ]
  },
  {
   "cell_type": "code",
   "execution_count": null,
   "metadata": {},
   "outputs": [],
   "source": []
  },
  {
   "cell_type": "code",
   "execution_count": null,
   "metadata": {},
   "outputs": [],
   "source": []
  }
 ],
 "metadata": {
  "kernelspec": {
   "display_name": "Python 3",
   "language": "python",
   "name": "python3"
  },
  "language_info": {
   "codemirror_mode": {
    "name": "ipython",
    "version": 3
   },
   "file_extension": ".py",
   "mimetype": "text/x-python",
   "name": "python",
   "nbconvert_exporter": "python",
   "pygments_lexer": "ipython3",
   "version": "3.6.4"
  }
 },
 "nbformat": 4,
 "nbformat_minor": 2
}
