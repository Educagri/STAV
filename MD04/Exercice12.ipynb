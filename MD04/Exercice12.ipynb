{
 "cells": [
  {
   "cell_type": "markdown",
   "metadata": {},
   "source": [
    "# MD04 : Comportement des suites\n",
    "## Exercice 12\n",
    "\n",
    "Soit $(u_n)$  la suite géométrique de premier terme $u_0=88500$  et de raison $q=0,9$.\n",
    "\n",
    "1.\tDonner le sens de variation de  $(u_n)$.\n",
    "\n",
    "2.\tOn souhaite savoir à partir de quel rang, les termes de la suite $(u_n)$ sont inférieurs à une certaine valeur appelée seuil. En prenant pour modèle l’algorithme de l’exercice précédent C'est à dire celui ci-dessous :\n",
    "\n",
    "&nbsp; &nbsp; &nbsp; &nbsp; &nbsp; &nbsp;Fonction SeuilGéoCroissant(seuil,$u_0$,$q$)<br>\n",
    "&nbsp; &nbsp; &nbsp; &nbsp; &nbsp; &nbsp; &nbsp; | &nbsp;&nbsp; $u_n \\leftarrow u_0$<br>\n",
    "&nbsp; &nbsp; &nbsp; &nbsp; &nbsp; &nbsp; &nbsp; | &nbsp;&nbsp; $n \\leftarrow0$<br>\n",
    "&nbsp; &nbsp; &nbsp; &nbsp; &nbsp; &nbsp; &nbsp; | &nbsp;&nbsp; Tant que $u_n<$ seuil faire<br>\n",
    "&nbsp; &nbsp; &nbsp; &nbsp; &nbsp; &nbsp; &nbsp; | &nbsp;&nbsp; &nbsp; | &nbsp;&nbsp; $u_n \\leftarrow  u_n\\times q$<br>\n",
    "&nbsp; &nbsp; &nbsp; &nbsp; &nbsp; &nbsp; &nbsp; | &nbsp;&nbsp; &nbsp; | &nbsp;&nbsp; $n \\leftarrow n+1$<br>\n",
    "&nbsp; &nbsp; &nbsp; &nbsp; &nbsp; &nbsp; &nbsp; | &nbsp;&nbsp; fin tant que<br>\n",
    "&nbsp; &nbsp; &nbsp; &nbsp; &nbsp; &nbsp; &nbsp; | &nbsp;&nbsp; Retourner $n$<br>\n",
    "\n",
    "&nbsp; &nbsp; &nbsp; a.\tÉcrire l’algorithme d’une fonction `SeuilGéoDécroissant` qui permet de répondre à la question. Attention, il faut adapter l'algorithme à notre exercice.\n",
    "\n",
    "&nbsp; &nbsp; &nbsp; b.\tTraduire ce nouvel algorithme en Python."
   ]
  },
  {
   "cell_type": "code",
   "execution_count": null,
   "metadata": {},
   "outputs": [],
   "source": [
    "# écrire le code ici"
   ]
  },
  {
   "cell_type": "markdown",
   "metadata": {},
   "source": [
    "&nbsp; &nbsp; &nbsp; c.\tUtiliser cette fonction pour trouver le rang à partir duquel la suite passe en dessous de 1."
   ]
  },
  {
   "cell_type": "code",
   "execution_count": null,
   "metadata": {},
   "outputs": [],
   "source": [
    "# écrire le code ici"
   ]
  }
 ],
 "metadata": {
  "kernelspec": {
   "display_name": "Python 3",
   "language": "python",
   "name": "python3"
  },
  "language_info": {
   "codemirror_mode": {
    "name": "ipython",
    "version": 3
   },
   "file_extension": ".py",
   "mimetype": "text/x-python",
   "name": "python",
   "nbconvert_exporter": "python",
   "pygments_lexer": "ipython3",
   "version": "3.6.4"
  }
 },
 "nbformat": 4,
 "nbformat_minor": 2
}
