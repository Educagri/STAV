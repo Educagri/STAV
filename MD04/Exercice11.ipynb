{
 "cells": [
  {
   "cell_type": "markdown",
   "metadata": {},
   "source": [
    "# MD04 : Comportement des suites\n",
    "## Exercice 11\n",
    "\n",
    "\n",
    "<img src=\"https://upload.wikimedia.org/wikipedia/commons/thumb/8/84/Futurama_1999_logo.svg/langfr-330px-Futurama_1999_logo.svg.png\">\n",
    "\n",
    "<p style=\"text-align:center\";>source : https://fr.wikipedia.org/wiki/Futurama</p>\n",
    "\n",
    "Dans le dessin animé Futurama, Fry, jeune livreur malchanceux de pizzas à New York, est accidentellement cryogénisé le 1er janvier 2000 juste après minuit. Il se réveille mille ans plus tard, le 31 décembre 2999. Dans l’épisode 6 de la saison 1, il retire l’argent sur son compte, rémunéré à intérêts composés. Il avait sur son compte 93 cents. Son compte est rémunéré à 2,25% par an.\n",
    "\n",
    "\n",
    "\n",
    "1.\tVérifier qu’en 1000 ans, il obtient sur son compte 4,3 milliards de dollars.\n",
    " \n"
   ]
  },
  {
   "cell_type": "code",
   "execution_count": null,
   "metadata": {},
   "outputs": [],
   "source": [
    "# écrire le code ici"
   ]
  },
  {
   "cell_type": "markdown",
   "metadata": {},
   "source": [
    "&nbsp; &nbsp; &nbsp; &nbsp; 2.\tAu bout de combien de temps aurait-il dû sortir de son sommeil pour n’avoir qu’un milliard de dollars ?"
   ]
  },
  {
   "cell_type": "code",
   "execution_count": null,
   "metadata": {},
   "outputs": [],
   "source": [
    "# écrire le code ici"
   ]
  }
 ],
 "metadata": {
  "kernelspec": {
   "display_name": "Python 3",
   "language": "python",
   "name": "python3"
  },
  "language_info": {
   "codemirror_mode": {
    "name": "ipython",
    "version": 3
   },
   "file_extension": ".py",
   "mimetype": "text/x-python",
   "name": "python",
   "nbconvert_exporter": "python",
   "pygments_lexer": "ipython3",
   "version": "3.6.4"
  }
 },
 "nbformat": 4,
 "nbformat_minor": 2
}
