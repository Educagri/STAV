{
 "cells": [
  {
   "cell_type": "markdown",
   "metadata": {},
   "source": [
    "# MD04 : Comportement des suites\n",
    "## Exercice 10\n",
    "\n",
    "Soit $(u_n)$  la suite géométrique de premier terme $u_0=8$  et de raison $q=1,2$.\n",
    "\n",
    "1.\tDonner le sens de variation de  $(u_n)$.\n",
    "\n",
    "2.\tOn souhaite savoir à partir de quel rang, la suite $(u_n)$  dépasse une certaine valeur appelée seuil. On écrit alors l’algorithme suivant :\n",
    "\n",
    "&nbsp; &nbsp; &nbsp; &nbsp; &nbsp; &nbsp;Fonction SeuilGéoCroissant(seuil,$u_0$,$q$)<br>\n",
    "&nbsp; &nbsp; &nbsp; &nbsp; &nbsp; &nbsp; &nbsp; | &nbsp;&nbsp; $u_n \\leftarrow u_0$<br>\n",
    "&nbsp; &nbsp; &nbsp; &nbsp; &nbsp; &nbsp; &nbsp; | &nbsp;&nbsp; $n \\leftarrow0$<br>\n",
    "&nbsp; &nbsp; &nbsp; &nbsp; &nbsp; &nbsp; &nbsp; | &nbsp;&nbsp; Tant que $u_n<$ seuil faire<br>\n",
    "&nbsp; &nbsp; &nbsp; &nbsp; &nbsp; &nbsp; &nbsp; | &nbsp;&nbsp; &nbsp; | &nbsp;&nbsp; $u_n \\leftarrow  u_n\\times q$<br>\n",
    "&nbsp; &nbsp; &nbsp; &nbsp; &nbsp; &nbsp; &nbsp; | &nbsp;&nbsp; &nbsp; | &nbsp;&nbsp; $n \\leftarrow n+1$<br>\n",
    "&nbsp; &nbsp; &nbsp; &nbsp; &nbsp; &nbsp; &nbsp; | &nbsp;&nbsp; fin tant que<br>\n",
    "&nbsp; &nbsp; &nbsp; &nbsp; &nbsp; &nbsp; &nbsp; | &nbsp;&nbsp; Retourner $n$<br>\n",
    "\n",
    "&nbsp; &nbsp; &nbsp; &nbsp; Traduire cet algorithme en Python dans la cellule de code ci-dessous."
   ]
  },
  {
   "cell_type": "code",
   "execution_count": null,
   "metadata": {},
   "outputs": [],
   "source": [
    "# écrire le code ici"
   ]
  },
  {
   "cell_type": "markdown",
   "metadata": {},
   "source": [
    "&nbsp; &nbsp; &nbsp; &nbsp; 3.\tComment utiliser la fonction précédente pour trouver le rang à partir duquel la suite dépasse 1 milliard ?"
   ]
  },
  {
   "cell_type": "code",
   "execution_count": null,
   "metadata": {},
   "outputs": [],
   "source": [
    "# écrire le code ici"
   ]
  }
 ],
 "metadata": {
  "kernelspec": {
   "display_name": "Python 3",
   "language": "python",
   "name": "python3"
  },
  "language_info": {
   "codemirror_mode": {
    "name": "ipython",
    "version": 3
   },
   "file_extension": ".py",
   "mimetype": "text/x-python",
   "name": "python",
   "nbconvert_exporter": "python",
   "pygments_lexer": "ipython3",
   "version": "3.6.4"
  }
 },
 "nbformat": 4,
 "nbformat_minor": 2
}
