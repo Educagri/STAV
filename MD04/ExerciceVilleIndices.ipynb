{
 "cells": [
  {
   "cell_type": "markdown",
   "metadata": {},
   "source": [
    "<center><img src=\"images/MD4Ex15.png\"></center>\n",
    "\n",
    "# avec indices\n",
    "\n",
    "On souhaite comparer les modèles de croissance de population pour une même ville. Cette ville compte 1000 habitants. 50 habitants arrivent la première année. Deux modèles sont proposés :\n",
    "\n",
    "-\tL’un prévoit une croissance du nombre d’habitants de 5 % par an, modélisé par la suite $(u_n)$ définie par $u_0=1000$ et pour tout entier $n$,  $u_{n+1}=\\left(1+\\frac5{100}\\right)u_n=1,05u_n$.\n",
    "\n",
    "-\tL’autre prévoit une hausse de 50 habitants par an, modélisé par la suite $(v_n)$ définie par $v_0=1000$ et pour tout entier $n$, $v_{n+1}=v_n+50$\n",
    "\n",
    "On veut simuler ces situations à l’aide des deux fonctions Python et représenter les termes.\n",
    "\n",
    "1.\tCorriger les fautes de syntaxe du programme Python ci-dessous et l'exécuter.\n",
    "\n",
    " + indice 1 : les mots clés de Python sont-ils tous bien écrits ?\n",
    " + indice 2 : les blocs d'instructions sont-ils toujours bien annoncés ?\n",
    " + indice 3 : les fonctions sur les listes sont-elles bien appliquées ?\n",
    " + indice 4 : Les parenthèses sont-elles toujours bien mises et par paires ?\n",
    "\n",
    "Si vous n'arrivez pas à trouver toutes les erreurs, cliquez sur ce [lien](ExerciceVilleCor.ipynb) pour avoir le corrigé de cette première question et pouvoir finir l'exercice."
   ]
  },
  {
   "cell_type": "code",
   "execution_count": null,
   "metadata": {},
   "outputs": [],
   "source": [
    "from matplotlib.pyplot import *\n",
    "\n",
    "def suite_geo(u0,q,n):\n",
    "    u = [u0]\n",
    "    for i in renge(n):\n",
    "        u0 = u0 * q\n",
    "        u.append(u0) # append ajoute le terme\n",
    "                     # calculé à la fin de la liste\n",
    "    return u\n",
    "\n",
    "def suite_ari(v0,r,n):\n",
    "    v = [v0]\n",
    "    for i in range(n)\n",
    "        v0 = v0 + r\n",
    "        vappend(v0)\n",
    "    return v\n",
    "\n",
    "plot(suite_geo(1000,1.05,40),\"r+\") # en rouge\n",
    "plot(suite_ari(1000,50,40),\"b+\"    # en bleu\n",
    "show()\n"
   ]
  },
  {
   "cell_type": "markdown",
   "metadata": {},
   "source": [
    "2. De quelle couleur est représentée la suite $(u_n)$  ? Pourquoi ?\n",
    "\n",
    "3. De quelle couleur est représentée la suite $(v_n)$  ? Pourquoi ?\n",
    "\n",
    "4. Estimer le nombre d’habitants dans 40 ans avec chacun des modèles.\n",
    "\n",
    "5. Au bout de 10 ans, la ville compte 1523 habitants. Indiquer le modèle qui semble le plus adapté.\n"
   ]
  }
 ],
 "metadata": {
  "kernelspec": {
   "display_name": "Python 3",
   "language": "python",
   "name": "python3"
  },
  "language_info": {
   "codemirror_mode": {
    "name": "ipython",
    "version": 3
   },
   "file_extension": ".py",
   "mimetype": "text/x-python",
   "name": "python",
   "nbconvert_exporter": "python",
   "pygments_lexer": "ipython3",
   "version": "3.7.6"
  }
 },
 "nbformat": 4,
 "nbformat_minor": 2
}
