{
 "cells": [
  {
   "cell_type": "markdown",
   "metadata": {},
   "source": [
    "# MD04 : Comportement des suites\n",
    "## Activité 3 : Les dominos\n",
    "Lorne A. Whitehead a publié un article sur les réactions en chaîne dans le volume 51 du American Journal of Physics en 1983. Il y prend l’exemple des dominos en affirmant après une batterie d’essais que : \n",
    "\n",
    "« Un domino peut faire tomber un autre domino qui est jusqu’à 1,5 fois plus grand que lui. »\n",
    "\n",
    "L’expérience suivante est menée avec une suite de dominos construits en plâtre et placés en ligne de manière que si l’un tombe, il cogne le suivant et le fasse tomber.\n",
    "\n",
    "<p style=\"text-align:center\";><video controls src=\"https://101qs-media.s3.amazonaws.com/videos/1989-domino-skyscraper.mp4\" /></p>\n",
    "\n",
    "<p style=\"text-align:center\";>source : https://www.101qs.com/1989-domino-skyscraper</p>\n",
    "\n",
    "Le premier domino fait 5 mm de haut et chaque domino de la suite est 1,5 fois plus grand que le domino précédent. \n",
    "\n",
    "Serait-il possible de faire tomber l’empire state building avec une chaîne de dominos ?\n",
    "\n",
    "1.\tOn modélise la situation avec la suite $(h_n)$  telle que $h_n$  est la hauteur du  $n$-ième domino.\n",
    "\n",
    "    a.\tExprimer $h_{n+1}$  en fonction de $h_n$.\n",
    "    \n",
    "    b.\tLa suite $(h_n)$  commence avec $h_1$ . Que vaut $h_1$  ?\n",
    "    \n",
    "    c.\tQuelle est le sens de variation de la suite ?\n",
    "    \n",
    "2.\tOn souhaite écrire un algorithme qui calcule le rang du premier domino qui dépasse une taille donnée, appelée seuil (celle de l’empire state building qui vaut 381 m).\n",
    "\n",
    "    a.\tCompléter les pointillés dans l’algorithme ci-dessous.\n",
    "    \n",
    "&nbsp; &nbsp; &nbsp; &nbsp; &nbsp; &nbsp; $u_n \\leftarrow$ ...<br>\n",
    "&nbsp; &nbsp; &nbsp; &nbsp; &nbsp; &nbsp; $n \\leftarrow$ ...<br>\n",
    "&nbsp; &nbsp; &nbsp; &nbsp; &nbsp; &nbsp; Tant que $u_n<$ seuil faire<br>\n",
    "&nbsp; &nbsp; &nbsp; &nbsp; &nbsp; &nbsp; &nbsp; | &nbsp;&nbsp; $u_n \\leftarrow $ ...<br>\n",
    "&nbsp; &nbsp; &nbsp; &nbsp; &nbsp; &nbsp; &nbsp; | &nbsp;&nbsp; $n \\leftarrow $ ...<br>\n",
    "&nbsp; &nbsp; &nbsp; &nbsp; &nbsp; &nbsp; fin tant que<br>\n",
    "&nbsp; &nbsp; &nbsp; &nbsp; &nbsp; &nbsp; Afficher $n$<br>\n",
    "\n",
    "&nbsp; &nbsp; &nbsp; &nbsp; b. et c.\tTraduire cet algorithme en Python dans la cellule de code ci-dessous et l'exécuter."
   ]
  },
  {
   "cell_type": "code",
   "execution_count": null,
   "metadata": {},
   "outputs": [],
   "source": [
    "# tester le code ici"
   ]
  },
  {
   "cell_type": "markdown",
   "metadata": {},
   "source": [
    "&nbsp; &nbsp; &nbsp; &nbsp; d.\tCombien de dominos faut-il pour faire tomber l’empire state building ?\n",
    "\n",
    "<p style=\"text-align:center\";><video controls src=\"https://101qs-media.s3.amazonaws.com/videos/_458_answer.mp4\" /></p>\n",
    "\n",
    "<p style=\"text-align:center\";>source : https://www.101qs.com/1989-domino-skyscraper</p>\n",
    "\n",
    "&nbsp; &nbsp; &nbsp; &nbsp; e.\tTransformer l’algorithme pour afficher la taille du dernier domino faisant tomber l’empire state building. Quel est sa taille ?"
   ]
  }
 ],
 "metadata": {
  "kernelspec": {
   "display_name": "Python 3",
   "language": "python",
   "name": "python3"
  },
  "language_info": {
   "codemirror_mode": {
    "name": "ipython",
    "version": 3
   },
   "file_extension": ".py",
   "mimetype": "text/x-python",
   "name": "python",
   "nbconvert_exporter": "python",
   "pygments_lexer": "ipython3",
   "version": "3.6.4"
  }
 },
 "nbformat": 4,
 "nbformat_minor": 2
}
