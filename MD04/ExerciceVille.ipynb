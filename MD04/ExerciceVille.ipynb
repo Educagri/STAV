{
 "cells": [
  {
   "cell_type": "markdown",
   "metadata": {},
   "source": [
    "# Exercice\n",
    "Corriger les erreurs"
   ]
  },
  {
   "cell_type": "code",
   "execution_count": null,
   "metadata": {},
   "outputs": [],
   "source": [
    "from matplotlib.pyplot import *\n",
    "\n",
    "def suite_geo(u0,q,n):\n",
    "    u = [u0]\n",
    "    for i in renge(n):\n",
    "        u0 = u0 * q\n",
    "        u.append(u0) # append ajoute le terme\n",
    "                     # calculé à la fin de la liste\n",
    "    return u\n",
    "\n",
    "def suite_ari(v0,r,n):\n",
    "    v = [v0]\n",
    "    for i in range(n)\n",
    "        v0 = v0 + r\n",
    "        vappend(v0)\n",
    "    return v\n",
    "\n",
    "plot(suite_geo(1000,1.05,40),\"r+\") # en rouge\n",
    "plot(suite_ari(1000,50,40),\"b+\"    # en bleu\n",
    "show()\n"
   ]
  }
 ],
 "metadata": {
  "kernelspec": {
   "display_name": "Python 3",
   "language": "python",
   "name": "python3"
  },
  "language_info": {
   "codemirror_mode": {
    "name": "ipython",
    "version": 3
   },
   "file_extension": ".py",
   "mimetype": "text/x-python",
   "name": "python",
   "nbconvert_exporter": "python",
   "pygments_lexer": "ipython3",
   "version": "3.7.1"
  }
 },
 "nbformat": 4,
 "nbformat_minor": 2
}
