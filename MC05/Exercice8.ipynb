{
 "cells": [
  {
   "cell_type": "markdown",
   "metadata": {},
   "source": [
    "# MC05 : Fonctions du troisième degré, étude graphique\n",
    "## Exercice 8\n",
    "\n",
    "On cherche à déterminer les décimales de  $\\sqrt[3]{5}$.\n",
    "\n",
    "1.\tEn considérant que $\\sqrt[3]{5}$ est la solution de l’équation $x^3=5$ , justifier que  $1\\leqslant \\sqrt[3]{5} \\leqslant 2$.\n",
    "\n",
    "2.\tDéterminer l’entier $b$ tel que  $1+0,1b\\leqslant \\sqrt[3]{5} \\leqslant 1+0,1(b+1)$.\n",
    "\n",
    "3.\tDéterminer ainsi une valeur approchée de $\\sqrt[3]{5}$ à $0,01$ près par défaut.\n",
    "\n",
    "4.\tOn définit la fonction `mystere` suivante :\n"
   ]
  },
  {
   "cell_type": "code",
   "execution_count": null,
   "metadata": {},
   "outputs": [],
   "source": [
    "def mystere(precision):\n",
    "    a = 0\n",
    "    for n in range(precision+1):\n",
    "        while a**3 < 5:\n",
    "            a = a+10**(-n)\n",
    "        a = a-10**(-n)\n",
    "    return(a)\n"
   ]
  },
  {
   "cell_type": "markdown",
   "metadata": {},
   "source": [
    "&nbsp;&nbsp;&nbsp;&nbsp;a.\tExpliquer ce que fait cette fonction\n",
    "\n",
    "&nbsp;&nbsp;&nbsp;&nbsp;b.\tModifier le script à l’aide de la commande `round` pour ne pas faire afficher les décimales flottantes inutiles.\n",
    "\n",
    "&nbsp;5.\tModifier le script pour obtenir une fonction qui permette de déterminer une valeur approchée de la racine carrée de n’importe quel nombre avec une précision donnée.\n"
   ]
  }
 ],
 "metadata": {
  "kernelspec": {
   "display_name": "Python 3",
   "language": "python",
   "name": "python3"
  },
  "language_info": {
   "codemirror_mode": {
    "name": "ipython",
    "version": 3
   },
   "file_extension": ".py",
   "mimetype": "text/x-python",
   "name": "python",
   "nbconvert_exporter": "python",
   "pygments_lexer": "ipython3",
   "version": "3.6.4"
  }
 },
 "nbformat": 4,
 "nbformat_minor": 2
}
