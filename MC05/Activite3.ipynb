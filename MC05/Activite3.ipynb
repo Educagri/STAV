{
 "cells": [
  {
   "cell_type": "markdown",
   "metadata": {},
   "source": [
    "<center><img src=\"images/MC5Act3.png\"></center>\n",
    "\n",
    "La racine carrée d’un nombre positif $a$ est la solution **positive** de l’équation $x^2 = a$, notée $\\sqrt{a}$ ou $a^{\\frac12}$.\n",
    "\n",
    "On définit de même la racine cubique d’un nombre positif $c$ la solution de l’équation $x^3 = c$, notée $\\sqrt[3]{c}$  ou  $c^{\\frac13}$.\n",
    "\n",
    "L’objectif de cette activité est de créer une fonction `RacineCubique` en Python et de l’utiliser , car Python ne possède pas de fonction racine cubique.\n",
    "\n",
    "La saisie de `c**(1/3)` permet de calculer la racine cubique d’un nombre **positif** $c$.\n",
    "\n",
    "1.\tOn considère ici un nombre **positif** $c$.\n",
    "\n",
    " a.\tExpliquer pourquoi l’équation $x^3=c$ n’a qu’une seule solution.\n",
    " \n",
    " b.\tCalculer $\\left(c^{\\frac13}\\right)^3$. En déduire que $c^{\\frac13}$  est bien la solution de l’équation  $x^3=c$.\n",
    " \n",
    "2.\tDans la cellule de code ci-dessous, taper les instructions suivantes, exécuter la cellule de code à chaque fois et expliquer (si possible) les résultats :\n",
    "\n",
    " a. `8**(1/3)`\n",
    " \n",
    " b. `27**(1/3)`\n",
    " \n",
    " c. `125**(1/3)`\n",
    " \n",
    " d. `(-125)**(1/3)`\n"
   ]
  },
  {
   "cell_type": "code",
   "execution_count": null,
   "metadata": {},
   "outputs": [],
   "source": [
    "# tester ici les propositions de la question 2.a.\n",
    "\n",
    "8**(1/3)\n"
   ]
  },
  {
   "cell_type": "markdown",
   "metadata": {},
   "source": [
    "&nbsp;&nbsp;&nbsp;&nbsp;3. Calculer $(-5)^3$. En déduire comment calculer la racine cubique d’un nombre négatif.\n",
    "\n",
    "&nbsp;&nbsp;&nbsp;&nbsp;4.\t**Résolution de l’équation $x^3=c$ ( $c$ : nombre réel)** : compléter les trois zones en pointillés de la fonction `RacineCubique` suivante permettant de tester le signe de $c$  puis de calculer la solution de l’équation ci-dessus suivant le signe de $c$.\n",
    "\n"
   ]
  },
  {
   "cell_type": "code",
   "execution_count": null,
   "metadata": {},
   "outputs": [],
   "source": [
    "def RacineCubique(c):\n",
    "    if c >= ...:\n",
    "        return ...**(1/3)\n",
    "    else:\n",
    "        return -(...)**(1/3)\n",
    "    \n",
    "# test de la fonction\n",
    "print(RacineCubique(-125))"
   ]
  },
  {
   "cell_type": "markdown",
   "metadata": {},
   "source": [
    "Exécuter la cellule de code précédente pour vérifier votre solution et pour que Python connaisse la fonction `RacineCubique`.\n",
    "\n",
    "&nbsp;&nbsp;&nbsp;&nbsp;5.\tA l’aide de la fonction précédente, écrire une fonction `SolutionCube` qui renvoie la solution de l’équation $ax^3+b=0$ pour un couple de réels  $(a,b)$ donné. "
   ]
  },
  {
   "cell_type": "code",
   "execution_count": null,
   "metadata": {},
   "outputs": [],
   "source": [
    "# tester votre code ici\n"
   ]
  },
  {
   "cell_type": "markdown",
   "metadata": {},
   "source": [
    "&nbsp;&nbsp;&nbsp;&nbsp;6. Écrire un programme en Python obéissant au cahier des charges suivant : \n",
    "\n",
    " - Afficher les coordonnées (en valeur approchée si nécessaire) des points d’intersection des 2 axes avec la courbe de $f(x)=ax^3+b$  \n",
    "\n",
    " - Indiquer le sens de variation de la fonction  $f$.\n"
   ]
  },
  {
   "cell_type": "code",
   "execution_count": null,
   "metadata": {},
   "outputs": [],
   "source": [
    "# tester votre code ici\n"
   ]
  }
 ],
 "metadata": {
  "kernelspec": {
   "display_name": "Python 3",
   "language": "python",
   "name": "python3"
  },
  "language_info": {
   "codemirror_mode": {
    "name": "ipython",
    "version": 3
   },
   "file_extension": ".py",
   "mimetype": "text/x-python",
   "name": "python",
   "nbconvert_exporter": "python",
   "pygments_lexer": "ipython3",
   "version": "3.7.6"
  }
 },
 "nbformat": 4,
 "nbformat_minor": 2
}
